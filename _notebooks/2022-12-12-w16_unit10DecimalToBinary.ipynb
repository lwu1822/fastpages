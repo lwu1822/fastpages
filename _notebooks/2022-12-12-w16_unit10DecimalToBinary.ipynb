{
 "cells": [
  {
   "attachments": {},
   "cell_type": "markdown",
   "metadata": {},
   "source": [
    "# Decimal To Binary Converter\n",
    "\n",
    "- toc: true \n",
    "- badges: true\n",
    "- comments: true"
   ]
  },
  {
   "cell_type": "code",
   "execution_count": 6,
   "metadata": {
    "vscode": {
     "languageId": "java"
    }
   },
   "outputs": [
    {
     "name": "stdout",
     "output_type": "stream",
     "text": [
      "What number would you like to convert to decimal?\n",
      "25\n",
      "25 converted to binary is: 00011001\n"
     ]
    }
   ],
   "source": [
    "import java.util.Scanner;\n",
    "\n",
    "\n",
    "public class DecimalToBinaryConverter {\n",
    "\n",
    "    int numOfBinary = 8; \n",
    "    int[] binary = new int[numOfBinary]; \n",
    "    String output = \"\"; \n",
    "    \n",
    "    \n",
    "    public int fillArray(int counter) {\n",
    "        if (counter == numOfBinary) {\n",
    "            return 0;\n",
    "        }\n",
    "        binary[counter] = (int)Math.pow(2, numOfBinary - 1 - counter);\n",
    "        return fillArray(counter + 1); \n",
    "    }\n",
    " \n",
    "    public int decimalToBinary(int number, int counter) {\n",
    "        if (counter == numOfBinary) {\n",
    "            return 0; \n",
    "        }\n",
    "        if (number - binary[counter] >= 0) {\n",
    "            number -= binary[counter]; \n",
    "            output += \"1\"; \n",
    "        } else {\n",
    "            output += \"0\"; \n",
    "        }\n",
    "        return decimalToBinary(number, counter + 1); \n",
    "    }\n",
    "\n",
    "    public static void main(String[] args) {\n",
    "        DecimalToBinaryConverter number = new DecimalToBinaryConverter();\n",
    "        number.fillArray(0);\n",
    "        \n",
    "        Scanner input = new Scanner(System.in); \n",
    "        System.out.println(\"What number would you like to convert to decimal?\"); \n",
    "        int num = input.nextInt();\n",
    "\n",
    "        System.out.println(num);\n",
    "\n",
    "        number.decimalToBinary(num, 0);\n",
    "        System.out.println(num + \" converted to binary is: \" + number.output);\n",
    "        \n",
    "    \n",
    "    }\n",
    "}\n",
    "DecimalToBinaryConverter.main(null)\n"
   ]
  }
 ],
 "metadata": {
  "kernelspec": {
   "display_name": "Java",
   "language": "java",
   "name": "java"
  },
  "language_info": {
   "codemirror_mode": "java",
   "file_extension": ".jshell",
   "mimetype": "text/x-java-source",
   "name": "Java",
   "pygments_lexer": "java",
   "version": "17.0.5+8-Ubuntu-2ubuntu120.04"
  },
  "orig_nbformat": 4,
  "vscode": {
   "interpreter": {
    "hash": "916dbcbb3f70747c44a77c7bcd40155683ae19c65e1c03b4aa3499c5328201f1"
   }
  }
 },
 "nbformat": 4,
 "nbformat_minor": 2
}
