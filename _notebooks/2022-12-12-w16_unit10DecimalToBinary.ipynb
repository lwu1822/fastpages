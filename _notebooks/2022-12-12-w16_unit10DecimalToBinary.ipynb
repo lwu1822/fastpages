{
 "cells": [
  {
   "attachments": {},
   "cell_type": "markdown",
   "metadata": {},
   "source": [
    "# Decimal To Binary Converter\n",
    "\n",
    "- toc: true \n",
    "- badges: true\n",
    "- comments: true"
   ]
  },
  {
   "cell_type": "code",
   "execution_count": 6,
   "metadata": {
    "vscode": {
     "languageId": "java"
    }
   },
   "outputs": [
    {
     "name": "stdout",
     "output_type": "stream",
     "text": [
      "What number would you like to convert to decimal?\n",
      "25\n",
      "25 converted to binary is: 00011001\n"
     ]
    }
   ],
   "source": [
    "import java.util.Scanner;\n",
    "\n",
    "\n",
    "public class DecimalToBinaryConverter {\n",
    "\n",
    "    int numOfBinary = 8; \n",
    "    int[] binary = new int[numOfBinary]; \n",
    "    String output = \"\"; \n",
    "    \n",
    "    \n",
    "    public int fillArray(int counter) {\n",
    "        if (counter == numOfBinary) {\n",
    "            return 0;\n",
    "        }\n",
    "        binary[counter] = (int)Math.pow(2, numOfBinary - 1 - counter);\n",
    "        return fillArray(counter + 1); \n",
    "    }\n",
    " \n",
    "    public int decimalToBinary(int number, int counter) {\n",
    "        if (counter == numOfBinary) {\n",
    "            return 0; \n",
    "        }\n",
    "        if (number - binary[counter] >= 0) {\n",
    "            number -= binary[counter]; \n",
    "            output += \"1\"; \n",
    "        } else {\n",
    "            output += \"0\"; \n",
    "        }\n",
    "        return decimalToBinary(number, counter + 1); \n",
    "    }\n",
    "\n",
    "    public static void main(String[] args) {\n",
    "        DecimalToBinaryConverter number = new DecimalToBinaryConverter();\n",
    "        number.fillArray(0);\n",
    "        \n",
    "        Scanner input = new Scanner(System.in); \n",
    "        System.out.println(\"What number would you like to convert to decimal?\"); \n",
    "        int num = input.nextInt();\n",
    "\n",
    "        System.out.println(num);\n",
    "\n",
    "        number.decimalToBinary(num, 0);\n",
    "        System.out.println(num + \" converted to binary is: \" + number.output);\n",
    "        \n",
    "    \n",
    "    }\n",
    "}\n",
    "DecimalToBinaryConverter.main(null)\n"
   ]
  },
  {
   "attachments": {},
   "cell_type": "markdown",
   "metadata": {},
   "source": [
    "# Notes\n",
    "\n",
    "<mark>Recursive</mark> method: Method that calls itself repeatedly\n",
    " * Consists of two parts: Base case and recursive call\n",
    " * Base case: The value that is returned when the recursion stops\n",
    "\n",
    "Recursive methods use a call stack that keeps track of the recursive function being called until the base case is reached. \n",
    "\n",
    "## Difference between recursion and iteration \n",
    "\n",
    "Iteration executes code through a loop (ex: **for loop, while loop**), while recursion uses function calls\n",
    "\n",
    "## Binary search\n",
    "\n",
    "The most important thing about binary search is that the data must be <mark>sorted</mark> i.e. from least to greatest. Binary search is more efficient than linear search. \n",
    "\n",
    "Linear recursion is when a function calls itself only once. An example is shown below. "
   ]
  },
  {
   "cell_type": "code",
   "execution_count": 2,
   "metadata": {
    "vscode": {
     "languageId": "java"
    }
   },
   "outputs": [
    {
     "name": "stdout",
     "output_type": "stream",
     "text": [
      "9\n"
     ]
    }
   ],
   "source": [
    "\n",
    "import java.util.Scanner;\n",
    "\n",
    "\n",
    "public class Demo {\n",
    "\n",
    "    public static int addNumAndConst(int num1, int num2) {\n",
    "        if (num1 == 1 && num2 == 0) {\n",
    "            return num1 + num2; \n",
    "        }\n",
    "        return num1 + num2 + addNumAndConst(1, 0); \n",
    "    }\n",
    "\n",
    "    public static void main(String[] args) {\n",
    "       System.out.println(addNumAndConst(5, 3)); \n",
    "        \n",
    "    \n",
    "    }\n",
    "}\n",
    "Demo.main(null)\n"
   ]
  },
  {
   "attachments": {},
   "cell_type": "markdown",
   "metadata": {},
   "source": [
    "Selection sort finds the minimum element and attaches it to the sorted part. \n",
    "\n",
    "Merge sort divides the array into two halves and repeatedly does so. The `merge()` function is then used to merge them together. "
   ]
  }
 ],
 "metadata": {
  "kernelspec": {
   "display_name": "Java",
   "language": "java",
   "name": "java"
  },
  "language_info": {
   "codemirror_mode": "java",
   "file_extension": ".jshell",
   "mimetype": "text/x-java-source",
   "name": "Java",
   "pygments_lexer": "java",
   "version": "17.0.5+8-Ubuntu-2ubuntu120.04"
  },
  "orig_nbformat": 4,
  "vscode": {
   "interpreter": {
    "hash": "916dbcbb3f70747c44a77c7bcd40155683ae19c65e1c03b4aa3499c5328201f1"
   }
  }
 },
 "nbformat": 4,
 "nbformat_minor": 2
}
