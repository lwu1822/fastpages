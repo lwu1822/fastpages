{
 "cells": [
  {
   "attachments": {},
   "cell_type": "markdown",
   "metadata": {},
   "source": [
    "# Decimal To Binary Converter\n",
    "\n",
    "- toc: true \n",
    "- badges: true\n",
    "- comments: true"
   ]
  },
  {
   "cell_type": "code",
   "execution_count": 26,
   "metadata": {},
   "outputs": [
    {
     "ename": "EvalException",
     "evalue": "Index 25 out of bounds for length 8",
     "output_type": "error",
     "traceback": [
      "\u001b[1m\u001b[31m---------------------------------------------------------------------------\u001b[0m",
      "\u001b[1m\u001b[31mjava.lang.ArrayIndexOutOfBoundsException: Index 25 out of bounds for length 8\u001b[0m",
      "\u001b[1m\u001b[31m\tat DecimalToBinaryConverter.decimalToBinary(#18:1)\u001b[0m",
      "\u001b[1m\u001b[31m\tat DecimalToBinaryConverter.main(#18:1)\u001b[0m",
      "\u001b[1m\u001b[31m\tat .(#34:1)\u001b[0m"
     ]
    }
   ],
   "source": [
    "\n",
    "public class DecimalToBinaryConverter {\n",
    "\n",
    "    int numOfBinary = 8; \n",
    "    int[] binary = new int[numOfBinary]; \n",
    "    String output = \"\"; \n",
    "    \n",
    "    \n",
    "    public int fillArray(int counter) {\n",
    "        if (counter == numOfBinary) {\n",
    "            return 0;\n",
    "        }\n",
    "        binary[counter] = (int)Math.pow(2, numOfBinary - 1 - counter);\n",
    "        return fillArray(counter + 1); \n",
    "    }\n",
    " \n",
    "    public int decimalToBinary(int number, int counter) {\n",
    "        if (counter == numOfBinary) {\n",
    "            return 0; \n",
    "        }\n",
    "        if (number - binary[counter] >= 0) {\n",
    "            number -= binary[counter]; \n",
    "            output += \"1\"; \n",
    "        } else {\n",
    "            output += \"0\"; \n",
    "        }\n",
    "        return decimalToBinary(number, counter + 1); \n",
    "    }\n",
    "\n",
    "    public static void main(String[] args) {\n",
    "        DecimalToBinaryConverter number = new DecimalToBinaryConverter();\n",
    "        number.fillArray(0);\n",
    "         \n",
    "        number.decimalToBinary(0, 25);\n",
    "        System.out.println(number.output);\n",
    "        \n",
    "        /* \n",
    "        for (int i = 0; i < number.binary.length; i++) {\n",
    "\n",
    "            System.out.println(number.binary[i]); \n",
    "        }\n",
    "        */\n",
    "    }\n",
    "}\n",
    "DecimalToBinaryConverter.main(null)\n"
   ]
  }
 ],
 "metadata": {
  "kernelspec": {
   "display_name": "Java",
   "language": "java",
   "name": "java"
  },
  "language_info": {
   "codemirror_mode": "java",
   "file_extension": ".jshell",
   "mimetype": "text/x-java-source",
   "name": "java",
   "pygments_lexer": "java",
   "version": "17.0.5+8-Ubuntu-2ubuntu120.04"
  },
  "orig_nbformat": 4,
  "vscode": {
   "interpreter": {
    "hash": "916dbcbb3f70747c44a77c7bcd40155683ae19c65e1c03b4aa3499c5328201f1"
   }
  }
 },
 "nbformat": 4,
 "nbformat_minor": 2
}
