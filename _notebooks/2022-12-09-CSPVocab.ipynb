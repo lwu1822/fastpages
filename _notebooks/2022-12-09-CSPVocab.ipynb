{
 "cells": [
  {
   "attachments": {},
   "cell_type": "markdown",
   "metadata": {},
   "source": [
    "# AP CSP Vocab\n",
    "\n",
    "- toc: true \n",
    "- badges: true\n",
    "- comments: true"
   ]
  },
  {
   "attachments": {},
   "cell_type": "markdown",
   "metadata": {},
   "source": [
    "<mark>Bits:</mark> The smallest unit of data that a computer stores. Include 0 and 1. (Binary)\n",
    "\n",
    "* Bytes: 8 bits grouped together. An example is that an IP address consists of four bytes, each separated by a decimal. A decimal number can also be expressed in binary as a byte.\n",
    "\n",
    "* Hexadecimal: Uses base 16\n",
    "  Hexadecimal numbers range from 0-9, and the remaining six digits are in letters (A = 10, B = 11, C, D, E, F, etc.)\n",
    "\n",
    "* Unsigned integer: Nonnegative integer, while a <mark>signed integer</mark> can be both positive and negative. \n",
    "\n",
    "  Unsigned integer can be represented in regular binary\n",
    "\n",
    "  To represent a signed integer, add another digit in front of the binary number. The digit is either 0 or 1, with 0 being positive and 1 being negative. \n",
    "\n",
    "  For example, +6 is 0110 in binary, while -6 is **1**110\n",
    "\n",
    "* Floating point: Decimal numbers are approximated by binary fractions. Many different decimal numbers may share the same binary fraction. Therefore, rounding errors can occur sometimes when performing Python calculations. \n",
    "\n",
    "* ASCII: A character encoding (American)\n",
    "* Unicode: International encoding standard for text\n",
    "* RGB: Contains views for red, blue, and green, range from 0-255\n",
    "\n",
    "Lossy permanently deletes certain information, while lossless does not. "
   ]
  },
  {
   "attachments": {},
   "cell_type": "markdown",
   "metadata": {},
   "source": [
    "<br>\n",
    "\n",
    "* <mark>Variables</mark>: Abstractions that store values (numbers, boolean values, strings)\n",
    "  Variables are categorized based on <mark>data type</mark>, which typically includes: integer, double/float, string, and booleans.\n",
    "* <mark>List</mark>: Contains elements\n",
    "* <mark>Dictionaries</mark>: Consist of key value pairs\n",
    "\n",
    "\n",
    "The homework example [above](https://lwu1822.github.io/fastpages/2022/11/28/w14_CSPUnit3.1-2NoteAndHW.html#Homework) demonstrates the use of lists and variables in Python. The `album` and `song` variable takes in a string input which is converted into an integer. The `album` list consists of lists and tuples, which are used to separate albums and songs. \n",
    "\n",
    "\n",
    "## Python\n",
    "\n",
    "### Variables\n",
    "\n",
    "<mark>Assigning variables</mark>: <code><em>variable name</em> = <em>value</em></code>\n",
    "\n",
    "#### Why use variables?\n",
    "\n",
    "Variables help to <mark>manage complexity</mark> by storing values. They can have descriptive names that indicate what the variable does. Furthermore, variables can be reused throughout the program, and if the value needs to be changed, only the variable assignment needs to be changed, while the rest of the code can remain the same. \n",
    "\n",
    "### Lists\n",
    "Assigning a <mark>list</mark> to a variable example: `myList = [1, 2, 3]`\n",
    "\n",
    "Add elements to a list with: <code>list.append(<em>element</em>)</code>\n",
    "\n",
    "### Dictionaries\n",
    "\n",
    "Create a dictionary with this syntax: <code><em>dictionary name</em> = {<em>key</em>:<em>value</em>}</code>\n"
   ]
  },
  {
   "attachments": {},
   "cell_type": "markdown",
   "metadata": {},
   "source": [
    "\n",
    "\n",
    "<mark>Algorithm</mark>: A set of instructions to do a certain task\n",
    "\n",
    "<mark>Selection</mark>: Determines which parts of codes are ran based on if they evaluate to true or false. Used with `if` statements. \n",
    "\n",
    "Conditional: Different code statements are executed based of if they evaluate to true or false (**boolean** expressions (See 3.5))\n",
    "\n",
    "## Conditionals\n",
    "\n",
    "Below is an example of an <mark>if else</mark> statement that relates to binary\n",
    "\n",
    "This should be pretty straightforward in demonstrating what an <mark>if</mark> statement is, so I'm not going to do a code example for an if statement. Check the code cell below the next to see an example of a <mark>elif</mark>."
   ]
  },
  {
   "cell_type": "code",
   "execution_count": 1,
   "metadata": {},
   "outputs": [
    {
     "name": "stdout",
     "output_type": "stream",
     "text": [
      "Your binary number is less than 128\n"
     ]
    }
   ],
   "source": [
    "binaryString = input(\"Enter your binary string in 8 digits\")\n",
    "\n",
    "if binaryString[0:1] == 1:\n",
    "    print(\"Your binary number is greater than or equal to 128\")\n",
    "else:\n",
    "    print(\"Your binary number is less than 128\")\n"
   ]
  },
  {
   "cell_type": "code",
   "execution_count": 2,
   "metadata": {},
   "outputs": [
    {
     "name": "stdout",
     "output_type": "stream",
     "text": [
      "Remember to bring an umbrella\n"
     ]
    }
   ],
   "source": [
    "\n",
    "weather = \"rainy\"\n",
    "\n",
    "if weather == \"sunny\":\n",
    "    print(\"Remember to bring a hat\")\n",
    "elif weather == \"windy\":   \n",
    "    print(\"Go fly a kite!\")\n",
    "else: \n",
    "    print(\"Remember to bring an umbrella\")"
   ]
  },
  {
   "attachments": {},
   "cell_type": "markdown",
   "metadata": {},
   "source": [
    "\n",
    "<mark>Sequencing</mark>: The order in which an algorithm runs.\n",
    "\n",
    "<mark>Selection</mark>: Algorithms figure out whether to execute a boolean statement (if statement)\n",
    "\n",
    "<mark>Iteration</mark>: Loop (ex: for, while)\n",
    "\n",
    "See [here](https://lwu1822.github.io/fastpages/2022/11/29/w14_CSPUnit3.3-4NoteAndHW.html#Coding-example) for a coding example demonstrating sequencing, selection, and iteration. "
   ]
  },
  {
   "attachments": {},
   "cell_type": "markdown",
   "metadata": {},
   "source": [
    "\n",
    "# Coding example\n",
    "\n",
    "The code below converts a decimal number into binary. This demonstrates sequencing, selection, and iteration. \n",
    "\n",
    "* Sequencing: First, the binary numbers are appended to the binary list. Next, each binary number is subtracted from the inputted decimal number provided that the input number > the binary number. If that is the case, a \"1\" will be added to the binary string; otherwise, a \"0\" will be added. \n",
    "* Selection: The if statement determines if a \"1\" or a \"0\" is added to the binary string. \n",
    "* Iteration: Two for loops are present; the first adds binary numbers to the list and the second adds a 1 or a 0 to the binary string. \n",
    "\n",
    "Furthermore, this code segment demonstrates <mark>concatenating</mark> strings. As you can see in the example below, the output string is either appended to `1` or `0` depending on if the power of 2 fits in the number. "
   ]
  },
  {
   "cell_type": "code",
   "execution_count": 3,
   "metadata": {},
   "outputs": [
    {
     "name": "stdout",
     "output_type": "stream",
     "text": [
      "00011001\n"
     ]
    }
   ],
   "source": [
    "\n",
    "def convert(num):\n",
    "    numOfBinary = 8\n",
    "    binary = []; \n",
    "    output = \"\"\n",
    "    \n",
    "    for i in range(numOfBinary): \n",
    "        binary.append((2**(numOfBinary - 1 - i)))\n",
    "    \n",
    "    for i in range(len(binary)):\n",
    "        if num - binary[i] >= 0:\n",
    "            num -= binary[i]\n",
    "            output += \"1\"\n",
    "        else: \n",
    "            output += \"0\"\n",
    "        \n",
    "    print(output)\n",
    "        \n",
    "convert(25)"
   ]
  },
  {
   "attachments": {},
   "cell_type": "markdown",
   "metadata": {},
   "source": [
    "\n",
    "## Expressions\n",
    "\n",
    "<mark>Expressions</mark> are values that can be combined to be interpreted into a new value. \n",
    "\n",
    "The usual mathematical symbols apply, the main difference is that the symbol for exponents is `**`, not ^. \n",
    "\n",
    "The coding example [here](https://lwu1822.github.io/fastpages/2022/11/29/w14_CSPUnit3.3-4NoteAndHW.html#Coding-example) demonstrates how to use the `**` (exponent). "
   ]
  },
  {
   "attachments": {},
   "cell_type": "markdown",
   "metadata": {},
   "source": [
    "\n",
    "## Booleans\n",
    "\n",
    "<mark>Booleans</mark> have 2 values: True and False.\n",
    "\n",
    "Note: All of the code cells on this blog demonstrate boolean expressions and selections. Check a [JavaScript](https://lwu1822.github.io/fastpages/2022/11/28/w14_CSPUnit3.1-2NoteAndHW.html#Functions) version to see boolean expressions and iteration. \n",
    "\n",
    "## Relational Operators \n",
    "\n",
    "`==, !=, >, <, >=, <=`\n",
    "\n",
    "Relational/<mark>comparison operators</mark> can compare numbers, but they can also be used to compare strings. The later a letter is, the greater its value.\n",
    "\n",
    "For example, as you can see in the code below, `print(b > a)` outputs as true, because in alphabetical order, b is after a. \n"
   ]
  },
  {
   "cell_type": "code",
   "execution_count": 4,
   "metadata": {},
   "outputs": [
    {
     "name": "stdout",
     "output_type": "stream",
     "text": [
      "True\n"
     ]
    }
   ],
   "source": [
    "\n",
    "a = \"a\"\n",
    "b = \"b\"\n",
    "\n",
    "print(b > a)"
   ]
  },
  {
   "attachments": {},
   "cell_type": "markdown",
   "metadata": {},
   "source": [
    "\n",
    "## Logical operators \n",
    "\n",
    "`and, or, not`\n",
    "\n",
    "In Python, and is `&&`, or is `||`, and not is `!`"
   ]
  },
  {
   "cell_type": "code",
   "execution_count": 5,
   "metadata": {},
   "outputs": [
    {
     "name": "stdout",
     "output_type": "stream",
     "text": [
      "x and y are equal to 5\n",
      "Either x or z is equal to 5\n",
      "x is not equal to 3\n"
     ]
    }
   ],
   "source": [
    "\n",
    "x = 5 \n",
    "y = 5 \n",
    "z = 3\n",
    "\n",
    "if x == 5 and y == 5:\n",
    "    print(\"x and y are equal to 5\")\n",
    "\n",
    "if x == 5 or z == 5:\n",
    "    print(\"Either x or z is equal to 5\")\n",
    "    \n",
    "if not x == 3:\n",
    "    print(\"x is not equal to 3\")\n"
   ]
  },
  {
   "attachments": {},
   "cell_type": "markdown",
   "metadata": {},
   "source": [
    "\n",
    "<br>\n",
    "\n",
    "You can create truth tables with logical operators. \n",
    "\n",
    "A <mark>truth table</mark> lists all the possible True/False values that two booleans (P and Q is the convention) can take. These True/False values are then used to evaluate a third expression to see if all cases are true.\n",
    "\n",
    "An example below is an application of DeMorgan's Law. "
   ]
  },
  {
   "cell_type": "code",
   "execution_count": 6,
   "metadata": {},
   "outputs": [
    {
     "name": "stdout",
     "output_type": "stream",
     "text": [
      "DeMorgan's Law is true\n",
      "DeMorgan's Law is true\n",
      "DeMorgan's Law is true\n",
      "DeMorgan's Law is true\n"
     ]
    }
   ],
   "source": [
    "\n",
    "def checkDeMorgans():\n",
    "    if not a or not b == (not (a and b)): \n",
    "        print(\"DeMorgan's Law is true\")\n",
    "\n",
    "a = True\n",
    "b = True\n",
    "\n",
    "checkDeMorgans()\n",
    "\n",
    "a = False\n",
    "b = True \n",
    "checkDeMorgans()\n",
    "\n",
    "a = True\n",
    "b = False \n",
    "checkDeMorgans()\n",
    "\n",
    "a = False\n",
    "b = False\n",
    "checkDeMorgans()\n"
   ]
  },
  {
   "attachments": {},
   "cell_type": "markdown",
   "metadata": {},
   "source": [
    "\n",
    "## Strings\n",
    "Psuedocode: Using common language to write out code. Good for planning purposes and helps other people understand what you intend to do with the code.\n",
    "\n",
    "Index: Represents the position of an array.\n",
    "\n",
    "<mark>Length</mark>: How long something is. For example, the length of a string is the number of characters it has.\n",
    "\n",
    "## Python\n",
    "\n",
    "Length: <code>len(<em>value you want to find length of</em>)</code>\n",
    "\n",
    "Substring syntax in Python: <code>string[<em>start index</em>:<em>end index - 1</em>]</code>\n",
    "\n",
    "In this [code](https://lwu1822.github.io/fastpages/homework/#3.8-Challenge), the substring takes an individual character from the binary string and calculates its values based on the base two power place it is in.\n",
    "\n",
    "This can show specific <mark>characters</mark> in a string, which are the individual letters/numbers. \n",
    "\n",
    "Below is an example of <mark>traversing</mark> through a string."
   ]
  },
  {
   "cell_type": "code",
   "execution_count": 7,
   "metadata": {},
   "outputs": [
    {
     "name": "stdout",
     "output_type": "stream",
     "text": [
      "S\n",
      "t\n",
      "R\n",
      "i\n",
      "N\n",
      "G\n"
     ]
    }
   ],
   "source": [
    "\n",
    "message = \"StRiNG\"\n",
    "\n",
    "for i in range(0, len(message)):\n",
    "    print(message[i])"
   ]
  },
  {
   "attachments": {},
   "cell_type": "markdown",
   "metadata": {},
   "source": [
    "\n",
    "You can also change a string to uppercase or lowercase with the <mark><code>upper()</code></mark> and <mark><code>lower</code></mark> functions. "
   ]
  },
  {
   "cell_type": "code",
   "execution_count": 8,
   "metadata": {},
   "outputs": [
    {
     "name": "stdout",
     "output_type": "stream",
     "text": [
      "dEfaUlt stRinG\n",
      "DEFAULT STRING NOW UPPERCASE\n",
      "default string now lowercase\n"
     ]
    }
   ],
   "source": [
    "\n",
    "msg = \"dEfaUlt stRinG\"\n",
    "\n",
    "print(msg)\n",
    "print(msg.upper() + \" now uppercase\".upper())\n",
    "print(msg.lower() + \" now lowercase\".lower())"
   ]
  },
  {
   "attachments": {},
   "cell_type": "markdown",
   "metadata": {},
   "source": [
    "\n",
    "# <mark>Nested Conditionals</mark>\n",
    "\n",
    "Nested conditionals are essentially conditionals within conditionals. \n",
    "\n",
    "Below is an example of nested if statements in Python"
   ]
  },
  {
   "cell_type": "code",
   "execution_count": 9,
   "metadata": {},
   "outputs": [
    {
     "name": "stdout",
     "output_type": "stream",
     "text": [
      "Enter a number: 60\n",
      "Your number is positive\n",
      "Your number is also greater than 50\n"
     ]
    }
   ],
   "source": [
    "\n",
    "num = int(input(\"Enter a number\"))\n",
    "print(\"Enter a number: \" + str(num))\n",
    "\n",
    "if num > 0:\n",
    "    print(\"Your number is positive\")\n",
    "    \n",
    "    if num > 50: \n",
    "        print(\"Your number is also greater than 50\")\n",
    "        \n",
    "else: \n",
    "    print(\"Your number is negative\")\n",
    "    \n",
    "    if num < -50: \n",
    "        print(\"Your number is also less than -50\")"
   ]
  },
  {
   "attachments": {},
   "cell_type": "markdown",
   "metadata": {},
   "source": [
    "\n",
    "Use iteration to simplify your code and to prevent manually repeating code over and over again. \n",
    "\n",
    "Iteration: \n",
    "\n",
    "<mark>While loop</mark>: <code>while <em>condition</em>:</code>\n",
    "\n",
    "See the code cell below for an example of iterating through a list using a while loop.\n"
   ]
  },
  {
   "cell_type": "code",
   "execution_count": 10,
   "metadata": {},
   "outputs": [
    {
     "name": "stdout",
     "output_type": "stream",
     "text": [
      "apples\n",
      "oranges\n",
      "bananas\n"
     ]
    }
   ],
   "source": [
    "\n",
    "myList = [\"apples\", \"oranges\", \"bananas\"]\n",
    "\n",
    "i = 0\n",
    "while i < len(myList):\n",
    "    print(myList[i])\n",
    "    i += 1"
   ]
  },
  {
   "attachments": {},
   "cell_type": "markdown",
   "metadata": {},
   "source": [
    "<mark>break</mark>"
   ]
  },
  {
   "cell_type": "code",
   "execution_count": 12,
   "metadata": {},
   "outputs": [
    {
     "name": "stdout",
     "output_type": "stream",
     "text": [
      "0\n",
      "1\n",
      "2\n",
      "3\n"
     ]
    }
   ],
   "source": [
    "i = 0 \n",
    "while (i < 5):\n",
    "    print(i)\n",
    "    if i == 3:\n",
    "        break\n",
    "    i+= 1"
   ]
  },
  {
   "attachments": {},
   "cell_type": "markdown",
   "metadata": {},
   "source": [
    "## Procedural abstraction\n",
    "\n",
    "Procedural abstraction provides a name for a task without showing what the actual task does, ex: a function"
   ]
  },
  {
   "cell_type": "code",
   "execution_count": 13,
   "metadata": {},
   "outputs": [
    {
     "name": "stdout",
     "output_type": "stream",
     "text": [
      "8\n"
     ]
    }
   ],
   "source": [
    "def addNum(num1, num2):\n",
    "    return num1 + num2\n",
    "\n",
    "sum = addNum(5, 3)\n",
    "print(sum)"
   ]
  },
  {
   "attachments": {},
   "cell_type": "markdown",
   "metadata": {},
   "source": [
    "# Lists\n",
    "\n",
    "* Lists: Collections that store data, can use loops to iterate through them\n",
    "\n",
    "Python: <code><em>list name</em> = [<em>element 1 </em>, <em>element 2 </em>]</code>\n",
    "\n",
    "* Index: Specify the location where a list element is found, usually starts at 0\n",
    "  <mark>Note:</mark> In AP CSP, list indexes start at 1\n",
    "\n",
    "Example: myList = [0, 1, 2]\n",
    "\n",
    "print(myList[0]) will output 0"
   ]
  },
  {
   "attachments": {},
   "cell_type": "markdown",
   "metadata": {},
   "source": [
    "Below is an example of using different methods for lists:"
   ]
  },
  {
   "cell_type": "code",
   "execution_count": 4,
   "metadata": {},
   "outputs": [
    {
     "name": "stdout",
     "output_type": "stream",
     "text": [
      "Element at index 1 in myList: 2\n",
      "Value of var1 (element at index 0) 1\n",
      "Inserting 1.5 into list at index 1... [1, 1.5, 2, 3]\n",
      "Adding the value 4: [1, 1.5, 2, 3, 4]\n",
      "Removing element 1 and 4... [1.5, 2, 3]\n"
     ]
    }
   ],
   "source": [
    "myList = [1, 2, 3]\n",
    "\n",
    "print(\"Element at index 1 in myList: \" + str(myList[1]))\n",
    "\n",
    "var1 = myList[0]\n",
    "print(\"Value of var1 (element at index 0) \" + str(var1))\n",
    "\n",
    "myList.insert(1, 1.5)\n",
    "print(\"Inserting 1.5 into list at index 1... \" + str(myList))\n",
    "\n",
    "myList.append(4)\n",
    "print(\"Adding the value 4: \" + str(myList))\n",
    "\n",
    "myList.remove(4)\n",
    "myList.remove(1)\n",
    "print(\"Removing element 1 and 4... \" + str(myList))"
   ]
  },
  {
   "attachments": {},
   "cell_type": "markdown",
   "metadata": {},
   "source": [
    "Iteration: \n",
    "\n",
    "<mark>While loop</mark>: <code>while <em>condition</em>:</code>\n",
    "\n",
    "See the code cell below for an example of iterating through a list using a while loop.\n"
   ]
  },
  {
   "cell_type": "code",
   "execution_count": 1,
   "metadata": {},
   "outputs": [
    {
     "name": "stdout",
     "output_type": "stream",
     "text": [
      "apples\n",
      "oranges\n",
      "bananas\n"
     ]
    }
   ],
   "source": [
    "myList = [\"apples\", \"oranges\", \"bananas\"]\n",
    "\n",
    "i = 0\n",
    "while i < len(myList):\n",
    "    print(myList[i])\n",
    "    i += 1"
   ]
  },
  {
   "attachments": {},
   "cell_type": "markdown",
   "metadata": {},
   "source": [
    "\n",
    "<mark>For loop</mark> (iterate through lists): <code> for <em>element name</em> in <em>list name</em>:</code>\n",
    "\n",
    "Recursive loop: Recursive loops call themselves by calling the function name again\n",
    "\n",
    "Note: Don't do the code below, will run forever\n",
    "\n",
    "```\n",
    "def recursive_function():\n",
    "    recursive_function\n",
    "```\n",
    "<br>\n",
    "\n",
    "You can put a <mark>dictionary</mark> in a list, below is an example: \n",
    "\n",
    "<mark>Note</mark>: When you are printing a dictionary by its key, specify the key name in brackets []. \n",
    "\n",
    "Example: myList = {\"myKey\":\"myValue\"}, to print out the value, do: `print(myList[\"myKey\"])`\n",
    "\n",
    "\n"
   ]
  },
  {
   "cell_type": "code",
   "execution_count": 2,
   "metadata": {},
   "outputs": [
    {
     "name": "stdout",
     "output_type": "stream",
     "text": [
      "Printing the first dictionary in myList: {1: 'red', 2: 'blue'}\n",
      "Printing the second dictionary in myList: {1: 'purple', 2: 'green'}\n",
      "Printing the second key in the first dictionary in myList: blue\n"
     ]
    }
   ],
   "source": [
    "\n",
    "myList = [{1: \"red\", 2: \"blue\"}, {1: \"purple\", 2: \"green\"}]\n",
    "\n",
    "print(\"Printing the first dictionary in myList: \" + str(myList[0]))\n",
    "print(\"Printing the second dictionary in myList: \" + str(myList[1]))\n",
    "\n",
    "print(\"Printing the second key in the first dictionary in myList: \" + str(myList[0][2]))\n",
    "\n"
   ]
  },
  {
   "attachments": {},
   "cell_type": "markdown",
   "metadata": {},
   "source": [
    "\n",
    "# Procedures\n",
    "\n",
    "* Procedure: Programming instructions, can have parameters/return values \n",
    "\n",
    "* Parameters: The input value in a procedure/function\n",
    "\n",
    "* Arguments: The values of the parameters when they are called. \n",
    "\n",
    "* Modularity: Separating functions into many pieces for better organization and to decompose a larger problem so that many parts of the code work to perform one function. \n",
    "\n",
    "* Procedural Abstraction: Gives a name (tells you **what** the task does) but does not show **how** a task is done. It takes in parameters and may execute different statements (selection) depending on the parameter. It is used to decompose a large problem by providing a solution to a smaller problem. \n",
    "\n",
    "## Calling Procedures\n",
    "\n",
    "Procedure call interrupts the code and executes the code inside the procedure. After that finishes, the program moves back to where it originally was when it called the procedure. \n",
    "\n",
    "**A procedure may return a value, but it does not need to do so**\n",
    "\n",
    "Calling a procedure: <code><em>procedure name</em>(<em>arguments</em>)</code>\n",
    "\n",
    "## Developing Procedures\n",
    "\n",
    "When making a procedure, make sure to do the following: \n",
    "\n",
    "* Give the procedure a descriptive name\n",
    "* Note what parameters are needed\n",
    "* Note any required data\n",
    "* Determine if the procedure returns a value or just simply does something\n",
    "\n",
    "## JavaScript notes\n",
    "\n",
    "<code>function <em>name</em>(<em>parameters</em>) {}</code>: Creates a function "
   ]
  },
  {
   "attachments": {},
   "cell_type": "markdown",
   "metadata": {},
   "source": [
    "<br>\n",
    "* Library: Allows the user to import methods that can perform functions that would be complicated to code\n",
    "  The entire package can be imported or just a single method from the package. To import a single method from a package, type <code>from <em>package name</em> import <em>method name</em></code>\n",
    "\n",
    "* Import a library as a user provided name: <code>import <em>name</em> as <em>user input name</em></code>\n",
    "\n",
    "* To import all methods from a library, type <code>from <em>name</em> import <mark>*</mark></code>\n",
    "\n",
    "<br>\n",
    "\n",
    "Packages example: `numpy`, `datetime`, `turtle `"
   ]
  },
  {
   "attachments": {},
   "cell_type": "markdown",
   "metadata": {},
   "source": [
    "## Math\n",
    "\n",
    "Below is an example of using the math package"
   ]
  },
  {
   "cell_type": "code",
   "execution_count": 5,
   "metadata": {},
   "outputs": [
    {
     "name": "stdout",
     "output_type": "stream",
     "text": [
      "Enter 1st number\n",
      "1.3\n",
      "Enter 2nd number\n",
      "2.5\n",
      "Number 1 rounded up: 2\n",
      "Number 2 rounded up: 3\n",
      "Number 1 rounded down: 1\n",
      "Number 2 rounded down: 2\n",
      "LCM: 2\n",
      "GCM: 1\n",
      "Factorial of num1: 1\n",
      "Factorial of num2: 2\n",
      "Square root of 1: 1.140175425099138\n"
     ]
    }
   ],
   "source": [
    "\n",
    "from math import *\n",
    "\n",
    "print(\"Enter 1st number\")\n",
    "num1 = float(input(\"Enter 1st number\"))\n",
    "print(num1)\n",
    "print(\"Enter 2nd number\")\n",
    "num2 = float(input(\"Enter 2nd number\"))\n",
    "print(num2)\n",
    "\n",
    "print(\"Number 1 rounded up: \" + str(ceil(num1)))\n",
    "print(\"Number 2 rounded up: \" + str(ceil(num2)))\n",
    "print(\"Number 1 rounded down: \" + str(floor(num1)))\n",
    "print(\"Number 2 rounded down: \" + str(floor(num2)))\n",
    "print(\"LCM: \" + str(lcm(floor(num1), floor(num2))))\n",
    "print(\"GCM: \" + str(gcd(ceil(num1), ceil(num2))))\n",
    "print(\"Factorial of num1: \" + str(factorial(floor(num1))))\n",
    "print(\"Factorial of num2: \" + str(factorial(floor(num2))))\n",
    "print(\"Square root of 1: \" + str(sqrt(num1)))\n",
    "#print(\"Number 1 rounded up: \" + str())\n"
   ]
  },
  {
   "attachments": {},
   "cell_type": "markdown",
   "metadata": {},
   "source": [
    "Below is an example that utilizes the `random` library"
   ]
  },
  {
   "cell_type": "code",
   "execution_count": 7,
   "metadata": {},
   "outputs": [
    {
     "name": "stdout",
     "output_type": "stream",
     "text": [
      "8\n"
     ]
    }
   ],
   "source": [
    "import random\n",
    "\n",
    "print(random.randint(1, 10)) # prints a random number between 1 and 10"
   ]
  },
  {
   "attachments": {},
   "cell_type": "markdown",
   "metadata": {},
   "source": [
    "\n",
    "* <mark>Simulations</mark>: Abstractions that mimic things that occur in the real world, you can use simulations to calculate things that you can't test in the real world \n",
    "  May contain bias because some real world elements can not be factored in \n",
    "  Use random number generators to **simulate** randomness and variability. Applications: Rolling a dice, flipping a coin, spinners\n",
    "\n",
    "* Random number generator: You can use the random library: `import random`"
   ]
  },
  {
   "attachments": {},
   "cell_type": "markdown",
   "metadata": {},
   "source": [
    "\n",
    "- <mark>Problem</mark>:\n",
    "    - Decision Problem: A problem with yes/no answer\n",
    "    - Organization Problem: A problem with the goal of finding a best answer\n",
    "- <mark>Instance</mark>: Problem with specific input\n",
    "- <mark>Efficiency</mark>: How much computing you need for a problem to be resolved \n",
    "    - Polynomial Efficiency (Good): Proportional amount of time (linear) the more work you do\n",
    "    - Exponential Efficiency (Bad): Exponential amount of time the more work you do (ex: double the amount of time)\n",
    "- <mark>Heuristic Approach</mark>: Finding a more efficient optimal solution\n",
    "- <mark> Decidable Problem</mark>: A decision problem with a solution that always outputs correctly\n",
    "- <mark> Undecidable Problem</mark>: A decision problem with no solution\n"
   ]
  }
 ],
 "metadata": {
  "kernelspec": {
   "display_name": "Python 3.9.12 ('base')",
   "language": "python",
   "name": "python3"
  },
  "language_info": {
   "codemirror_mode": {
    "name": "ipython",
    "version": 3
   },
   "file_extension": ".py",
   "mimetype": "text/x-python",
   "name": "python",
   "nbconvert_exporter": "python",
   "pygments_lexer": "ipython3",
   "version": "3.9.12"
  },
  "orig_nbformat": 4,
  "vscode": {
   "interpreter": {
    "hash": "f260b6b3ae1ef2114af89aa0dee38d5682df0763aaac2870f1e656463369401e"
   }
  }
 },
 "nbformat": 4,
 "nbformat_minor": 2
}
