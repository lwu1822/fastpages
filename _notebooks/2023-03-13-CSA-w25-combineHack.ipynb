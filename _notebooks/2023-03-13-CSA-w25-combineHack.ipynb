{
 "cells": [
  {
   "attachments": {},
   "cell_type": "markdown",
   "metadata": {},
   "source": [
    "\n",
    "# Data Types\n",
    "> This is a deeper review on data types, wrapper classes and classes specific in preparation for using Data Structures.\n",
    "- title: Data Types\n",
    "- author: Natalie Beckwith, Lily Wu"
   ]
  },
  {
   "cell_type": "markdown",
   "metadata": {},
   "source": [
    "## Notes\n",
    "\n",
    "See weekly notes [here](https://natalie-beckwith.github.io/fastpages/notes/#Week%2025%20-%203/6%20Notes)\n",
    "\n",
    "---\n",
    "\n",
    "## Hacks\n",
    "\n",
    "### Early Seed\n",
    "* Write a sample binary addition 1 + 1 = 10\n",
    "* Have Java Code cell on screen at start of lecture\n",
    "\n",
    "See code [here](https://natalie-beckwith.github.io/fastpages/tri3/2023/03/06/BinaryAddition.html#Binary-Addition)\n",
    "\n",
    "---\n",
    "\n",
    "### Small Code Excercises\n",
    "* Write a Jupyter notebook on the primitive data types. Use `array` and methods like `substring` and `random` as applicable: `int`, `double`, `boolean`, `char`\n",
    "* Next, convert each of the examples to corresponding Wrapper classes, using arrays\n",
    "\n",
    "See code [here](https://natalie-beckwith.github.io/fastpages/tri3/2023/03/06/BinaryAddition.html#Primitive-Data-Types)\n",
    "\n",
    "---\n",
    "\n",
    "### Key Concepts\n",
    "\n",
    "#### Methods\n",
    "* A **method** is a block of code which only runs when it's called\n",
    "  * **Parameters**, or data can be passed into a method\n",
    "* Methods are used to perform certain actions. Another word for them is a **function**\n",
    "* See more information on methods [here](https://www.w3schools.com/java/java_methods.asp)\n",
    "\n",
    "#### Control Structures\n",
    "* **Control structure** are blocks of code that can change the path of execution. There are 3 kinds of control structures:\n",
    "  1.  **Condiditional Branches** - used for choosing between 2+ paths (`if/else` statements)\n",
    "  2.  **Loops** - used it iterate through multiple values/objects and repeatedly run specific code blocks (`for`, `while`, and `do while` loops)\n",
    "  3.  **Branching Statements** - used to break the flow of control in loops (`break` and `continue`)\n",
    "* See more information on control structures [here](https://www.baeldung.com/java-control-structures)\n",
    "\n",
    "#### Teacher's Code Examples\n",
    "\n",
    "##### `DiverseArray` Example\n",
    "* Methods?\n",
    "  * Yes, `DiverseArray` does contain methods. Examples of methods are: `arraySum()`, `rowSums()`, and `isDiverse()`.\n",
    "* Control Structures?\n",
    "  * Yes, `DiverseArray` does contain control stuctures. There are examples of `for` loops and `if` statements.\n",
    "* Fit data types?\n",
    "  * Yes, `DiverseArray` has data types of `int` and `boolean`. It also has `int[]` and `int[][]`.\n",
    "\n",
    "##### `Matrix` Example\n",
    "* Methods?\n",
    "  * Yes, `Matrix` does contain methods. Examples of methods are: `toString()`, `reverse()`, `keypad()`, and `numbers()`.\n",
    "* Control Structures?\n",
    "  * Yes, `Matrix` does contain control structures. There are examples of `for` loops.\n",
    "* Fit data types?\n",
    "  * Yes, `Matrix` has data types of `int`. There are also `int[][]` and `String`.\n",
    "\n",
    "##### `Number` Example\n",
    "* `Math.random()` is a static method that returns a floating-point that is ≥ 0 and < 1.\n",
    "* See more information on `Math.random()` [here](https://developer.mozilla.org/en-US/docs/Web/JavaScript/Reference/Global_Objects/Math/random)\n",
    "\n",
    "##### `DoNothingByValue` Example\n",
    "* Methods?\n",
    "  * Yes, `DoNothingByValue` does contain methods. Examples of methods are: `changeIt()`, `changeIt2()`, and `changeIt3()`.\n",
    "* Control Structures?\n",
    "  * Yes, `DoNothingByValue` does contain control structures. There are examples of `for` loops.\n",
    "* Fit data types?\n",
    "  * Yes, `DoNothingByValue` has data types of `int`. There are also `String`, `ArrayList`, and `int[]`.\n",
    "\n",
    "##### `IntByReference` Example\n",
    "* Methods?\n",
    "  * Yes, `IntByReference` does contain methods. Examples of methods are: `toString()`, `swapToLowHighOrder()`, and `swapper()`.\n",
    "* Control Structures?\n",
    "  * Yes, `IntByReference` does contain control structures. There are examples of `if` statements.\n",
    "* Fit data types?\n",
    "  * Yes, `IntByReference` has data types of `int`. There are also `String`, `ArrayList`, and `int[]`.\n",
    "\n",
    "##### `Menu` Example\n",
    "* Find a way to make `Menu` work on a Jupyter Notebook.\n",
    "  * View code [here]()\n",
    "* Are instances of `MenuRow` and `Runnable` data types and control structures?\n",
    "  * `MenuRow()` represents the constructor for the class `MenuRow`. In the constructor, all varibles in the class are initalized.\n",
    "  * `Runnable` represents an object. In the method `getAction()`, the return type is `Runnable`.\n",
    "* Does `Driver` have control structures? If so, list all the control Structures.\n",
    "  * Yes, `Driver` has control structures.\n",
    "    * `while` loop\n",
    "    * `try`/`catch` statements\n",
    "    * `if` statements\n",
    "\n",
    "---\n",
    "\n",
    "## College Board FRQ\n",
    "\n",
    "* Look at 1 unique FRQ per pair/treo on AP Classroom that goes over Methods and Control Structures\n",
    "* Provide teacher a Jupyter Notebook, Video, and/or Code that cover key concepts\n",
    "  * Make this better than AP Classroom, specifically trying to get these reviews to cover key parts in under Five minutes\n",
    "  * This option could use your PBL project and concepts if they were tailored to Teaching.\n",
    "* Explore Testing requirements in AP Classroom Video\n",
    "* Explore AP FRQ that teaches us about Methods and Control Structures FRQ, 18:10\n",
    "* Make sure that code runs completely, complete any portion of FRQ that is undone. Complete FRQs in a Jupyter notebook with markdown description and comments is a requirement\n",
    "* Integrate Data Types into the discussion as this is import concept when studying early materials\n",
    "* Integrate Definition of Methods and Control Structures in comments and definitions.\n",
    "\n",
    "See code [here](https://natalie-beckwith.github.io/fastpages/tri3/2023/03/06/BinaryAddition.html#FRQ-2018)\n",
    "\n",
    "---\n",
    "\n",
    "## Code\n",
    "\n",
    "### Binary Addition"
   ]
  },
  {
   "cell_type": "code",
   "execution_count": 18,
   "metadata": {},
   "outputs": [
    {
     "name": "stdout",
     "output_type": "stream",
     "text": [
      "number #1 in binary: \t\t0110\n",
      "number #2 in binary: \t\t1011\n",
      "\n",
      "number #1 in decimal form: \t6\n",
      "number #2 in decimal form: \t11\n",
      "\n",
      "sum in decimal form: \t\t17\n",
      "sum in binary: \t\t\t10001"
     ]
    }
   ],
   "source": [
    "/*\n",
    " * adds two binary numbers\n",
    " */\n",
    "public class BinaryAddition\n",
    "{\n",
    "    /*\n",
    "     * tester method\n",
    "     */\n",
    "    public static void main(String[] Args)\n",
    "    {\n",
    "        String sum;\n",
    "        String binary1 = \"0110\";\n",
    "        String binary2 = \"1011\";\n",
    "\n",
    "        // outputs numbers in binary form\n",
    "        System.out.printf(\"number #1 in binary: \\t\\t%s\\n\", binary1);\n",
    "        System.out.printf(\"number #2 in binary: \\t\\t%s\\n\\n\", binary2);\n",
    "\n",
    "        // calls addNums method\n",
    "        sum = addNums(binary1, binary2);\n",
    "\n",
    "        // outputs the sum in binary form\n",
    "        System.out.printf(\"sum in binary: \\t\\t\\t%s\", sum);\n",
    "    }\n",
    "\n",
    "    /*\n",
    "     * takes two binary strings, converts them into ints, and\n",
    "     * adds the two numbers together\n",
    "     */\n",
    "    public static String addNums(String binary1, String binary2)\n",
    "    {\n",
    "        // Integer.parseInt() --> String to int\n",
    "        int num1 = Integer.parseInt(binary1, 2);\n",
    "        int num2 = Integer.parseInt(binary2, 2);\n",
    "        int sum = num1 + num2;\n",
    "\n",
    "        // outputs sum in decimal (number) form\n",
    "        System.out.printf(\"number #1 in decimal form: \\t%d\\n\", num1);\n",
    "        System.out.printf(\"number #2 in decimal form: \\t%d\\n\", num2);\n",
    "        System.out.printf(\"\\nsum in decimal form: \\t\\t%d\\n\", sum);\n",
    "\n",
    "        // Integer.toBinaryString(sum); --> add numbers and converts the result to the binary String\n",
    "        return Integer.toBinaryString(sum);\n",
    "    }\n",
    "}\n",
    "BinaryAddition.main(null);"
   ]
  },
  {
   "cell_type": "markdown",
   "metadata": {},
   "source": [
    "### Primitive Data Types\n",
    "\n",
    "#### `int` Practice"
   ]
  },
  {
   "cell_type": "code",
   "execution_count": 2,
   "metadata": {},
   "outputs": [
    {
     "name": "stdout",
     "output_type": "stream",
     "text": [
      "0\n",
      "2\n",
      "4\n",
      "6\n",
      "8\n"
     ]
    }
   ],
   "source": [
    "int[] nums = {0, 1, 2, 3, 4, 5, 6, 7, 8, 9};\n",
    "\n",
    "// regular\n",
    "for(int i = 0; i < nums.length; i+=2)\n",
    "{\n",
    "    System.out.printf(\"%d\\n\", nums[i]);\n",
    "}"
   ]
  },
  {
   "cell_type": "markdown",
   "metadata": {},
   "source": [
    "#### `double` Practice"
   ]
  },
  {
   "cell_type": "code",
   "execution_count": 16,
   "metadata": {},
   "outputs": [
    {
     "name": "stdout",
     "output_type": "stream",
     "text": [
      "With casting: \t\t1.50\n",
      "Without casting: \t1.00"
     ]
    },
    {
     "data": {
      "text/plain": [
       "java.io.PrintStream@16982d29"
      ]
     },
     "execution_count": 16,
     "metadata": {},
     "output_type": "execute_result"
    }
   ],
   "source": [
    "int x;\n",
    "int y;\n",
    "double casting1;\n",
    "double casting2;\n",
    "\n",
    "x = 10;\n",
    "y = 15;\n",
    "\n",
    "casting1 = (double) y / x;\n",
    "casting2 = y / x;\n",
    "\n",
    "System.out.printf(\"With casting: \\t\\t%.2f\\nWithout casting: \\t%.2f\", casting1, casting2);"
   ]
  },
  {
   "cell_type": "markdown",
   "metadata": {},
   "source": [
    "#### `boolean` Practice"
   ]
  },
  {
   "cell_type": "code",
   "execution_count": 15,
   "metadata": {},
   "outputs": [
    {
     "name": "stdout",
     "output_type": "stream",
     "text": [
      "false\n",
      "false"
     ]
    },
    {
     "data": {
      "text/plain": [
       "java.io.PrintStream@41ba5a40"
      ]
     },
     "execution_count": 15,
     "metadata": {},
     "output_type": "execute_result"
    }
   ],
   "source": [
    "boolean a = true;\n",
    "boolean b = false;\n",
    "boolean c = a && b;\n",
    "boolean d = !(a || b);\n",
    "\n",
    "System.out.printf(\"%b\\n\", c);\n",
    "System.out.printf(\"%b\", d);"
   ]
  },
  {
   "cell_type": "markdown",
   "metadata": {},
   "source": [
    "#### `char` Practice"
   ]
  },
  {
   "cell_type": "code",
   "execution_count": 17,
   "metadata": {},
   "outputs": [
    {
     "name": "stdout",
     "output_type": "stream",
     "text": [
      "HELLO WORLD"
     ]
    }
   ],
   "source": [
    "char[] letters = {'H', 'E', 'L', 'L', 'O', ' ', 'W', 'O', 'R', 'L', 'D'};\n",
    "\n",
    "// regular\n",
    "for(int i = 0; i < letters.length; i++)\n",
    "{\n",
    "    System.out.printf(\"%c\", letters[i]);\n",
    "}"
   ]
  },
  {
   "cell_type": "markdown",
   "metadata": {},
   "source": [
    "#### `String` Practice"
   ]
  },
  {
   "cell_type": "code",
   "execution_count": 14,
   "metadata": {},
   "outputs": [
    {
     "name": "stdout",
     "output_type": "stream",
     "text": [
      "Before substring: \tHello World\n",
      "After substring: \tWorld"
     ]
    },
    {
     "data": {
      "text/plain": [
       "java.io.PrintStream@16982d29"
      ]
     },
     "execution_count": 14,
     "metadata": {},
     "output_type": "execute_result"
    }
   ],
   "source": [
    "String message = \"Hello World\";\n",
    "String newMessage = message.substring(6);\n",
    "\n",
    "System.out.printf(\"Before substring: \\t%s\\n\", message);\n",
    "System.out.printf(\"After substring: \\t%s\", newMessage);"
   ]
  },
  {
   "cell_type": "markdown",
   "metadata": {},
   "source": [
    "#### `Math.random()` Practice"
   ]
  },
  {
   "cell_type": "code",
   "execution_count": 27,
   "metadata": {},
   "outputs": [
    {
     "name": "stdout",
     "output_type": "stream",
     "text": [
      "#0: 2\n",
      "#1: 4\n",
      "#2: 4\n",
      "#3: 3\n",
      "#4: 3\n"
     ]
    }
   ],
   "source": [
    "int max = 5;\n",
    "int min = 0;\n",
    "int range = max - min + 1;\n",
    "\n",
    "for (int i = 0; i < 5; i++) {\n",
    "    int rand = (int)(Math.random() * range) + min;\n",
    "\n",
    "    System.out.printf(\"#%d: %d\\n\", i, rand);\n",
    "}"
   ]
  },
  {
   "attachments": {},
   "cell_type": "markdown",
   "metadata": {},
   "source": [
    "# Wrapper classes\n",
    "\n",
    "Wrapper classes provide a class for each primitive type in Java. For example, the wrapper class for `int` is `Integer`, `char` is `Character`, and so on. These wrapper classes extend the object class. \n",
    "\n",
    "The syntax for a wrapper object is: <code><em>wrapper class</em> <em>name</em> = <em>value</em>;</code>\n",
    "\n",
    "Beware, though. Not all data types that start with a capital letter is a wrapper class. For instance, I originally thought that `String` was a wrapper class. After googling \"is String a wrapper class?\", the results told me that `String` is **not** a wrapper class because it does not have a primitive class that it wraps. \n",
    "\n",
    "Therefore, wrapper classes only wrap the eight primitive types, which means there are only **eight** wrapper classes. \n",
    "\n",
    "The following cells consist of the previous primitive type examples converted into wrapper classes."
   ]
  },
  {
   "cell_type": "code",
   "execution_count": 2,
   "metadata": {},
   "outputs": [
    {
     "name": "stdout",
     "output_type": "stream",
     "text": [
      "0\n",
      "2\n",
      "4\n",
      "6\n",
      "8\n"
     ]
    }
   ],
   "source": [
    "Integer[] nums = {0, 1, 2, 3, 4, 5, 6, 7, 8, 9};\n",
    "\n",
    "// regular\n",
    "for(int i = 0; i < nums.length; i+=2)\n",
    "{\n",
    "    System.out.printf(\"%d\\n\", nums[i]);\n",
    "}"
   ]
  },
  {
   "cell_type": "code",
   "execution_count": 3,
   "metadata": {},
   "outputs": [
    {
     "name": "stdout",
     "output_type": "stream",
     "text": [
      "With casting: 1.5\n",
      "With casting: 1\n"
     ]
    }
   ],
   "source": [
    "int x;\n",
    "int y;\n",
    "Double casting1;\n",
    "Integer casting2;\n",
    "\n",
    "x = 10;\n",
    "y = 15;\n",
    "\n",
    "casting1 = (double) y / x;\n",
    "casting2 = y / x;\n",
    "\n",
    "System.out.println(\"With casting: \" + casting1); \n",
    "System.out.println(\"With casting: \" + casting2); "
   ]
  },
  {
   "cell_type": "code",
   "execution_count": 1,
   "metadata": {},
   "outputs": [
    {
     "name": "stdout",
     "output_type": "stream",
     "text": [
      "false\n",
      "false"
     ]
    },
    {
     "data": {
      "text/plain": [
       "java.io.PrintStream@39325e30"
      ]
     },
     "execution_count": 1,
     "metadata": {},
     "output_type": "execute_result"
    }
   ],
   "source": [
    "Boolean a = true;\n",
    "Boolean b = false;\n",
    "Boolean c = a && b;\n",
    "Boolean d = !(a || b);\n",
    "\n",
    "System.out.printf(\"%b\\n\", c);\n",
    "System.out.printf(\"%b\", d);"
   ]
  },
  {
   "cell_type": "code",
   "execution_count": 2,
   "metadata": {},
   "outputs": [
    {
     "name": "stdout",
     "output_type": "stream",
     "text": [
      "HELLO WORLD"
     ]
    }
   ],
   "source": [
    "Character[] letters = {'H', 'E', 'L', 'L', 'O', ' ', 'W', 'O', 'R', 'L', 'D'};\n",
    "\n",
    "// regular\n",
    "for(int i = 0; i < letters.length; i++)\n",
    "{\n",
    "    System.out.printf(\"%c\", letters[i]);\n",
    "}"
   ]
  },
  {
   "attachments": {},
   "cell_type": "markdown",
   "metadata": {},
   "source": [
    "Where are wrapper classes used?\n",
    "\n",
    "One example of where wrapper classes are used is in Collection objects, such as `ArrayList`. `ArrayList` can not store primitive data types, and as such, need to be configured with wrapper classes. "
   ]
  },
  {
   "cell_type": "code",
   "execution_count": 3,
   "metadata": {},
   "outputs": [
    {
     "name": "stdout",
     "output_type": "stream",
     "text": [
      "1\n",
      "2\n"
     ]
    }
   ],
   "source": [
    "ArrayList<Integer> nums = new ArrayList<Integer>(); \n",
    "\n",
    "nums.add(1); \n",
    "nums.add(2); \n",
    "\n",
    "for (int i = 0; i < nums.size(); i++) {\n",
    "    System.out.println(nums.get(i)); \n",
    "}"
   ]
  },
  {
   "attachments": {},
   "cell_type": "markdown",
   "metadata": {},
   "source": [
    "<br>\n",
    "\n",
    "# `DoNothingByValue`\n",
    "\n",
    "## Key knowledge\n",
    "* The value of arguments are passed into a method's parameters\n",
    "  * Java is **pass-by-value**, not pass-by-reference for methods\n",
    "    * If you go down the StackOverflow [rabbit hole](https://stackoverflow.com/questions/12757841/are-arrays-passed-by-value-or-passed-by-reference-in-java), users claim that everything in java is **pass-by-value**. Honestly I'm not too sure how this works, but people on StackOverflow really pay close attention to detail so...\n",
    "    \n",
    "    Unfortunately I don't have enough time right now to look into it closely. I might in the future though 😃\n",
    "\n",
    "    But basically since everything is pass-by-value, arrays are also passed-by-value. However, **the value of an array is its reference**. Therefore, when an array is passed into a method, the elements of the array can be changed directly.\n",
    "\n",
    "\n",
    "\n",
    "* Pass-by-value: The value of a variable is passed\n",
    "* Pass-by-reference: The variable's reference is passed. This allows the contents of the variable to be changed.\n",
    "* There can only be 1 return value per method in Java\n",
    "* Classes and generics allow \"pass-by-reference\"\n",
    "\n",
    "\n",
    "## Overall explanation of code\n",
    "\n",
    "*This is my thought process as I went through the code. It's easier for me to figure out key knowledge by going through the entire code and documenting what it does.*\n",
    "\n",
    "*Anything that I highlight below are included in the key knowledge*\n",
    "\n",
    "### Do Nothings \n",
    "\n",
    "#### `main()`\n",
    "\n",
    "An array called `nums` is created and set to `{1, 3, 4, 5, 5}`. The data type is the primitive data type `int`. An `int` of name `value` is also created and set to `6`. A data type (but not wrapper class) of `String` with name `name` is created and set to `blackboard`. The code outputs `Do Nothings` and executes the `changeIt` method, passing in `nums`, `value`, and `name`. \n",
    "\n",
    "#### `changeIt()`\n",
    "\n",
    "Within the `changeIt` method, the argument `nums` relates to the parameter `arr`, `value` to `val`, and `name` to `word`. `arr` is created to have 5 elements, `val` is set to 0, and `word` is set to a substring of the `word` argumenent of `blackboard`. As such, `word` is set to `black`. \n",
    "\n",
    "However, before the variables are reassigned to new values, <mark>the arguments were passed into the method's parameters</mark>. For instance, if I use a for loop to output the values of `arr`, I get `1, 2, 3, 4, 5`, not `0, 0, 0, 0, 0`.\n",
    "\n",
    "![](images/CSA/CSA-w25-class-dataType-originalParaValue.jpg)\n",
    "\n",
    "![](images/CSA/CSA-w25-class-dataType-originalParaValueOutput.jpg)\n",
    "\n",
    "\n",
    "The for loop (the actual one in the file) then assigns each element in `arr` to 0, and outputs it to the terminal. Lastly, the value of `word` (`black`) is outputted. \n",
    "\n",
    "<br>\n",
    "\n",
    "Next thing in `main()` is `changeIt2()`\n",
    "\n",
    "#### `changeIt2()`\n",
    "\n",
    "In `changeIt2()`, the arguments are passed in as parameters of `nums`, `value`, and `name`. Notice how these parameters have the same name as the arguments. Based on the comment in the file, we can see that the name of the parameter can be the same as the arguments' names. \n",
    "\n",
    "`changeIt2()` essentially does the same thing as `changeIt()`\n",
    "\n",
    "##### `main()`\n",
    "\n",
    "What's important is that when you go back to `main()`, the for loop after `changeIt2()` outputs all of the original values of `nums`, `value`, and `name`. This is because <mark>Java is pass-by-value for methods</mark>, which means that the variable's values are passed into the method, NOT the reference. On the other hand, <mark>pass-by-reference allows you to edit the contents of a variable because the **reference** to the variable is passed</mark>.\n",
    "\n",
    "### Limited return\n",
    "\n",
    "#### `main()`\n",
    "\n",
    "An array named `nums2` is assigned to `1, 2, 3, 4, 5`. `value` is assigned to `6`, and `name` is assigned to `limited`. `name` is then assigned to the return of `changeIt3()` and masses in `nums2` and `name`.\n",
    "\n",
    "#### `changeIt3()`\n",
    "Within the `changeIt3()` method, you can see that the parameter `word` (passed in as argument `name`) is assigned to a `new String`. A simplified way of writing this would be `word = word.substring(0, 5)`. Both ways work because the shorthand for creating wrapper classes is directly assigning the class to a value; however, behind the scenes, an object is still created. \n",
    "\n",
    "Within this method, each element of the array is modified to `0`, and the `word` is modified to `limit`.\n",
    "\n",
    "#### `main()`\n",
    "\n",
    "Back to `main()` again, the elements of `nums2` are printed out. <mark>The edited elements from `changeIt3()` are present because arrays are objects, and the value of an object is its reference</mark>.\n",
    "\n",
    "\n",
    "### Do Something with Class\n",
    "\n",
    "At this point, I got a general understanding of what the code does, so I did not need to write out what each line does.\n",
    "\n",
    "This section creates a `DoNothingByValue` object with an object name of `doSomething`. The constructor runs. Since the object's value is its reference, the constructor can directly edit the variables. As a result, the output in `main()` shows the changes of the constructor. \n",
    "\n",
    "### Do Something with Generics\n",
    "\n",
    "This is basically the same thing as class since generics are like objects but are more general, so you can specify different data types.\n",
    "\n",
    "\n",
    "\n",
    "\n"
   ]
  },
  {
   "attachments": {},
   "cell_type": "markdown",
   "metadata": {},
   "source": [
    "# IntByReference\n",
    "\n",
    "## Key Knowledge \n",
    "\n",
    "* This switches two integer numbers to lowest to highest by using a `tmp` variable\n",
    "* These variables are passed by reference because they are part of an object. Therefore, the before and after are changed following the call to `swapToLowHighOrder()` method."
   ]
  },
  {
   "cell_type": "markdown",
   "metadata": {},
   "source": [
    "### FRQ 2018\n",
    "\n",
    "#### Question #1"
   ]
  },
  {
   "cell_type": "code",
   "execution_count": 43,
   "metadata": {},
   "outputs": [
    {
     "name": "stdout",
     "output_type": "stream",
     "text": [
      "𓆏 reached goal? true.\n"
     ]
    }
   ],
   "source": [
    "import java.util.ArrayList;\n",
    "import java.util.Arrays;\n",
    "\n",
    "public class FrogSimulation\n",
    "{\n",
    "    // data type is an integer \n",
    "    private int goalDistance; // distance in inches, from the starting position to the goal\n",
    "    private int maxHops; //  max number of hops allowed to reach the goal\n",
    "\n",
    "    // ArrayList is created to store hopdistances \n",
    "    // Data type is wrapper class Integer, the reason is because ArrayLists can only store wrapper types\n",
    "    // and not primitive types\n",
    "    private ArrayList <Integer> hopDistances;\n",
    "\n",
    "    public FrogSimulation(int dist, int numHops)\n",
    "    {\n",
    "        goalDistance = dist;\n",
    "        maxHops = numHops;\n",
    "    }\n",
    "\n",
    "    public void loadHopDistance(ArrayList <Integer> hopDistances)\n",
    "    {\n",
    "        this.hopDistances = new ArrayList <Integer> (hopDistances);\n",
    "    }\n",
    "\n",
    "    private int hopDistance()\n",
    "    {\n",
    "        if(!hopDistances.isEmpty())\n",
    "        {\n",
    "            int hopDistance = hopDistances.get(0);\n",
    "            hopDistances.remove(0);\n",
    "            return hopDistance;\n",
    "        }\n",
    "        return 0;\n",
    "    }\n",
    "\n",
    "    public boolean simulate()\n",
    "    {\n",
    "        int hops = 0;\n",
    "        int currentPosition = 0;\n",
    "\n",
    "        while((currentPosition < goalDistance)\n",
    "            && ((hops != maxHops)\n",
    "            && (currentPosition < goalDistance))\n",
    "            && (currentPosition >= 0))\n",
    "        {\n",
    "            hops++;\n",
    "\n",
    "            currentPosition += hopDistance();\n",
    "        }\n",
    "        if((currentPosition >= goalDistance))\n",
    "        {\n",
    "            return true;\n",
    "        }\n",
    "        return false; \n",
    "    }\n",
    "\n",
    "    public double runSimulations (int num)\n",
    "    {\n",
    "        return 0.0;\n",
    "    }\n",
    "\n",
    "    public static void main(String[] Args)\n",
    "    {\n",
    "        FrogSimulation sim = new FrogSimulation(24, 5);\n",
    "\n",
    "        ArrayList <Integer> frogJumps1 = new ArrayList <Integer>(Arrays.asList(5, 7, -2, 8, 6));\n",
    "        ArrayList <Integer> frogJumps2 = new ArrayList <Integer>(Arrays.asList(6, 7, 6, 6));\n",
    "        ArrayList <Integer> frogJumps3 = new ArrayList <Integer>(Arrays.asList(6, -6, 31));\n",
    "        ArrayList <Integer> frogJumps4 = new ArrayList <Integer>(Arrays.asList(4, 2, -8));\n",
    "        ArrayList <Integer> frogJumps5 = new ArrayList <Integer>(Arrays.asList(5, 4, 2, 4, 3));\n",
    "\n",
    "        sim.loadHopDistance(frogJumps1);\n",
    "        boolean goalReached = sim.simulate();\n",
    "        System.out.printf(\"𓆏 reached goal? %b.\\n\", goalReached);\n",
    "    }\n",
    "}\n",
    "FrogSimulation.main(null);"
   ]
  },
  {
   "attachments": {},
   "cell_type": "markdown",
   "metadata": {},
   "source": [
    "1b"
   ]
  },
  {
   "cell_type": "code",
   "execution_count": null,
   "metadata": {},
   "outputs": [],
   "source": [
    "public double runSimulations(int num) {\n",
    "    int count = 0;\n",
    "    for (int i = 0; i < num; i++) {\n",
    "        if (simulate()) {\n",
    "            count++;\n",
    "        }\n",
    "    }\n",
    "    return (double)count/num; \n",
    "}"
   ]
  }
 ],
 "metadata": {
  "kernelspec": {
   "display_name": "Java",
   "language": "java",
   "name": "java"
  },
  "language_info": {
   "codemirror_mode": "java",
   "file_extension": ".jshell",
   "mimetype": "text/x-java-source",
   "name": "java",
   "pygments_lexer": "java",
   "version": "17.0.5+8-Ubuntu-2ubuntu120.04"
  },
  "orig_nbformat": 4,
  "vscode": {
   "interpreter": {
    "hash": "b781bca096fa5117d83f02e133236c892d11593ec87b181e088a886d6eea6e41"
   }
  }
 },
 "nbformat": 4,
 "nbformat_minor": 2
}
