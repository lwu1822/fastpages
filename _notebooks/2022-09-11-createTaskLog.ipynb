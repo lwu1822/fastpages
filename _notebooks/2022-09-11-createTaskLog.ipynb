{
 "cells": [
  {
   "cell_type": "markdown",
   "metadata": {},
   "source": [
    "# Create Performance Task\n",
    "> Blogging my create task\n",
    "\n",
    "- toc: true \n",
    "- badges: true\n",
    "- comments: true\n",
    "- categories: [create-performance-task]"
   ]
  },
  {
   "cell_type": "markdown",
   "metadata": {},
   "source": [
    "# Notes\n",
    "\n",
    "I watched this [video](https://www.youtube.com/watch?v=LfzpMASeNHg) and [this](https://www.youtube.com/watch?v=h51o7IqY4vQ) to learn more about the requirements for the create task.\n",
    "\n",
    "Some notes that I took down for future reference:\n",
    "\n",
    "* The code can be written in any programming language that satisfies the requirements. \n",
    "\n",
    "* Requirements include having: input, list that manages complexity, procedure with algorithm, a call to the procedure, and output\n",
    "\n",
    "* A video demonstrating the code will also be required. Within the video, you will need to show at least one input and output and the program's function.\n",
    "\n",
    "<br>\n",
    "Speaking of functions, there is a difference between the word \"function\" and \"purpose\":\n",
    "\n",
    "* Purpose: The problem that is being solved/something that you pursue for a creative interest\n",
    "\n",
    "* Function: How the program acts when you run it\n",
    "\n",
    "<br>\n",
    "While we're at it, some other vocab that I was unfamiliar with {% fn 1 %}:\n",
    "\n",
    "* Procedure: Same thing as function\n",
    "\n",
    "* Algorithm: Code that performs a specific action\n",
    "\n",
    "<br>\n",
    "\n",
    "Anyways, back to the notes:\n",
    " \n",
    "* In addition to the code and a video, you will also need to submit a written response. A written response consists of four parts, questions 3a-3d. \n",
    "\n",
    "* 3a. You will be writing about the program's purpose. Why did you create this program? You will also be documenting the program's function. **Remember**: Function and purpose are two different things!\n",
    "\n",
    "* 3b. How does your list manage complexity?\n",
    "\n",
    "* 3c. What does your procedure do, and make sure to talk about your algorithm.\n",
    "\n",
    "* 3d. Testing! Make two different test scenarios for your code.\n",
    "\n",
    "<br>\n",
    "\n",
    "## Plagiarism\n",
    "\n",
    "Obviously, plagiarism is a serious thing, so don't do it. However, there are some tiny things that you may have to pay attention to while creating your program to ensure that you don't get caught for plagiarizing. \n",
    "\n",
    "* Anything that is not your own code - this includes libraries - must be cited \n",
    "\n",
    "* If you are using pictures or music that is not yours, cite that too\n",
    "\n",
    "<br>\n",
    "\n",
    "Citing doesn't have to be anything fancy, just note that you used someone else's work somewhere in your code. \n",
    "\n",
    "\n"
   ]
  },
  {
   "cell_type": "markdown",
   "metadata": {},
   "source": [
    "### Ideas\n",
    "\n",
    "I'm still thinking of some ideas for my create task. The one that I'm most inclined to creating is a schedule/planner. \n",
    "\n",
    "A record of how this project would fulfill the create task requirements:\n",
    "\n",
    "* Input: User input would be typing into a text box of their tasks for the day. User will also specify a certain amount of hours that they have to work that day. \n",
    "\n",
    "* List: The user input of assignments will be stored into a list that contains all of the tasks. \n",
    "\n",
    "* Procedure and algorithm: Most likely to calculate the amount of time each task should be spent on \n",
    "\n",
    "* Output: Output will be a calculation of how long each task should be spent on for the day. Output may also give certain times to do the task. \n",
    "\n",
    "<br>\n",
    "\n",
    "A few other notes: \n",
    "\n",
    "* The program will most likely start by equally dividing the total time amongst all activities. By entering more input, the user is able to change how many hours they want to spend on a task based on the task's priority."
   ]
  },
  {
   "cell_type": "markdown",
   "metadata": {},
   "source": [
    "## Plans for AP MCQ\n",
    "\n",
    "* Each week, I'll blog about what I learned that's related to the APCSP test prep. \n",
    "\n",
    "* I can add vocab on the vocab page (on my blog). This can serve for to record of what I learned and also a future reference for me to study. "
   ]
  },
  {
   "cell_type": "markdown",
   "metadata": {},
   "source": [
    "{{ '[Paraphrased from CollegeBoard's Create Task Rubric](https://apcentral.collegeboard.org/media/pdf/ap-computer-science-principles-2021-create-performance-task-scoring-guidelines.pdf)' | fndetail: 1 }}"
   ]
  }
 ],
 "metadata": {
  "kernelspec": {
   "display_name": "Python 3.8.10 64-bit",
   "language": "python",
   "name": "python3"
  },
  "language_info": {
   "name": "python",
   "version": "3.8.10"
  },
  "orig_nbformat": 4,
  "vscode": {
   "interpreter": {
    "hash": "916dbcbb3f70747c44a77c7bcd40155683ae19c65e1c03b4aa3499c5328201f1"
   }
  }
 },
 "nbformat": 4,
 "nbformat_minor": 2
}
