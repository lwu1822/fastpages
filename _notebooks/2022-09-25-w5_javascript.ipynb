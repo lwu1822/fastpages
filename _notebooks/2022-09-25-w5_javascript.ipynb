{
 "cells": [
  {
   "cell_type": "markdown",
   "metadata": {},
   "source": [
    "# JavaScript\n",
    "> Learning JavaScript\n",
    "\n",
    "- toc: true \n",
    "- badges: true\n",
    "- comments: true"
   ]
  },
  {
   "cell_type": "markdown",
   "metadata": {},
   "source": [
    "The following code prints a message to the console"
   ]
  },
  {
   "cell_type": "code",
   "execution_count": 3,
   "metadata": {},
   "outputs": [
    {
     "name": "stdout",
     "output_type": "stream",
     "text": [
      "Hi\n"
     ]
    }
   ],
   "source": [
    "console.log(\"Hi\");"
   ]
  },
  {
   "cell_type": "markdown",
   "metadata": {},
   "source": [
    "If you type this in a normal JavaScript file though, this message would not show on the webpage. Instead, you have to go to Inspect Element (`Ctrl + Shift + I` in Chrome, using Windows), and go to the `Console` tab to view the message.\n",
    "\n",
    "![](my_icons/w5_javascript-console.jpg \"Like this\")"
   ]
  },
  {
   "cell_type": "markdown",
   "metadata": {},
   "source": [
    "# Functions\n",
    "\n",
    "Since I can't run the following code below in Jupyter Notebook, I'll attach a screenshot of running the output in terminal. \n",
    "\n",
    "The reason this can't be run Jupyter Notebook (although I'll have to do more research about Jupyter Notebook to fully understand) is that Jupyter Notebook can't take input for JavaScript using `prompt` or `readline`. Maybe there's another way to have Jupyter Notebook take in input, but that'll take me a long time to research. \n",
    "\n",
    "As shown below, I made a calculator with the code below. I created the functions `add`, `subtract`, `multiply`, and `divide`. "
   ]
  },
  {
   "cell_type": "code",
   "execution_count": null,
   "metadata": {},
   "outputs": [],
   "source": [
    "const prompt = require('prompt-sync')();\n",
    "\n",
    "var total = prompt('1st number? ');\n",
    "var num2 = prompt('2nd number? ');\n",
    "var operation = prompt('Add/subtract/multiply/divide? Type: +/-/*, or /: ');\n",
    "\n",
    "\n",
    "function add(total, num2) {\n",
    "    return Number(total) + Number(num2);\n",
    "}\n",
    "\n",
    "function subtract(total, num2) {\n",
    "    return Number(total) - Number(num2);\n",
    "}\n",
    "\n",
    "function multiply(total, num2) {\n",
    "    return Number(total) * Number(num2);\n",
    "}\n",
    "\n",
    "function divide(total, num2) {\n",
    "    return Number(total) / Number(num2);\n",
    "}\n",
    "\n",
    "while (num2 != \"end\") {\n",
    "    if (operation == \"+\") {\n",
    "        total = add(total, num2);\n",
    "    }\n",
    "    \n",
    "    if (operation == \"-\") {\n",
    "        total = subtract(total, num2);\n",
    "    }\n",
    "    \n",
    "    if (operation == \"*\") {\n",
    "        total = multiply(total, num2);\n",
    "    }\n",
    "    \n",
    "    if (operation == \"/\") {\n",
    "        total = divide(total, num2);\n",
    "    }\n",
    "\n",
    "    console.log(\"Your result is \" + total);\n",
    "\n",
    "    num2 = prompt('2nd number? ');\n",
    "    if (num2 == \"end\") {\n",
    "        break; \n",
    "    }\n",
    "    operation = prompt('Add/subtract/multiply/divide? Type: +/-/*, or /: ');\n",
    "}\n",
    "\n",
    "\n",
    "\n",
    "console.log(\"Your result is \" + total);"
   ]
  },
  {
   "cell_type": "markdown",
   "metadata": {},
   "source": [
    "Running the code in terminal, here is the output. \n",
    "\n",
    "![](my_icons/w5_javascript-calculator.jpg)\n",
    "\n",
    "<p style=\"font-size: 5px\"><em>this is like the fifth calculator i programmed using various programming languages haha i know how creative</em></p>"
   ]
  },
  {
   "cell_type": "markdown",
   "metadata": {},
   "source": [
    "# Array and objects"
   ]
  },
  {
   "cell_type": "code",
   "execution_count": 37,
   "metadata": {},
   "outputs": [
    {
     "name": "stdout",
     "output_type": "stream",
     "text": [
      "[ Fruits { name: 'apple', taste: 'sweet, sour' },\n",
      "  Fruits { name: 'mango', taste: 'sweet' } ]\n"
     ]
    }
   ],
   "source": [
    "function Fruits(name, taste) {\n",
    "    this.name = name;\n",
    "    this.taste = taste;\n",
    "}\n",
    "\n",
    "var fruits = [\n",
    "    new Fruits(\"apple\", \"sweet, sour\"),\n",
    "    new Fruits(\"mango\", \"sweet\")\n",
    "];\n",
    "\n",
    "function Combine(fruits) {\n",
    "    this.fruits = fruits;\n",
    "    this.combine = [];\n",
    "    this.fruits.forEach(fruit => {this.combine.push(fruit);});\n",
    "}\n",
    "\n",
    "printFruits = new Combine(fruits);\n",
    "\n",
    "console.log(printFruits.combine);"
   ]
  }
 ],
 "metadata": {
  "kernelspec": {
   "display_name": "JavaScript (Node.js)",
   "language": "javascript",
   "name": "javascript"
  },
  "language_info": {
   "file_extension": ".js",
   "mimetype": "application/javascript",
   "name": "javascript",
   "version": "6.11.2"
  },
  "orig_nbformat": 4
 },
 "nbformat": 4,
 "nbformat_minor": 2
}
