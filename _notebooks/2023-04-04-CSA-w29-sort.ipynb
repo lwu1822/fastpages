{
 "cells": [
  {
   "attachments": {},
   "cell_type": "markdown",
   "metadata": {},
   "source": [
    "# Sort Hacks\n",
    "> Sort Hacks"
   ]
  },
  {
   "cell_type": "code",
   "execution_count": 10,
   "metadata": {
    "vscode": {
     "languageId": "java"
    }
   },
   "outputs": [
    {
     "name": "stdout",
     "output_type": "stream",
     "text": [
      "1\n",
      "2\n",
      "3\n",
      "5\n",
      "9\n"
     ]
    }
   ],
   "source": [
    "import java.util.Arrays;\n",
    "\n",
    "public class Bubble {\n",
    "\n",
    "    public static void main(String[] args) {\n",
    "        int[] data = {1, 9, 3, 2, 5};\n",
    "\n",
    "        int size = data.length; \n",
    "\n",
    "        for (int i = 0; i < size; i++) {\n",
    "            for (int j = 0; j < size - i - 1; j++) {\n",
    "\n",
    "                int left = data[j];\n",
    "                int right = data[j+1]; \n",
    "\n",
    "                if (right < left) {\n",
    "                    int temp = left; \n",
    "                    data[j] = right; \n",
    "                    data[j+1] = temp; \n",
    "                }\n",
    "            }\n",
    "        }\n",
    "\n",
    "        for (int i = 0; i < size; i++) {\n",
    "            System.out.println(data[i]); \n",
    "        }\n",
    "\n",
    "\n",
    "    }\n",
    "\n",
    "}    \n",
    "Bubble.main(null)"
   ]
  },
  {
   "cell_type": "code",
   "execution_count": 13,
   "metadata": {
    "vscode": {
     "languageId": "java"
    }
   },
   "outputs": [
    {
     "name": "stdout",
     "output_type": "stream",
     "text": [
      "1\n",
      "2\n",
      "3\n",
      "5\n",
      "9\n"
     ]
    }
   ],
   "source": [
    "import java.util.Arrays;\n",
    "\n",
    "public class Selection {\n",
    "\n",
    "    public static void main(String[] args) {\n",
    "        int[] data = {1, 9, 3, 2, 5};\n",
    "\n",
    "        int size = data.length; \n",
    "\n",
    "        for (int i = 0; i < size; i++) {\n",
    "            int min = data[i];\n",
    "            int index = i; \n",
    "            for (int j = i + 1; j < size; j++) {\n",
    "                if (min > data[j]) {\n",
    "                    min = data[j]; \n",
    "                    index = j; \n",
    "                }\n",
    "            }\n",
    "            int temp = data[i];\n",
    "            data[i] = min; \n",
    "            data[index] = temp; \n",
    "        }\n",
    "\n",
    "        for (int i = 0; i < size; i++) {\n",
    "            System.out.println(data[i]); \n",
    "        }\n",
    "\n",
    "\n",
    "    }\n",
    "\n",
    "}    \n",
    "Selection.main(null)"
   ]
  },
  {
   "cell_type": "code",
   "execution_count": 21,
   "metadata": {
    "vscode": {
     "languageId": "java"
    }
   },
   "outputs": [
    {
     "name": "stdout",
     "output_type": "stream",
     "text": [
      "1\n",
      "2\n",
      "3\n",
      "5\n",
      "9\n"
     ]
    }
   ],
   "source": [
    "import java.util.Arrays;\n",
    "\n",
    "public class Insertion {\n",
    "\n",
    "    public static void main(String[] args) {\n",
    "        int[] data = {1, 9, 3, 2, 5};\n",
    "\n",
    "        int size = data.length; \n",
    "\n",
    "        for (int i = 1; i < size; i++) {\n",
    "            int index = 0;\n",
    "            int num = 0;\n",
    "            boolean swap = false;\n",
    "            for (int j = i; j > 0; j--) {\n",
    "                num = data[i];\n",
    "                if (num < data[j-1]) {\n",
    "                    index = j-1;\n",
    "                    swap = true;\n",
    "                }\n",
    "            }\n",
    "\n",
    "            if (swap) {\n",
    "                for (int k = i; k > index; k--) {\n",
    "                    data[k] = data[k-1];\n",
    "                }\n",
    "\n",
    "                data[index] = num; \n",
    "            }\n",
    "\n",
    "        }\n",
    "\n",
    "        for (int i = 0; i < size; i++) {\n",
    "            System.out.println(data[i]); \n",
    "        } \n",
    "\n",
    "\n",
    "    }\n",
    "\n",
    "}    \n",
    "Insertion.main(null)"
   ]
  }
 ],
 "metadata": {
  "kernelspec": {
   "display_name": "Java",
   "language": "java",
   "name": "java"
  },
  "language_info": {
   "codemirror_mode": "java",
   "file_extension": ".jshell",
   "mimetype": "text/x-java-source",
   "name": "Java",
   "pygments_lexer": "java",
   "version": "17.0.5+8-Ubuntu-2ubuntu120.04"
  },
  "orig_nbformat": 4
 },
 "nbformat": 4,
 "nbformat_minor": 2
}
