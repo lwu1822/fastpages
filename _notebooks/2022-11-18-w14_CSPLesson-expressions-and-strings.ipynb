{
 "cells": [
  {
   "cell_type": "markdown",
   "metadata": {},
   "source": [
    "# Big idea 3!\n",
    "> Lesson on Big Idea 3 which includes expressions, strings, psuedocode, and more!\n",
    "\n",
    "- toc: true\n",
    "- comments: true\n",
    "- categories: [Week-13,Big-Idea-3]"
   ]
  },
  {
   "cell_type": "markdown",
   "metadata": {},
   "source": [
    "## 3.3 Expressions(Show video 1 and 3)  "
   ]
  },
  {
   "cell_type": "markdown",
   "metadata": {},
   "source": [
    "### Vocab: fill in the blanks  \n",
    "  \n",
    "the symbol for exponent is **  \n",
    "the symbol for addition is +  \n",
    "the symbol for subtraction is -  \n",
    "the symbol for multiplication is *  \n",
    "the symbol for division is /\n",
    "\n",
    "the symbol for modulus is %\n",
    "\n",
    "an algorithm is a sequence of steps that does a specific task"
   ]
  },
  {
   "cell_type": "markdown",
   "metadata": {},
   "source": [
    "Sequencing Practice: the code below does not follow the intended steps below. change the code so that it does so.\n",
    "1. divide value1 by 10(value1 = 5)  \n",
    "2. multiply 2 from the result of the step 1  \n",
    "3. subtract 4 from the result of the step 2\n",
    "4. print the result of step 3"
   ]
  },
  {
   "cell_type": "code",
   "execution_count": 1,
   "metadata": {},
   "outputs": [
    {
     "name": "stdout",
     "output_type": "stream",
     "text": [
      "-3.0\n"
     ]
    }
   ],
   "source": [
    "value1 = 5\n",
    "value2 = value1 / 10 #step 1\n",
    "value3 = value2 * 2 #step 2\n",
    "value4 = value3 - 4 #step 3\n",
    "print(value4)"
   ]
  },
  {
   "cell_type": "markdown",
   "metadata": {},
   "source": [
    "Selection/Iteration Practice: Create a function to print ONLY the numbers of numlist that are divisble by 3.  \n",
    "Hint: use the MOD operator (a % b) to find the remainder when a is divided by b."
   ]
  },
  {
   "cell_type": "code",
   "execution_count": 4,
   "metadata": {},
   "outputs": [
    {
     "name": "stdout",
     "output_type": "stream",
     "text": [
      "3 is divisible by 3\n",
      "9 is divisible by 3\n",
      "891 is divisible by 3\n"
     ]
    }
   ],
   "source": [
    "numlist = \"3\",\"4\",\"9\",\"76\",\"891\"\n",
    "for num in numlist:\n",
    "    if int(num) % 3 == 0:\n",
    "        print( num + \" is divisible by 3\")\n",
    "        continue\n",
    "    else:\n",
    "        continue\n",
    "            "
   ]
  },
  {
   "cell_type": "markdown",
   "metadata": {},
   "source": [
    "Homework/Binary Adaptation: Create a python function that will convert a decimal number 1-255 to binary using mathematical operations and powers of 2. Challenge: add frontend with javascript or html."
   ]
  },
  {
   "cell_type": "code",
   "execution_count": 13,
   "metadata": {},
   "outputs": [
    {
     "name": "stdout",
     "output_type": "stream",
     "text": [
      "00011001\n"
     ]
    }
   ],
   "source": [
    "def convert(num):\n",
    "    numOfBinary = 8\n",
    "    binary = []; \n",
    "    output = \"\"\n",
    "    \n",
    "    for i in range(numOfBinary): \n",
    "        binary.append((2**(numOfBinary - 1 - i)))\n",
    "    \n",
    "    for i in range(len(binary)):\n",
    "        if num - binary[i] >= 0:\n",
    "            num -= binary[i]\n",
    "            output += \"1\"\n",
    "        else: \n",
    "            output += \"0\"\n",
    "        \n",
    "    print(output)\n",
    "        \n",
    "convert(25)"
   ]
  },
  {
   "cell_type": "markdown",
   "metadata": {},
   "source": [
    "## Challenge\n",
    "\n",
    "Using JavaScript and HTML frontend:"
   ]
  },
  {
   "cell_type": "markdown",
   "metadata": {},
   "source": [
    "```\n",
    "<p id=\"binary\"></p>\n",
    "\n",
    "\n",
    "<script>\n",
    "    let num = 25; // change 25 to binary\n",
    "    const numOfBinary = 8; // 8 bits (2^8 = 256, 256 possible numbers from 1-255)\n",
    "    const binary = []; \n",
    "    let output = \"\"\n",
    "\n",
    "    // add powers of 2 to the binary array\n",
    "    for (let i = 0; i < numOfBinary; i++) {\n",
    "        binary.push(2**(numOfBinary - 1 - i)); \n",
    "    }\n",
    "\n",
    "    // subtract powers of 2 from num (value = 25) and add 0s or 1s to the binary string accordingly\n",
    "    for (let i = 0; i < binary.length; i++) {\n",
    "        if (num - binary[i] >= 0) {\n",
    "            num -= binary[i]; \n",
    "            output += \"1\"; \n",
    "        } else {\n",
    "            output += \"0\";\n",
    "        }\n",
    "    }\n",
    "\n",
    "    document.getElementById(\"binary\").innerHTML = \"Output\" + String(output);\n",
    "\n",
    "</script>\n",
    "```"
   ]
  },
  {
   "cell_type": "markdown",
   "metadata": {},
   "source": [
    "<p id=\"binary\"></p>\n",
    "\n",
    "\n",
    "<script>\n",
    "    // IMPORTANT: this has to be let\n",
    "    // https://developer.mozilla.org/en-US/docs/Web/JavaScript/Reference/Operators/Destructuring_assignment\n",
    "    let num = 25;\n",
    "    const numOfBinary = 8; \n",
    "    const binary = []; \n",
    "    let output = \"\"\n",
    "\n",
    "    for (let i = 0; i < numOfBinary; i++) {\n",
    "        binary.push(2**(numOfBinary - 1 - i)); \n",
    "    }\n",
    "\n",
    "    for (let i = 0; i < binary.length; i++) {\n",
    "        if (num - binary[i] >= 0) {\n",
    "            num -= binary[i]; \n",
    "            output += \"1\"; \n",
    "        } else {\n",
    "            output += \"0\";\n",
    "        }\n",
    "    }\n",
    "\n",
    "    // IMPORTANT: need to typecast to String\n",
    "    document.getElementById(\"binary\").innerHTML = \"Output: \" + String(output);\n",
    "\n",
    "</script>"
   ]
  },
  {
   "cell_type": "markdown",
   "metadata": {},
   "source": [
    "## 3.4 Strings(Show video 1)"
   ]
  },
  {
   "cell_type": "markdown",
   "metadata": {},
   "source": [
    "### Vocab: fill in the blanks using the video\n",
    "Index is a number representing a position, like a character's position in a string or a string's position in a list.  \n",
    "Concatenation is combining values together\n",
    "Length is how long a particular value is. For example, in a string, the length is the number of characters. \n",
    "A substring is a part of a string"
   ]
  },
  {
   "cell_type": "markdown",
   "metadata": {},
   "source": [
    "### What is psuedocode?\n",
    "Pseudocode is writing out a program in plain language with keywords that are used to refer to common coding concepts.\n",
    "\n",
    "Can you think of some benefits of using pseudocode prior to writing out the actual code?\n",
    "\n",
    "1. Choose an everyday activity\n",
    "2. Imagine that you are providing instructions for this activity to a person who has never done it before\n",
    "3. Challenge someone to do the steps you wrote out\n",
    "\n",
    "Ex. Brushing Teeth\n",
    "\n",
    "1. Pick up your toothbrush\n",
    "2. Rinse toothbrush\n",
    "3. Pick up toothpaste\n",
    "4. Place toothpaste on the toothbrush\n",
    "5. Rinse toothbrush again\n",
    "6. Brush teeth in a circular motion\n",
    "7. Spit\n",
    "8. Wash mouth \n",
    "9. Rinse toothbrush\n",
    "10. You have brushed your teeth!"
   ]
  },
  {
   "cell_type": "markdown",
   "metadata": {},
   "source": [
    "### Substring/Length Practice: change the print functions to print \"hello\", \"bye\", and the string length"
   ]
  },
  {
   "cell_type": "code",
   "execution_count": 4,
   "metadata": {},
   "outputs": [
    {
     "name": "stdout",
     "output_type": "stream",
     "text": [
      "hello\n",
      "bye\n",
      "8\n"
     ]
    }
   ],
   "source": [
    "#substring = string[start:end] \n",
    "#the substring will have the characters including the index \"start\" to the character BEFORE the index \"end\"\n",
    "#len(string) will print the length of string\n",
    "\n",
    "string = \"hellobye\"\n",
    "print(string[0:5])\n",
    "print(string[5:8])\n",
    "print(len(string))"
   ]
  },
  {
   "cell_type": "markdown",
   "metadata": {},
   "source": [
    "Concatenation Practice: combine string1 and string2 to make string3, then print string3."
   ]
  },
  {
   "cell_type": "code",
   "execution_count": 1,
   "metadata": {},
   "outputs": [
    {
     "name": "stdout",
     "output_type": "stream",
     "text": [
      "computerscience\n"
     ]
    }
   ],
   "source": [
    "#string1 + string2 will add string2 to the end of string1\n",
    "\n",
    "string1 = \"computer\"\n",
    "string2 = \"science\"\n",
    "string3 = string1 + string2 \n",
    "print(string3)"
   ]
  },
  {
   "cell_type": "markdown",
   "metadata": {},
   "source": [
    "Homework/List Adaptation: create a function that prints the name of each string in the list and the string's length. Challenge: add frontend with javascript or html."
   ]
  },
  {
   "cell_type": "code",
   "execution_count": 15,
   "metadata": {},
   "outputs": [
    {
     "name": "stdout",
     "output_type": "stream",
     "text": [
      "jaden\n",
      "Length of jaden: 5\n",
      "max\n",
      "Length of max: 3\n",
      "dylan\n",
      "Length of dylan: 5\n",
      "orlando\n",
      "Length of orlando: 7\n"
     ]
    }
   ],
   "source": [
    "names = [\"jaden\",\"max\",\"dylan\",\"orlando\"]\n",
    "\n",
    "def length(list):\n",
    "    for name in names :\n",
    "        print(name)\n",
    "        print(\"Length of \" + name + \": \" + str(len(name)))\n",
    "        \n",
    "length(names)\n"
   ]
  },
  {
   "cell_type": "markdown",
   "metadata": {},
   "source": [
    "## Challenge\n",
    "\n",
    "Using JavaScript and HTML frontend: "
   ]
  },
  {
   "cell_type": "markdown",
   "metadata": {},
   "source": [
    "```\n",
    "\n",
    "<p id=\"list\"></p>\n",
    "\n",
    "\n",
    "<script>\n",
    "    \n",
    "  \n",
    "    const names = [\"jaden\", \"max\", \"dylan\", \"orlando\"]; \n",
    "\n",
    "   \n",
    "    for (name of names) {\n",
    "        document.getElementById(\"list\").innerHTML += String(name) + \"<br>\" + \"Length of \" + String(name) + \": \" + String(name.length) + \"<br>\";        \n",
    "    }\n",
    "    \n",
    "\n",
    "</script>\n",
    "```"
   ]
  },
  {
   "cell_type": "markdown",
   "metadata": {},
   "source": [
    "\n",
    "<p id=\"list\"></p>\n",
    "\n",
    "\n",
    "<script>\n",
    "    // IMPORTANT: Apparently cells are also connected with each other so paragraph IDs MUST be diff\n",
    "  \n",
    "    const names = [\"jaden\", \"max\", \"dylan\", \"orlando\"]; \n",
    "\n",
    "    // to add newline, n do <br>, c't do \\n\n",
    "    // how to append text: https://stackoverflow.com/questions/5677799/how-to-append-text-to-a-div\n",
    "    // using <br>, not \\n: https://stackoverflow.com/questions/61374913/why-does-n-sometimes-act-as-a-space-in-javascript-instead-of-a-new-line-charact\n",
    "    // also you need to use String(name), c't do name\n",
    "    for (name of names) {\n",
    "        document.getElementById(\"list\").innerHTML += String(name) + \"<br>\" + \"Length of \" + String(name) + \": \" + String(name.length) + \"<br>\";        \n",
    "    }\n",
    "    \n",
    "\n",
    "</script>"
   ]
  },
  {
   "cell_type": "markdown",
   "metadata": {},
   "source": [
    "# Stuck? \n",
    "- Check out [what we did.](https://raisinbran25.github.io/csp2/2022/11/18/expressions.html)"
   ]
  },
  {
   "cell_type": "markdown",
   "metadata": {},
   "source": [
    "# Have any questions?\n",
    "- Ask us if you have any questions!"
   ]
  }
 ],
 "metadata": {
  "kernelspec": {
   "display_name": "Python 3.9.12 ('base')",
   "language": "python",
   "name": "python3"
  },
  "language_info": {
   "codemirror_mode": {
    "name": "ipython",
    "version": 3
   },
   "file_extension": ".py",
   "mimetype": "text/x-python",
   "name": "python",
   "nbconvert_exporter": "python",
   "pygments_lexer": "ipython3",
   "version": "3.9.12"
  },
  "orig_nbformat": 4,
  "vscode": {
   "interpreter": {
    "hash": "f260b6b3ae1ef2114af89aa0dee38d5682df0763aaac2870f1e656463369401e"
   }
  }
 },
 "nbformat": 4,
 "nbformat_minor": 2
}
