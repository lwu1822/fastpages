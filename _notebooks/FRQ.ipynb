{
 "cells": [
  {
   "cell_type": "markdown",
   "metadata": {},
   "source": [
    "# AP FRQ\n",
    "> Completing Question 1 on the 2022 AP CSA FRQ\n",
    "\n",
    "- toc: true \n",
    "- badges: true\n",
    "- comments: true\n",
    "- categories: [ap_test_prep]"
   ]
  },
  {
   "cell_type": "markdown",
   "metadata": {},
   "source": [
    "# #1"
   ]
  },
  {
   "cell_type": "code",
   "execution_count": null,
   "metadata": {},
   "outputs": [],
   "source": [
    "public int getScore() {\n",
    "    Level goal = new Level();\n",
    "    Level points = new Level(); \n",
    "    int pointTotal = 0; \n",
    "    if (goal.goalReached()) {\n",
    "        pointTotal = points.getPoints();\n",
    "    }\n",
    "}"
   ]
  },
  {
   "cell_type": "code",
   "execution_count": null,
   "metadata": {},
   "outputs": [],
   "source": [
    "public int getScore() {\n",
    "    int pointTotal = 0; \n",
    "    if (levelOne.goalReached()) {\n",
    "        pointTotal += levelOne.getPoints();\n",
    "\n",
    "        if (levelTwo.goalReached()) {\n",
    "            pointTotal += levelTwo.getPoints();\n",
    "\n",
    "            if (levelThree.goalReached()) {\n",
    "                pointTotal += levelThree.getPoints();\n",
    "            }\n",
    "        }\n",
    "    }\n",
    "\n",
    "    if (isBonus()) {\n",
    "        pointTotal *= 3;\n",
    "    }\n",
    "\n",
    "    return pointTotal;\n",
    "}"
   ]
  },
  {
   "cell_type": "markdown",
   "metadata": {},
   "source": [
    "Questions: \n",
    "\n",
    "* Why are objects not defined to call goalReached and getPoints?"
   ]
  }
 ],
 "metadata": {
  "kernelspec": {
   "display_name": "Java",
   "language": "java",
   "name": "java"
  },
  "language_info": {
   "name": "java"
  },
  "orig_nbformat": 4
 },
 "nbformat": 4,
 "nbformat_minor": 2
}
