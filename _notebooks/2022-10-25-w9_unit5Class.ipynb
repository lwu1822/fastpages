{
 "cells": [
  {
   "cell_type": "markdown",
   "metadata": {},
   "source": [
    "# Unit 5 Writing Classes\n",
    "> Homework for Unit 5&#58; Writing Classes\n",
    "\n",
    "- toc: true \n",
    "- badges: true\n",
    "- comments: true"
   ]
  },
  {
   "cell_type": "markdown",
   "metadata": {},
   "source": [
    "# 2019 FRQ #2\n",
    "\n",
    "## Initial attempt"
   ]
  },
  {
   "cell_type": "code",
   "execution_count": null,
   "metadata": {},
   "outputs": [],
   "source": [
    "public class StepTracker {\n",
    "    private int numDay;\n",
    "    private int activeSteps; \n",
    "    private int totalSteps; \n",
    "    private int numActiveDays;\n",
    "\n",
    "    public StepTracker(int steps) {\n",
    "        activeSteps = steps; \n",
    "    }\n",
    "\n",
    "    public int activeDays() {\n",
    "        return numActiveDays; \n",
    "    }\n",
    "\n",
    "    public double averageSteps() {\n",
    "        return totalSteps/numDay;  \n",
    "    }\n",
    "\n",
    "    public void addDailySteps(int steps) {\n",
    "        totalSteps += steps; \n",
    "        numDay++;\n",
    "        if (steps >= activeSteps) {\n",
    "            numActiveDays++; \n",
    "        }\n",
    "    }\n",
    "\n",
    "\n",
    "}"
   ]
  },
  {
   "cell_type": "markdown",
   "metadata": {},
   "source": [
    "## Comments:\n",
    "\n",
    "In the method `averageSteps()`, I did not do a type conversion to double in my return statement. A type conversion is needed because `totalSteps` and `numDay` are integers. \n",
    "\n",
    "I also did not account for when `numDay` = 0, because the return statement can not be divided by 0. Therefore, an if statement is needed to return an average step of 0. \n",
    "\n",
    "## Corrections:"
   ]
  },
  {
   "cell_type": "code",
   "execution_count": 18,
   "metadata": {},
   "outputs": [],
   "source": [
    "public class StepTracker {\n",
    "    private int numDay;\n",
    "    private int activeSteps; \n",
    "    private int totalSteps; \n",
    "    private int numActiveDays;\n",
    "\n",
    "    public StepTracker(int steps) {\n",
    "        activeSteps = steps; \n",
    "        \n",
    "    }\n",
    "\n",
    "    public int activeDays() {\n",
    "        return numActiveDays; \n",
    "    }\n",
    "\n",
    "    public double averageSteps() {\n",
    "        if (numDay == 0) {   // corrections\n",
    "            return 0.0; \n",
    "        } else {\n",
    "            return (double) totalSteps/numDay;  \n",
    "        }\n",
    "    }\n",
    "\n",
    "    public void addDailySteps(int steps) {\n",
    "        totalSteps += steps; \n",
    "        numDay++;\n",
    "        if (steps >= activeSteps) {\n",
    "            numActiveDays++; \n",
    "        }\n",
    "    }\n",
    " \n",
    "\n",
    "\n",
    "} \n"
   ]
  }
 ],
 "metadata": {
  "kernelspec": {
   "display_name": "Java",
   "language": "java",
   "name": "java"
  },
  "language_info": {
   "codemirror_mode": "java",
   "file_extension": ".jshell",
   "mimetype": "text/x-java-source",
   "name": "java",
   "pygments_lexer": "java",
   "version": "11.0.16+8-post-Ubuntu-0ubuntu120.04"
  },
  "orig_nbformat": 4
 },
 "nbformat": 4,
 "nbformat_minor": 2
}
