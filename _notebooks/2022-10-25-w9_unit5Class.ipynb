{
 "cells": [
  {
   "cell_type": "markdown",
   "metadata": {},
   "source": [
    "# Unit 5 Writing Classes\n",
    "> Homework for Unit 5&#58; Writing Classes\n",
    "\n",
    "- toc: true \n",
    "- badges: true\n",
    "- comments: true"
   ]
  },
  {
   "cell_type": "markdown",
   "metadata": {},
   "source": [
    "# Notes\n",
    "\n",
    "\n",
    "# Class\n",
    "\n",
    "## What I learned\n",
    "\n",
    "Static methods are used mainly for convenience. If you create a regular method, you need to create an object to execute the method. However, an object does not need to be created to access a static method.\n",
    "\n",
    "<mark>Polymorphism</mark>: This is used with Java `extends`. When a method in the subclass has the same name as the superclass, the subclass's method will override the superclass's.\n",
    "\n",
    "Late binding results in overriding, or using the specific subclass's method during run time. On the other hand, if two methods have the same name but different parameters, using one method over the other would be called overloading. \n",
    "\n",
    "`private` vs `protected`: Private only allows access within the class, while protected allows access in the same package or subclasses.\n",
    "\n",
    "\n",
    "Below is a piece of code that illustrates many parts of a class. "
   ]
  },
  {
   "cell_type": "code",
   "execution_count": 1,
   "metadata": {
    "vscode": {
     "languageId": "java"
    }
   },
   "outputs": [
    {
     "name": "stdout",
     "output_type": "stream",
     "text": [
      "person1's age is: 20\n",
      "person1's height is: 65\n"
     ]
    }
   ],
   "source": [
    "\n",
    "public class Person {\n",
    "    private int age; \n",
    "    private int height; \n",
    "\n",
    "    public Person(){\n",
    "\n",
    "    }\n",
    "    \n",
    "\n",
    "    public int getAge() {\n",
    "        return this.age; \n",
    "    }\n",
    "\n",
    "    public void setAge(int age) {\n",
    "        this.age = age; \n",
    "    }\n",
    "\n",
    "    public int getHeight() {\n",
    "        return this.height; \n",
    "    }\n",
    "\n",
    "    public void setHeight(int height) {\n",
    "        this.height = height; \n",
    "    }\n",
    "\n",
    "\n",
    "\n",
    "    public static void main(String[] args) {\n",
    "        Person person1 = new Person(); \n",
    "        person1.setAge(20);\n",
    "        person1.setHeight(65); \n",
    "        System.out.println(\"person1's age is: \" + person1.getAge());\n",
    "        System.out.println(\"person1's height is: \" + person1.getHeight()); \n",
    "    }\n",
    "}\n",
    "Person.main(null)"
   ]
  },
  {
   "cell_type": "markdown",
   "metadata": {},
   "source": [
    "\n",
    "## Explanation of items in the code\n",
    "\n",
    "A class is like a blueprint for an object. In this case, the class is `Person` (names of classes by convention have the first letter capitalized). The `Person` class has an empty constructor. Common things found in a class are **getters** and **setters**. Getters are created with <code>get<em>variable name</em></code>, and setters are created with <code>set<em>variable name</em></code>. In both cases, the first letter of the variable name should be capitalized, as in accordance with Java variable naming conventions. Getters and setters are used to protect your data so that you do not assign unintended values to your variables. Lastly, the `this` keyword is used to refer to the declared variables. `this` is used to differentiate between the declared variables and the variables that are passed into a method as parameters and who may have the same name."
   ]
  },
  {
   "cell_type": "markdown",
   "metadata": {},
   "source": [
    "## Access modifiers\n",
    "\n",
    "`public` allows visibility outside of the declared class, while `private` only allows visibility within the class. "
   ]
  },
  {
   "cell_type": "code",
   "execution_count": 5,
   "metadata": {
    "vscode": {
     "languageId": "java"
    }
   },
   "outputs": [
    {
     "name": "stdout",
     "output_type": "stream",
     "text": [
      "5\n"
     ]
    }
   ],
   "source": [
    "public class Access{\n",
    "    public int x = 5; \n",
    "}\n",
    "\n",
    "public class AccessTwo {\n",
    "    public static void main(String[] args) {\n",
    "        Access variableDemo = new Access(); \n",
    "        System.out.println(variableDemo.x); \n",
    "    }\n",
    "}\n",
    "AccessTwo.main(null)"
   ]
  },
  {
   "cell_type": "markdown",
   "metadata": {},
   "source": [
    "Compare with this: "
   ]
  },
  {
   "cell_type": "code",
   "execution_count": 6,
   "metadata": {
    "vscode": {
     "languageId": "java"
    }
   },
   "outputs": [
    {
     "ename": "CompilationException",
     "evalue": "",
     "output_type": "error",
     "traceback": [
      "\u001b[1m\u001b[30m|   \u001b[1m\u001b[30m        System.out.println(\u001b[0m\u001b[1m\u001b[30m\u001b[41mvariableDemo.x\u001b[0m\u001b[1m\u001b[30m); \u001b[0m",
      "\u001b[1m\u001b[31mx has private access in Access\u001b[0m",
      ""
     ]
    }
   ],
   "source": [
    "\n",
    "public class Access{\n",
    "    private int x = 5; // x is private\n",
    "}\n",
    "\n",
    "public class AccessTwo {\n",
    "    public static void main(String[] args) {\n",
    "        Access variableDemo = new Access(); \n",
    "        System.out.println(variableDemo.x); \n",
    "    }\n",
    "}\n",
    "AccessTwo.main(null)"
   ]
  },
  {
   "cell_type": "markdown",
   "metadata": {},
   "source": [
    "On the other hand, protected allows access only in the same package and subclasses."
   ]
  },
  {
   "cell_type": "code",
   "execution_count": 8,
   "metadata": {
    "vscode": {
     "languageId": "java"
    }
   },
   "outputs": [
    {
     "name": "stdout",
     "output_type": "stream",
     "text": [
      "5\n"
     ]
    }
   ],
   "source": [
    "public class Access{\n",
    "    protected int x = 5; // x is private\n",
    "}\n",
    "\n",
    "public class AccessTwo extends Access {\n",
    "    public static void main(String[] args) {\n",
    "        AccessTwo variableDemo = new AccessTwo(); \n",
    "        System.out.println(variableDemo.x); \n",
    "    }\n",
    "}\n",
    "AccessTwo.main(null)"
   ]
  },
  {
   "cell_type": "markdown",
   "metadata": {},
   "source": [
    "\n",
    "## Static vs nonstatic \n",
    "\n",
    "In short, to access a variable from a static method, the variable must be declared with static. \n",
    "\n",
    "**static variables can be accessed in both static and nonstatic methods. nonstatic variables can only be accessed in nonstatic methods**"
   ]
  },
  {
   "cell_type": "code",
   "execution_count": 2,
   "metadata": {
    "vscode": {
     "languageId": "java"
    }
   },
   "outputs": [
    {
     "name": "stdout",
     "output_type": "stream",
     "text": [
      "5\n"
     ]
    }
   ],
   "source": [
    "\n",
    "public class staticDemo{\n",
    "    \n",
    "    static int staticVar = 5;\n",
    "\n",
    "    public static void main(String[] args) {\n",
    "        System.out.println(staticVar); \n",
    "    }\n",
    "}\n",
    "staticDemo.main(null)"
   ]
  },
  {
   "cell_type": "markdown",
   "metadata": {},
   "source": [
    "\n",
    "This will produce an <mark>error</mark> because there is <mark>no static</mark>!"
   ]
  },
  {
   "cell_type": "code",
   "execution_count": 3,
   "metadata": {
    "vscode": {
     "languageId": "java"
    }
   },
   "outputs": [
    {
     "ename": "CompilationException",
     "evalue": "",
     "output_type": "error",
     "traceback": [
      "\u001b[1m\u001b[30m|   \u001b[1m\u001b[30m        System.out.println(\u001b[0m\u001b[1m\u001b[30m\u001b[41mstaticVar\u001b[0m\u001b[1m\u001b[30m); \u001b[0m",
      "\u001b[1m\u001b[31mnon-static variable staticVar cannot be referenced from a static context\u001b[0m",
      ""
     ]
    }
   ],
   "source": [
    "\n",
    "public class staticDemo{\n",
    "    \n",
    "    int staticVar = 5;\n",
    "\n",
    "    public static void main(String[] args) {\n",
    "        System.out.println(staticVar); \n",
    "    }\n",
    "}\n",
    "staticDemo.main(null)"
   ]
  },
  {
   "cell_type": "markdown",
   "metadata": {},
   "source": [
    "\n",
    "Static variables can be accessed in nonstatic methods!"
   ]
  },
  {
   "cell_type": "code",
   "execution_count": 4,
   "metadata": {
    "vscode": {
     "languageId": "java"
    }
   },
   "outputs": [
    {
     "name": "stdout",
     "output_type": "stream",
     "text": [
      "5\n"
     ]
    }
   ],
   "source": [
    "\n",
    "public class staticDemo{\n",
    "    \n",
    "    static int staticVar = 5;\n",
    "\n",
    "    public void printVar() {\n",
    "        System.out.println(staticVar); \n",
    "    }\n",
    "\n",
    "    public static void main(String[] args) {\n",
    "        staticDemo a = new staticDemo(); \n",
    "        a.printVar();\n",
    "    }\n",
    "}\n",
    "staticDemo.main(null)"
   ]
  },
  {
   "cell_type": "markdown",
   "metadata": {},
   "source": [
    "\n",
    "## Tester methods\n",
    "\n",
    "Tester methods can be used to test if your code is working the way you want it to work. "
   ]
  },
  {
   "cell_type": "markdown",
   "metadata": {},
   "source": [
    "\n",
    "## Inheritance"
   ]
  },
  {
   "cell_type": "code",
   "execution_count": 5,
   "metadata": {
    "vscode": {
     "languageId": "java"
    }
   },
   "outputs": [],
   "source": [
    "\n",
    "public class Cat{\n",
    "\n",
    "    public boolean hasTail() {\n",
    "        return true; \n",
    "    }\n",
    "\n",
    "    public void sayMeow() {\n",
    "        System.out.println(\"Meow!\"); \n",
    "    }\n",
    "}"
   ]
  },
  {
   "cell_type": "code",
   "execution_count": 6,
   "metadata": {
    "vscode": {
     "languageId": "java"
    }
   },
   "outputs": [
    {
     "name": "stdout",
     "output_type": "stream",
     "text": [
      "Meow!\n",
      "Tabby cat fur type: striped\n",
      "Tabby cat has tail? true\n"
     ]
    }
   ],
   "source": [
    "\n",
    "public class TabbyCat extends Cat {\n",
    "    public String furType() {\n",
    "        return \"striped\"; \n",
    "    }\n",
    "\n",
    "    public boolean hasTail() {\n",
    "        return super.hasTail(); \n",
    "    }\n",
    "\n",
    "    public static void main (String[] args) {\n",
    "        TabbyCat cat1 = new TabbyCat(); \n",
    "        cat1.sayMeow(); \n",
    "        System.out.println(\"Tabby cat fur type: \" + cat1.furType()); \n",
    "        System.out.println(\"Tabby cat has tail? \" + cat1.hasTail()); \n",
    "    }\n",
    "}\n",
    "TabbyCat.main(null)"
   ]
  },
  {
   "cell_type": "markdown",
   "metadata": {},
   "source": [
    "\n",
    "In the example above, the **superclass** is `Cat`, while the **subclass** is `TabbyCat`. Extends helps save time from copying and pasting code. `TabbyCat` has access to all of the methods in `Cat`, but also has its specific method, `furType()`. The `super` keyword calls the superclass. \n",
    "\n",
    "One interesting thing is that if the subclass has the same method as the superclass, the subclass's method will override the superclass. This is called <mark>polymorphism</mark>. See below: "
   ]
  },
  {
   "cell_type": "code",
   "execution_count": 7,
   "metadata": {
    "vscode": {
     "languageId": "java"
    }
   },
   "outputs": [
    {
     "name": "stdout",
     "output_type": "stream",
     "text": [
      "Tabby cat has tail? false\n"
     ]
    }
   ],
   "source": [
    "\n",
    "public class TabbyCat extends Cat {\n",
    "    public String furType() {\n",
    "        return \"striped\"; \n",
    "    }\n",
    "\n",
    "    public boolean hasTail() {\n",
    "        return false; // oof\n",
    "    }\n",
    "\n",
    "    public static void main (String[] args) {\n",
    "        TabbyCat cat1 = new TabbyCat(); \n",
    "        System.out.println(\"Tabby cat has tail? \" + cat1.hasTail()); \n",
    "    }\n",
    "}\n",
    "TabbyCat.main(null)"
   ]
  },
  {
   "cell_type": "markdown",
   "metadata": {},
   "source": [
    "\n",
    "During compilation though, the `hasTail()` method will be looked for in the `Cat` class. Only during run time, the method will be resolved to the `TabbyCat` object. This is called late binding (using overriding)"
   ]
  },
  {
   "cell_type": "markdown",
   "metadata": {},
   "source": [
    "\n",
    "Something very cool in Java is that you can have methods with the same name, **as long as they have different parameters**. This would result in overloading."
   ]
  },
  {
   "cell_type": "markdown",
   "metadata": {},
   "source": [
    "\n",
    "# toString()\n",
    "\n",
    "toString changes the value into a String object"
   ]
  },
  {
   "cell_type": "code",
   "execution_count": 8,
   "metadata": {
    "vscode": {
     "languageId": "java"
    }
   },
   "outputs": [
    {
     "name": "stdout",
     "output_type": "stream",
     "text": [
      "Data type of x is: String\n"
     ]
    }
   ],
   "source": [
    "\n",
    "Integer x = 5; \n",
    "\n",
    "System.out.println(\"Data type of x is: \" + x.toString().getClass().getSimpleName()); "
   ]
  },
  {
   "cell_type": "markdown",
   "metadata": {},
   "source": [
    "\n",
    "# hashCode()\n",
    "\n",
    "hashCode returns the hash code for an object. If obj1.equals(obj2), then obj1.hashCode() == obj2.hashCode(); "
   ]
  },
  {
   "cell_type": "code",
   "execution_count": 9,
   "metadata": {
    "vscode": {
     "languageId": "java"
    }
   },
   "outputs": [
    {
     "name": "stdout",
     "output_type": "stream",
     "text": [
      "true\n"
     ]
    }
   ],
   "source": [
    "\n",
    "String text = new String(\"foo\"); \n",
    "String text2 = new String(\"foo\"); \n",
    "\n",
    "if (text.equals(text2)) {\n",
    "    System.out.println(text.hashCode() == text2.hashCode()); \n",
    "}"
   ]
  },
  {
   "cell_type": "markdown",
   "metadata": {},
   "source": [
    "# Big O notation\n",
    "\n",
    "Big O provides the worst case time complexity of an algorithm. It is written in the format of  O(n), where n is the size of the input. The worst case time complexity is taken in that say if the function was 2n+3, you would write it as O(n) because as n increases, the 3 becomes less important.\n",
    "\n",
    "The Big O notation for hash maps is O(1), which is the fastest possible running time. Binary search is O(logn). A single loop is O(n), while a nested loop is O(n^2). "
   ]
  },
  {
   "cell_type": "markdown",
   "metadata": {},
   "source": [
    "# 2019 FRQ #2\n",
    "\n",
    "## Initial attempt"
   ]
  },
  {
   "cell_type": "code",
   "execution_count": null,
   "metadata": {
    "vscode": {
     "languageId": "java"
    }
   },
   "outputs": [],
   "source": [
    "public class StepTracker {\n",
    "    private int numDay;\n",
    "    private int activeSteps; \n",
    "    private int totalSteps; \n",
    "    private int numActiveDays;\n",
    "\n",
    "    public StepTracker(int steps) {\n",
    "        activeSteps = steps; \n",
    "    }\n",
    "\n",
    "    public int activeDays() {\n",
    "        return numActiveDays; \n",
    "    }\n",
    "\n",
    "    public double averageSteps() {\n",
    "        return totalSteps/numDay;  \n",
    "    }\n",
    "\n",
    "    public void addDailySteps(int steps) {\n",
    "        totalSteps += steps; \n",
    "        numDay++;\n",
    "        if (steps >= activeSteps) {\n",
    "            numActiveDays++; \n",
    "        }\n",
    "    }\n",
    "\n",
    "\n",
    "}"
   ]
  },
  {
   "cell_type": "markdown",
   "metadata": {},
   "source": [
    "## Comments:\n",
    "\n",
    "In the method `averageSteps()`, I did not do a type conversion to double in my return statement. A type conversion is needed because `totalSteps` and `numDay` are integers. \n",
    "\n",
    "I also did not account for when `numDay` = 0, because the return statement can not be divided by 0. Therefore, an if statement is needed to return an average step of 0. \n",
    "\n",
    "## Corrections:"
   ]
  },
  {
   "cell_type": "code",
   "execution_count": 18,
   "metadata": {
    "vscode": {
     "languageId": "java"
    }
   },
   "outputs": [],
   "source": [
    "public class StepTracker {\n",
    "    private int numDay;\n",
    "    private int activeSteps; \n",
    "    private int totalSteps; \n",
    "    private int numActiveDays;\n",
    "\n",
    "    public StepTracker(int steps) {\n",
    "        activeSteps = steps; \n",
    "        \n",
    "    }\n",
    "\n",
    "    public int activeDays() {\n",
    "        return numActiveDays; \n",
    "    }\n",
    "\n",
    "    public double averageSteps() {\n",
    "        if (numDay == 0) {   // corrections\n",
    "            return 0.0; \n",
    "        } else {\n",
    "            return (double) totalSteps/numDay;  \n",
    "        }\n",
    "    }\n",
    "\n",
    "    public void addDailySteps(int steps) {\n",
    "        totalSteps += steps; \n",
    "        numDay++;\n",
    "        if (steps >= activeSteps) {\n",
    "            numActiveDays++; \n",
    "        }\n",
    "    }\n",
    " \n",
    "\n",
    "\n",
    "} \n"
   ]
  }
 ],
 "metadata": {
  "kernelspec": {
   "display_name": "Java",
   "language": "java",
   "name": "java"
  },
  "language_info": {
   "codemirror_mode": "java",
   "file_extension": ".jshell",
   "mimetype": "text/x-java-source",
   "name": "Java",
   "pygments_lexer": "java",
   "version": "17.0.5+8-Ubuntu-2ubuntu120.04"
  },
  "orig_nbformat": 4
 },
 "nbformat": 4,
 "nbformat_minor": 2
}
