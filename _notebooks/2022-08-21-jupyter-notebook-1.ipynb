{
 "cells": [
  {
   "cell_type": "markdown",
   "metadata": {},
   "source": [
    "# Jupyter notebook post #1\n",
    "> Lily's first Jupyter notebook post.\n",
    "\n",
    "- toc: true \n",
    "- badges: true\n",
    "- comments: true\n",
    "- categories: [jupyter]"
   ]
  },
  {
   "cell_type": "markdown",
   "metadata": {},
   "source": [
    "# Intro\n",
    "\n",
    "Hi! This post will just be me playing around and explaining how to use Jupyter notebook in VSCode. I don't know about you, but VSCode's [documentation](https://code.visualstudio.com/docs/datascience/jupyter-notebooks) is super long and wordy, so I'll try to use simple English and incorporate some humor within :)\n",
    "\n",
    "This page will also include some tips and tricks that I found while using Jupyter Notebook, or some things that I struggled with.\n",
    "\n",
    "Information on this page will also based on the descriptions on this [page](https://lwu1822.github.io/fastpages/jupyter/2020/02/20/test.html)"
   ]
  },
  {
   "cell_type": "markdown",
   "metadata": {},
   "source": [
    "## What is Jupyter Notebook??\n",
    "\n",
    "*For the long and wordy explanations that pop up when you google: `Jupyter Notebook`*\n",
    "\n",
    "Jupyter Notebook is an environment that allows you to create cells that can contain various types of code, including Python and Markdown. \n",
    "\n",
    "Now, you might be wondering, *why do I need this?*\n",
    "\n",
    "Well, there's a few reasons:\n",
    "- Jupyter Notebook is interactive. It allows you to move your program around.\n",
    "- What if you want to test a portion of your code? Instead of running the entire thing, you could use Jupyter Notebook to run code snippets."
   ]
  },
  {
   "cell_type": "markdown",
   "metadata": {},
   "source": [
    "<br>\n",
    "\n",
    "Below is some testing of using Jupyter Notebook. I will add explanations of what these do *later*."
   ]
  },
  {
   "cell_type": "code",
   "execution_count": 1,
   "metadata": {},
   "outputs": [
    {
     "name": "stdout",
     "output_type": "stream",
     "text": [
      "woah hidden input\n"
     ]
    }
   ],
   "source": [
    "#hide_input\n",
    "print(\"woah hidden input\")"
   ]
  },
  {
   "cell_type": "code",
   "execution_count": 2,
   "metadata": {},
   "outputs": [
    {
     "name": "stdout",
     "output_type": "stream",
     "text": [
      "peekaboo\n"
     ]
    }
   ],
   "source": [
    "#collapse_hide \n",
    "print(\"peekaboo\")"
   ]
  }
 ],
 "metadata": {
  "kernelspec": {
   "display_name": "Python 3.9.12 ('base')",
   "language": "python",
   "name": "python3"
  },
  "language_info": {
   "codemirror_mode": {
    "name": "ipython",
    "version": 3
   },
   "file_extension": ".py",
   "mimetype": "text/x-python",
   "name": "python",
   "nbconvert_exporter": "python",
   "pygments_lexer": "ipython3",
   "version": "3.9.12"
  },
  "orig_nbformat": 4,
  "vscode": {
   "interpreter": {
    "hash": "f260b6b3ae1ef2114af89aa0dee38d5682df0763aaac2870f1e656463369401e"
   }
  }
 },
 "nbformat": 4,
 "nbformat_minor": 2
}
