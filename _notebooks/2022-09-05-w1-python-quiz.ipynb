{
 "cells": [
  {
   "cell_type": "markdown",
   "metadata": {},
   "source": [
    "# Python Quiz\n",
    "> Python quiz\n",
    "\n",
    "- toc: true \n",
    "- badges: true\n",
    "- comments: true\n",
    "- categories: [python]"
   ]
  },
  {
   "cell_type": "markdown",
   "metadata": {},
   "source": [
    "# Explanation of code\n",
    "\n",
    "I imported the getpass and sys library. The quiz first recognizes the user's username and path to the Python interpreter. \n",
    "\n",
    "The quiz then asks a few questions and answers, which are included in a list. Using the for loop, I can use recursion to iterate through each index in the list."
   ]
  },
  {
   "cell_type": "code",
   "execution_count": 21,
   "metadata": {},
   "outputs": [
    {
     "name": "stdout",
     "output_type": "stream",
     "text": [
      "Welcome lwu1822. Your Python interpreter is currently running on the path: /home/lwu1822/anaconda3/bin/python\n",
      "What is the name for code that does not change every time you run the program?\n",
      "Answer: static text\n",
      "Correct!\n",
      "What is the Python command that allows user input?\n",
      "Answer: input\n",
      "Correct!\n",
      "What do you use to combine different data types within the print statement?\n",
      "Answer: ?\n",
      "Incorrect! The correct answer is: concatenation\n",
      "def foo(bar): What is bar also known as?\n",
      "Answer: parameter\n",
      "Correct!\n",
      "What comparison operator do you use in Python to test if two values are equal to each other?\n",
      "Answer: ==\n",
      "Correct!\n",
      "What command is used to include other functions that were previously developed?\n",
      "Answer: import\n",
      "Correct!\n",
      "What command is used to evaluate correct or incorrect response in this example?\n",
      "Answer: if\n",
      "Correct!\n",
      "Each 'if' command contains an '_________' to determine a true or false condition?\n",
      "Answer: ?\n",
      "Incorrect! The correct answer is: expression\n",
      "Your total score is: 6 out of 8\n"
     ]
    }
   ],
   "source": [
    "import getpass,sys\n",
    "\n",
    "print(\"Welcome \" + getpass.getuser() + \". Your Python interpreter is currently running on the path: \" + sys.executable)\n",
    "\n",
    "questions = [\"What is the name for code that does not change every time you run the program?\", \"What is the Python command that allows user input?\", \"What do you use to combine different data types within the print statement?\", \"def foo(bar): What is bar also known as?\", \"What comparison operator do you use in Python to test if two values are equal to each other?\", \"What command is used to include other functions that were previously developed?\", \"What command is used to evaluate correct or incorrect response in this example?\", \"Each 'if' command contains an '_________' to determine a true or false condition?\"]\n",
    "answers = [\"static text\", \"input\", \"concatenation\", \"parameter\", \"==\", \"import\", \"if\", \"expression\"]\n",
    "\n",
    "questionNum = len(questions)\n",
    "score = 0\n",
    "\n",
    "for i in range(questionNum):\n",
    "    print(questions[i]) # This is solely so that the user can see the questions in the Jupyter Notebook output\n",
    "    response = input(questions[i])\n",
    "    print(\"Answer: \" + response) # Again, to show the output\n",
    "    if response == answers[i]:\n",
    "        print(\"Correct!\")\n",
    "        score += 1\n",
    "    else:\n",
    "        print(\"Incorrect! The correct answer is: \" + answers[i])\n",
    "    \n",
    "print(\"Your total score is: \" + str(score) + \" out of \" + str(questionNum))\n"
   ]
  },
  {
   "cell_type": "markdown",
   "metadata": {},
   "source": [
    "## How the rest of this post will be structured\n",
    "\n",
    "This post captures my learnings from this [page](https://nighthawkcoders.github.io/APCSP/collegeboard/python).\n",
    "\n",
    "I will first document my learnings, and then display the code and its output below.\n",
    "\n",
    "<br>"
   ]
  },
  {
   "cell_type": "markdown",
   "metadata": {},
   "source": [
    "In programming languages, a lot of the things within parenthesis are called <mark>parameters</mark>.\n",
    "\n",
    "For example, in the code below, `Hello World!` would be an argument.\n",
    "\n",
    "Static text: Text that stays the same."
   ]
  },
  {
   "cell_type": "code",
   "execution_count": 2,
   "metadata": {},
   "outputs": [
    {
     "name": "stdout",
     "output_type": "stream",
     "text": [
      "Hello World!\n"
     ]
    }
   ],
   "source": [
    "print(\"Hello World!\")"
   ]
  },
  {
   "cell_type": "markdown",
   "metadata": {},
   "source": [
    "<br>\n",
    "\n",
    "## Input and output\n",
    "\n",
    "This is known as dynamic, versus static. Dynamic means that a variable can change each time you run the code. For example, each time you run the code, the input could change.\n",
    "\n",
    "In Python code, the things specified in parenthesis are known as <mark>parameters</mark>. For example, in the code below, `usr_input` is a parameter."
   ]
  },
  {
   "cell_type": "code",
   "execution_count": 4,
   "metadata": {},
   "outputs": [
    {
     "name": "stdout",
     "output_type": "stream",
     "text": [
      "hi :)\n"
     ]
    }
   ],
   "source": [
    "usr_input = input(\"Enter some text: \")\n",
    "print(usr_input)"
   ]
  },
  {
   "cell_type": "markdown",
   "metadata": {},
   "source": [
    "<br>\n",
    "\n",
    "## Function\n",
    "\n",
    "**Note: Indentation matters in Python**\n",
    "\n",
    "When creating a function, make sure to indent to tell Python which lines of code belong within the function (since Python does not use curly braces to delineate functions).\n",
    "\n",
    "Functions are created with the `def` keyword. "
   ]
  },
  {
   "cell_type": "code",
   "execution_count": 9,
   "metadata": {},
   "outputs": [
    {
     "name": "stdout",
     "output_type": "stream",
     "text": [
      "Enter 1st number: 1\n",
      "Enter 2nd number: 2\n",
      "Your total is: 3\n"
     ]
    }
   ],
   "source": [
    "def addNum(a, b):\n",
    "    return int(a) + int(b)\n",
    "     \n",
    "\n",
    "num1 = input(\"Enter 1st number: \")\n",
    "print(\"Enter 1st number: \" + num1)\n",
    "num2 = input(\"Enter 2nd number: \")\n",
    "print(\"Enter 2nd number: \" + num2) \n",
    "\n",
    "total = addNum(num1, num2)\n",
    "\n",
    "print(\"Your total is: \" + str(total))"
   ]
  },
  {
   "cell_type": "markdown",
   "metadata": {},
   "source": [
    "<br>\n",
    "\n",
    "# Libraries \n",
    "\n",
    "Libraries can be imported with the - you guessed it - `import` function.\n",
    "\n",
    "Examples of libraries include getpass and sys. "
   ]
  },
  {
   "cell_type": "code",
   "execution_count": 17,
   "metadata": {},
   "outputs": [
    {
     "name": "stdout",
     "output_type": "stream",
     "text": [
      "You are: lwu1822\n",
      "Your Python interpreter is running at the file path: /home/lwu1822/anaconda3/bin/python\n",
      "Enter the password. Hint: what language does this program run in? \n",
      "python\n",
      "Welcome! lwu1822\n"
     ]
    }
   ],
   "source": [
    "import getpass \n",
    "import sys \n",
    "\n",
    "print(\"You are: \" + getpass.getuser())\n",
    "print(\"Your Python interpreter is running at the file path: \" + sys.executable)\n",
    "\n",
    "passwd = getpass.getpass(prompt='Enter the password. Hint: what language does this program run in? ')\n",
    "print(\"Enter the password. Hint: what language does this program run in? \")\n",
    "print(passwd) \n",
    "\n",
    "if passwd == \"python\":\n",
    "    print(\"Welcome! \" + getpass.getuser())\n",
    "else: \n",
    "    print(\"Incorrect!\")"
   ]
  }
 ],
 "metadata": {
  "kernelspec": {
   "display_name": "Python 3.9.12 ('base')",
   "language": "python",
   "name": "python3"
  },
  "language_info": {
   "codemirror_mode": {
    "name": "ipython",
    "version": 3
   },
   "file_extension": ".py",
   "mimetype": "text/x-python",
   "name": "python",
   "nbconvert_exporter": "python",
   "pygments_lexer": "ipython3",
   "version": "3.9.12"
  },
  "orig_nbformat": 4,
  "vscode": {
   "interpreter": {
    "hash": "f260b6b3ae1ef2114af89aa0dee38d5682df0763aaac2870f1e656463369401e"
   }
  }
 },
 "nbformat": 4,
 "nbformat_minor": 2
}
