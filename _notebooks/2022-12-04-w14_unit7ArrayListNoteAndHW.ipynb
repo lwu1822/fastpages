{
 "cells": [
  {
   "cell_type": "markdown",
   "metadata": {},
   "source": [
    "# Unit 7 Homework \n",
    "\n",
    "- toc: true \n",
    "- badges: true\n",
    "- comments: true"
   ]
  },
  {
   "cell_type": "markdown",
   "metadata": {},
   "source": [
    "## Hack 1"
   ]
  },
  {
   "cell_type": "code",
   "execution_count": 1,
   "metadata": {
    "vscode": {
     "languageId": "java"
    }
   },
   "outputs": [
    {
     "name": "stdout",
     "output_type": "stream",
     "text": [
      "2\n"
     ]
    }
   ],
   "source": [
    "// HACK!!!!\n",
    "// Create an arrayList and use one of the cool methods for it\n",
    "\n",
    "import java.util.ArrayList; \n",
    "\n",
    "public class hack1 {\n",
    "    public static void main (String[] args) {\n",
    "       ArrayList<Integer> testArray = new ArrayList<Integer>(); \n",
    "       testArray.add(1);\n",
    "       testArray.add(2);\n",
    "       System.out.println(testArray.size()); \n",
    "    }\n",
    "}\n",
    "\n",
    "hack1.main(null);"
   ]
  },
  {
   "cell_type": "markdown",
   "metadata": {},
   "source": [
    "## Hack 2"
   ]
  },
  {
   "cell_type": "code",
   "execution_count": 2,
   "metadata": {
    "vscode": {
     "languageId": "java"
    }
   },
   "outputs": [
    {
     "name": "stdout",
     "output_type": "stream",
     "text": [
      "[green box, blue water]\n"
     ]
    }
   ],
   "source": [
    "import java.util.ArrayList;\n",
    "\n",
    "ArrayList<String> color = new ArrayList<String>(); \n",
    "color.add(\"red apple\");\n",
    "color.add(\"green box\");\n",
    "color.add(\"blue water\");\n",
    "color.add(\"red panda\");\n",
    "\n",
    "for (int i = 0; i < color.size(); i++) {\n",
    "    if (color.get(i).contains(\"red\")) {\n",
    "        color.remove(i); \n",
    "    } \n",
    "}\n",
    "\n",
    "System.out.println(color); \n",
    "\n",
    "/*/ \n",
    "using \n",
    "\n",
    "if(color.get(i).contains(\"red\"))\n",
    "\n",
    "iterate through the arraylist and remove all elements that contain the word red in them\n",
    "/*/\n"
   ]
  },
  {
   "cell_type": "markdown",
   "metadata": {},
   "source": [
    "## Hack 3"
   ]
  },
  {
   "cell_type": "code",
   "execution_count": 1,
   "metadata": {
    "vscode": {
     "languageId": "java"
    }
   },
   "outputs": [
    {
     "name": "stdout",
     "output_type": "stream",
     "text": [
      "9\n"
     ]
    }
   ],
   "source": [
    "// find the sum of the elements in the arraylist\n",
    "\n",
    "ArrayList<Integer> num = new ArrayList<Integer>(); \n",
    "\n",
    "num.add(5);\n",
    "num.add(1);\n",
    "num.add(3);\n",
    "\n",
    "int sum = 0; \n",
    "\n",
    "for (int number : num) {\n",
    "    sum += number;\n",
    "}\n",
    "System.out.println(sum); \n"
   ]
  },
  {
   "cell_type": "markdown",
   "metadata": {},
   "source": [
    "## Extra\n",
    "\n",
    "Below is a binary search algorithm that is focused on unit 7.5 Searching. Binary search works by minimizing the amount of times that the code needs to search through the arraylist in order to find the index where the specific element lies. \n",
    "\n",
    "For example, in the code below, I created an ArrayList called `numberList`. The elements in `numberList` are: `[1, 3, 15, 28, 57, 73, 99]`. \n",
    "\n",
    "The number that I want to find (`secretNum`) is 73. Binary searching works by comparing the number in the middle of the ArrayList (28) with the secretNum (73). If the middle number is smaller, binary searching will then search in the middle of the ArrayList from 57 to 99. The middle number is 73, which is at index 5. \n",
    "\n",
    "The reason why binary searching is more efficient is that if a for loop is used to iterate through each number in the array, then in this example, the numbers in the ArrayList need to be searched 6 times before reaching the `secretNum` of 73. With binary searching, the algorithm only needs to search 2 times (once in the middle of the ArrayList, the second time in the middle between 57 and 99). "
   ]
  },
  {
   "cell_type": "code",
   "execution_count": 8,
   "metadata": {
    "vscode": {
     "languageId": "java"
    }
   },
   "outputs": [
    {
     "name": "stdout",
     "output_type": "stream",
     "text": [
      "73 is located at index: 5\n"
     ]
    }
   ],
   "source": [
    "ArrayList<Integer> numbersList = new ArrayList<>(); \n",
    "\n",
    "// numbersList: [1, 3, 15, 28, 57, 73, 99]\n",
    "numbersList.add(1); \n",
    "numbersList.add(3); \n",
    "numbersList.add(15); \n",
    "numbersList.add(28); \n",
    "numbersList.add(57); \n",
    "numbersList.add(73); \n",
    "numbersList.add(99); \n",
    "\n",
    "int secretNum = 73; \n",
    "int low = 0; \n",
    "int high = numbersList.size() - 1;\n",
    "int index = -1; \n",
    "int middle = 0; \n",
    "boolean done = false; \n",
    "\n",
    "while (!done) {\n",
    "    int middle = (low + high)/2;\n",
    "    if (numbersList.get(middle) > secretNum) {\n",
    "        high = middle - 1; \n",
    "    } else if (numbersList.get(middle) < secretNum) {\n",
    "        low = middle + 1; \n",
    "    } else if (numbersList.get(middle) == secretNum) {\n",
    "        index = middle; \n",
    "        done = true; \n",
    "    }\n",
    "}\n",
    "\n",
    "System.out.println(secretNum + \" is located at index: \" + index); "
   ]
  },
  {
   "cell_type": "markdown",
   "metadata": {},
   "source": [
    "## Quizizz\n",
    "\n",
    "![](my_icons/w14_unit7ArrayListNoteAndHW-quizizz.jpg)"
   ]
  },
  {
   "cell_type": "markdown",
   "metadata": {},
   "source": [
    "<br>\n",
    "\n",
    "Reflection: \n",
    "\n",
    "The question that I got wrong on my first attempt was: \n",
    "\n",
    "```\n",
    "You must type _____ at the top of your java file in order to use an ArrayList. (Hint: it is a imported package)\n",
    "```\n",
    "\n",
    "I originally thought the answer was `import java.util.Arrays;`, but this is for arrays, not arraylists. The correct answer is `import java.util.ArrayList;`. \n",
    "\n"
   ]
  }
 ],
 "metadata": {
  "kernelspec": {
   "display_name": "Java",
   "language": "java",
   "name": "java"
  },
  "language_info": {
   "codemirror_mode": "java",
   "file_extension": ".jshell",
   "mimetype": "text/x-java-source",
   "name": "Java",
   "pygments_lexer": "java",
   "version": "17.0.5+8-Ubuntu-2ubuntu120.04"
  },
  "orig_nbformat": 4,
  "vscode": {
   "interpreter": {
    "hash": "916dbcbb3f70747c44a77c7bcd40155683ae19c65e1c03b4aa3499c5328201f1"
   }
  }
 },
 "nbformat": 4,
 "nbformat_minor": 2
}
