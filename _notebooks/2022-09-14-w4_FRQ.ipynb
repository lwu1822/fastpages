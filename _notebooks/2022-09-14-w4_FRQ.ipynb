{
 "cells": [
  {
   "cell_type": "markdown",
   "metadata": {},
   "source": [
    "# AP FRQ\n",
    "> Completing Question 1 on the 2022 AP CSA FRQ\n",
    "\n",
    "- toc: true \n",
    "- badges: true\n",
    "- comments: true\n",
    "- categories: [ap_test_prep]\n",
    "- tags: [\"CSA\"]"
   ]
  },
  {
   "cell_type": "markdown",
   "metadata": {},
   "source": [
    "# 2022 #1a"
   ]
  },
  {
   "cell_type": "markdown",
   "metadata": {},
   "source": [
    " First attempt:"
   ]
  },
  {
   "cell_type": "code",
   "execution_count": null,
   "metadata": {
    "vscode": {
     "languageId": "java"
    }
   },
   "outputs": [],
   "source": [
    "public int getScore() {\n",
    "    Level goal = new Level();\n",
    "    Level points = new Level(); \n",
    "    int pointTotal = 0; \n",
    "    if (goal.goalReached()) {\n",
    "        pointTotal = points.getPoints();\n",
    "    }\n",
    "}"
   ]
  },
  {
   "cell_type": "markdown",
   "metadata": {},
   "source": [
    "I got stuck at the point above, so I looked at part of the answers. Here is my attempt afterwards:"
   ]
  },
  {
   "cell_type": "markdown",
   "metadata": {},
   "source": [
    "What the code does:\n",
    "\n",
    "A variable `pointTotal` is created that records the amount of points that the player earns. Since the points from level 2 and level 3 are earned only if the previous level is completed, I created if loops within the if loop. \n",
    "\n",
    "After the points from the levels are totaled, the code then tests the `ifBonus` method. This is a boolean if statement where if `ifBonus` is true, the total score would triple."
   ]
  },
  {
   "cell_type": "code",
   "execution_count": null,
   "metadata": {
    "vscode": {
     "languageId": "java"
    }
   },
   "outputs": [],
   "source": [
    "public int getScore() {\n",
    "    int pointTotal = 0; \n",
    "    if (levelOne.goalReached()) {\n",
    "        pointTotal += levelOne.getPoints();\n",
    "\n",
    "        if (levelTwo.goalReached()) {\n",
    "            pointTotal += levelTwo.getPoints();\n",
    "\n",
    "            if (levelThree.goalReached()) {\n",
    "                pointTotal += levelThree.getPoints();\n",
    "            }\n",
    "        }\n",
    "    }\n",
    "\n",
    "    if (isBonus()) {\n",
    "        pointTotal *= 3;\n",
    "    }\n",
    "\n",
    "    return pointTotal;\n",
    "}"
   ]
  },
  {
   "cell_type": "markdown",
   "metadata": {},
   "source": [
    "Questions: \n",
    "\n",
    "* Why are objects not defined to call goalReached and getPoints?\n",
    "\n",
    "\n",
    "After some researching, I learned from this [video](https://www.youtube.com/watch?v=rXvEx9zPsRg) that if methods are in the same class (isBonus and getScore are in the same class), an object does not need to be created to call the method. "
   ]
  },
  {
   "cell_type": "markdown",
   "metadata": {},
   "source": [
    "# #1b"
   ]
  },
  {
   "cell_type": "code",
   "execution_count": null,
   "metadata": {
    "vscode": {
     "languageId": "java"
    }
   },
   "outputs": [],
   "source": [
    "public int playManyTimes(int num) {\n",
    "    int scores[];\n",
    "    int maxScore = 0;\n",
    "    for (int i = 0; i < num; i++) {\n",
    "        play(); \n",
    "        scores[i] = getScore();\n",
    "    }\n",
    "\n",
    "    for (int i = 0; i < num; i++) {\n",
    "        if (scores[i] > maxScore) {\n",
    "            maxScore = scores[i];\n",
    "        }\n",
    "    }\n",
    "\n",
    "    return maxScore;\n",
    "}"
   ]
  },
  {
   "cell_type": "markdown",
   "metadata": {},
   "source": [
    "An array wasn't needed. All you had to do was compare the scores within the for loop like this:"
   ]
  },
  {
   "cell_type": "code",
   "execution_count": null,
   "metadata": {
    "vscode": {
     "languageId": "java"
    }
   },
   "outputs": [],
   "source": [
    "public int playManyTimes(int num) {\n",
    "    int maxScore = 0;\n",
    "    int score = 0;\n",
    "    for (int i = 0; i < num; i++) {\n",
    "        play(); \n",
    "        score = getScore();\n",
    "        if (score > maxScore) {\n",
    "            maxScore = score;\n",
    "        }\n",
    "    }\n",
    "\n",
    "    return maxScore;\n",
    "}"
   ]
  },
  {
   "cell_type": "markdown",
   "metadata": {},
   "source": [
    "<br>\n",
    "\n",
    "# 2016 #1a"
   ]
  },
  {
   "cell_type": "markdown",
   "metadata": {},
   "source": [
    "Initial thoughts: \n",
    "\n",
    "When I first read the question, I did not know where to start, so I looked at part of the answers to guide me on what to learn. \n",
    "\n",
    "Looking at this, \n",
    "\n",
    "<img src=\"lwu1822.github.io/fastpages/_notebooks/my_icons/w4_FRQ-answerCode.jpg\">\n",
    "\n",
    "I was confused as to what `List<String>` was, so I googled it.\n",
    "\n",
    "I learned that `List<String>` is used to make an object that can store the array list. For instance, `List<String> list = new ArrayList<String>();`\n",
    "\n",
    "I also saw how an array list can also be created with `ArrayList<String>`. The difference between `ArrayList<String>` and `List<String>` is that with `List<String>`, you can typecast the array list into a different type of list; however, you can't do that with `ArrayList<String>`. \n",
    "\n",
    "The code below is what I got started with before I became stuck again. \n"
   ]
  },
  {
   "cell_type": "code",
   "execution_count": null,
   "metadata": {
    "vscode": {
     "languageId": "java"
    }
   },
   "outputs": [],
   "source": [
    "public class RandomStringChooser {\n",
    "    private List<String> words;\n",
    "    public RandomStringChooser(String[] wordArray) {\n",
    "        words = new ArrayList<String>();\n",
    "    }\n",
    "}"
   ]
  },
  {
   "cell_type": "code",
   "execution_count": 9,
   "metadata": {
    "vscode": {
     "languageId": "java"
    }
   },
   "outputs": [
    {
     "name": "stdout",
     "output_type": "stream",
     "text": [
      "test1\n",
      "test2\n",
      "test2\n",
      "test1\n",
      "NONE\n",
      "NONE\n",
      "NONE\n",
      "NONE\n"
     ]
    }
   ],
   "source": [
    "public class RandomStringChooser {\n",
    "\n",
    "    private List<String> words;\n",
    "\n",
    "    public RandomStringChooser(String[] wordArray) {\n",
    "        words = new ArrayList<String>();\n",
    "\n",
    "        for (String singleWord : wordArray) {\n",
    "            words.add(singleWord);\n",
    "        }\n",
    "    }\n",
    "\n",
    "    public String getNext() {\n",
    "        if (words.size() > 0) {\n",
    "            return words.remove((int)(Math.random() * words.size()));\n",
    "            \n",
    "        }\n",
    "        return \"NONE\";\n",
    "    }\n",
    "\n",
    "    public static void main (String[] args) {\n",
    "        String[] wordArray = {\"test1\", \"test2\"};\n",
    "        RandomStringChooser sChooser = new RandomStringChooser(wordArray);\n",
    "        for (int k = 0; k < 6; k++) {\n",
    "            System.out.println(sChooser.getNext());\n",
    "        }\n",
    "    }\n",
    " \n",
    "\n",
    "\n",
    "}\n",
    "RandomStringChooser.main(null);"
   ]
  }
 ],
 "metadata": {
  "kernelspec": {
   "display_name": "Java",
   "language": "java",
   "name": "java"
  },
  "language_info": {
   "codemirror_mode": "java",
   "file_extension": ".jshell",
   "mimetype": "text/x-java-source",
   "name": "Java",
   "pygments_lexer": "java",
   "version": "11.0.16+8-post-Ubuntu-0ubuntu120.04"
  },
  "orig_nbformat": 4
 },
 "nbformat": 4,
 "nbformat_minor": 2
}
