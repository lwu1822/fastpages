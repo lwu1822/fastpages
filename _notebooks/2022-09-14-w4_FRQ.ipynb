{
 "cells": [
  {
   "cell_type": "markdown",
   "metadata": {},
   "source": [
    "# AP FRQ\n",
    "> Completing Question 1 on the 2022 AP CSA FRQ\n",
    "\n",
    "- toc: true \n",
    "- badges: true\n",
    "- comments: true\n",
    "- categories: [ap_test_prep]\n",
    "- tags: [\"CSA\"]"
   ]
  },
  {
   "cell_type": "markdown",
   "metadata": {},
   "source": [
    "# 2022 #1a"
   ]
  },
  {
   "cell_type": "markdown",
   "metadata": {},
   "source": [
    " First attempt:"
   ]
  },
  {
   "cell_type": "code",
   "execution_count": null,
   "metadata": {
    "vscode": {
     "languageId": "java"
    }
   },
   "outputs": [],
   "source": [
    "public int getScore() {\n",
    "    Level goal = new Level();\n",
    "    Level points = new Level(); \n",
    "    int pointTotal = 0; \n",
    "    if (goal.goalReached()) {\n",
    "        pointTotal = points.getPoints();\n",
    "    }\n",
    "}"
   ]
  },
  {
   "cell_type": "markdown",
   "metadata": {},
   "source": [
    "I got stuck at the point above, so I looked at part of the answers. Here is my attempt afterwards:"
   ]
  },
  {
   "cell_type": "markdown",
   "metadata": {},
   "source": [
    "What the code does:\n",
    "\n",
    "A variable `pointTotal` is created that records the amount of points that the player earns. Since the points from level 2 and level 3 are earned only if the previous level is completed, I created if loops within the if loop. \n",
    "\n",
    "After the points from the levels are totaled, the code then tests the `ifBonus` method. This is a boolean if statement where if `ifBonus` is true, the total score would triple."
   ]
  },
  {
   "cell_type": "code",
   "execution_count": null,
   "metadata": {
    "vscode": {
     "languageId": "java"
    }
   },
   "outputs": [],
   "source": [
    "public int getScore() {\n",
    "    int pointTotal = 0; \n",
    "    if (levelOne.goalReached()) {\n",
    "        pointTotal += levelOne.getPoints();\n",
    "\n",
    "        if (levelTwo.goalReached()) {\n",
    "            pointTotal += levelTwo.getPoints();\n",
    "\n",
    "            if (levelThree.goalReached()) {\n",
    "                pointTotal += levelThree.getPoints();\n",
    "            }\n",
    "        }\n",
    "    }\n",
    "\n",
    "    if (isBonus()) {\n",
    "        pointTotal *= 3;\n",
    "    }\n",
    "\n",
    "    return pointTotal;\n",
    "}"
   ]
  },
  {
   "cell_type": "markdown",
   "metadata": {},
   "source": [
    "Questions: \n",
    "\n",
    "* Why are objects not defined to call goalReached and getPoints?\n",
    "\n",
    "\n",
    "After some researching, I learned from this [video](https://www.youtube.com/watch?v=rXvEx9zPsRg) that if methods are in the same class (isBonus and getScore are in the same class), an object does not need to be created to call the method. "
   ]
  },
  {
   "cell_type": "markdown",
   "metadata": {},
   "source": [
    "# #1b"
   ]
  },
  {
   "cell_type": "code",
   "execution_count": null,
   "metadata": {
    "vscode": {
     "languageId": "java"
    }
   },
   "outputs": [],
   "source": [
    "public int playManyTimes(int num) {\n",
    "    int scores[];\n",
    "    int maxScore = 0;\n",
    "    for (int i = 0; i < num; i++) {\n",
    "        play(); \n",
    "        scores[i] = getScore();\n",
    "    }\n",
    "\n",
    "    for (int i = 0; i < num; i++) {\n",
    "        if (scores[i] > maxScore) {\n",
    "            maxScore = scores[i];\n",
    "        }\n",
    "    }\n",
    "\n",
    "    return maxScore;\n",
    "}"
   ]
  },
  {
   "cell_type": "markdown",
   "metadata": {},
   "source": [
    "An array wasn't needed. All you had to do was compare the scores within the for loop like this:"
   ]
  },
  {
   "cell_type": "code",
   "execution_count": null,
   "metadata": {
    "vscode": {
     "languageId": "java"
    }
   },
   "outputs": [],
   "source": [
    "public int playManyTimes(int num) {\n",
    "    int maxScore = 0;\n",
    "    int score = 0;\n",
    "    for (int i = 0; i < num; i++) {\n",
    "        play(); \n",
    "        score = getScore();\n",
    "        if (score > maxScore) {\n",
    "            maxScore = score;\n",
    "        }\n",
    "    }\n",
    "\n",
    "    return maxScore;\n",
    "}"
   ]
  },
  {
   "cell_type": "markdown",
   "metadata": {},
   "source": [
    "<br>\n",
    "\n",
    "# 2016 #1a"
   ]
  },
  {
   "cell_type": "markdown",
   "metadata": {},
   "source": [
    "## Initial thoughts: \n",
    "\n",
    "When I first read the question, I did not know where to start, so I looked at part of the answers to guide me on what to learn. \n",
    "\n",
    "Looking at this, \n",
    "\n",
    "![](my_icons/w4_FRQ-answerCode.jpg)\n",
    "\n",
    "I was confused as to what `List<String>` was, so I googled it.\n",
    "\n",
    "I learned that `List<String>` is used to make an object that can store the array list. For instance, `List<String> list = new ArrayList<String>();`\n",
    "\n",
    "I also saw how an array list can also be created with `ArrayList<String>`. The difference between `ArrayList<String>` and `List<String>` is that with `List<String>`, you can typecast the array list into a different type of list; however, you can't do that with `ArrayList<String>`. \n",
    "\n",
    "The code below is what I got started with before I became stuck again. \n"
   ]
  },
  {
   "cell_type": "code",
   "execution_count": null,
   "metadata": {
    "vscode": {
     "languageId": "java"
    }
   },
   "outputs": [],
   "source": [
    "public class RandomStringChooser {\n",
    "    private List<String> words;\n",
    "    public RandomStringChooser(String[] wordArray) {\n",
    "        words = new ArrayList<String>();\n",
    "    }\n",
    "}"
   ]
  },
  {
   "cell_type": "markdown",
   "metadata": {},
   "source": [
    "Once again not knowing how to proceed, I took a look at the answers and came upon this: \n",
    "\n",
    "![](my_icons/w4_FRQ-answerCode2.jpg)\n",
    "\n",
    "Because I had no idea what the syntax meant, I hopped onto Google and did some searching. \n",
    "\n",
    "So, `for (String singleWord : wordArray)` is an example of a `for-each` loop. A `for-each` loop allows you to loop through the elements in an array list.\n",
    "\n",
    "Below is a simple example of a `for-each` loop:"
   ]
  },
  {
   "cell_type": "code",
   "execution_count": 11,
   "metadata": {
    "vscode": {
     "languageId": "java"
    }
   },
   "outputs": [
    {
     "name": "stdout",
     "output_type": "stream",
     "text": [
      "apple\n",
      "pineapple\n",
      "mango\n"
     ]
    }
   ],
   "source": [
    "public class ForEachDemo {\n",
    "    public static void main(String[] args) {\n",
    "        List<String> fruits = new ArrayList<String>(Arrays.asList(\"apple\", \"pineapple\", \"mango\"));\n",
    "\n",
    "        for (String i : fruits) {\n",
    "            System.out.println(i);\n",
    "        }\n",
    "    }\n",
    "}\n",
    "ForEachDemo.main(null);"
   ]
  },
  {
   "cell_type": "markdown",
   "metadata": {},
   "source": [
    "This essentially creates is the same as using a regular for loop, and printing out each index in the array list using `.get`. `.get` returns the element specified in the index number."
   ]
  },
  {
   "cell_type": "code",
   "execution_count": 13,
   "metadata": {
    "vscode": {
     "languageId": "java"
    }
   },
   "outputs": [
    {
     "name": "stdout",
     "output_type": "stream",
     "text": [
      "apple\n",
      "pineapple\n",
      "mango\n"
     ]
    }
   ],
   "source": [
    "public class GetDemo {\n",
    "    public static void main(String[] args) {\n",
    "        List<String> fruits = new ArrayList<String>(Arrays.asList(\"apple\", \"pineapple\", \"mango\"));\n",
    "\n",
    "        // same as: \n",
    "        // for (String i : fruits) {\n",
    "            // System.out.println(i);\n",
    "        // }\n",
    "        for (int i = 0; i < fruits.size(); i++) {\n",
    "            System.out.println(fruits.get(i));\n",
    "        }\n",
    "    }\n",
    "}\n",
    "GetDemo.main(null);"
   ]
  },
  {
   "cell_type": "markdown",
   "metadata": {},
   "source": [
    "The code below is my continued attempt at answering 1a, after learning about the for-each loop."
   ]
  },
  {
   "cell_type": "code",
   "execution_count": 14,
   "metadata": {
    "vscode": {
     "languageId": "java"
    }
   },
   "outputs": [],
   "source": [
    "public class RandomStringChooser {\n",
    "    private List<String> words; // creating an object words\n",
    "    public RandomStringChooser(String[] wordArray) {\n",
    "        words = new ArrayList<String>();  // assigning words to a new array list\n",
    "\n",
    "        for (String singleWord : wordArray) {\n",
    "            // add all of the elements in wordArray to words\n",
    "            words.add(singleWord); \n",
    "        }\n",
    "\n",
    "        public String getNext() {\n",
    "            return words.remove((int)(Math.random() * words.size())); \n",
    "        }\n",
    "\n",
    "\n",
    "\n",
    "    }\n",
    "}"
   ]
  },
  {
   "cell_type": "markdown",
   "metadata": {},
   "source": [
    "This was close, but I forgot that `NONE` should be the output once all of the elements in the array list have been used. The correct answer is:"
   ]
  },
  {
   "cell_type": "code",
   "execution_count": null,
   "metadata": {
    "vscode": {
     "languageId": "java"
    }
   },
   "outputs": [],
   "source": [
    "public class RandomStringChooser {\n",
    "    private List<String> words; // creating an object words\n",
    "    public RandomStringChooser(String[] wordArray) {\n",
    "        words = new ArrayList<String>();  // assigning words to a new array list\n",
    "\n",
    "        for (String singleWord : wordArray) {\n",
    "            // add all of the elements in wordArray to words\n",
    "            words.add(singleWord); \n",
    "        }\n",
    "\n",
    "        public String getNext() {\n",
    "            // forgot to write an if statement\n",
    "            if (words.size() > 0) {\n",
    "                return words.remove((int)(Math.random() * words.size())); \n",
    "            }\n",
    "            return \"NONE\";\n",
    "        }\n",
    "\n",
    "\n",
    "\n",
    "    }\n",
    "}"
   ]
  },
  {
   "cell_type": "markdown",
   "metadata": {},
   "source": [
    "## Concluding thoughts\n",
    "\n",
    "This question was hard mainly because I had no idea what an array list was prior to doing this question. Although I looked at the answer key a few times, I researched all of the code that I did not understand to help me learn what an array list was, how to create it, and how to use iteration with array lists. "
   ]
  },
  {
   "cell_type": "markdown",
   "metadata": {},
   "source": [
    "<br> \n",
    "\n",
    "# 1b"
   ]
  },
  {
   "cell_type": "markdown",
   "metadata": {},
   "source": [
    "Explanation: \n",
    "\n",
    "If I'm understanding correctly, when the object `letterChooser` is created, the `RandomLetterChooser` constructor will run. Since we want to create an array of strings, we would use the `super` keyword to call the `getSingleLetters` method, which will split the word into an array of strings. Then, `System.out.print(letterChooser.getNext());` is ran, which will call the superclass's constructor and then run the `getNext` method. This will randomly output the characters.\n",
    "\n",
    "The code below matched the answer key.\n",
    "\n",
    "However, one thing that I wondered as I was examining the answer was, why was there no `super()` in `RandomLetterChooser`, which would call the superclass (RandomStringChooser). The answer, after some googling, told me that even if you don't type `super()`, the superclass will still implicitly be called. "
   ]
  },
  {
   "cell_type": "code",
   "execution_count": null,
   "metadata": {
    "vscode": {
     "languageId": "java"
    }
   },
   "outputs": [],
   "source": [
    "public RandomLetterChooser(String str) {\n",
    "    super(getSingleLetters(str));\n",
    "}"
   ]
  }
 ],
 "metadata": {
  "kernelspec": {
   "display_name": "Java",
   "language": "java",
   "name": "java"
  },
  "language_info": {
   "codemirror_mode": "java",
   "file_extension": ".jshell",
   "mimetype": "text/x-java-source",
   "name": "Java",
   "pygments_lexer": "java",
   "version": "11.0.16+8-post-Ubuntu-0ubuntu120.04"
  },
  "orig_nbformat": 4
 },
 "nbformat": 4,
 "nbformat_minor": 2
}
