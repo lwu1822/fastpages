{
 "cells": [
  {
   "cell_type": "markdown",
   "metadata": {},
   "source": [
    "# AP FRQ\n",
    "> Completing Question 1 on the 2022 AP CSA FRQ\n",
    "\n",
    "- toc: true \n",
    "- badges: true\n",
    "- comments: true\n",
    "- categories: [ap_test_prep]\n",
    "- tags: [\"CSA\"]"
   ]
  },
  {
   "cell_type": "markdown",
   "metadata": {},
   "source": [
    "# #1a"
   ]
  },
  {
   "cell_type": "markdown",
   "metadata": {},
   "source": [
    " First attempt:"
   ]
  },
  {
   "cell_type": "code",
   "execution_count": null,
   "metadata": {},
   "outputs": [],
   "source": [
    "public int getScore() {\n",
    "    Level goal = new Level();\n",
    "    Level points = new Level(); \n",
    "    int pointTotal = 0; \n",
    "    if (goal.goalReached()) {\n",
    "        pointTotal = points.getPoints();\n",
    "    }\n",
    "}"
   ]
  },
  {
   "cell_type": "markdown",
   "metadata": {},
   "source": [
    "I got stuck at the point above, so I looked at part of the answers. Here is my attempt afterwards:"
   ]
  },
  {
   "cell_type": "code",
   "execution_count": null,
   "metadata": {},
   "outputs": [],
   "source": [
    "public int getScore() {\n",
    "    int pointTotal = 0; \n",
    "    if (levelOne.goalReached()) {\n",
    "        pointTotal += levelOne.getPoints();\n",
    "\n",
    "        if (levelTwo.goalReached()) {\n",
    "            pointTotal += levelTwo.getPoints();\n",
    "\n",
    "            if (levelThree.goalReached()) {\n",
    "                pointTotal += levelThree.getPoints();\n",
    "            }\n",
    "        }\n",
    "    }\n",
    "\n",
    "    if (isBonus()) {\n",
    "        pointTotal *= 3;\n",
    "    }\n",
    "\n",
    "    return pointTotal;\n",
    "}"
   ]
  },
  {
   "cell_type": "markdown",
   "metadata": {},
   "source": [
    "Questions: \n",
    "\n",
    "* Why are objects not defined to call goalReached and getPoints?\n",
    "\n",
    "After some researching, I learned from this [video](https://www.youtube.com/watch?v=rXvEx9zPsRg) that if methods are in the same class (isBonus and getScore are in the same class), an object does not need to be created to call the method. "
   ]
  },
  {
   "cell_type": "markdown",
   "metadata": {},
   "source": [
    "# #1b"
   ]
  },
  {
   "cell_type": "code",
   "execution_count": null,
   "metadata": {},
   "outputs": [],
   "source": [
    "public int playManyTimes(int num) {\n",
    "    int scores[];\n",
    "    int maxScore = 0;\n",
    "    for (int i = 0; i < num; i++) {\n",
    "        play(); \n",
    "        scores[i] = getScore();\n",
    "    }\n",
    "\n",
    "    for (int i = 0; i < num; i++) {\n",
    "        if (scores[i] > maxScore) {\n",
    "            maxScore = scores[i];\n",
    "        }\n",
    "    }\n",
    "\n",
    "    return maxScore;\n",
    "}"
   ]
  },
  {
   "cell_type": "markdown",
   "metadata": {},
   "source": [
    "An array wasn't needed. All you had to do was compare the scores within the for loop like this:"
   ]
  },
  {
   "cell_type": "code",
   "execution_count": null,
   "metadata": {},
   "outputs": [],
   "source": [
    "public int playManyTimes(int num) {\n",
    "    int maxScore = 0;\n",
    "    int score = 0;\n",
    "    for (int i = 0; i < num; i++) {\n",
    "        play(); \n",
    "        score = getScore();\n",
    "        if (score > maxScore) {\n",
    "            maxScore = score;\n",
    "        }\n",
    "    }\n",
    "\n",
    "    return maxScore;\n",
    "}"
   ]
  }
 ],
 "metadata": {
  "kernelspec": {
   "display_name": "Java",
   "language": "java",
   "name": "java"
  },
  "language_info": {
   "name": "java"
  },
  "orig_nbformat": 4
 },
 "nbformat": 4,
 "nbformat_minor": 2
}
