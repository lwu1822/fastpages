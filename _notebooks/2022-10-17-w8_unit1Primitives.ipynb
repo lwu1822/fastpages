{
 "cells": [
  {
   "cell_type": "markdown",
   "metadata": {},
   "source": [
    "# Unit 1 Primitives\n",
    "> Homework for Unit 1&#58; Primitives \n",
    "\n",
    "- toc: true \n",
    "- badges: true\n",
    "- comments: true"
   ]
  },
  {
   "cell_type": "markdown",
   "metadata": {},
   "source": [
    "*Note: Credit to Period 1's Primitives presentation for the information below*\n",
    "\n",
    "# What are primitives? \n",
    "\n",
    "Primitives include certain data types, such as integer, doubles, booleans, char, float, and long. Primitive names typically start with a lowercase letter, and if needed, subsequent words start with an uppercase letter. \n",
    "\n",
    "To switch between primitive data types, <mark>casting</mark> can be used. \n",
    "\n",
    "There are 5 types of operators: `+=`, `-=`, `*=`, `/=`, and `%=` and an increment and decrement operator: `++` and `--`. \n",
    "\n",
    "## Scanners\n",
    "To take in input in java, the Scanner class needs to be first imported with `import java.util.Scanner;`. Next, a scanner object can be created with <code>Scanner <em>object name</em> = new Scanner(System.in)</code>. To take in input, specify the data type that the scanner takes in with <code>scanner.next<em>data type</em></code>"
   ]
  },
  {
   "cell_type": "code",
   "execution_count": null,
   "metadata": {},
   "outputs": [],
   "source": []
  }
 ],
 "metadata": {
  "kernelspec": {
   "display_name": "Java",
   "language": "java",
   "name": "java"
  },
  "language_info": {
   "name": "java",
   "version": "3.8.10"
  },
  "orig_nbformat": 4,
  "vscode": {
   "interpreter": {
    "hash": "916dbcbb3f70747c44a77c7bcd40155683ae19c65e1c03b4aa3499c5328201f1"
   }
  }
 },
 "nbformat": 4,
 "nbformat_minor": 2
}
