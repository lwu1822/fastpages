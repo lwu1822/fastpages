{
 "cells": [
  {
   "cell_type": "markdown",
   "metadata": {},
   "source": [
    "# Unit 4 Iteration\n",
    "> Homework for Unit 4&#58; Iteration\n",
    "\n",
    "- toc: true \n",
    "- badges: true\n",
    "- comments: true"
   ]
  },
  {
   "cell_type": "code",
   "execution_count": 11,
   "metadata": {
    "vscode": {
     "languageId": "java"
    }
   },
   "outputs": [
    {
     "name": "stdout",
     "output_type": "stream",
     "text": [
      "Nice job!\n",
      "code code code\n",
      "supercalifragilisticexpialidocious\n"
     ]
    }
   ],
   "source": [
    "public class CaesarCipher {\n",
    "\n",
    "    String[] letters = {\"a\", \"b\", \"c\", \"d\", \"e\", \"f\", \"g\", \"h\", \"i\", \"j\", \"k\", \"l\", \"m\", \"n\", \"o\", \"p\", \"q\", \"r\", \"s\", \"t\", \"u\", \"v\", \"w\", \"x\", \"y\", \"z\"};\n",
    "    String[] capitalLetters = {\"A\", \"B\", \"C\", \"D\", \"E\", \"F\", \"G\", \"H\", \"I\", \"J\", \"K\", \"L\", \"M\", \"N\", \"O\", \"P\", \"Q\", \"R\", \"S\", \"T\", \"U\", \"V\", \"W\", \"X\", \"Y\", \"Z\"};\n",
    "    \n",
    "    static String message1 = \"Kfzb gly!\"; \n",
    "    static String message2 = \"zlab zlab zlab\";\n",
    "    static String message3 = \"prmbozxifcoxdfifpqfzbumfxifalzflrp\";\n",
    "\n",
    "    String letterIndividual = \"\";\n",
    "\n",
    "\n",
    "    public CaesarCipher(String msg) {\n",
    "        for (int i = 0; i < msg.length(); i++) {\n",
    "            letterIndividual = msg.substring(i, i+1);\n",
    "\n",
    "\n",
    "            if (letterIndividual.equals(\" \")) {\n",
    "                System.out.print(\" \"); \n",
    "            }\n",
    "\n",
    "            if (letterIndividual.equals(\"!\")) {\n",
    "                System.out.print(\"!\"); \n",
    "            }\n",
    "\n",
    "            for (int j = 0; j < letters.length; j++) {\n",
    "                if (letterIndividual.equals(letters[j])) {\n",
    "                    System.out.print(letters[(j+3)%26]); \n",
    "                }\n",
    "\n",
    "                if (letterIndividual.equals(capitalLetters[j])) {\n",
    "                    System.out.print(capitalLetters[(j+3)%26]); \n",
    "                }\n",
    "                \n",
    "                \n",
    "            }\n",
    "        }\n",
    "        System.out.println(\"\"); \n",
    "    }\n",
    "\n",
    "    public static void main(String[] args) {\n",
    "        CaesarCipher decode = new CaesarCipher(message1); \n",
    "        CaesarCipher decode2 = new CaesarCipher(message2); \n",
    "        CaesarCipher decode3 = new CaesarCipher(message3); \n",
    "\n",
    "    }\n",
    "}\n",
    "CaesarCipher.main(null)"
   ]
  }
 ],
 "metadata": {
  "kernelspec": {
   "display_name": "Java",
   "language": "java",
   "name": "java"
  },
  "language_info": {
   "codemirror_mode": "java",
   "file_extension": ".jshell",
   "mimetype": "text/x-java-source",
   "name": "Java",
   "pygments_lexer": "java",
   "version": "11.0.16+8-post-Ubuntu-0ubuntu120.04"
  },
  "orig_nbformat": 4
 },
 "nbformat": 4,
 "nbformat_minor": 2
}
