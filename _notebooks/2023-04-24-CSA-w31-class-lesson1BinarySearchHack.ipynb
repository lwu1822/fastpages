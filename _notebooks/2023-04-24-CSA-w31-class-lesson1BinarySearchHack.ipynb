{
 "cells": [
  {
   "attachments": {},
   "cell_type": "markdown",
   "metadata": {},
   "source": [
    "# Binary Search Hacks\n",
    "> Binary search hacks"
   ]
  },
  {
   "cell_type": "code",
   "execution_count": 5,
   "metadata": {
    "vscode": {
     "languageId": "java"
    }
   },
   "outputs": [
    {
     "name": "stdout",
     "output_type": "stream",
     "text": [
      "6\n"
     ]
    }
   ],
   "source": [
    "public class BinarySearch {\n",
    "    public static int index = 0;\n",
    "\n",
    "    public static void binarySearch(int arr[], int low, int high, int search) {\n",
    "        int mid = (low + high) / 2;\n",
    "\n",
    "        if (arr[mid] < search) {\n",
    "            binarySearch(arr, mid + 1, high, search);\n",
    "        } else if (arr[mid] > search) {\n",
    "            binarySearch(arr, low, mid - 1, search);\n",
    "        } else {\n",
    "            index = mid;\n",
    "        }\n",
    "    }\n",
    "\n",
    "   \n",
    "\n",
    "    public static void main(String[] args) {\n",
    "        int[] array = {1, 3, 5, 7, 9, 23, 45, 67};\n",
    "        binarySearch(array, 0, array.length - 1, 45);\n",
    "        System.out.println(index);\n",
    "    }\n",
    "}\n",
    "BinarySearch.main(null)"
   ]
  }
 ],
 "metadata": {
  "kernelspec": {
   "display_name": "Java",
   "language": "java",
   "name": "java"
  },
  "language_info": {
   "codemirror_mode": "java",
   "file_extension": ".jshell",
   "mimetype": "text/x-java-source",
   "name": "Java",
   "pygments_lexer": "java",
   "version": "17.0.5+8-Ubuntu-2ubuntu120.04"
  },
  "orig_nbformat": 4
 },
 "nbformat": 4,
 "nbformat_minor": 2
}
