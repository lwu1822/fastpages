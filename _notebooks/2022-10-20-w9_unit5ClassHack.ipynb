{
 "cells": [
  {
   "cell_type": "markdown",
   "metadata": {},
   "source": [
    "# Unit 5 Writing Classes Hacks (Work In Progress)\n",
    "\n",
    "- toc: true \n",
    "- badges: true\n",
    "- comments: true"
   ]
  },
  {
   "cell_type": "code",
   "execution_count": 6,
   "metadata": {},
   "outputs": [
    {
     "name": "stdout",
     "output_type": "stream",
     "text": [
      "a\n"
     ]
    }
   ],
   "source": [
    "public class Cow {\n",
    "\n",
    "    private String cowType;\n",
    "    private String sound;\n",
    "    private int numMilkings;\n",
    "\n",
    "    public Cow(){\n",
    "        this.numMilkings = 0;\n",
    "        this.cowType = null;\n",
    "        this.sound = null;\n",
    "    }\n",
    "\n",
    "    public Cow (String cowType, String sound) {\n",
    "        this.numMilkings = 0;\n",
    "        this.cowType = cowType;\n",
    "        this.sound = sound;\n",
    "    }\n",
    "\n",
    "    public Cow(String cowType, String sound, int numMilikings) {\n",
    "        this.numMilkings = numMilikings;\n",
    "        this.cowType = cowType;\n",
    "        this.sound = sound;\n",
    "    }\n",
    "\n",
    "    \n",
    "\n",
    "    public void setcowType(String cowType) {\n",
    "        this.cowType = cowType; \n",
    "    }\n",
    "\n",
    "    public String getcowType() {\n",
    "        return cowType; \n",
    "    }\n",
    "\n",
    "    public void toString() {\n",
    "\n",
    "    }\n",
    "\n",
    "    public static void main(String[] args) {\n",
    "        Cow firstCow = new Cow(\"holstein\", \"moo\");\n",
    "        Cow secondCow = new Cow();\n",
    "        Cow thirdCow = new Cow(\"holstein\", \"moo\", 100);\n",
    "        firstCow.setcowType(\"a\"); \n",
    "        firstCow.getcowType(); \n",
    "        System.out.println(firstCow.getcowType());\n",
    "    }\n",
    "}\n",
    "Cow.main(null)"
   ]
  }
 ],
 "metadata": {
  "kernelspec": {
   "display_name": "Java",
   "language": "java",
   "name": "java"
  },
  "language_info": {
   "codemirror_mode": "java",
   "file_extension": ".jshell",
   "mimetype": "text/x-java-source",
   "name": "java",
   "pygments_lexer": "java",
   "version": "11.0.16+8-post-Ubuntu-0ubuntu120.04"
  },
  "orig_nbformat": 4
 },
 "nbformat": 4,
 "nbformat_minor": 2
}
