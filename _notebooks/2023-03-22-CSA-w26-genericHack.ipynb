{
 "cells": [
  {
   "attachments": {},
   "cell_type": "markdown",
   "metadata": {},
   "source": [
    "# Generics Hacks\n",
    "> Generics Hacks"
   ]
  },
  {
   "cell_type": "code",
   "execution_count": 5,
   "metadata": {
    "vscode": {
     "languageId": "java"
    }
   },
   "outputs": [
    {
     "name": "stdout",
     "output_type": "stream",
     "text": [
      "[John, Jane, Bob]\n",
      "[Jane, Bob]\n"
     ]
    }
   ],
   "source": [
    "Queue<String> queue = new LinkedList<>();  // Queue interface uses LL implementation\n",
    "queue.add(\"John\");\n",
    "queue.add(\"Jane\");\n",
    "queue.add(\"Bob\");\n",
    "\n",
    "System.out.println(queue);\n",
    "\n",
    "queue.remove();\n",
    "System.out.println(queue); "
   ]
  },
  {
   "cell_type": "code",
   "execution_count": 11,
   "metadata": {
    "vscode": {
     "languageId": "java"
    }
   },
   "outputs": [
    {
     "ename": "UnresolvedReferenceException",
     "evalue": "Attempt to use definition snippet with unresolved references in Snippet:ClassKey(Test)#40-public class Test {\n    public String foo;\n    public String bar; \n\n    public Test(String foo, String bar) {\n        this.foo = foo; \n        this.bar = bar;\n    }\n\n    public static void main(String[] args) {\n        System.out.println(\"hi\"); \n        Test a = new Test(\"a\", \"b\"); \n        System.out.println(a.size);\n    }\n}",
     "output_type": "error",
     "traceback": [
      "\u001b[1m\u001b[30m|   \u001b[1m\u001b[30mpublic class Test {\u001b[0m",
      "\u001b[1m\u001b[30m|   \u001b[1m\u001b[30m    public String foo;\u001b[0m",
      "\u001b[1m\u001b[30m|   \u001b[1m\u001b[30m    public String bar; \u001b[0m",
      "\u001b[1m\u001b[30m|   \u001b[1m\u001b[30m\u001b[0m",
      "\u001b[1m\u001b[30m|   \u001b[1m\u001b[30m    public Test(String foo, String bar) {\u001b[0m",
      "\u001b[1m\u001b[30m|   \u001b[1m\u001b[30m        this.foo = foo; \u001b[0m",
      "\u001b[1m\u001b[30m|   \u001b[1m\u001b[30m        this.bar = bar;\u001b[0m",
      "\u001b[1m\u001b[30m|   \u001b[1m\u001b[30m    }\u001b[0m",
      "\u001b[1m\u001b[30m|   \u001b[1m\u001b[30m\u001b[0m",
      "\u001b[1m\u001b[30m|   \u001b[1m\u001b[30m    public static void main(String[] args) {\u001b[0m",
      "\u001b[1m\u001b[30m|   \u001b[1m\u001b[30m        System.out.println(\"hi\"); \u001b[0m",
      "\u001b[1m\u001b[30m|   \u001b[1m\u001b[30m        Test a = new Test(\"a\", \"b\"); \u001b[0m",
      "\u001b[1m\u001b[30m|   \u001b[1m\u001b[30m        System.out.println(a.size);\u001b[0m",
      "\u001b[1m\u001b[30m|   \u001b[1m\u001b[30m    }\u001b[0m",
      "\u001b[1m\u001b[30m|   \u001b[1m\u001b[30m}\u001b[0m",
      "\u001b[1m\u001b[31mUnresolved dependencies:\u001b[0m",
      "\u001b[1m\u001b[31m   - variable size\u001b[0m"
     ]
    }
   ],
   "source": [
    "public class Test {\n",
    "    public String foo;\n",
    "    public String bar; \n",
    "\n",
    "    public Test(String foo, String bar) {\n",
    "        this.foo = foo; \n",
    "        this.bar = bar;\n",
    "    }\n",
    "\n",
    "    public static void main(String[] args) {\n",
    "        System.out.println(\"hi\"); \n",
    "        Test a = new Test(\"a\", \"b\"); \n",
    "        System.out.println(a.size);\n",
    "    }\n",
    "}\n",
    "Test.main(null)"
   ]
  },
  {
   "cell_type": "code",
   "execution_count": 12,
   "metadata": {
    "vscode": {
     "languageId": "java"
    }
   },
   "outputs": [
    {
     "name": "stdout",
     "output_type": "stream",
     "text": [
      "F\n"
     ]
    }
   ],
   "source": [
    "System.out.println((char)('A' + 5));"
   ]
  }
 ],
 "metadata": {
  "kernelspec": {
   "display_name": "Java",
   "language": "java",
   "name": "java"
  },
  "language_info": {
   "codemirror_mode": "java",
   "file_extension": ".jshell",
   "mimetype": "text/x-java-source",
   "name": "Java",
   "pygments_lexer": "java",
   "version": "17.0.5+8-Ubuntu-2ubuntu120.04"
  },
  "orig_nbformat": 4
 },
 "nbformat": 4,
 "nbformat_minor": 2
}
