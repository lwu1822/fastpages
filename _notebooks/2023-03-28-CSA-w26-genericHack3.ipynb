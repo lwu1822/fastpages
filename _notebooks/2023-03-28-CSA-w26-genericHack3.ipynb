{
 "cells": [
  {
   "attachments": {},
   "cell_type": "markdown",
   "metadata": {},
   "source": [
    "# Generic Hacks\n",
    "> Generic Hacks"
   ]
  },
  {
   "cell_type": "code",
   "execution_count": 31,
   "metadata": {
    "vscode": {
     "languageId": "java"
    }
   },
   "outputs": [
    {
     "name": "stdout",
     "output_type": "stream",
     "text": [
      "[CSA, CSP]\n",
      "Stack: [CSA, CSP]\n"
     ]
    }
   ],
   "source": [
    "\n",
    "\n",
    "import java.util.LinkedList; \n",
    "\n",
    "public class LL <T> {\n",
    "\n",
    "    public LinkedList<T> classes = new LinkedList<T>(); \n",
    "    public Stack<T> stacks = new Stack<>(); \n",
    "\n",
    "    public LL(T[] classes) {\n",
    "        makeList(classes);\n",
    "    }\n",
    "\n",
    "    public LinkedList<T> makeList(T[] classes) {\n",
    "        for (T data : classes) {\n",
    "            this.classes.add(data); \n",
    "        }\n",
    "        return this.classes; \n",
    "    }\n",
    "\n",
    "    public LinkedList<T> getClasses() {\n",
    "        return this.classes; \n",
    "    }\n",
    "\n",
    " \n",
    "\n",
    "    public void makeStack(LinkedList<T> classes) {\n",
    "        \n",
    "        //System.out.println(classes.remove());\n",
    "        stacks.push(classes.remove());\n",
    "        stacks.push(classes.remove());\n",
    "        System.out.println(\"Stack: \" + stacks); \n",
    "    }\n",
    "\n",
    "\n",
    "    public static void main(String[] args) {\n",
    "        String[] myClass = new String[]{\"CSA\", \"CSP\"};\n",
    "        LL<String> classReview = new LL<>(myClass); \n",
    "        System.out.println(classReview.getClasses());\n",
    "        LinkedList<String> classLL = classReview.getClasses();\n",
    "        classReview.makeStack(classLL); \n",
    "    }\n",
    "}\n",
    "LL.main(null)"
   ]
  },
  {
   "cell_type": "code",
   "execution_count": 10,
   "metadata": {
    "vscode": {
     "languageId": "java"
    }
   },
   "outputs": [
    {
     "name": "stdout",
     "output_type": "stream",
     "text": [
      "[CSA, CSP, Stats, APUSH, APEL]\n"
     ]
    }
   ],
   "source": [
    "\n",
    "import java.util.LinkedList; \n",
    "\n",
    "public class LL {\n",
    "\n",
    "    public LinkedList<String> classes = new LinkedList<String>(); \n",
    "    public Stack<String> classesStack = new Stack<>(); \n",
    "\n",
    "    public LL() {\n",
    "        makeList();\n",
    "    }\n",
    "\n",
    "    public LinkedList<String> makeList() {\n",
    "        classes.add(\"CSA\");\n",
    "        classes.add(\"CSP\");\n",
    "        classes.add(\"Stats\");\n",
    "        classes.add(\"APUSH\");\n",
    "        classes.add(\"APEL\");\n",
    "        return classes; \n",
    "    }\n",
    "\n",
    "    public LinkedList<String> getClasses() {\n",
    "        return this.classes; \n",
    "    }\n",
    "\n",
    "\n",
    "    public static void main(String[] args) {\n",
    "        LL classReview = new LL(); \n",
    "        System.out.println(classReview.getClasses());\n",
    "    }\n",
    "}\n",
    "LL.main(null)"
   ]
  }
 ],
 "metadata": {
  "kernelspec": {
   "display_name": "Java",
   "language": "java",
   "name": "java"
  },
  "language_info": {
   "codemirror_mode": "java",
   "file_extension": ".jshell",
   "mimetype": "text/x-java-source",
   "name": "Java",
   "pygments_lexer": "java",
   "version": "17.0.5+8-Ubuntu-2ubuntu120.04"
  },
  "orig_nbformat": 4
 },
 "nbformat": 4,
 "nbformat_minor": 2
}
