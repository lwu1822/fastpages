{
 "cells": [
  {
   "cell_type": "markdown",
   "metadata": {},
   "source": [
    "# Unit 6 Array\n",
    "> Homework for Unit 6&#58; Array\n",
    "\n",
    "- toc: true \n",
    "- badges: true\n",
    "- comments: true"
   ]
  },
  {
   "attachments": {},
   "cell_type": "markdown",
   "metadata": {},
   "source": [
    "# Notes \n",
    "\n",
    "Arrays store one data type and has a fixed size. \n",
    "\n",
    "The syntax to create an array is: <code><em>data type</em>[] <em>name</em> = new <em>data type</em>[num]</code>. This creates an array with constructors. \n",
    "\n",
    "The other way to create an array is to **pre-initialize** it. To do this, type <code><em>data type</em>[] <em>name</em> = {<em>elements</em>}</code>. \n",
    "\n",
    "The element of arrays can be accessed through the index.\n",
    "\n",
    "## Errors\n",
    "\n",
    "`ArrayIndexOutOfBoundsException`: Arrays can be iterated through loops. If the loop accesses an index that the array does not have, this error can occur. An example is listed below: "
   ]
  },
  {
   "cell_type": "code",
   "execution_count": 5,
   "metadata": {
    "vscode": {
     "languageId": "java"
    }
   },
   "outputs": [
    {
     "name": "stdout",
     "output_type": "stream",
     "text": [
      "1\n",
      "2\n",
      "3\n"
     ]
    },
    {
     "ename": "EvalException",
     "evalue": "Index 3 out of bounds for length 3",
     "output_type": "error",
     "traceback": [
      "\u001b[1m\u001b[31m---------------------------------------------------------------------------\u001b[0m",
      "\u001b[1m\u001b[31mjava.lang.ArrayIndexOutOfBoundsException: Index 3 out of bounds for length 3\u001b[0m",
      "\u001b[1m\u001b[31m\tat .(#17:4)\u001b[0m"
     ]
    }
   ],
   "source": [
    "int[] numbers = {1, 2, 3}; \n",
    "\n",
    "for (int i = 0; i <= numbers.length; i++) { // uh-oh\n",
    "    System.out.println(numbers[i]); \n",
    "}"
   ]
  },
  {
   "attachments": {},
   "cell_type": "markdown",
   "metadata": {},
   "source": [
    "In the example above, the code failed because the for loop iterates from i = 0 to i = 3. The array does not contain an element at index 3. Therefore, the code needs to be altered below: "
   ]
  },
  {
   "cell_type": "code",
   "execution_count": 6,
   "metadata": {
    "vscode": {
     "languageId": "java"
    }
   },
   "outputs": [
    {
     "name": "stdout",
     "output_type": "stream",
     "text": [
      "1\n",
      "2\n",
      "3\n"
     ]
    }
   ],
   "source": [
    "\n",
    "int[] numbers = {1, 2, 3}; \n",
    "\n",
    "for (int i = 0; i < numbers.length; i++) { // uh-oh\n",
    "    System.out.println(numbers[i]); \n",
    "}"
   ]
  },
  {
   "attachments": {},
   "cell_type": "markdown",
   "metadata": {},
   "source": [
    "## for each loop\n",
    "\n",
    "A for each loop is especially useful to traverse through an array. An example is shown below:"
   ]
  },
  {
   "cell_type": "code",
   "execution_count": 9,
   "metadata": {
    "vscode": {
     "languageId": "java"
    }
   },
   "outputs": [
    {
     "name": "stdout",
     "output_type": "stream",
     "text": [
      "6\n"
     ]
    }
   ],
   "source": [
    "\n",
    "int[] numbers = {1, 2, 3}; \n",
    "\n",
    "int sum = 0; \n",
    "for (int num : numbers) { // uh-oh\n",
    "    sum += num; \n",
    "}\n",
    "\n",
    "System.out.println(sum); "
   ]
  },
  {
   "cell_type": "markdown",
   "metadata": {},
   "source": [
    "# #3a"
   ]
  },
  {
   "cell_type": "code",
   "execution_count": null,
   "metadata": {
    "vscode": {
     "languageId": "java"
    }
   },
   "outputs": [],
   "source": [
    "public void addMembers(String[] names, int gradYear) {\n",
    "    for (int i = 0; i < names.length; i++) {\n",
    "        memberInfo member = new MemberInfo(names[i], gradYear, true);\n",
    "        memberList.add(member);\n",
    "    }\n",
    "    \n",
    "}"
   ]
  },
  {
   "cell_type": "markdown",
   "metadata": {},
   "source": [
    "Comments:\n",
    "\n",
    "My solution matched up with the official solutions. Something that I could have used though, would be the for each loop to iterate through each element in the array. "
   ]
  },
  {
   "cell_type": "code",
   "execution_count": null,
   "metadata": {
    "vscode": {
     "languageId": "java"
    }
   },
   "outputs": [],
   "source": [
    "public void addMembers(String[] names, int gradYear) {\n",
    "    for (String n : names) {\n",
    "        memberInfo member = new MemberInfo(n, gradYear, true);\n",
    "        memberList.add(member);\n",
    "    }\n",
    "    \n",
    "}"
   ]
  },
  {
   "cell_type": "markdown",
   "metadata": {},
   "source": [
    "<br>\n",
    "\n",
    "# Hacks\n",
    "\n",
    "## Hack 1"
   ]
  },
  {
   "cell_type": "code",
   "execution_count": null,
   "metadata": {
    "vscode": {
     "languageId": "java"
    }
   },
   "outputs": [],
   "source": [
    "\n",
    "int[] arrayOne = {1, 3, 5, 7, 9};\n",
    "\n",
    "for (int i = 0; i < arrayOne.length(); i+=2) {\n",
    "    System.out.println(arrayOne[i]);\n",
    "}\n",
    "\n"
   ]
  },
  {
   "cell_type": "markdown",
   "metadata": {},
   "source": [
    "## Hack 2 \n",
    "\n",
    "B"
   ]
  }
 ],
 "metadata": {
  "kernelspec": {
   "display_name": "Java",
   "language": "java",
   "name": "java"
  },
  "language_info": {
   "codemirror_mode": "java",
   "file_extension": ".jshell",
   "mimetype": "text/x-java-source",
   "name": "Java",
   "pygments_lexer": "java",
   "version": "17.0.5+8-Ubuntu-2ubuntu120.04"
  },
  "orig_nbformat": 4,
  "vscode": {
   "interpreter": {
    "hash": "916dbcbb3f70747c44a77c7bcd40155683ae19c65e1c03b4aa3499c5328201f1"
   }
  }
 },
 "nbformat": 4,
 "nbformat_minor": 2
}
