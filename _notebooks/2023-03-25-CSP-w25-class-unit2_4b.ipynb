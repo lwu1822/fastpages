{
 "cells": [
  {
   "attachments": {},
   "cell_type": "markdown",
   "metadata": {},
   "source": [
    "#  Unit 2.4b Using Programs with Data, SQL\n",
    "> Using Programs with Data is focused on SQL and database actions.  Part B focuses on learning SQL commands, connections, and curses using an Imperative programming style,\n",
    "- toc: true\n",
    "- image: /images/python.png\n",
    "- categories: []\n",
    "- type: ap\n",
    "- week: 26"
   ]
  },
  {
   "attachments": {},
   "cell_type": "markdown",
   "metadata": {},
   "source": [
    "# Database Programming is Program with Data\n",
    "> Each Tri 2 Final Project should be an example of a Program with Data. \n",
    "\n",
    ">  Prepare to use SQLite in common Imperative Technique\n",
    "- Explore [SQLite Connect object](https://www.tutorialspoint.com/python_data_access/python_sqlite_establishing_connection.htm) to establish database connection\n",
    "- Explore [SQLite Cursor Object](https://www.tutorialspoint.com/python_data_access/python_sqlite_cursor_object.htm) to fetch data from a table within a database\n"
   ]
  },
  {
   "attachments": {},
   "cell_type": "markdown",
   "metadata": {},
   "source": [
    "## Schema of Users table in Sqlite.db\n",
    "> Uses PRAGMA statement to read schema.\n",
    "\n",
    "Describe Schema, here is resource [Resource](https://www.sqlite.org/index.html)\n",
    "- What is a database schema?\n",
    "- What is the purpose of identity Column in SQL database?\n",
    "- What is the purpose of a primary key in SQL database?\n",
    "- What are the Data Types in SQL table?\n",
    "\n",
    "**Response**\n",
    "* A schema determines how data is organized in a database.\n",
    "* The identity column is a column in the table that automatically fills an integer within the column. I'm not certain about this, but the identity column is either related to a column with a primary key or is somehow used to make the primary key. \n",
    "* A primary key provides a unique number to identify each row.\n",
    "* The data types are integer, string, and date."
   ]
  },
  {
   "cell_type": "code",
   "execution_count": 1,
   "metadata": {},
   "outputs": [
    {
     "name": "stdout",
     "output_type": "stream",
     "text": [
      "(0, 'id', 'INTEGER', 1, None, 1)\n",
      "(1, '_name', 'VARCHAR(255)', 1, None, 0)\n",
      "(2, '_uid', 'VARCHAR(255)', 1, None, 0)\n",
      "(3, '_password', 'VARCHAR(255)', 1, None, 0)\n",
      "(4, '_dob', 'DATE', 0, None, 0)\n"
     ]
    }
   ],
   "source": [
    "import sqlite3\n",
    "\n",
    "database = 'instance/sqlite.db' # this is location of database\n",
    "\n",
    "def schema():\n",
    "    \n",
    "    # Connect to the database file\n",
    "    conn = sqlite3.connect(database)\n",
    "\n",
    "    # Create a cursor object to execute SQL queries\n",
    "    cursor = conn.cursor()\n",
    "    \n",
    "    # Fetch results of Schema\n",
    "    results = cursor.execute(\"PRAGMA table_info('users')\").fetchall()\n",
    "\n",
    "    # Print the results\n",
    "    for row in results:\n",
    "        print(row)\n",
    "\n",
    "    # Close the database connection\n",
    "    conn.close()\n",
    "    \n",
    "schema()\n"
   ]
  },
  {
   "attachments": {},
   "cell_type": "markdown",
   "metadata": {},
   "source": [
    "## Reading Users table in Sqlite.db\n",
    "> Uses SQL SELECT statement to read data\n",
    "\n",
    "- What is a connection object?  After you google it, what do you think it does?\n",
    "- Same for cursor object?\n",
    "- Look at conn object and cursor object in VSCode debugger.  What attributes are in the object?\n",
    "- Is \"results\" an object?  How do you know?\n",
    "\n",
    " **Response**\n",
    "    \n",
    "* A connection object establishes a connection between the SQL database and the Python code. \n",
    "* A cursor object allows execution of SQLite methods. \n",
    "* One thing I noticed when using the debugger on the conn and cursor object is that they contain function variables. These could be the methods that work with the object. For instance, the function variables of `cursor` include `execute`, `executemany`, etc., which can also be found [here](https://www.tutorialspoint.com/python_data_access/python_sqlite_cursor_object.htm).\n",
    "* No, `results` is a list. Looking at the debugger, you can see that `results` contains indexes with elements. The elements are the user objects. A quick [google search](https://stackoverflow.com/questions/51240863/python-sqlite-select-query-returning-list-instead-of-integer) also reports that the `.fetchall()` method returns table entries in the format of a list."
   ]
  },
  {
   "cell_type": "code",
   "execution_count": 2,
   "metadata": {},
   "outputs": [
    {
     "name": "stdout",
     "output_type": "stream",
     "text": [
      "(1, 'Thomas Edison', 'toby', 'sha256$as2rGNQBIy1beIzh$13e1662b25c9e05226f739b503b034c24572bc07d709c1ddad3717f76886c5dd', '1847-02-11')\n",
      "(2, 'Nikola Tesla', 'niko', 'sha256$xBmOw3KdC3kbdPlL$512245789e5e80844b8458df9d9e8aa1f7948271a2008118e461be192c527f57', '2023-03-25')\n",
      "(3, 'Alexander Graham Bell', 'lex', 'sha256$1kf841f73hR5Zyrd$e33ed3aba81e5a203ef7e1956091bee3f0ca35484c2836883b738129c4db426f', '2023-03-25')\n",
      "(4, 'Eli Whitney', 'whit', 'sha256$qCY9yr7fhIH22nw5$cb65502870f8d21d6ae72bc0a8bf2e2150255094ef47eaa2ab489172686a18cd', '2023-03-25')\n",
      "(5, 'Indiana Jones', 'indi', 'sha256$WocVg7o7fmSIVc1V$c3d4f8c99904dd62f0209e8fda4959330885f1434ab4481d4011a032227fa6b8', '1920-10-21')\n",
      "(6, 'Marion Ravenwood', 'raven', 'sha256$SCPV89620HgaMicv$db044b4ef887499f397f93967a346c75eb6dd0f2d6753d09f72c1e0e826f23c5', '1921-10-21')\n",
      "(7, 'a', 'a', 'a', '2023-03-25')\n"
     ]
    }
   ],
   "source": [
    "import sqlite3\n",
    "\n",
    "def read():\n",
    "    # Connect to the database file\n",
    "    conn = sqlite3.connect(database)\n",
    "\n",
    "    # Create a cursor object to execute SQL queries\n",
    "    cursor = conn.cursor()\n",
    "    \n",
    "    # Execute a SELECT statement to retrieve data from a table\n",
    "    results = cursor.execute('SELECT * FROM users').fetchall()\n",
    "\n",
    "    # Print the results\n",
    "    if len(results) == 0:\n",
    "        print(\"Table is empty\")\n",
    "    else:\n",
    "        for row in results:\n",
    "            print(row)\n",
    "\n",
    "    # Close the cursor and connection objects\n",
    "    cursor.close()\n",
    "    conn.close()\n",
    "    \n",
    "read()\n"
   ]
  },
  {
   "attachments": {},
   "cell_type": "markdown",
   "metadata": {},
   "source": [
    "## Create a new User in table in Sqlite.db\n",
    "> Uses SQL INSERT to add row\n",
    "-  Compore create() in both SQL lessons.  What is better or worse in the two implementations?\n",
    "-  Explain purpose of SQL INSERT.   Is this the same as User __init__?\n",
    "\n",
    "**Response**\n",
    "    \n",
    "* Both lessons create a user. In 2.4a, the create method contains `db.session.add(object)`, which adds to the database using SQLAlchemy. However, in 2.4b, sqlite3 is used, which adds entries into the database using sqlite3 commands. The advantages of 2.4a is that the code is easier to read since it is written in Python. The advantages of 2.4b is that OOP is not needed; however, you would need to learn SQL to be able to add entries intot eh database.\n",
    "* INSERT adds a row into the database. It is not the same as `__init__` because `__init__` is a constructor that initializes the variables. However, `__init__` does not add entries into the database. The `create()` method does that. On the other hand, INSERT directly adds a row into the database."
   ]
  },
  {
   "cell_type": "code",
   "execution_count": null,
   "metadata": {},
   "outputs": [],
   "source": [
    "import sqlite3\n",
    "\n",
    "def create():\n",
    "    name = input(\"Enter your name:\")\n",
    "    uid = input(\"Enter your user id:\")\n",
    "    password = input(\"Enter your password\")\n",
    "    dob = input(\"Enter your date of birth 'YYYY-MM-DD'\")\n",
    "    \n",
    "    # Connect to the database file\n",
    "    conn = sqlite3.connect(database)\n",
    "\n",
    "    # Create a cursor object to execute SQL commands\n",
    "    cursor = conn.cursor()\n",
    "\n",
    "    try:\n",
    "        # Execute an SQL command to insert data into a table\n",
    "        cursor.execute(\"INSERT INTO users (_name, _uid, _password, _dob) VALUES (?, ?, ?, ?)\", (name, uid, password, dob))\n",
    "        \n",
    "        # Commit the changes to the database\n",
    "        conn.commit()\n",
    "        print(f\"A new user record {uid} has been created\")\n",
    "                \n",
    "    except sqlite3.Error as error:\n",
    "        print(\"Error while executing the INSERT:\", error)\n",
    "\n",
    "\n",
    "    # Close the cursor and connection objects\n",
    "    cursor.close()\n",
    "    conn.close()\n",
    "    \n",
    "create()"
   ]
  },
  {
   "attachments": {},
   "cell_type": "markdown",
   "metadata": {},
   "source": [
    "## Updating a User in table in Sqlite.db\n",
    "> Uses SQL UPDATE to modify password\n",
    "- What does the hacked part do?\n",
    "- Explain try/except, when would except occur?\n",
    "- What code seems to be repeated in each of these examples to point, why is it repeated?\n",
    "\n",
    "* The hacked part checks to see if the password length is too small (1 character). If so, the program will replace the user's inputted password with its own password.\n",
    "* If there was an error in executing the UPDATE command, an error will be printed onto the terminal\n",
    "\n",
    "\n",
    "Side note: Why does UPDATE work but not the update method in 2.4a? >:(\n",
    "\n",
    "Note: `as error` takes the error message and stores it in the variable `error`. This way, you can see what the error is with `print(error)`. It's kind of like <code>import <em>library</em> as <em>name</em></code>"
   ]
  },
  {
   "cell_type": "code",
   "execution_count": 3,
   "metadata": {},
   "outputs": [
    {
     "name": "stdout",
     "output_type": "stream",
     "text": [
      "The row with user id a the password has been hacked\n"
     ]
    }
   ],
   "source": [
    "import sqlite3\n",
    "\n",
    "def update():\n",
    "    uid = input(\"Enter user id to update\")\n",
    "    password = input(\"Enter updated password\")\n",
    "    if len(password) < 2:\n",
    "        message = \"hacked\"\n",
    "        password = 'gothackednewpassword123'\n",
    "    else:\n",
    "        message = \"successfully updated\"\n",
    "\n",
    "    # Connect to the database file\n",
    "    conn = sqlite3.connect(database)\n",
    "\n",
    "    # Create a cursor object to execute SQL commands\n",
    "    cursor = conn.cursor()\n",
    "\n",
    "    try:\n",
    "        # Execute an SQL command to update data in a table\n",
    "        cursor.execute(\"UPDATE users SET _password = ? WHERE _uid = ?\", (password, uid))\n",
    "        if cursor.rowcount == 0:\n",
    "            # The uid was not found in the table\n",
    "            print(f\"No uid {uid} was not found in the table\")\n",
    "        else:\n",
    "            print(f\"The row with user id {uid} the password has been {message}\")\n",
    "            conn.commit()\n",
    "    except sqlite3.Error as error:\n",
    "        print(\"Error while executing the UPDATE:\", error)\n",
    "        \n",
    "    \n",
    "    # Close the cursor and connection objects\n",
    "    cursor.close()\n",
    "    conn.close()\n",
    "    \n",
    "update()\n"
   ]
  },
  {
   "attachments": {},
   "cell_type": "markdown",
   "metadata": {},
   "source": [
    "## Delete a User in table in Sqlite.db\n",
    "> Uses a delete function to remove a user based on a user input of the id.\n",
    "- Is DELETE a dangerous operation?  Why?\n",
    "- In the print statemements, what is the \"f\" and what does {uid} do?"
   ]
  },
  {
   "cell_type": "code",
   "execution_count": null,
   "metadata": {},
   "outputs": [],
   "source": [
    "import sqlite3\n",
    "\n",
    "def delete():\n",
    "    uid = input(\"Enter user id to delete\")\n",
    "\n",
    "    # Connect to the database file\n",
    "    conn = sqlite3.connect(database)\n",
    "\n",
    "    # Create a cursor object to execute SQL commands\n",
    "    cursor = conn.cursor()\n",
    "    \n",
    "    try:\n",
    "        cursor.execute(\"DELETE FROM users WHERE _uid = ?\", (uid,))\n",
    "        if cursor.rowcount == 0:\n",
    "            # The uid was not found in the table\n",
    "            print(f\"No uid {uid} was not found in the table\")\n",
    "        else:\n",
    "            # The uid was found in the table and the row was deleted\n",
    "            print(f\"The row with uid {uid} was successfully deleted\")\n",
    "        conn.commit()\n",
    "    except sqlite3.Error as error:\n",
    "        print(\"Error while executing the DELETE:\", error)\n",
    "        \n",
    "    # Close the cursor and connection objects\n",
    "    cursor.close()\n",
    "    conn.close()\n",
    "    \n",
    "#delete()"
   ]
  },
  {
   "attachments": {},
   "cell_type": "markdown",
   "metadata": {},
   "source": [
    "# Menu Interface to CRUD operations\n",
    "> CRUD and Schema interactions from one location by running menu. Observe input at the top of VSCode, observe output underneath code cell.\n",
    "- Why does the menu repeat?\n",
    "- Could you refactor this menu?  Make it work with a List?"
   ]
  },
  {
   "cell_type": "code",
   "execution_count": null,
   "metadata": {},
   "outputs": [],
   "source": [
    "# Menu, to run other cells from one control point\n",
    "def menu():\n",
    "    operation = input(\"Enter: (C)reate (R)ead (U)pdate or (D)elete or (S)chema\")\n",
    "    if operation.lower() == 'c':\n",
    "        create()\n",
    "    elif operation.lower() == 'r':\n",
    "        read()\n",
    "    elif operation.lower() == 'u':\n",
    "        update()\n",
    "    elif operation.lower() == 'd':\n",
    "        delete()\n",
    "    elif operation.lower() == 's':\n",
    "        schema()\n",
    "    elif len(operation)==0: # Escape Key\n",
    "        return\n",
    "    else:\n",
    "        print(\"Please enter c, r, u, or d\") \n",
    "    menu() # recursion, repeat menu\n",
    "        \n",
    "try:\n",
    "    menu() # start menu\n",
    "except:\n",
    "    print(\"Perform Jupyter 'Run All' prior to starting menu\")\n"
   ]
  },
  {
   "attachments": {},
   "cell_type": "markdown",
   "metadata": {},
   "source": [
    "# Hacks\n",
    "- Add this Blog to you own Blogging site.  In the Blog add notes and observations on each code cell.\n",
    "- In this implementation, do you see procedural abstraction?\n",
    "- In 2.4a or 2.4b lecture\n",
    "    - Do you see data abstraction?  Complement this with Debugging example.\n",
    "    - Use Imperative or OOP style to Create a new Table or do something that applies to your CPT project.\n",
    "    \n",
    "\n",
    "Reference... [sqlite documentation](https://www.sqlitetutorial.net/sqlite-python/creating-tables/)\n"
   ]
  }
 ],
 "metadata": {
  "kernelspec": {
   "display_name": "base",
   "language": "python",
   "name": "python3"
  },
  "language_info": {
   "codemirror_mode": {
    "name": "ipython",
    "version": 3
   },
   "file_extension": ".py",
   "mimetype": "text/x-python",
   "name": "python",
   "nbconvert_exporter": "python",
   "pygments_lexer": "ipython3",
   "version": "3.9.12"
  },
  "orig_nbformat": 4,
  "vscode": {
   "interpreter": {
    "hash": "8b82d5009c68ba5675978267e2b13a671f2a7143d61273c5a3813c97e0b2493d"
   }
  }
 },
 "nbformat": 4,
 "nbformat_minor": 2
}
