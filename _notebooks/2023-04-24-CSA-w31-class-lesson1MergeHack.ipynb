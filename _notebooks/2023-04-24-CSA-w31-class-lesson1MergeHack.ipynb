{
 "cells": [
  {
   "attachments": {},
   "cell_type": "markdown",
   "metadata": {},
   "source": [
    "# Merge Sort Hacks\n",
    "> Merge sort hacks"
   ]
  },
  {
   "cell_type": "code",
   "execution_count": 2,
   "metadata": {
    "vscode": {
     "languageId": "java"
    }
   },
   "outputs": [
    {
     "name": "stdout",
     "output_type": "stream",
     "text": [
      "apple book cat "
     ]
    }
   ],
   "source": [
    "public class MergeSort {\n",
    "\n",
    "\n",
    "    public static void sort(String arr[], int l, int r) {\n",
    "        if (l < r) {\n",
    "            // COMMENT A\n",
    "            int m = l + (r - l) / 2;\n",
    "\n",
    "            // COMMENT B\n",
    "            sort(arr, l, m);\n",
    "            sort(arr, m + 1, r);\n",
    "\n",
    "            // COMMENT C\n",
    "            merge(arr, l, m, r);\n",
    "        }\n",
    "\n",
    "    }\n",
    "\n",
    "    public static void merge(String arr[], int l, int m, int r) {\n",
    "            // Find the sizes of two subarrays to be merged\n",
    "            int n1 = m - l + 1;\n",
    "            int n2 = r - m;\n",
    "\n",
    "            /* Create temp arrays */\n",
    "            String[] L = new String[n1];\n",
    "            String[] R = new String[n2];\n",
    "\n",
    "            /* Copy data to temp arrays */\n",
    "            for (int i = 0; i < n1; ++i)\n",
    "                L[i] = arr[l + i];\n",
    "            for (int j = 0; j < n2; ++j)\n",
    "                R[j] = arr[m + 1 + j];\n",
    "\n",
    "            /* Merge the temp arrays */\n",
    "\n",
    "            // Initial indexes of first and second subarrays\n",
    "            int i = 0, j = 0;\n",
    "\n",
    "            // Initial index of merged subarray array\n",
    "            int k = l;\n",
    "            while (i < n1 && j < n2) {\n",
    "                if (L[i].compareTo(R[j]) <= 0) {\n",
    "                    arr[k] = L[i];\n",
    "                    i++;\n",
    "                }\n",
    "                else {\n",
    "                    arr[k] = R[j];\n",
    "                    j++;\n",
    "                }\n",
    "                k++;\n",
    "            }\n",
    "\n",
    "            /* Copy remaining elements of L[] if any */\n",
    "            while (i < n1) {\n",
    "                arr[k] = L[i];\n",
    "                i++;\n",
    "                k++;\n",
    "            }\n",
    "\n",
    "            /* Copy remaining elements of R[] if any */\n",
    "            while (j < n2) {\n",
    "                arr[k] = R[j];\n",
    "                j++;\n",
    "                k++;\n",
    "            }\n",
    "    }\n",
    "\n",
    "    public static void main(String[] args) {\n",
    "        String[] stringArray = {\"book\", \"apple\", \"cat\"};\n",
    "        MergeSort.sort(stringArray, 0, stringArray.length - 1);\n",
    "        for (String word : stringArray) {\n",
    "            System.out.print(word + \" \");\n",
    "        }\n",
    "    }\n",
    "}\n",
    "MergeSort.main(null)"
   ]
  }
 ],
 "metadata": {
  "kernelspec": {
   "display_name": "Java",
   "language": "java",
   "name": "java"
  },
  "language_info": {
   "codemirror_mode": "java",
   "file_extension": ".jshell",
   "mimetype": "text/x-java-source",
   "name": "Java",
   "pygments_lexer": "java",
   "version": "17.0.5+8-Ubuntu-2ubuntu120.04"
  },
  "orig_nbformat": 4
 },
 "nbformat": 4,
 "nbformat_minor": 2
}
