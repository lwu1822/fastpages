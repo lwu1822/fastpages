{
 "cells": [
  {
   "cell_type": "markdown",
   "metadata": {},
   "source": [
    "# If-Else Lesson\n",
    "> Lesson on how to use conditionals in Java\n",
    "\n",
    "- toc: true \n",
    "- badges: true\n",
    "- comments: true\n",
    "- categories: [java]"
   ]
  },
  {
   "cell_type": "markdown",
   "metadata": {},
   "source": [
    "# If \n",
    "\n",
    "`if` is a conditional statement. It tests \"if the condition is true, then run the code within the if statement\"\n",
    "\n",
    "The `if` statement syntax is like this:\n",
    "\n",
    "```\n",
    "if (condition) {\n",
    "    // code\n",
    "}\n",
    "```\n",
    "\n",
    "Types of conditions: \n",
    "* a < b\n",
    "* a <= b\n",
    "* a > b\n",
    "* a >= b \n",
    "* a == b\n",
    "* a != b\n",
    "* true\n",
    "* false\n"
   ]
  },
  {
   "cell_type": "code",
   "execution_count": 1,
   "metadata": {},
   "outputs": [
    {
     "name": "stdout",
     "output_type": "stream",
     "text": [
      "Don't forget to bring an umbrella!\n"
     ]
    }
   ],
   "source": [
    "public class IfElseLesson{\n",
    "    public static void main(String[] args) {\n",
    "        String weather = \"rainy\"; // assign variable weather to the current weather (rainy)\n",
    "\n",
    "        // if the weather is rainy, remind the user to bring an umbrella\n",
    "        if (weather == \"rainy\") {\n",
    "            System.out.println(\"Don't forget to bring an umbrella!\"); \n",
    "        }\n",
    "    }\n",
    "}\n",
    "IfElseLesson.main(null)"
   ]
  },
  {
   "cell_type": "markdown",
   "metadata": {},
   "source": [
    "<br> \n",
    "\n",
    "# If-else\n",
    "\n",
    "The syntax for `if-else` statements are as follows:\n",
    "\n",
    "```\n",
    "if (condition) {\n",
    "    // run this if condition is true\n",
    "} else {\n",
    "    // run this if condition is false\n",
    "}\n",
    "```"
   ]
  },
  {
   "cell_type": "code",
   "execution_count": 2,
   "metadata": {},
   "outputs": [
    {
     "name": "stdout",
     "output_type": "stream",
     "text": [
      "No need for an umbrella!\n"
     ]
    }
   ],
   "source": [
    "public class IfElseLesson{\n",
    "    public static void main(String[] args) {\n",
    "        String weather = \"sunny\"; // assign variable weather to sunny\n",
    "\n",
    "        // if weather is rainy, remind to bring an umbrella\n",
    "        // otherwise, no need to bring an umbrella\n",
    "        if (weather == \"rainy\") {\n",
    "            System.out.println(\"Don't forget to bring an umbrella!\");\n",
    "        } else {\n",
    "            System.out.println(\"No need for an umbrella!\");\n",
    "        }\n",
    "    }\n",
    "}\n",
    "IfElseLesson.main(null)"
   ]
  },
  {
   "cell_type": "markdown",
   "metadata": {},
   "source": [
    "<br> \n",
    "\n",
    "# Else-if\n",
    "\n",
    "`else-if` statements are written like this:\n",
    "\n",
    "```\n",
    "if (condition) {\n",
    "    // run if condition is true\n",
    "} else if (condition 2) {\n",
    "    // run if condition is false and condition 2 is true\n",
    "}"
   ]
  },
  {
   "cell_type": "code",
   "execution_count": 5,
   "metadata": {},
   "outputs": [
    {
     "name": "stdout",
     "output_type": "stream",
     "text": [
      "Don't forget to bring an umbrella!\n"
     ]
    }
   ],
   "source": [
    "public class IfElseLesson{\n",
    "    public static void main(String[] args) {\n",
    "        String weather = \"rainy\"; // assign variable weather to rainy\n",
    "\n",
    "        // if weather is rainy, remind to bring an umbrella\n",
    "        // if weather is sunny, remind to bring a hat\n",
    "        if (weather == \"rainy\") {\n",
    "            System.out.println(\"Don't forget to bring an umbrella!\"); \n",
    "        } else if (weather == \"sunny\") {\n",
    "            System.out.println(\"Don't forget to bring a hat!\");\n",
    "        }\n",
    "    }\n",
    "}\n",
    "IfElseLesson.main(null)"
   ]
  },
  {
   "cell_type": "markdown",
   "metadata": {},
   "source": [
    "Setting variable `weather` to sunny:"
   ]
  },
  {
   "cell_type": "code",
   "execution_count": 2,
   "metadata": {},
   "outputs": [
    {
     "name": "stdout",
     "output_type": "stream",
     "text": [
      "Don't forget to bring a hat!\n"
     ]
    }
   ],
   "source": [
    "public class IfElseLesson{\n",
    "    public static void main(String[] args) {\n",
    "        String weather = \"sunny\";\n",
    "\n",
    "        if (weather == \"rainy\") {\n",
    "            System.out.println(\"Don't forget to bring an umbrella!\");\n",
    "        } else if (weather == \"sunny\") {\n",
    "            System.out.println(\"Don't forget to bring a hat!\");\n",
    "        }\n",
    "    }\n",
    "}\n",
    "IfElseLesson.main(null)"
   ]
  },
  {
   "cell_type": "markdown",
   "metadata": {},
   "source": [
    "<br>\n",
    "\n",
    "# Putting It All Together"
   ]
  },
  {
   "cell_type": "markdown",
   "metadata": {},
   "source": [
    "## #1"
   ]
  },
  {
   "cell_type": "code",
   "execution_count": 3,
   "metadata": {},
   "outputs": [
    {
     "name": "stdout",
     "output_type": "stream",
     "text": [
      "Nice weather outside!\n"
     ]
    }
   ],
   "source": [
    "public class IfElseLesson{\n",
    "    public static void main(String[] args) {\n",
    "        String weather = \"cloudy\"; // assign variable weather to cloudy\n",
    "\n",
    "        // because it is cloudy, print that the weather is nice\n",
    "        if (weather == \"rainy\") {\n",
    "            System.out.println(\"Don't forget to bring an umbrella!\");\n",
    "        } else if (weather == \"sunny\") {\n",
    "            System.out.println(\"Don't forget to bring a hat!\");\n",
    "        } else {\n",
    "            System.out.println(\"Nice weather outside!\");\n",
    "        }\n",
    "    }\n",
    "}\n",
    "IfElseLesson.main(null)"
   ]
  },
  {
   "cell_type": "markdown",
   "metadata": {},
   "source": [
    "## #2"
   ]
  },
  {
   "cell_type": "code",
   "execution_count": 61,
   "metadata": {},
   "outputs": [
    {
     "name": "stdout",
     "output_type": "stream",
     "text": [
      "Welcome to Jeopardy! Choose 100, 200, 300, 400, 500\n",
      "500\n",
      "What backend framework runs on lwu1822.tk? \n",
      "Spring\n",
      "Your total score is: 500\n"
     ]
    }
   ],
   "source": [
    "import java.util.Scanner; \n",
    "\n",
    "public class Jeopardy{\n",
    "    public static void main(String[] args) {\n",
    "        System.out.println(\"Welcome to Jeopardy! Choose 100, 200, 300, 400, 500\");\n",
    "        int questionNum = 0; // keep track of selecting the 100, 200, 300, 400, or 500 question\n",
    "        int score = 0;\n",
    "        String answer = \"\";\n",
    "\n",
    "        Scanner sc = new Scanner(System.in);\n",
    "        questionNum = sc.nextInt(); // for questionNum input\n",
    "        System.out.println(questionNum);\n",
    "\n",
    "        Scanner questionManySpace = new Scanner(System.in); // for answer input\n",
    "        \n",
    "        if (questionNum == 100) {\n",
    "            // ask question\n",
    "            System.out.println(\"What programming language does this code run in? \"); \n",
    "            answer = questionManySpace.nextLine();\n",
    "            // if answer is correct, add 100 points to score\n",
    "            System.out.println(answer);\n",
    "            if (answer.equals(\"java\")) {\n",
    "                score += 100;\n",
    "            }\n",
    "        // the format is the same for all of the answers below\n",
    "        } else if (questionNum == 200) {\n",
    "            System.out.println(\"How do you create a string called 'name' and assign it to 'Bob' in Java? \");\n",
    "            answer = questionManySpace.nextLine();\n",
    "            System.out.println(answer);\n",
    "            if (answer.equals(\"String name = Bob;\")) {\n",
    "                score += 200; \n",
    "            }\n",
    "        } else if (questionNum == 300) {\n",
    "            System.out.println(\"What is the conditional called to do something if something happens or do something else if something else happens? \");\n",
    "            answer = questionManySpace.nextLine();\n",
    "            System.out.println(answer);\n",
    "            if (answer.equals(\"if-else\")) {\n",
    "                score += 300; \n",
    "            }\n",
    "        } else if (questionNum == 400) {\n",
    "            System.out.println(\"How do you create a scanner object with name scanner? \");\n",
    "            answer = questionManySpace.nextLine();\n",
    "            System.out.println(answer);\n",
    "            if (answer.equals(\"Scanner scanner = new Scanner(System.in)\")) {\n",
    "                score += 400;\n",
    "            }\n",
    "        } else if (questionNum == 500) {\n",
    "            System.out.println(\"What backend framework runs on lwu1822.tk? \");\n",
    "            answer = questionManySpace.nextLine();\n",
    "            System.out.println(answer);\n",
    "            if (answer.equals(\"Spring\")) {\n",
    "                score += 500; \n",
    "            }\n",
    "        }\n",
    "        System.out.println(\"Your total score is: \" + score);\n",
    "    }\n",
    "}\n",
    "Jeopardy.main(null);"
   ]
  },
  {
   "cell_type": "markdown",
   "metadata": {},
   "source": [
    "## Switch case statements"
   ]
  },
  {
   "cell_type": "code",
   "execution_count": 62,
   "metadata": {},
   "outputs": [
    {
     "name": "stdout",
     "output_type": "stream",
     "text": [
      "Welcome to Jeopardy! Choose 100, 200, 300, 400, 500\n",
      "500\n",
      "What backend framework runs on lwu1822.tk? \n",
      "Spring\n",
      "Your total score is: 500\n"
     ]
    }
   ],
   "source": [
    "import java.util.Scanner; \n",
    "\n",
    "public class Jeopardy{\n",
    "    public static void main(String[] args) {\n",
    "        System.out.println(\"Welcome to Jeopardy! Choose 100, 200, 300, 400, 500\"); \n",
    "        int questionNum = 0;  // keep track of selecting the 100, 200, 300, 400, or 500 question\n",
    "        int score = 0;\n",
    "        String answer = \"\";\n",
    "\n",
    "        Scanner sc = new Scanner(System.in);\n",
    "        questionNum = sc.nextInt(); // for questionNum input\n",
    "        System.out.println(questionNum);\n",
    "\n",
    "        Scanner questionManySpace = new Scanner(System.in);  // for answer input\n",
    "\n",
    "        switch (questionNum) {\n",
    "            case 100:\n",
    "                // ask question\n",
    "                System.out.println(\"What programming language does this code run in? \"); \n",
    "                answer = questionManySpace.nextLine();\n",
    "                System.out.println(answer);\n",
    "                // if answer is correct, add 100 points to score\n",
    "                if (answer.equals(\"java\")) {\n",
    "                    score += 100;\n",
    "                }\n",
    "            // the format is the same for all of the answers below\n",
    "            case 200:\n",
    "                System.out.println(\"How do you create a string called 'name' and assign it to 'Bob' in Java? \");\n",
    "                answer = questionManySpace.nextLine();\n",
    "                System.out.println(answer);\n",
    "                if (answer.equals(\"String name = Bob;\")) {\n",
    "                    score += 200; \n",
    "                }\n",
    "            case 300:\n",
    "                System.out.println(\"What is the conditional called to do something if something happens or do something else if something else happens? \");\n",
    "                answer = questionManySpace.nextLine();\n",
    "                System.out.println(answer);\n",
    "                if (answer.equals(\"if-else\")) {\n",
    "                    score += 300; \n",
    "                }\n",
    "            case 400:\n",
    "                System.out.println(\"How do you create a scanner object with name scanner? \");\n",
    "                answer = questionManySpace.nextLine();\n",
    "                System.out.println(answer);\n",
    "                if (answer.equals(\"Scanner scanner = new Scanner(System.in)\")) {\n",
    "                    score += 400;\n",
    "                }\n",
    "            case 500: \n",
    "                System.out.println(\"What backend framework runs on lwu1822.tk? \");\n",
    "                answer = questionManySpace.nextLine();\n",
    "                System.out.println(answer);\n",
    "                if (answer.equals(\"Spring\")) {\n",
    "                    score += 500; \n",
    "                }\n",
    "        }\n",
    "\n",
    "        System.out.println(\"Your total score is: \" + score);\n",
    "    }\n",
    "}\n",
    "Jeopardy.main(null);"
   ]
  },
  {
   "cell_type": "markdown",
   "metadata": {},
   "source": [
    "<br>\n",
    "\n",
    "# De Morgan's Law\n",
    "\n",
    "First, some vocab:\n",
    "* Set: A group of objects\n",
    "* Universal set: A set that has all of the elements \n",
    "* Subsets: Contains elements from the universal set \n",
    "* Complement: For example, if we have set A, the complement of set A would have the elements in the universal set, but not in set A. \n",
    "* Union: New set has elements from both sets\n",
    "\n",
    "  Symbol: ∪\n",
    "* Intersection: New sets has elements that are shared between both sets\n",
    "  \n",
    "  Symbol: ∩\n",
    "<br>\n",
    "\n",
    "De Morgan's Law is used in boolean algebra to help **simplify expressions** (*this is important, remember this for later*). \n",
    "\n",
    "**De Morgan's Law of Union** states that: \"The complement of the union of the two sets A and B will be equal to the intersection of A' (complement of A) and B' (complement of B).\" {% fn 1 %}\n",
    "\n",
    "Formula: (A ∪ B)' = A'∩ B'\n",
    "\n",
    "**De Morgan's Law of Intersection** states that: \"The complement of the intersection of A and B will be equal to the union of A' and B'.\" {% fn 2 %}\n",
    "\n",
    "Formula: (A ∩ B)’ = A’ ∪ B’\n",
    "\n",
    "<br>\n",
    "\n",
    "The following is an example: \n",
    "\n",
    "Universal set: {1, 3, 5, 6, 8, 9}\n",
    "Set A: {1, 3}\n",
    "Set B: {5, 6, 8}\n",
    "\n",
    "De Morgan's Law of Union: (A ∪ B)' = {9}\n",
    "\n",
    "A'∩ B' = {9}\n",
    "\n",
    "(A ∪ B)' = A'∩ B'\n",
    "\n",
    "De Morgan's Law of Intersection: (A ∩ B)' = {1, 3, 5, 6, 8, 9}\n",
    "\n",
    "A’ ∪ B’ = {1, 3, 5, 6, 8, 9}\n",
    "\n",
    "(A ∩ B)’ = A’ ∪ B’\n",
    "\n",
    "<br>\n",
    "\n",
    "Now how is this useful?\n",
    "\n",
    "Remember this? \n",
    "\n",
    "![](my_icons/w3-if-else-foreshadowing.jpg)\n",
    "\n",
    "Translating De Morgan's law into code, De Morgan's Law of Union would mean: `!(a || b) = (!a && !b)`. \n",
    "\n",
    "De Morgan's Law of Intersection means: `!(a && b) = (!a || !b)` {% fn 3 %}\n",
    "\n",
    "{{ '[Reference](https://www.cuemath.com/data/de-morgans-law/)' | fndetail: 1 }}\n",
    "\n",
    "{{ '[Reference](https://www.cuemath.com/data/de-morgans-law/)' | fndetail: 2 }}\n",
    "\n",
    "{{ '[Reference](https://www.cuemath.com/data/de-morgans-law/)' | fndetail: 3 }}"
   ]
  },
  {
   "cell_type": "markdown",
   "metadata": {},
   "source": [
    "# Example in Coding\n",
    "\n",
    "*because what would De Morgan's law be if it's not applicable to coding?*"
   ]
  },
  {
   "cell_type": "code",
   "execution_count": 6,
   "metadata": {},
   "outputs": [
    {
     "name": "stdout",
     "output_type": "stream",
     "text": [
      "It's a cloudy day, not too hot, not too cold\n"
     ]
    }
   ],
   "source": [
    "public class DeMorgansLaw{\n",
    "    public static void main(String[] args) {\n",
    "        boolean rainy = false;\n",
    "        boolean sunny = false;\n",
    "\n",
    "        if (!!!(rainy || sunny) && ((!rainy && !sunny) || !(!(rainy || sunny))) ) {\n",
    "            System.out.println(\"It's a cloudy day, not too hot, not too cold\");\n",
    "        }\n",
    "    }\n",
    "}\n",
    "DeMorgansLaw.main(null)"
   ]
  },
  {
   "cell_type": "markdown",
   "metadata": {},
   "source": [
    "Well this is awfully confusing, how about we clean it up a little?\n",
    "\n",
    "First, remove all of the `!!` (negative + negative = positive)\n",
    "\n",
    "This code reads: If it's not rainy or sunny, and: it's not rainy and it's not sunny OR it's rainy or sunny\n",
    "\n",
    "Evaluating each part of the code: \n",
    "\n",
    "1. `If it's not rainy or sunny`: True\n",
    "2. `If it's not rainy and it's not sunny`: True\n",
    "3. `It's rainy or sunny`: False\n",
    "\n",
    "2\\. and 3. are OR, therefore, it is `True`.\n",
    "\n",
    "1\\. is ANDed  to 2. and 3. which is `True`. -> `True` AND `True` is true, therefore, the message is outputted. \n"
   ]
  },
  {
   "cell_type": "code",
   "execution_count": 7,
   "metadata": {},
   "outputs": [
    {
     "name": "stdout",
     "output_type": "stream",
     "text": [
      "It's a cloudy day, not too hot, not too cold\n"
     ]
    }
   ],
   "source": [
    "public class DeMorgansLaw{\n",
    "    public static void main(String[] args) {\n",
    "        boolean rainy = false;\n",
    "        boolean sunny = false;\n",
    "\n",
    "        if (!(rainy || sunny) && ((!rainy && !sunny) || (rainy || sunny)) ) {\n",
    "            System.out.println(\"It's a cloudy day, not too hot, not too cold\");\n",
    "        }\n",
    "    }\n",
    "}\n",
    "DeMorgansLaw.main(null)"
   ]
  },
  {
   "cell_type": "markdown",
   "metadata": {},
   "source": [
    "#### More examples: "
   ]
  },
  {
   "cell_type": "markdown",
   "metadata": {},
   "source": [
    "This code reads: If it's not sunny and it's not cloudy and it's not snowy and it's not windy, then bring an umbrella."
   ]
  },
  {
   "cell_type": "code",
   "execution_count": 67,
   "metadata": {},
   "outputs": [
    {
     "name": "stdout",
     "output_type": "stream",
     "text": [
      "Bring an umbrella!\n"
     ]
    }
   ],
   "source": [
    "public class DeMorgansLaw{\n",
    "    public static void main(String[] args) {\n",
    "        boolean rainy = true;\n",
    "        boolean sunny = false;\n",
    "        boolean cloudy = false;\n",
    "        boolean snowy = false;\n",
    "        boolean windy = false;\n",
    "\n",
    "        if (!sunny && !cloudy && !snowy && !windy) {\n",
    "            System.out.println(\"Bring an umbrella!\");\n",
    "        }\n",
    "    }\n",
    "}\n",
    "DeMorgansLaw.main(null)"
   ]
  },
  {
   "cell_type": "markdown",
   "metadata": {},
   "source": [
    "This code is kind of messy, huh?\n",
    "\n",
    "How about this code?\n",
    "\n",
    "This code reads: If it's not sunny or cloudy or snowy or windy, then bring an umbrella.\n",
    "\n",
    "Better?"
   ]
  },
  {
   "cell_type": "code",
   "execution_count": 68,
   "metadata": {},
   "outputs": [
    {
     "name": "stdout",
     "output_type": "stream",
     "text": [
      "Bring an umbrella!\n"
     ]
    }
   ],
   "source": [
    "public class DeMorgansLaw{\n",
    "    public static void main(String[] args) {\n",
    "        boolean rainy = true;\n",
    "        boolean sunny = false;\n",
    "        boolean cloudy = false;\n",
    "        boolean snowy = false;\n",
    "        boolean windy = false;\n",
    "\n",
    "        if (!(sunny || cloudy || snowy || windy)) {\n",
    "            System.out.println(\"Bring an umbrella!\");\n",
    "        }\n",
    "    }\n",
    "}\n",
    "DeMorgansLaw.main(null)"
   ]
  },
  {
   "cell_type": "markdown",
   "metadata": {},
   "source": [
    "<br> \n",
    "\n",
    "A more complicated example..."
   ]
  },
  {
   "cell_type": "code",
   "execution_count": 70,
   "metadata": {},
   "outputs": [
    {
     "name": "stdout",
     "output_type": "stream",
     "text": [
      "Is pineapple on pizza bad?\n",
      "No!\n"
     ]
    }
   ],
   "source": [
    "public class DeMorgansLaw{\n",
    "    public static void main(String[] args) {\n",
    "        boolean pineappOnPizza = true;\n",
    "        boolean nopineappOnPizza = false; \n",
    "\n",
    "        System.out.println(\"Is pineapple on pizza bad?\");\n",
    "\n",
    "        // huh???\n",
    "        if (!(!nopineappOnPizza && !pineappOnPizza)) {\n",
    "            System.out.println(\"No!\");\n",
    "        }\n",
    "    }\n",
    "}\n",
    "DeMorgansLaw.main(null)"
   ]
  },
  {
   "cell_type": "markdown",
   "metadata": {},
   "source": [
    "Is this better?"
   ]
  },
  {
   "cell_type": "code",
   "execution_count": 71,
   "metadata": {},
   "outputs": [
    {
     "name": "stdout",
     "output_type": "stream",
     "text": [
      "Is pineapple on pizza bad?\n",
      "No!\n"
     ]
    }
   ],
   "source": [
    "public class DeMorgansLaw{\n",
    "    public static void main(String[] args) {\n",
    "        boolean pineappOnPizza = true;\n",
    "        boolean nopineappOnPizza = false; \n",
    "\n",
    "        System.out.println(\"Is pineapple on pizza bad?\");\n",
    "\n",
    "        // if no pineapple on pizza or yes pineapple on pizza...\n",
    "        // since there is a pineapple on pizza, then pineapple on pizza is good\n",
    "        if ((!pineappOnPizza || !nopineappOnPizza)) {\n",
    "            System.out.println(\"No!\");\n",
    "        }\n",
    "    }\n",
    "}\n",
    "DeMorgansLaw.main(null)"
   ]
  }
 ],
 "metadata": {
  "celltoolbar": "Tags",
  "kernelspec": {
   "display_name": "Java",
   "language": "java",
   "name": "java"
  },
  "language_info": {
   "codemirror_mode": "java",
   "file_extension": ".jshell",
   "mimetype": "text/x-java-source",
   "name": "java",
   "pygments_lexer": "java",
   "version": "11.0.16+8-post-Ubuntu-0ubuntu120.04"
  },
  "vscode": {
   "interpreter": {
    "hash": "f260b6b3ae1ef2114af89aa0dee38d5682df0763aaac2870f1e656463369401e"
   }
  }
 },
 "nbformat": 4,
 "nbformat_minor": 2
}
