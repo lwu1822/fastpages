{
 "cells": [
  {
   "cell_type": "markdown",
   "metadata": {},
   "source": [
    "# If-Else Lesson\n",
    "> Lesson on how to use conditionals in Java\n",
    "\n",
    "- toc: true \n",
    "- badges: true\n",
    "- comments: true\n",
    "- categories: [java]"
   ]
  },
  {
   "cell_type": "markdown",
   "metadata": {},
   "source": [
    "# If \n",
    "\n",
    "`if` is a conditional statement. It tests \"if the condition is true, then run the code within the if statement\"\n",
    "\n",
    "The `if` statement syntax is like this:\n",
    "\n",
    "```\n",
    "if (condition) {\n",
    "    // code\n",
    "}\n",
    "```\n",
    "\n",
    "Types of conditions: \n",
    "* a < b\n",
    "* a <= b\n",
    "* a > b\n",
    "* a >= b \n",
    "* a == b\n",
    "* a != b\n",
    "* true\n",
    "* false\n"
   ]
  },
  {
   "cell_type": "code",
   "execution_count": 1,
   "metadata": {
    "vscode": {
     "languageId": "java"
    }
   },
   "outputs": [
    {
     "name": "stdout",
     "output_type": "stream",
     "text": [
      "Don't forget to bring an umbrella!\n"
     ]
    }
   ],
   "source": [
    "public class IfElseLesson{\n",
    "    public static void main(String[] args) {\n",
    "        String weather = \"rainy\"; // assign variable weather to the current weather (rainy)\n",
    "\n",
    "        // if the weather is rainy, remind the user to bring an umbrella\n",
    "        if (weather == \"rainy\") {\n",
    "            System.out.println(\"Don't forget to bring an umbrella!\"); \n",
    "        }\n",
    "    }\n",
    "}\n",
    "IfElseLesson.main(null)"
   ]
  },
  {
   "cell_type": "markdown",
   "metadata": {},
   "source": [
    "<br> \n",
    "\n",
    "# If-else\n",
    "\n",
    "The syntax for `if-else` statements are as follows:\n",
    "\n",
    "```\n",
    "if (condition) {\n",
    "    // run this if condition is true\n",
    "} else {\n",
    "    // run this if condition is false\n",
    "}\n",
    "```"
   ]
  },
  {
   "cell_type": "code",
   "execution_count": 2,
   "metadata": {
    "vscode": {
     "languageId": "java"
    }
   },
   "outputs": [
    {
     "name": "stdout",
     "output_type": "stream",
     "text": [
      "No need for an umbrella!\n"
     ]
    }
   ],
   "source": [
    "public class IfElseLesson{\n",
    "    public static void main(String[] args) {\n",
    "        String weather = \"sunny\"; // assign variable weather to sunny\n",
    "\n",
    "        // if weather is rainy, remind to bring an umbrella\n",
    "        // otherwise, no need to bring an umbrella\n",
    "        if (weather == \"rainy\") {\n",
    "            System.out.println(\"Don't forget to bring an umbrella!\");\n",
    "        } else {\n",
    "            System.out.println(\"No need for an umbrella!\");\n",
    "        }\n",
    "    }\n",
    "}\n",
    "IfElseLesson.main(null)"
   ]
  },
  {
   "cell_type": "markdown",
   "metadata": {},
   "source": [
    "<br> \n",
    "\n",
    "# Else-if\n",
    "\n",
    "`else-if` statements are written like this:\n",
    "\n",
    "```\n",
    "if (condition) {\n",
    "    // run if condition is true\n",
    "} else if (condition 2) {\n",
    "    // run if condition is false and condition 2 is true\n",
    "}"
   ]
  },
  {
   "cell_type": "code",
   "execution_count": 5,
   "metadata": {
    "vscode": {
     "languageId": "java"
    }
   },
   "outputs": [
    {
     "name": "stdout",
     "output_type": "stream",
     "text": [
      "Don't forget to bring an umbrella!\n"
     ]
    }
   ],
   "source": [
    "public class IfElseLesson{\n",
    "    public static void main(String[] args) {\n",
    "        String weather = \"rainy\"; // assign variable weather to rainy\n",
    "\n",
    "        // if weather is rainy, remind to bring an umbrella\n",
    "        // if weather is sunny, remind to bring a hat\n",
    "        if (weather == \"rainy\") {\n",
    "            System.out.println(\"Don't forget to bring an umbrella!\"); \n",
    "        } else if (weather == \"sunny\") {\n",
    "            System.out.println(\"Don't forget to bring a hat!\");\n",
    "        }\n",
    "    }\n",
    "}\n",
    "IfElseLesson.main(null)"
   ]
  },
  {
   "cell_type": "markdown",
   "metadata": {},
   "source": [
    "Setting variable `weather` to sunny:"
   ]
  },
  {
   "cell_type": "code",
   "execution_count": 2,
   "metadata": {
    "vscode": {
     "languageId": "java"
    }
   },
   "outputs": [
    {
     "name": "stdout",
     "output_type": "stream",
     "text": [
      "Don't forget to bring a hat!\n"
     ]
    }
   ],
   "source": [
    "public class IfElseLesson{\n",
    "    public static void main(String[] args) {\n",
    "        String weather = \"sunny\";\n",
    "\n",
    "        if (weather == \"rainy\") {\n",
    "            System.out.println(\"Don't forget to bring an umbrella!\");\n",
    "        } else if (weather == \"sunny\") {\n",
    "            System.out.println(\"Don't forget to bring a hat!\");\n",
    "        }\n",
    "    }\n",
    "}\n",
    "IfElseLesson.main(null)"
   ]
  },
  {
   "cell_type": "markdown",
   "metadata": {},
   "source": [
    "<br>\n",
    "\n",
    "# Putting It All Together"
   ]
  },
  {
   "cell_type": "markdown",
   "metadata": {},
   "source": [
    "## #1"
   ]
  },
  {
   "cell_type": "code",
   "execution_count": 3,
   "metadata": {
    "vscode": {
     "languageId": "java"
    }
   },
   "outputs": [
    {
     "name": "stdout",
     "output_type": "stream",
     "text": [
      "Nice weather outside!\n"
     ]
    }
   ],
   "source": [
    "public class IfElseLesson{\n",
    "    public static void main(String[] args) {\n",
    "        String weather = \"cloudy\"; // assign variable weather to cloudy\n",
    "\n",
    "        // because it is cloudy, print that the weather is nice\n",
    "        if (weather == \"rainy\") {\n",
    "            System.out.println(\"Don't forget to bring an umbrella!\");\n",
    "        } else if (weather == \"sunny\") {\n",
    "            System.out.println(\"Don't forget to bring a hat!\");\n",
    "        } else {\n",
    "            System.out.println(\"Nice weather outside!\");\n",
    "        }\n",
    "    }\n",
    "}\n",
    "IfElseLesson.main(null)"
   ]
  },
  {
   "cell_type": "markdown",
   "metadata": {},
   "source": [
    "## #2"
   ]
  },
  {
   "cell_type": "code",
   "execution_count": 61,
   "metadata": {
    "vscode": {
     "languageId": "java"
    }
   },
   "outputs": [
    {
     "name": "stdout",
     "output_type": "stream",
     "text": [
      "Welcome to Jeopardy! Choose 100, 200, 300, 400, 500\n",
      "500\n",
      "What backend framework runs on lwu1822.tk? \n",
      "Spring\n",
      "Your total score is: 500\n"
     ]
    }
   ],
   "source": [
    "import java.util.Scanner; \n",
    "\n",
    "public class Jeopardy{\n",
    "    public static void main(String[] args) {\n",
    "        System.out.println(\"Welcome to Jeopardy! Choose 100, 200, 300, 400, 500\");\n",
    "        int questionNum = 0; // keep track of selecting the 100, 200, 300, 400, or 500 question\n",
    "        int score = 0;\n",
    "        String answer = \"\";\n",
    "\n",
    "        Scanner sc = new Scanner(System.in);\n",
    "        questionNum = sc.nextInt(); // for questionNum input\n",
    "        System.out.println(questionNum);\n",
    "\n",
    "        Scanner questionManySpace = new Scanner(System.in); // for answer input\n",
    "        \n",
    "        if (questionNum == 100) {\n",
    "            // ask question\n",
    "            System.out.println(\"What programming language does this code run in? \"); \n",
    "            answer = questionManySpace.nextLine();\n",
    "            // if answer is correct, add 100 points to score\n",
    "            System.out.println(answer);\n",
    "            if (answer.equals(\"java\")) {\n",
    "                score += 100;\n",
    "            }\n",
    "        // the format is the same for all of the answers below\n",
    "        } else if (questionNum == 200) {\n",
    "            System.out.println(\"How do you create a string called 'name' and assign it to 'Bob' in Java? \");\n",
    "            answer = questionManySpace.nextLine();\n",
    "            System.out.println(answer);\n",
    "            if (answer.equals(\"String name = Bob;\")) {\n",
    "                score += 200; \n",
    "            }\n",
    "        } else if (questionNum == 300) {\n",
    "            System.out.println(\"What is the conditional called to do something if something happens or do something else if something else happens? \");\n",
    "            answer = questionManySpace.nextLine();\n",
    "            System.out.println(answer);\n",
    "            if (answer.equals(\"if-else\")) {\n",
    "                score += 300; \n",
    "            }\n",
    "        } else if (questionNum == 400) {\n",
    "            System.out.println(\"How do you create a scanner object with name scanner? \");\n",
    "            answer = questionManySpace.nextLine();\n",
    "            System.out.println(answer);\n",
    "            if (answer.equals(\"Scanner scanner = new Scanner(System.in)\")) {\n",
    "                score += 400;\n",
    "            }\n",
    "        } else if (questionNum == 500) {\n",
    "            System.out.println(\"What backend framework runs on lwu1822.tk? \");\n",
    "            answer = questionManySpace.nextLine();\n",
    "            System.out.println(answer);\n",
    "            if (answer.equals(\"Spring\")) {\n",
    "                score += 500; \n",
    "            }\n",
    "        }\n",
    "        System.out.println(\"Your total score is: \" + score);\n",
    "    }\n",
    "}\n",
    "Jeopardy.main(null);"
   ]
  },
  {
   "cell_type": "markdown",
   "metadata": {},
   "source": [
    "<mark>THIS DOES NOT WORK APPARENTLY</mark>"
   ]
  },
  {
   "cell_type": "code",
   "execution_count": 56,
   "metadata": {
    "vscode": {
     "languageId": "java"
    }
   },
   "outputs": [
    {
     "name": "stdout",
     "output_type": "stream",
     "text": [
      "Welcome to Jeopardy! Choose 100, 200, 300, 400, 500\n",
      "100\n",
      "What programming language does this code run in? \n",
      "java\n",
      "Your total score is: 0\n"
     ]
    }
   ],
   "source": [
    "import java.util.Scanner; \n",
    "\n",
    "public class Jeopardy{\n",
    "    public static void main(String[] args) {\n",
    "        System.out.println(\"Welcome to Jeopardy! Choose 100, 200, 300, 400, 500\");\n",
    "        int questionNum = 0; \n",
    "        int score = 0;\n",
    "        String answer = \"\";\n",
    "\n",
    "        Scanner sc = new Scanner(System.in); \n",
    "        questionNum = sc.nextInt();\n",
    "        System.out.println(questionNum);\n",
    "\n",
    "        Scanner questionManySpace = new Scanner(System.in);  \n",
    "        \n",
    "\n",
    "        if (questionNum == 100) {\n",
    "            System.out.println(\"What programming language does this code run in? \"); \n",
    "            answer = sc.next();\n",
    "            System.out.println(answer);\n",
    "            if (answer == \"java\") {\n",
    "                score += 100;\n",
    "            }\n",
    "        } else if (questionNum == 200) {\n",
    "            System.out.println(\"How do you create a string called 'name' and assign it to 'Bob' in Java? \");\n",
    "            answer = questionManySpace.nextLine();\n",
    "            System.out.println(answer);\n",
    "            if (answer.equals(\"String name = Bob;\")) {\n",
    "                score += 200; \n",
    "            }\n",
    "        } else if (questionNum == 300) {\n",
    "            System.out.println(\"What is the conditional called to do something if something happens or do something else if something else happens? \");\n",
    "            answer = sc.next();\n",
    "            System.out.println(answer);\n",
    "            if (answer == \"if-else\") {\n",
    "                score += 300; \n",
    "            }\n",
    "        } else if (questionNum == 400) {\n",
    "            System.out.println(\"How do you create a scanner object with name scanner? \");\n",
    "            answer = questionManySpace.nextLine();\n",
    "            System.out.println(answer);\n",
    "            if (answer.equals(\"Scanner scanner = new Scanner(System.in)\")) {\n",
    "                score += 400;\n",
    "            }\n",
    "        } else if (questionNum == 500) {\n",
    "            System.out.println(\"What backend framework runs on lwu1822.tk? \");\n",
    "            answer = sc.next();\n",
    "            System.out.println(answer);\n",
    "            if (answer == \"Spring\") {\n",
    "                score += 500; \n",
    "            }\n",
    "        }\n",
    "        System.out.println(\"Your total score is: \" + score);\n",
    "    }\n",
    "}\n",
    "Jeopardy.main(null);"
   ]
  },
  {
   "cell_type": "markdown",
   "metadata": {},
   "source": [
    "## Switch case statements"
   ]
  },
  {
   "cell_type": "code",
   "execution_count": 62,
   "metadata": {
    "vscode": {
     "languageId": "java"
    }
   },
   "outputs": [
    {
     "name": "stdout",
     "output_type": "stream",
     "text": [
      "Welcome to Jeopardy! Choose 100, 200, 300, 400, 500\n",
      "500\n",
      "What backend framework runs on lwu1822.tk? \n",
      "Spring\n",
      "Your total score is: 500\n"
     ]
    }
   ],
   "source": [
    "import java.util.Scanner; \n",
    "\n",
    "public class Jeopardy{\n",
    "    public static void main(String[] args) {\n",
    "        System.out.println(\"Welcome to Jeopardy! Choose 100, 200, 300, 400, 500\"); \n",
    "        int questionNum = 0;  // keep track of selecting the 100, 200, 300, 400, or 500 question\n",
    "        int score = 0;\n",
    "        String answer = \"\";\n",
    "\n",
    "        Scanner sc = new Scanner(System.in);\n",
    "        questionNum = sc.nextInt(); // for questionNum input\n",
    "        System.out.println(questionNum);\n",
    "\n",
    "        Scanner questionManySpace = new Scanner(System.in);  // for answer input\n",
    "\n",
    "        switch (questionNum) {\n",
    "            case 100:\n",
    "                // ask question\n",
    "                System.out.println(\"What programming language does this code run in? \"); \n",
    "                answer = questionManySpace.nextLine();\n",
    "                System.out.println(answer);\n",
    "                // if answer is correct, add 100 points to score\n",
    "                if (answer.equals(\"java\")) {\n",
    "                    score += 100;\n",
    "                }\n",
    "            // the format is the same for all of the answers below\n",
    "            case 200:\n",
    "                System.out.println(\"How do you create a string called 'name' and assign it to 'Bob' in Java? \");\n",
    "                answer = questionManySpace.nextLine();\n",
    "                System.out.println(answer);\n",
    "                if (answer.equals(\"String name = Bob;\")) {\n",
    "                    score += 200; \n",
    "                }\n",
    "            case 300:\n",
    "                System.out.println(\"What is the conditional called to do something if something happens or do something else if something else happens? \");\n",
    "                answer = questionManySpace.nextLine();\n",
    "                System.out.println(answer);\n",
    "                if (answer.equals(\"if-else\")) {\n",
    "                    score += 300; \n",
    "                }\n",
    "            case 400:\n",
    "                System.out.println(\"How do you create a scanner object with name scanner? \");\n",
    "                answer = questionManySpace.nextLine();\n",
    "                System.out.println(answer);\n",
    "                if (answer.equals(\"Scanner scanner = new Scanner(System.in)\")) {\n",
    "                    score += 400;\n",
    "                }\n",
    "            case 500: \n",
    "                System.out.println(\"What backend framework runs on lwu1822.tk? \");\n",
    "                answer = questionManySpace.nextLine();\n",
    "                System.out.println(answer);\n",
    "                if (answer.equals(\"Spring\")) {\n",
    "                    score += 500; \n",
    "                }\n",
    "        }\n",
    "\n",
    "        System.out.println(\"Your total score is: \" + score);\n",
    "    }\n",
    "}\n",
    "Jeopardy.main(null);"
   ]
  },
  {
   "cell_type": "markdown",
   "metadata": {},
   "source": [
    "<br>\n",
    "\n",
    "# De Morgan's Law\n",
    "\n",
    "First, some vocab:\n",
    "* Set: A group of objects\n",
    "* Universal set: A set that has all of the elements \n",
    "* Subsets: Contains elements from the universal set \n",
    "* Complement: For example, if we have set A, the complement of set A would have the elements in the universal set, but not in set A. \n",
    "* Union: New set has elements from both sets\n",
    "\n",
    "  Symbol: ∪\n",
    "* Intersection: New sets has elements that are shared between both sets\n",
    "  \n",
    "  Symbol: ∩\n",
    "<br>\n",
    "\n",
    "De Morgan's Law is used in boolean algebra to help simplify expressions. \n",
    "\n",
    "**De Morgan's Law of Union** states that: \"The complement of the union of the two sets A and B will be equal to the intersection of A' (complement of A) and B' (complement of B).\" {% fn 1 %}\n",
    "\n",
    "Formula: (A ∪ B)' = A'∩ B'\n",
    "\n",
    "**De Morgan's Law of Intersection** states that: \"The complement of the intersection of A and B will be equal to the union of A' and B'.\" {% fn 2 %}\n",
    "\n",
    "Formula: (A ∩ B)’ = A’ ∪ B’\n",
    "\n",
    "<br>\n",
    "\n",
    "The following is an example: \n",
    "\n",
    "Universal set: {1, 3, 5, 6, 8, 9}\n",
    "Set A: {1, 3}\n",
    "Set B: {5, 6, 8}\n",
    "\n",
    "De Morgan's Law of Union: (A ∪ B)' = {9}\n",
    "\n",
    "A'∩ B' = {9}\n",
    "\n",
    "(A ∪ B)' = A'∩ B'\n",
    "\n",
    "De Morgan's Law of Intersection: (A ∩ B)' = {1, 3, 5, 6, 8, 9}\n",
    "\n",
    "A’ ∪ B’ = {1, 3, 5, 6, 8, 9}\n",
    "\n",
    "(A ∩ B)’ = A’ ∪ B’\n",
    "\n",
    "{{ '[1](https://www.cuemath.com/data/de-morgans-law/)' | fndetail: 1 }}\n",
    "\n",
    "{{ '[2](https://www.cuemath.com/data/de-morgans-law/)' | fndetail: 1 }}"
   ]
  }
 ],
 "metadata": {
  "celltoolbar": "Tags",
  "kernelspec": {
   "display_name": "Java",
   "language": "java",
   "name": "java"
  },
  "language_info": {
   "codemirror_mode": "java",
   "file_extension": ".jshell",
   "mimetype": "text/x-java-source",
   "name": "Java",
   "pygments_lexer": "java",
   "version": "11.0.16+8-post-Ubuntu-0ubuntu120.04"
  },
  "vscode": {
   "interpreter": {
    "hash": "f260b6b3ae1ef2114af89aa0dee38d5682df0763aaac2870f1e656463369401e"
   }
  }
 },
 "nbformat": 4,
 "nbformat_minor": 2
}
