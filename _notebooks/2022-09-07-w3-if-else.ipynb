{
 "cells": [
  {
   "cell_type": "markdown",
   "metadata": {},
   "source": [
    "# If-Else Lesson\n",
    "> Lesson on how to use conditionals in Java\n",
    "\n",
    "- toc: true \n",
    "- badges: true\n",
    "- comments: true\n",
    "- categories: [java]"
   ]
  },
  {
   "cell_type": "markdown",
   "metadata": {},
   "source": [
    "# If \n",
    "\n",
    "`if` is a conditional statement. It tests \"if the condition is true, then run the code within the if statement\"\n",
    "\n",
    "The `if` statement syntax is like this:\n",
    "\n",
    "```\n",
    "if (condition) {\n",
    "    // code\n",
    "}\n",
    "```\n",
    "\n",
    "Types of conditions: \n",
    "* a < b\n",
    "* a <= b\n",
    "* a > b\n",
    "* a >= b \n",
    "* a == b\n",
    "* a != b\n",
    "* true\n",
    "* false\n"
   ]
  },
  {
   "cell_type": "code",
   "execution_count": 1,
   "metadata": {},
   "outputs": [
    {
     "name": "stdout",
     "output_type": "stream",
     "text": [
      "Don't forget to bring an umbrella!\n"
     ]
    }
   ],
   "source": [
    "public class IfElseLesson{\n",
    "    public static void main(String[] args) {\n",
    "        String weather = \"rainy\"; // assign variable weather to the current weather (rainy)\n",
    "\n",
    "        // if the weather is rainy, remind the user to bring an umbrella\n",
    "        if (weather == \"rainy\") {\n",
    "            System.out.println(\"Don't forget to bring an umbrella!\"); \n",
    "        }\n",
    "    }\n",
    "}\n",
    "IfElseLesson.main(null)"
   ]
  },
  {
   "cell_type": "markdown",
   "metadata": {},
   "source": [
    "<br> \n",
    "\n",
    "# If-else\n",
    "\n",
    "The syntax for `if-else` statements are as follows:\n",
    "\n",
    "```\n",
    "if (condition) {\n",
    "    // run this if condition is true\n",
    "} else {\n",
    "    // run this if condition is false\n",
    "}\n",
    "```"
   ]
  },
  {
   "cell_type": "code",
   "execution_count": 2,
   "metadata": {},
   "outputs": [
    {
     "name": "stdout",
     "output_type": "stream",
     "text": [
      "No need for an umbrella!\n"
     ]
    }
   ],
   "source": [
    "public class IfElseLesson{\n",
    "    public static void main(String[] args) {\n",
    "        String weather = \"sunny\"; // assign variable weather to sunny\n",
    "\n",
    "        // if weather is rainy, remind to bring an umbrella\n",
    "        // otherwise, no need to bring an umbrella\n",
    "        if (weather == \"rainy\") {\n",
    "            System.out.println(\"Don't forget to bring an umbrella!\");\n",
    "        } else {\n",
    "            System.out.println(\"No need for an umbrella!\");\n",
    "        }\n",
    "    }\n",
    "}\n",
    "IfElseLesson.main(null)"
   ]
  },
  {
   "cell_type": "markdown",
   "metadata": {},
   "source": [
    "<br> \n",
    "\n",
    "# Else-if\n",
    "\n",
    "`else-if` statements are written like this:\n",
    "\n",
    "```\n",
    "if (condition) {\n",
    "    // run if condition is true\n",
    "} else if (condition 2) {\n",
    "    // run if condition is false and condition 2 is true\n",
    "}"
   ]
  },
  {
   "cell_type": "code",
   "execution_count": 5,
   "metadata": {},
   "outputs": [
    {
     "name": "stdout",
     "output_type": "stream",
     "text": [
      "Don't forget to bring an umbrella!\n"
     ]
    }
   ],
   "source": [
    "public class IfElseLesson{\n",
    "    public static void main(String[] args) {\n",
    "        String weather = \"rainy\"; // assign variable weather to rainy\n",
    "\n",
    "        // if weather is rainy, remind to bring an umbrella\n",
    "        // if weather is sunny, remind to bring a hat\n",
    "        if (weather == \"rainy\") {\n",
    "            System.out.println(\"Don't forget to bring an umbrella!\"); \n",
    "        } else if (weather == \"sunny\") {\n",
    "            System.out.println(\"Don't forget to bring a hat!\");\n",
    "        }\n",
    "    }\n",
    "}\n",
    "IfElseLesson.main(null)"
   ]
  },
  {
   "cell_type": "markdown",
   "metadata": {},
   "source": [
    "Setting variable `weather` to sunny:"
   ]
  },
  {
   "cell_type": "code",
   "execution_count": 1,
   "metadata": {},
   "outputs": [
    {
     "name": "stdout",
     "output_type": "stream",
     "text": [
      "Don't forget to bring a hat!\n"
     ]
    }
   ],
   "source": [
    "public class IfElseLesson{\n",
    "    public static void main(String[] args) {\n",
    "        String weather = \"sunny\";\n",
    "\n",
    "        if (weather == \"rainy\") {\n",
    "            System.out.println(\"Don't forget to bring an umbrella!\");\n",
    "        } else if (weather == \"sunny\") {\n",
    "            System.out.println(\"Don't forget to bring a hat!\");\n",
    "        }\n",
    "    }\n",
    "}\n",
    "IfElseLesson.main(null)"
   ]
  }
 ],
 "metadata": {
  "kernelspec": {
   "display_name": "Java",
   "language": "java",
   "name": "java"
  },
  "language_info": {
   "codemirror_mode": "java",
   "file_extension": ".jshell",
   "mimetype": "text/x-java-source",
   "name": "java",
   "pygments_lexer": "java",
   "version": "11.0.16+8-post-Ubuntu-0ubuntu120.04"
  },
  "orig_nbformat": 4,
  "vscode": {
   "interpreter": {
    "hash": "f260b6b3ae1ef2114af89aa0dee38d5682df0763aaac2870f1e656463369401e"
   }
  }
 },
 "nbformat": 4,
 "nbformat_minor": 2
}
