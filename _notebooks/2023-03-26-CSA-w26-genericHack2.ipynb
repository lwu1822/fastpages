{
 "cells": [
  {
   "attachments": {},
   "cell_type": "markdown",
   "metadata": {},
   "source": [
    "# Generics Hacks 2\n",
    "> Generics Hacks 2"
   ]
  },
  {
   "cell_type": "code",
   "execution_count": 1,
   "metadata": {},
   "outputs": [],
   "source": [
    "public class Output <T>{\n",
    "    T outputText;\n",
    "\n",
    "    public Output(T outputText) {\n",
    "        this.outputText = outputText;\n",
    "    }\n",
    "\n",
    "    public void out() {\n",
    "        System.out.println(outputText);\n",
    "    }\n",
    "\n",
    "}"
   ]
  },
  {
   "cell_type": "code",
   "execution_count": 3,
   "metadata": {},
   "outputs": [
    {
     "name": "stdout",
     "output_type": "stream",
     "text": [
      "1\n",
      "test\n"
     ]
    }
   ],
   "source": [
    "public class Print {\n",
    "    public static void main(String[] args) {\n",
    "        Output<Integer> intEx = new Output<>(1);\n",
    "        intEx.out(); \n",
    "\n",
    "        Output<String> intEx2 = new Output<>(\"test\");\n",
    "        intEx2.out();\n",
    "    }\n",
    "}\n",
    "Print.main(null)"
   ]
  }
 ],
 "metadata": {
  "kernelspec": {
   "display_name": "Java",
   "language": "java",
   "name": "java"
  },
  "language_info": {
   "codemirror_mode": "java",
   "file_extension": ".jshell",
   "mimetype": "text/x-java-source",
   "name": "java",
   "pygments_lexer": "java",
   "version": "17.0.5+8-Ubuntu-2ubuntu120.04"
  },
  "orig_nbformat": 4
 },
 "nbformat": 4,
 "nbformat_minor": 2
}
