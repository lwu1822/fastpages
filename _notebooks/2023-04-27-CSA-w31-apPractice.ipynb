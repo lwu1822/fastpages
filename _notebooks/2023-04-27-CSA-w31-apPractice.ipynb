{
 "cells": [
  {
   "attachments": {},
   "cell_type": "markdown",
   "metadata": {},
   "source": [
    "# AP Practice\n",
    "> AP Practice"
   ]
  },
  {
   "attachments": {},
   "cell_type": "markdown",
   "metadata": {},
   "source": [
    "# 2D Array"
   ]
  },
  {
   "cell_type": "code",
   "execution_count": 1,
   "metadata": {
    "vscode": {
     "languageId": "java"
    }
   },
   "outputs": [],
   "source": [
    "public class Item {\n",
    "    private String name;\n",
    "    private int value;\n",
    "\n",
    "    public Item(String itemName, int itemValue) {\n",
    "        name = itemName;\n",
    "        value = itemValue;\n",
    "    }\n",
    "\n",
    "    public String getName() {\n",
    "        return name;\n",
    "    }\n",
    "\n",
    "    public int getValue() {\n",
    "        return value;   \n",
    "    }\n",
    "}"
   ]
  },
  {
   "cell_type": "code",
   "execution_count": 28,
   "metadata": {
    "vscode": {
     "languageId": "java"
    }
   },
   "outputs": [
    {
     "name": "stdout",
     "output_type": "stream",
     "text": [
      "book\n",
      "flag\n",
      "jacket\n",
      "lunch\n",
      "Average: 9.5\n"
     ]
    }
   ],
   "source": [
    "public class ItemGrid {\n",
    "    private Item[][] grid;\n",
    "\n",
    "    public ItemGrid() {\n",
    "        grid = new Item[3][4];\n",
    "\n",
    "        grid[0][0] = new Item(\"acorn\", 7);\n",
    "        grid[0][1] = new Item(\"book\", 10);\n",
    "        grid[0][2] = new Item(\"carrot\", 8);\n",
    "        grid[0][3] = new Item(\"desk\", 9);\n",
    "        grid[1][0] = new Item(\"egg\", 5);\n",
    "        grid[1][1] = new Item(\"flag\", 8);\n",
    "        grid[1][2] = new Item(\"globe\", 8);\n",
    "        grid[1][3] = new Item(\"harp\", 9);\n",
    "        grid[2][0] = new Item(\"island\", 7);\n",
    "        grid[2][1] = new Item(\"jacket\", 19);\n",
    "        grid[2][2] = new Item(\"kale\", 8);\n",
    "        grid[2][3] = new Item(\"lunch\", 16);\n",
    "    }\n",
    "\n",
    "    public boolean isValid(int xPos, int yPos) {\n",
    "        try {\n",
    "            Item item = grid[xPos][yPos];\n",
    "            return true;\n",
    "        } catch(ArrayIndexOutOfBoundsException e) {\n",
    "            return false;\n",
    "        }\n",
    "    }\n",
    "\n",
    "    public String mostValuableNeighbor(int r, int c) {\n",
    "    \n",
    "        int middle = grid[r][c].getValue(); \n",
    "\n",
    "        if (isValid(r, c - 1) && isValid(r, c + 1)) {\n",
    "            int left = grid[r][c - 1].getValue();\n",
    "            int right = grid[r][c + 1].getValue();\n",
    "            if (middle >= left && middle >= right) {\n",
    "                return grid[r][c].getName();\n",
    "            }\n",
    "            if (left >= middle && left >= right) {\n",
    "                return grid[r][c - 1].getName();\n",
    "            }\n",
    "            if (right >= middle && right >= left) {\n",
    "                return grid[r][c + 1].getName();\n",
    "            }\n",
    "        }\n",
    "        if (!isValid(r, c - 1)) {\n",
    "            int right = grid[r][c+1].getValue();\n",
    "            if (middle >= right) {\n",
    "                return grid[r][c].getName();\n",
    "            } else {\n",
    "                return grid[r][c + 1].getName();\n",
    "            }\n",
    "        }\n",
    "        if (!isValid(r, c+1)) {\n",
    "            int left = grid[r][c - 1].getValue();\n",
    "            if (middle >= left) {\n",
    "                return grid[r][c].getName();\n",
    "            } else {\n",
    "                return grid[r][c - 1].getName();\n",
    "            }\n",
    "        }\n",
    "        return null;\n",
    "    }\n",
    "\n",
    "\n",
    "    public double findAverage() {\n",
    "        int sum = 0;\n",
    "        int count = 0;\n",
    "        for (int i = 0; i < grid.length; i++) {\n",
    "            for (int j = 0; j < grid[0].length; j++) {\n",
    "                sum += grid[i][j].getValue();\n",
    "                count++;\n",
    "            }\n",
    "        }\n",
    "        //System.out.println((double)sum/(double)count);\n",
    "        return (double)sum/(double)count;\n",
    "    }\n",
    "\n",
    "    public static void main(String[] args) {\n",
    "        ItemGrid ig = new ItemGrid();\n",
    "        System.out.println(ig.mostValuableNeighbor(0, 2));\n",
    "        System.out.println(ig.mostValuableNeighbor(1, 1));\n",
    "        System.out.println(ig.mostValuableNeighbor(2, 0));\n",
    "        System.out.println(ig.mostValuableNeighbor(2, 3));\n",
    "\n",
    "        System.out.println(\"Average: \" + ig.findAverage());\n",
    "    }\n",
    "}    \n",
    "ItemGrid.main(null)"
   ]
  },
  {
   "attachments": {},
   "cell_type": "markdown",
   "metadata": {},
   "source": [
    "# Arrays, ArrayLists"
   ]
  },
  {
   "cell_type": "code",
   "execution_count": 29,
   "metadata": {
    "vscode": {
     "languageId": "java"
    }
   },
   "outputs": [],
   "source": [
    "public boolean addRepair(int m, int b) {\n",
    "    boolean available = true;\n",
    "    for (CarRepair car : schedule) {\n",
    "        if (m == car.getMechanicNum()) {\n",
    "            available = false;\n",
    "        }\n",
    "        if (b == car.getBayNum()) {\n",
    "            available = false;\n",
    "        }\n",
    "    }\n",
    "\n",
    "    schedule.add(new CarRepair(m, b));\n",
    "    return available;\n",
    "}"
   ]
  }
 ],
 "metadata": {
  "kernelspec": {
   "display_name": "Java",
   "language": "java",
   "name": "java"
  },
  "language_info": {
   "codemirror_mode": "java",
   "file_extension": ".jshell",
   "mimetype": "text/x-java-source",
   "name": "Java",
   "pygments_lexer": "java",
   "version": "17.0.5+8-Ubuntu-2ubuntu120.04"
  },
  "orig_nbformat": 4
 },
 "nbformat": 4,
 "nbformat_minor": 2
}
