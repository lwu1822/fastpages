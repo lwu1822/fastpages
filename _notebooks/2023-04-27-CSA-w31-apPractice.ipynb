{
 "cells": [
  {
   "attachments": {},
   "cell_type": "markdown",
   "metadata": {},
   "source": [
    "# AP Practice\n",
    "> AP Practice"
   ]
  },
  {
   "attachments": {},
   "cell_type": "markdown",
   "metadata": {},
   "source": [
    "# 2D Array"
   ]
  },
  {
   "cell_type": "code",
   "execution_count": 1,
   "metadata": {
    "vscode": {
     "languageId": "java"
    }
   },
   "outputs": [],
   "source": [
    "public class Item {\n",
    "    private String name;\n",
    "    private int value;\n",
    "\n",
    "    public Item(String itemName, int itemValue) {\n",
    "        name = itemName;\n",
    "        value = itemValue;\n",
    "    }\n",
    "\n",
    "    public String getName() {\n",
    "        return name;\n",
    "    }\n",
    "\n",
    "    public int getValue() {\n",
    "        return value;   \n",
    "    }\n",
    "}"
   ]
  },
  {
   "cell_type": "code",
   "execution_count": 28,
   "metadata": {
    "vscode": {
     "languageId": "java"
    }
   },
   "outputs": [
    {
     "name": "stdout",
     "output_type": "stream",
     "text": [
      "book\n",
      "flag\n",
      "jacket\n",
      "lunch\n",
      "Average: 9.5\n"
     ]
    }
   ],
   "source": [
    "public class ItemGrid {\n",
    "    private Item[][] grid;\n",
    "\n",
    "    public ItemGrid() {\n",
    "        grid = new Item[3][4];\n",
    "\n",
    "        grid[0][0] = new Item(\"acorn\", 7);\n",
    "        grid[0][1] = new Item(\"book\", 10);\n",
    "        grid[0][2] = new Item(\"carrot\", 8);\n",
    "        grid[0][3] = new Item(\"desk\", 9);\n",
    "        grid[1][0] = new Item(\"egg\", 5);\n",
    "        grid[1][1] = new Item(\"flag\", 8);\n",
    "        grid[1][2] = new Item(\"globe\", 8);\n",
    "        grid[1][3] = new Item(\"harp\", 9);\n",
    "        grid[2][0] = new Item(\"island\", 7);\n",
    "        grid[2][1] = new Item(\"jacket\", 19);\n",
    "        grid[2][2] = new Item(\"kale\", 8);\n",
    "        grid[2][3] = new Item(\"lunch\", 16);\n",
    "    }\n",
    "\n",
    "    public boolean isValid(int xPos, int yPos) {\n",
    "        try {\n",
    "            Item item = grid[xPos][yPos];\n",
    "            return true;\n",
    "        } catch(ArrayIndexOutOfBoundsException e) {\n",
    "            return false;\n",
    "        }\n",
    "    }\n",
    "\n",
    "    public String mostValuableNeighbor(int r, int c) {\n",
    "    \n",
    "        int middle = grid[r][c].getValue(); \n",
    "\n",
    "        if (isValid(r, c - 1) && isValid(r, c + 1)) {\n",
    "            int left = grid[r][c - 1].getValue();\n",
    "            int right = grid[r][c + 1].getValue();\n",
    "            if (middle >= left && middle >= right) {\n",
    "                return grid[r][c].getName();\n",
    "            }\n",
    "            if (left >= middle && left >= right) {\n",
    "                return grid[r][c - 1].getName();\n",
    "            }\n",
    "            if (right >= middle && right >= left) {\n",
    "                return grid[r][c + 1].getName();\n",
    "            }\n",
    "        }\n",
    "        if (!isValid(r, c - 1)) {\n",
    "            int right = grid[r][c+1].getValue();\n",
    "            if (middle >= right) {\n",
    "                return grid[r][c].getName();\n",
    "            } else {\n",
    "                return grid[r][c + 1].getName();\n",
    "            }\n",
    "        }\n",
    "        if (!isValid(r, c+1)) {\n",
    "            int left = grid[r][c - 1].getValue();\n",
    "            if (middle >= left) {\n",
    "                return grid[r][c].getName();\n",
    "            } else {\n",
    "                return grid[r][c - 1].getName();\n",
    "            }\n",
    "        }\n",
    "        return null;\n",
    "    }\n",
    "\n",
    "\n",
    "    public double findAverage() {\n",
    "        int sum = 0;\n",
    "        int count = 0;\n",
    "        for (int i = 0; i < grid.length; i++) {\n",
    "            for (int j = 0; j < grid[0].length; j++) {\n",
    "                sum += grid[i][j].getValue();\n",
    "                count++;\n",
    "            }\n",
    "        }\n",
    "        //System.out.println((double)sum/(double)count);\n",
    "        return (double)sum/(double)count;\n",
    "    }\n",
    "\n",
    "    public static void main(String[] args) {\n",
    "        ItemGrid ig = new ItemGrid();\n",
    "        System.out.println(ig.mostValuableNeighbor(0, 2));\n",
    "        System.out.println(ig.mostValuableNeighbor(1, 1));\n",
    "        System.out.println(ig.mostValuableNeighbor(2, 0));\n",
    "        System.out.println(ig.mostValuableNeighbor(2, 3));\n",
    "\n",
    "        System.out.println(\"Average: \" + ig.findAverage());\n",
    "    }\n",
    "}    \n",
    "ItemGrid.main(null)"
   ]
  },
  {
   "attachments": {},
   "cell_type": "markdown",
   "metadata": {},
   "source": [
    "# Arrays, ArrayLists"
   ]
  },
  {
   "cell_type": "code",
   "execution_count": 30,
   "metadata": {
    "vscode": {
     "languageId": "java"
    }
   },
   "outputs": [],
   "source": [
    "public class CarRepair {\n",
    "    private int mechanicNum;\n",
    "    private int bayNum;\n",
    "\n",
    "    public CarRepair(int m, int b) {\n",
    "        mechanicNum = m;\n",
    "        bayNum = b;\n",
    "    }\n",
    "\n",
    "    public int getMechanicNum() {\n",
    "         return mechanicNum; \n",
    "    }\n",
    "\n",
    "    public int getBayNum() { \n",
    "        return bayNum; \n",
    "    }\n",
    "\n",
    "// There may be other instance variables, constructors, and methods not shown.\n",
    "\n",
    "}"
   ]
  },
  {
   "cell_type": "code",
   "execution_count": 36,
   "metadata": {
    "vscode": {
     "languageId": "java"
    }
   },
   "outputs": [
    {
     "name": "stdout",
     "output_type": "stream",
     "text": [
      "true\n",
      "false\n",
      "true\n",
      "[2, 3, 4, 5]\n"
     ]
    }
   ],
   "source": [
    "public class RepairSchedule {\n",
    "    /** Each element represents a repair by an individual mechanic in a bay. */\n",
    "    private ArrayList<CarRepair> schedule;\n",
    "\n",
    "    /** Number of mechanics available in this schedule. */\n",
    "    private int numberOfMechanics;\n",
    "\n",
    "    /** Constructs a RepairSchedule object.\n",
    "    * Precondition: n >= 0\n",
    "    */\n",
    "\n",
    "    public RepairSchedule(int n) {\n",
    "        schedule = new ArrayList<CarRepair>();\n",
    "        numberOfMechanics = n;\n",
    "    }\n",
    "    /** Attempts to schedule a repair by a given mechanic in a given bay as described in part (a).\n",
    "    * Precondition: 0 <= m < numberOfMechanics and b >= 0\n",
    "    */\n",
    "\n",
    "    public boolean addRepair(int m, int b) {\n",
    "    /* to be implemented in part (a) */\n",
    "        boolean available = true;\n",
    "        for (CarRepair car : schedule) {\n",
    "            if (m == car.getMechanicNum()) {\n",
    "                available = false;\n",
    "            }\n",
    "            if (b == car.getBayNum()) {\n",
    "                available = false;\n",
    "            }\n",
    "        }\n",
    "\n",
    "        if (available) {\n",
    "            schedule.add(new CarRepair(m, b));\n",
    "        }\n",
    "        return available;\n",
    "    }\n",
    "    /** Returns an ArrayList containing the mechanic identifiers of all available mechanics,\n",
    "\n",
    "    * as described in part (b).\n",
    "\n",
    "    */\n",
    "\n",
    "    public ArrayList<Integer> availableMechanics() {\n",
    "        ArrayList<Integer> mechanic = new ArrayList<Integer>();\n",
    "        for (int i = 0; i <= numberOfMechanics; i++) {\n",
    "            Integer num = new Integer(i);\n",
    "            mechanic.add(num);\n",
    "        }\n",
    "\n",
    "        for (CarRepair car : schedule) {\n",
    "            //Integer removeNum = new Integer(car.getMechanicNum());\n",
    "            int removeNum = car.getMechanicNum();\n",
    "            for (int i = mechanic.size() - 1; i >= 0; i--) {\n",
    "                if (mechanic.get(i).intValue() == removeNum) {\n",
    "                    mechanic.remove(i);\n",
    "                }\n",
    "            }\n",
    "        }\n",
    "\n",
    "        return mechanic;\n",
    "    }\n",
    "\n",
    "    /** Removes an element from schedule when a repair is complete. */\n",
    "\n",
    "    /* \n",
    "    public void carOut(int b) {\n",
    "\n",
    "    }\n",
    "    */\n",
    "\n",
    "    public static void main(String[] args) {\n",
    "        RepairSchedule schedule1 = new RepairSchedule(5);\n",
    "        System.out.println(schedule1.addRepair(0, 0));\n",
    "        System.out.println(schedule1.addRepair(0, 3));\n",
    "        System.out.println(schedule1.addRepair(1, 3));\n",
    "        System.out.println(schedule1.availableMechanics());\n",
    "    }\n",
    "\n",
    "}\n",
    "RepairSchedule.main(null);"
   ]
  },
  {
   "attachments": {},
   "cell_type": "markdown",
   "metadata": {},
   "source": [
    "# Class"
   ]
  },
  {
   "cell_type": "code",
   "execution_count": 38,
   "metadata": {
    "vscode": {
     "languageId": "java"
    }
   },
   "outputs": [
    {
     "name": "stdout",
     "output_type": "stream",
     "text": [
      "2\n",
      "5\n",
      "11\n",
      "2\n",
      "2\n"
     ]
    }
   ],
   "source": [
    "public class AdditionPattern {\n",
    "    private int current;\n",
    "    private int add;\n",
    "\n",
    "    public AdditionPattern(int current, int add) {\n",
    "        this.current = current;\n",
    "        this.add = add;\n",
    "    }\n",
    "\n",
    "    public int currentNumber() {\n",
    "        return current;\n",
    "    }\n",
    "\n",
    "    public void next() {\n",
    "        current += add;\n",
    "    }\n",
    "\n",
    "    public void prev() {\n",
    "        if (current - add >= 0) {\n",
    "            current -= add;\n",
    "        }\n",
    "    }\n",
    "\n",
    "    public static void main(String[] args) {\n",
    "        AdditionPattern plus3 = new AdditionPattern(2, 3);\n",
    "        System.out.println(plus3.currentNumber());\n",
    "        plus3.next();\n",
    "        System.out.println(plus3.currentNumber());\n",
    "        plus3.next();\n",
    "        plus3.next();\n",
    "        System.out.println(plus3.currentNumber());\n",
    "        plus3.prev();\n",
    "        plus3.prev();\n",
    "        plus3.prev();\n",
    "        System.out.println(plus3.currentNumber());\n",
    "        plus3.prev();\n",
    "        System.out.println(plus3.currentNumber());\n",
    "    }\n",
    "}\n",
    "AdditionPattern.main(null)"
   ]
  },
  {
   "attachments": {},
   "cell_type": "markdown",
   "metadata": {},
   "source": [
    "# Methods and Control Structure"
   ]
  },
  {
   "cell_type": "code",
   "execution_count": null,
   "metadata": {
    "vscode": {
     "languageId": "java"
    }
   },
   "outputs": [],
   "source": [
    "public static int getCheck(int num) {\n",
    "    int digitNum = getNumberOfDigits(num);\n",
    "    int result = 0;\n",
    "    for (int i = 1; i <= digitNum; i++) {\n",
    "        result += (getDigit(num, i) * (8 - i));\n",
    "    }\n",
    "    return result % 10;\n",
    "}"
   ]
  },
  {
   "cell_type": "code",
   "execution_count": null,
   "metadata": {
    "vscode": {
     "languageId": "java"
    }
   },
   "outputs": [],
   "source": [
    "public static boolean isValid(int numWithCheckDigit) {\n",
    "    int num = numWithCheckDigit/10;\n",
    "\n",
    "    if (getCheck(num) == (numWithCheckDigit % 10)) {\n",
    "        return true;\n",
    "    }\n",
    "    return false;\n",
    "\n",
    "}"
   ]
  }
 ],
 "metadata": {
  "kernelspec": {
   "display_name": "Java",
   "language": "java",
   "name": "java"
  },
  "language_info": {
   "codemirror_mode": "java",
   "file_extension": ".jshell",
   "mimetype": "text/x-java-source",
   "name": "Java",
   "pygments_lexer": "java",
   "version": "17.0.5+8-Ubuntu-2ubuntu120.04"
  },
  "orig_nbformat": 4
 },
 "nbformat": 4,
 "nbformat_minor": 2
}
