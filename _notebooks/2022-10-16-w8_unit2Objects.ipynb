{
 "cells": [
  {
   "cell_type": "markdown",
   "metadata": {},
   "source": [
    "# \"Unit 2 Using Objects\"\n",
    "> Homework for Unit 2&#58; Using Objects \n",
    "\n",
    "- toc: true \n",
    "- badges: true\n",
    "- comments: true"
   ]
  },
  {
   "cell_type": "markdown",
   "metadata": {},
   "source": [
    "# 1a\n",
    "\n",
    "## Initial attempt: \n",
    "\n",
    "Comments: I started off alright; however, I was soon stuck at the for loop part. I knew that I had to use a for loop to perform iteration that will compare the substring to `secret`, but I did not know how to compare to certain characters within a string. After looking at part of the answers, I found that the program utilized the `substring()` method, which I did not know what it did. After some googling, I applied my knowledge to the code below in my second attempt. "
   ]
  },
  {
   "cell_type": "code",
   "execution_count": null,
   "metadata": {
    "vscode": {
     "languageId": "java"
    }
   },
   "outputs": [],
   "source": [
    "public int scoreGuess(String guess) {\n",
    "    int substring; \n",
    "    int length = guess.length(); \n",
    "    int score;\n",
    "\n",
    "    for ()\n",
    "\n",
    "\n",
    "    score = substring * length * length;\n",
    "}"
   ]
  },
  {
   "cell_type": "markdown",
   "metadata": {},
   "source": [
    "## Second attempt\n",
    "\n",
    "Comments: This attempt mostly matched the answer key. One thing that I did wrong, however, was that in my comparison in the `if` statement, I used `==` instead of `.equals`. I have seen `.equals()` before, but I have never used it, so once again, I had to do some googling. I learned that if you want to compare two objects, you would need to use the `.equals()` method. In this case, `secret` is an object, as indicated by this line of code: `private String secret;`"
   ]
  },
  {
   "cell_type": "code",
   "execution_count": null,
   "metadata": {
    "vscode": {
     "languageId": "java"
    }
   },
   "outputs": [],
   "source": [
    "public int scoreGuess(String guess) {\n",
    "    int length = guess.length(); \n",
    "    int count; \n",
    "    int score;\n",
    "\n",
    "    for (int i = 0; i < (secret.length() - (length - 1)); i++) {\n",
    "        if (guess == secret.substring(i, length)) {\n",
    "            count++; \n",
    "            length++; \n",
    "        }\n",
    "    }\n",
    "\n",
    "\n",
    "    score = count * length * length;\n",
    "\n",
    "    return score; \n",
    "}"
   ]
  },
  {
   "cell_type": "markdown",
   "metadata": {},
   "source": [
    "## Correction:"
   ]
  },
  {
   "cell_type": "code",
   "execution_count": null,
   "metadata": {
    "vscode": {
     "languageId": "java"
    }
   },
   "outputs": [],
   "source": [
    "public int scoreGuess(String guess) {\n",
    "    int length = guess.length(); \n",
    "    int count; \n",
    "    int score;\n",
    "\n",
    "    for (int i = 0; i < (secret.length() - (length - 1)); i++) {\n",
    "        if (guess.equals(secret.substring(i, length))) {\n",
    "            count++; \n",
    "            length++; \n",
    "        }\n",
    "    }\n",
    "\n",
    "\n",
    "    score = count * length * length;\n",
    "\n",
    "    return score; \n",
    "}"
   ]
  },
  {
   "cell_type": "markdown",
   "metadata": {},
   "source": [
    "<br>\n",
    "\n",
    "# 1b\n",
    "\n",
    "## Initial attempt:\n",
    "\n",
    "Comments: I made this a lot more complicated than it needed to be 😳\n",
    "\n",
    "Mistakes: I forgot that objects do not need to be created within the `findBetterGuess` method since `findBetterGuess` and `scoreGuess` are in the same class. \n",
    "\n",
    "Looking at the answer, I learned about the method called `compareTo()`, which allowed for comparison between strings. `compareTo()` returns an integer, in which if the integer is smaller than 0, the first string is alphabetically smaller than the second string. If the integer is greater than 0, the first string is alphabetically greater than the second string. If the integer is equal to 0 --- you guessed it ---, both strings are the same.  "
   ]
  },
  {
   "cell_type": "code",
   "execution_count": null,
   "metadata": {
    "vscode": {
     "languageId": "java"
    }
   },
   "outputs": [],
   "source": [
    "public String findBetterGuess(String guess1, String guess2) {\n",
    "    WordMatch string1 = new WordMatch(guess1);\n",
    "    WordMatch string2 = new WordMatch(guess2);\n",
    "    \n",
    "    int score1 = string1.scoreGuess(guess1);\n",
    "    int score2 = string2.scoreGuess(guess2); \n",
    "\n",
    "    if (score1 > score2) {\n",
    "        return guess1; \n",
    "    } else if (score1 < score2) {\n",
    "        return guess2; \n",
    "    } else {\n",
    "        int smallGuess = Math.min(guess1.length(), guess2.length());\n",
    "        for (int i = 0; i < smallGuess; i++) {\n",
    "            String individualCh1 = guess1.substring(i, i);\n",
    "            String individualCh2 = guess2.substring(i, i);\n",
    "\n",
    "            int chNum1 = individualCh1.indexOf(individualCh1);\n",
    "            int chNum2 = individualCh2.indexOf(individualCh2);\n",
    "\n",
    "            if (chNum1 > chNum2) {\n",
    "                return guess1;\n",
    "                break;\n",
    "            }\n",
    "\n",
    "            if (chNum2 > chNum1) {\n",
    "                return guess2; \n",
    "                break; \n",
    "            }\n",
    "\n",
    "        }\n",
    "    }\n",
    "\n",
    "}"
   ]
  }
 ],
 "metadata": {
  "kernelspec": {
   "display_name": "Java",
   "language": "java",
   "name": "java"
  },
  "language_info": {
   "codemirror_mode": "java",
   "file_extension": ".jshell",
   "mimetype": "text/x-java-source",
   "name": "Java",
   "pygments_lexer": "java",
   "version": "11.0.16+8-post-Ubuntu-0ubuntu120.04"
  },
  "orig_nbformat": 4,
  "vscode": {
   "interpreter": {
    "hash": "916dbcbb3f70747c44a77c7bcd40155683ae19c65e1c03b4aa3499c5328201f1"
   }
  }
 },
 "nbformat": 4,
 "nbformat_minor": 2
}
