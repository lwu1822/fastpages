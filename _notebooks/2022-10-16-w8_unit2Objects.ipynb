{
 "cells": [
  {
   "cell_type": "markdown",
   "metadata": {},
   "source": [
    "# \"Unit 2 Using Objects\"\n",
    "> Homework for Unit 2&#58; Using Objects \n",
    "\n",
    "- toc: true \n",
    "- badges: true\n",
    "- comments: true"
   ]
  },
  {
   "cell_type": "markdown",
   "metadata": {},
   "source": [
    "## Learnings\n",
    "\n",
    "This unit had some very important learnings for me. The first thing that I learned was that if two strings are created in the format of `String string1 = new String(\"string\")`, the `.equals()` method should be used to compare them.\n",
    "\n",
    "The second thing that I learned was that there is a way to compare if the attributes of two objects are the same using the `.equals()` method. However, this requires some manual overriding of the `.equals()` method **because by default, `.equals()` works the same as `==`, which compares the object memory address**. You can still compare if two objects are the same object with `==`."
   ]
  },
  {
   "cell_type": "markdown",
   "metadata": {},
   "source": [
    "# Notes\n",
    "\n",
    "\n",
    "Objects are instances of a class. There are three steps to create an object: **declaration, instantiation, and initialization**. Declaration is specified through a type followed by the variable name. Instantiation instantiates the object with the `new` keyword. Initialization occurs the name of the constructor method is specified after the `new` keyword.\n",
    "\n",
    "## Creating objects\n",
    "The syntax to create objects is: <code><em>Class-name</em> <em>object-name</em> = new <em>constructor-name</em></code>\n",
    "\n",
    "## Methods\n",
    "Methods are defined with a return type (int, bool, etc. or void (no return type)) and the method name.\n",
    "\n",
    "## Static vs non static\n",
    "A static method can only access other static methods, while a nonstatic method can access both static and nonstatic methods.\n",
    "\n",
    "## Math class\n",
    "Important methods: `Math.abs`, `Math.random()`"
   ]
  },
  {
   "cell_type": "markdown",
   "metadata": {},
   "source": [
    "\n",
    "# Comparing\n",
    "\n",
    "## Numbers\n",
    "\n",
    "Numbers can be compared using `==`. Numbers can always be compared with `==` because they are primitive types and not objects. "
   ]
  },
  {
   "cell_type": "code",
   "execution_count": 1,
   "metadata": {
    "vscode": {
     "languageId": "java"
    }
   },
   "outputs": [
    {
     "name": "stdout",
     "output_type": "stream",
     "text": [
      "a = b\n"
     ]
    }
   ],
   "source": [
    "\n",
    "int a = 5; \n",
    "int b = 5; \n",
    "\n",
    "if (a == b) {\n",
    "    System.out.println(\"a = b\"); \n",
    "}"
   ]
  },
  {
   "cell_type": "markdown",
   "metadata": {},
   "source": [
    "\n",
    "## Strings\n",
    "\n",
    "There are two ways to compare strings: `==` and `.equals()`. \n",
    "\n",
    "You can use `==` to compare strings when they are declared like this: <code>String <em>name</em> = \"<em>string</em>\";</code>\n",
    "\n",
    "An example is shown below: "
   ]
  },
  {
   "cell_type": "code",
   "execution_count": 2,
   "metadata": {
    "vscode": {
     "languageId": "java"
    }
   },
   "outputs": [
    {
     "name": "stdout",
     "output_type": "stream",
     "text": [
      "The two strings are equal\n"
     ]
    }
   ],
   "source": [
    "\n",
    "String a = \"foo\"; \n",
    "String b = \"foo\"; \n",
    "\n",
    "if (a == b) {\n",
    "    System.out.println(\"The two strings are equal\"); \n",
    "}"
   ]
  },
  {
   "cell_type": "markdown",
   "metadata": {},
   "source": [
    "\n",
    "However, if your two strings are objects, you can not use `==` to compare them (see below): "
   ]
  },
  {
   "cell_type": "code",
   "execution_count": 3,
   "metadata": {
    "vscode": {
     "languageId": "java"
    }
   },
   "outputs": [
    {
     "name": "stdout",
     "output_type": "stream",
     "text": [
      "The two strings are not equal\n"
     ]
    }
   ],
   "source": [
    "\n",
    "String a = new String(\"foo\"); \n",
    "String b = new String(\"foo\"); \n",
    "\n",
    "if (a == b) {\n",
    "    System.out.println(\"The two strings are equal\"); \n",
    "} else {\n",
    "    System.out.println(\"The two strings are not equal\"); \n",
    "}"
   ]
  },
  {
   "cell_type": "markdown",
   "metadata": {},
   "source": [
    "\n",
    "Instead, you need to use `.equals()` to compare the two string **objects**. "
   ]
  },
  {
   "cell_type": "code",
   "execution_count": 4,
   "metadata": {
    "vscode": {
     "languageId": "java"
    }
   },
   "outputs": [
    {
     "name": "stdout",
     "output_type": "stream",
     "text": [
      "The two strings are equal\n"
     ]
    }
   ],
   "source": [
    "\n",
    "String a = new String(\"foo\"); \n",
    "String b = new String(\"foo\"); \n",
    "\n",
    "if (a.equals(b)) {\n",
    "    System.out.println(\"The two strings are equal\"); \n",
    "} else {\n",
    "    System.out.println(\"The two strings are not equal\"); \n",
    "}"
   ]
  },
  {
   "cell_type": "markdown",
   "metadata": {},
   "source": [
    "\n",
    "Note: `a` and `b` are different objects, but they contain the same string of `foo`, which is what `.equals()` checks for. "
   ]
  },
  {
   "cell_type": "markdown",
   "metadata": {},
   "source": [
    "\n",
    "## Objects\n",
    "\n",
    "There is a way to compare if two objects have the same attributes using the `.equals()` method. However, you need to first override the method to do so. \n",
    "\n",
    "Below is an example: \n",
    "\n",
    "To override the `.equals()` method, you need to create the method that takes in an object. In this example, the object is the format of `Object obj`. In the `.equals()` method, `Object obj` refers to `test2`. Next, `obj` needs to be typecasted to the class, in this case `ObjectTest`, for comparison to work. The return statement checks to see if the attributes of the two objects are equal. Note: `this` refers to `test1`"
   ]
  },
  {
   "cell_type": "code",
   "execution_count": 5,
   "metadata": {
    "vscode": {
     "languageId": "java"
    }
   },
   "outputs": [
    {
     "name": "stdout",
     "output_type": "stream",
     "text": [
      "Same attributes\n"
     ]
    }
   ],
   "source": [
    "public class ObjectTest {\n",
    "    String attribute1;\n",
    "    String attribute2; \n",
    "    \n",
    "    // IMPORTANT: forgot to specify String in parameters\n",
    "    // see https://www.daniweb.com/programming/software-development/threads/346224/identifier-expected-in-constructor-definition\n",
    "    // youtube reference for comparing objects: https://www.youtube.com/watch?v=X2AjBFZfFCY\n",
    "    public ObjectTest(String attribute1, String attribute2) {\n",
    "        this.attribute1 = attribute1; \n",
    "        this.attribute2 = attribute2; \n",
    "    }\n",
    "\n",
    "    @Override\n",
    "    public boolean equals(Object obj) {\n",
    "        ObjectTest test = (ObjectTest)obj; \n",
    "        return this.attribute1.equals(test.attribute1) && this.attribute2.equals(test.attribute2);\n",
    "    }\n",
    "\n",
    "    public static void main(String[] args) {\n",
    "        ObjectTest test1 = new ObjectTest(\"a\", \"b\"); \n",
    "        ObjectTest test2 = new ObjectTest(\"a\", \"b\"); \n",
    "\n",
    "        \n",
    "        if (test1.equals(test2)) {\n",
    "            System.out.println(\"Same attributes\"); \n",
    "        }\n",
    "    }\n",
    "}\n",
    "ObjectTest.main(null)"
   ]
  },
  {
   "cell_type": "markdown",
   "metadata": {},
   "source": [
    "# 1a\n",
    "\n",
    "## Initial attempt: \n",
    "\n",
    "Comments: I started off alright; however, I was soon stuck at the for loop part. I knew that I had to use a for loop to perform iteration that will compare the substring to `secret`, but I did not know how to compare to certain characters within a string. After looking at part of the answers, I found that the program utilized the `substring()` method, which I did not know what it did. After some googling, I applied my knowledge to the code below in my second attempt. "
   ]
  },
  {
   "cell_type": "code",
   "execution_count": null,
   "metadata": {
    "vscode": {
     "languageId": "java"
    }
   },
   "outputs": [],
   "source": [
    "public int scoreGuess(String guess) {\n",
    "    int substring; \n",
    "    int length = guess.length(); \n",
    "    int score;\n",
    "\n",
    "    for ()\n",
    "\n",
    "\n",
    "    score = substring * length * length;\n",
    "}"
   ]
  },
  {
   "cell_type": "markdown",
   "metadata": {},
   "source": [
    "## Second attempt\n",
    "\n",
    "Comments: This attempt mostly matched the answer key. One thing that I did wrong, however, was that in my comparison in the `if` statement, I used `==` instead of `.equals`. I have seen `.equals()` before, but I have never used it, so once again, I had to do some googling. I learned that if you want to compare two objects, you would need to use the `.equals()` method. In this case, `secret` is an object, as indicated by this line of code: `private String secret;`"
   ]
  },
  {
   "cell_type": "code",
   "execution_count": null,
   "metadata": {
    "vscode": {
     "languageId": "java"
    }
   },
   "outputs": [],
   "source": [
    "public int scoreGuess(String guess) {\n",
    "    int length = guess.length(); \n",
    "    int count; \n",
    "    int score;\n",
    "\n",
    "    for (int i = 0; i < (secret.length() - (length - 1)); i++) {\n",
    "        if (guess == secret.substring(i, length)) {\n",
    "            count++; \n",
    "            length++; \n",
    "        }\n",
    "    }\n",
    "\n",
    "\n",
    "    score = count * length * length;\n",
    "\n",
    "    return score; \n",
    "}"
   ]
  },
  {
   "cell_type": "markdown",
   "metadata": {},
   "source": [
    "## Correction:"
   ]
  },
  {
   "cell_type": "code",
   "execution_count": null,
   "metadata": {
    "vscode": {
     "languageId": "java"
    }
   },
   "outputs": [],
   "source": [
    "public int scoreGuess(String guess) {\n",
    "    int length = guess.length(); \n",
    "    int count; \n",
    "    int score;\n",
    "\n",
    "    for (int i = 0; i < (secret.length() - (length - 1)); i++) {\n",
    "        if (guess.equals(secret.substring(i, length))) {\n",
    "            count++; \n",
    "            length++; \n",
    "        }\n",
    "    }\n",
    "\n",
    "\n",
    "    score = count * length * length;\n",
    "\n",
    "    return score; \n",
    "}"
   ]
  },
  {
   "cell_type": "markdown",
   "metadata": {},
   "source": [
    "<br>\n",
    "\n",
    "# 1b\n",
    "\n",
    "## Initial attempt:\n",
    "\n",
    "Comments: I made this a lot more complicated than it needed to be 😳\n",
    "\n",
    "Mistakes: I forgot that objects do not need to be created within the `findBetterGuess` method since `findBetterGuess` and `scoreGuess` are in the same class. \n",
    "\n",
    "Looking at the answer, I learned about the method called `compareTo()`, which allowed for comparison between strings. `compareTo()` returns an integer, in which if the integer is smaller than 0, the first string is alphabetically smaller than the second string. If the integer is greater than 0, the first string is alphabetically greater than the second string. If the integer is equal to 0 --- you guessed it ---, both strings are the same.  "
   ]
  },
  {
   "cell_type": "code",
   "execution_count": null,
   "metadata": {
    "vscode": {
     "languageId": "java"
    }
   },
   "outputs": [],
   "source": [
    "public String findBetterGuess(String guess1, String guess2) {\n",
    "    WordMatch string1 = new WordMatch(guess1);\n",
    "    WordMatch string2 = new WordMatch(guess2);\n",
    "    \n",
    "    int score1 = string1.scoreGuess(guess1);\n",
    "    int score2 = string2.scoreGuess(guess2); \n",
    "\n",
    "    if (score1 > score2) {\n",
    "        return guess1; \n",
    "    } else if (score1 < score2) {\n",
    "        return guess2; \n",
    "    } else {\n",
    "        int smallGuess = Math.min(guess1.length(), guess2.length());\n",
    "        for (int i = 0; i < smallGuess; i++) {\n",
    "            String individualCh1 = guess1.substring(i, i);\n",
    "            String individualCh2 = guess2.substring(i, i);\n",
    "\n",
    "            int chNum1 = individualCh1.indexOf(individualCh1);\n",
    "            int chNum2 = individualCh2.indexOf(individualCh2);\n",
    "\n",
    "            if (chNum1 > chNum2) {\n",
    "                return guess1;\n",
    "                break;\n",
    "            }\n",
    "\n",
    "            if (chNum2 > chNum1) {\n",
    "                return guess2; \n",
    "                break; \n",
    "            }\n",
    "\n",
    "        }\n",
    "    }\n",
    "\n",
    "}"
   ]
  },
  {
   "cell_type": "markdown",
   "metadata": {},
   "source": [
    "## Correction"
   ]
  },
  {
   "cell_type": "code",
   "execution_count": null,
   "metadata": {
    "vscode": {
     "languageId": "java"
    }
   },
   "outputs": [],
   "source": [
    "public String findBetterGuess(String guess1, String guess2) {\n",
    "    if (scoreGuess(guess1) > scoreGuess(guess2)) {\n",
    "        return guess1;\n",
    "    }\n",
    "    if (scoreGuess(guess2) > scoreGuess(guess1)) {\n",
    "        return guess2;\n",
    "    }\n",
    "    if (guess1.compareTo(guess2) > 0) {\n",
    "        return guess1;\n",
    "    } else {\n",
    "        return guess2; \n",
    "    }\n",
    "\n",
    "}"
   ]
  }
 ],
 "metadata": {
  "kernelspec": {
   "display_name": "Java",
   "language": "java",
   "name": "java"
  },
  "language_info": {
   "codemirror_mode": "java",
   "file_extension": ".jshell",
   "mimetype": "text/x-java-source",
   "name": "Java",
   "pygments_lexer": "java",
   "version": "17.0.5+8-Ubuntu-2ubuntu120.04"
  },
  "orig_nbformat": 4,
  "vscode": {
   "interpreter": {
    "hash": "916dbcbb3f70747c44a77c7bcd40155683ae19c65e1c03b4aa3499c5328201f1"
   }
  }
 },
 "nbformat": 4,
 "nbformat_minor": 2
}
