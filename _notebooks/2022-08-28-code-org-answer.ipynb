{
 "cells": [
  {
   "cell_type": "markdown",
   "metadata": {},
   "source": [
    "# code.org Answers\n",
    "> Answers to code.org questions.\n",
    "\n",
    "- toc: true \n",
    "- badges: true\n",
    "- comments: true\n",
    "- categories: [code.org]"
   ]
  },
  {
   "cell_type": "markdown",
   "metadata": {},
   "source": [
    "### Lesson 2\n",
    "#### 2.1\n",
    "1. EXCEPTION error. No .java files are provided. Probably due to wrong file name. \n",
    "2. No, wrong file name.\n",
    "3. Yes, Java files must have the .java extension.\n",
    "4. There is an error. The `p` in `myPainter.move();` must be capitalized. \n",
    "5. Yes, code is case-sensitive.\n",
    "\n",
    "#### 2.2\n",
    "1. `error: reached end of file while parsing`\n",
    "\n",
    "Need another `}` to finish code.\n",
    "\n",
    "2. Yes, each opening curly brace needs a closing curly brace.\n",
    "3. `error: not a statement` and `error: ';' expected`, meaning the command syntax is wrong.\n",
    "\n",
    "Correct syntax: `mypainter.move();`\n",
    "\n",
    "4. See #3\n",
    "5. Yes, the error is fixed."
   ]
  },
  {
   "cell_type": "markdown",
   "metadata": {},
   "source": [
    "#### 3.1\n",
    "1. Painter starts at top left grid and faces east.\n",
    "2. Stops at row 2 column 3, faces south.\n",
    "3. Painter moves forward but does not paint because he has ran out. \n",
    "4. Error because did not add `()` at `Painter;`\n",
    "5. Added `()`"
   ]
  }
 ],
 "metadata": {
  "kernelspec": {
   "display_name": "Python 3.8.10 64-bit",
   "language": "python",
   "name": "python3"
  },
  "language_info": {
   "name": "python",
   "version": "3.8.10"
  },
  "orig_nbformat": 4,
  "vscode": {
   "interpreter": {
    "hash": "916dbcbb3f70747c44a77c7bcd40155683ae19c65e1c03b4aa3499c5328201f1"
   }
  }
 },
 "nbformat": 4,
 "nbformat_minor": 2
}
