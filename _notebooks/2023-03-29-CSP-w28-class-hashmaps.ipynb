{
 "cells": [
  {
   "attachments": {},
   "cell_type": "markdown",
   "metadata": {},
   "source": [
    "#  Data Structures- Hashmaps, Sets, Hash Tables, Hashing and Collisions\n",
    "> Observing hashmaps with python dictionaries\n",
    "- toc: true\n",
    "- image: /images/python.png\n",
    "- categories: []\n",
    "- type: pbl\n",
    "- week: 28"
   ]
  },
  {
   "attachments": {},
   "cell_type": "markdown",
   "metadata": {},
   "source": [
    "## What is a Hashtable/Hashmap?\n",
    "\n",
    "> A hashtable is a data structure that with a collection of key-value pairs, where each key maps to a value, and the keys must be unique and hashable.\n",
    "\n",
    "- In Python there is a built in hashtable known as a ______dictionary_________.\n",
    "\n",
    "> The primary purpose of a hashtable is to provide efficient lookup, insertion, and deletion operations. When an element is to be inserted into the hashtable, a hash function is used to map the key to a specific index in the underlying array that is used to store the key-value pairs. The value is then stored at that index. When searching for a value, the hash function is used again to find the index where the value is stored.\n",
    "\n",
    "> The key advantage of a hashtable over other data structures like arrays and linked lists is its average-case time complexity for lookup, insertion, and deletion operations.\n",
    "\n",
    "- The typical time complexity of a hashtable is _____O(1)__________ because each key only has one value. If you know the key, you would know the value. \n"
   ]
  },
  {
   "attachments": {},
   "cell_type": "markdown",
   "metadata": {},
   "source": [
    "## What is Hashing and Collision?\n",
    "\n",
    "> Hashing is the process of mapping a given key to a value in a hash table or hashmap, using a hash function. The hash function takes the key as input and produces a hash value or hash code, which is then used to determine the index in the underlying array where the value is stored. The purpose of hashing is to provide a quick and efficient way to access data, by eliminating the need to search through an entire data structure to find a value.\n",
    "\n",
    "> However, it is possible for two different keys to map to the same hash value, resulting in a collision. When a collision occurs, there are different ways to resolve it, depending on the collision resolution strategy used.\n",
    "\n",
    "> Python's dictionary implementation is optimized to handle collisions efficiently, and the performance of the dictionary is generally very good, even in the presence of collisions. However, if the number of collisions is very high, the performance of the dictionary can degrade, so it is important to choose a good hash function that minimizes collisions when designing a Python dictionary.\n",
    "\n",
    "## What is a Set?"
   ]
  },
  {
   "cell_type": "code",
   "execution_count": 1,
   "metadata": {},
   "outputs": [
    {
     "name": "stdout",
     "output_type": "stream",
     "text": [
      "{1, 2, 3}\n"
     ]
    }
   ],
   "source": [
    "# Creating a set using set() function\n",
    "my_set = set([1, 2, 3, 2, 1])\n",
    "print(my_set)  \n",
    "\n",
    "# What do you notice in the output?\n",
    "# The values of a list are outputted as part of a set. Perhaps the set only takes in unique elements\n",
    "# because although the list has two 2s and 1s, the set only outputs one 1 and 2. \n",
    "\n",
    "# Why do you think Sets are in the same tech talk as Hashmaps/Hashtables?\n",
    "# Sets \n",
    "# There can not be the same keys in sets and hashmaps."
   ]
  },
  {
   "attachments": {},
   "cell_type": "markdown",
   "metadata": {},
   "source": [
    "## Dictionary Example\n",
    "\n",
    "Below are just some basic features of a dictionary. As always, documentation is always the main source for all the full capablilties. "
   ]
  },
  {
   "cell_type": "code",
   "execution_count": 2,
   "metadata": {},
   "outputs": [
    {
     "name": "stdout",
     "output_type": "stream",
     "text": [
      "{'title': 'Lover', 'artist': 'Taylor Swift', 'year': 2019, 'genre': ['Pop', 'Synth-pop'], 'tracks': {1: 'I Forgot That You Existed', 2: 'Cruel Summer', 3: 'Lover', 4: 'The Man', 5: 'The Archer', 6: 'I Think He Knows', 7: 'Miss Americana & The Heartbreak Prince', 8: 'Paper Rings', 9: 'Cornelia Street', 10: 'Death By A Thousand Cuts', 11: 'London Boy', 12: \"Soon You'll Get Better (feat. Dixie Chicks)\", 13: 'False God', 14: 'You Need To Calm Down', 15: 'Afterglow', 16: 'Me! (feat. Brendon Urie of Panic! At The Disco)', 17: \"It's Nice To Have A Friend\", 18: 'Daylight'}}\n"
     ]
    }
   ],
   "source": [
    "# Creating a dictionary with information about the album \"Lover\"\n",
    "lover_album = {\n",
    "    \"title\": \"Lover\",\n",
    "    \"artist\": \"Taylor Swift\",\n",
    "    \"year\": 2019,\n",
    "    \"genre\": [\"Pop\", \"Synth-pop\"],\n",
    "    \"tracks\": {\n",
    "        1: \"I Forgot That You Existed\",\n",
    "        2: \"Cruel Summer\",\n",
    "        3: \"Lover\",\n",
    "        4: \"The Man\",\n",
    "        5: \"The Archer\",\n",
    "        6: \"I Think He Knows\",\n",
    "        7: \"Miss Americana & The Heartbreak Prince\",\n",
    "        8: \"Paper Rings\",\n",
    "        9: \"Cornelia Street\",\n",
    "        10: \"Death By A Thousand Cuts\",\n",
    "        11: \"London Boy\",\n",
    "        12: \"Soon You'll Get Better (feat. Dixie Chicks)\",\n",
    "        13: \"False God\",\n",
    "        14: \"You Need To Calm Down\",\n",
    "        15: \"Afterglow\",\n",
    "        16: \"Me! (feat. Brendon Urie of Panic! At The Disco)\",\n",
    "        17: \"It's Nice To Have A Friend\",\n",
    "        18: \"Daylight\"\n",
    "    }\n",
    "}\n",
    "\n",
    "# What data structures do you see?\n",
    "# Strings, integers, lists, and dictionaries \n",
    "#\n",
    "\n",
    "# Printing the dictionary\n",
    "print(lover_album)"
   ]
  },
  {
   "cell_type": "code",
   "execution_count": 2,
   "metadata": {},
   "outputs": [
    {
     "name": "stdout",
     "output_type": "stream",
     "text": [
      "{1: 'I Forgot That You Existed', 2: 'Cruel Summer', 3: 'Lover', 4: 'The Man', 5: 'The Archer', 6: 'I Think He Knows', 7: 'Miss Americana & The Heartbreak Prince', 8: 'Paper Rings', 9: 'Cornelia Street', 10: 'Death By A Thousand Cuts', 11: 'London Boy', 12: \"Soon You'll Get Better (feat. Dixie Chicks)\", 13: 'False God', 14: 'You Need To Calm Down', 15: 'Afterglow', 16: 'Me! (feat. Brendon Urie of Panic! At The Disco)', 17: \"It's Nice To Have A Friend\", 18: 'Daylight'}\n",
      "{1: 'I Forgot That You Existed', 2: 'Cruel Summer', 3: 'Lover', 4: 'The Man', 5: 'The Archer', 6: 'I Think He Knows', 7: 'Miss Americana & The Heartbreak Prince', 8: 'Paper Rings', 9: 'Cornelia Street', 10: 'Death By A Thousand Cuts', 11: 'London Boy', 12: \"Soon You'll Get Better (feat. Dixie Chicks)\", 13: 'False God', 14: 'You Need To Calm Down', 15: 'Afterglow', 16: 'Me! (feat. Brendon Urie of Panic! At The Disco)', 17: \"It's Nice To Have A Friend\", 18: 'Daylight'}\n"
     ]
    }
   ],
   "source": [
    "# Retrieve value from dictionary with key\n",
    "print(lover_album.get('tracks'))\n",
    "# or\n",
    "print(lover_album['tracks'])"
   ]
  },
  {
   "cell_type": "code",
   "execution_count": 3,
   "metadata": {},
   "outputs": [
    {
     "name": "stdout",
     "output_type": "stream",
     "text": [
      "The Man\n",
      "The Man\n"
     ]
    }
   ],
   "source": [
    "# Retrieve value from a dictionary inside a dictionary\n",
    "print(lover_album.get('tracks')[4])\n",
    "# or\n",
    "print(lover_album['tracks'][4])"
   ]
  },
  {
   "cell_type": "code",
   "execution_count": 4,
   "metadata": {},
   "outputs": [
    {
     "name": "stdout",
     "output_type": "stream",
     "text": [
      "{'title': 'Lover', 'artist': 'Taylor Swift', 'year': 2019, 'genre': ['Pop', 'Synth-pop'], 'tracks': {1: 'I Forgot That You Existed', 2: 'Cruel Summer', 3: 'Lover', 4: 'The Man', 5: 'The Archer', 6: 'I Think He Knows', 7: 'Miss Americana & The Heartbreak Prince', 8: 'Paper Rings', 9: 'Cornelia Street', 10: 'Death By A Thousand Cuts', 11: 'London Boy', 12: \"Soon You'll Get Better (feat. Dixie Chicks)\", 13: 'False God', 14: 'You Need To Calm Down', 15: 'Afterglow', 16: 'Me! (feat. Brendon Urie of Panic! At The Disco)', 17: \"It's Nice To Have A Friend\", 18: 'Daylight'}, 'producer': ['Taylor Swift', 'Jack Antonoff', 'Joel Little', 'Taylor Swift', 'Louis Bell', 'Frank Dukes']}\n"
     ]
    }
   ],
   "source": [
    "# adding a value with a new key\n",
    "lover_album[\"producer\"] = ['Taylor Swift', 'Jack Antonoff', 'Joel Little', 'Taylor Swift', 'Louis Bell', 'Frank Dukes']\n",
    "\n",
    "# What can you change to make sure there are no duplicate producers?\n",
    "# Use a set\n",
    "#\n",
    "\n",
    "# Printing the dictionary\n",
    "print(lover_album)"
   ]
  },
  {
   "cell_type": "code",
   "execution_count": 5,
   "metadata": {},
   "outputs": [
    {
     "name": "stdout",
     "output_type": "stream",
     "text": [
      "{'title': 'Lover', 'artist': 'Taylor Swift', 'year': 2019, 'genre': ['Pop', 'Synth-pop', 'test'], 'tracks': {1: 'I Forgot That You Existed', 2: 'Cruel Summer', 3: 'Lover', 4: 'The Man', 5: 'The Archer', 6: 'I Think He Knows', 7: 'Miss Americana & The Heartbreak Prince', 8: 'Paper Rings', 9: 'Cornelia Street', 10: 'Death By A Thousand Cuts', 11: 'London Boy', 12: \"Soon You'll Get Better (feat. Dixie Chicks)\", 13: 'False God', 14: 'You Need To Calm Down', 15: 'Afterglow', 16: 'Me! (feat. Brendon Urie of Panic! At The Disco)', 17: \"It's Nice To Have A Friend\", 18: 'Daylight', 19: 'All Of The Girls You Loved Before'}}\n"
     ]
    }
   ],
   "source": [
    "# Adding a an key-value pair to an existing key \n",
    "lover_album[\"tracks\"].update({19: \"All Of The Girls You Loved Before\"})\n",
    "\n",
    "# How would add an additional genre to the dictionary, like electropop? \n",
    "# The code would be something like: lover_album[\"genre\"].append(\"electropop\")\n",
    "# \n",
    "# Printing the dictionary\n",
    "print(lover_album)"
   ]
  },
  {
   "cell_type": "code",
   "execution_count": 42,
   "metadata": {},
   "outputs": [
    {
     "name": "stdout",
     "output_type": "stream",
     "text": [
      "title: Lover\n",
      "artist: Taylor Swift\n",
      "year: 2019\n",
      "genre: Pop\n",
      "Synth-pop\n",
      "test\n",
      "tracks: 1: I Forgot That You Existed\n",
      "2: Cruel Summer\n",
      "3: Lover\n",
      "4: The Man\n",
      "5: The Archer\n",
      "6: I Think He Knows\n",
      "7: Miss Americana & The Heartbreak Prince\n",
      "8: Paper Rings\n",
      "9: Cornelia Street\n",
      "10: Death By A Thousand Cuts\n",
      "11: London Boy\n",
      "12: Soon You'll Get Better (feat. Dixie Chicks)\n",
      "13: False God\n",
      "14: You Need To Calm Down\n",
      "15: Afterglow\n",
      "16: Me! (feat. Brendon Urie of Panic! At The Disco)\n",
      "17: It's Nice To Have A Friend\n",
      "18: Daylight\n",
      "19: All Of The Girls You Loved Before\n"
     ]
    }
   ],
   "source": [
    "# Print lover_album in more readable format\n",
    "\n",
    "for k,v in lover_album.items(): # iterate using a for loop for key and value\n",
    "    if (type(v) == list):\n",
    "        print(str(k) + \": \" + str(v[0]))\n",
    "        for i in range(1,len(v)):\n",
    "            print(v[i])\n",
    "    elif (type(v) == dict):\n",
    "        print(str(k) + \": \" + str(list(v)[0]) + \": \" + str(v.get(1)))\n",
    "        for i in range(2,len(v)+1):\n",
    "            print(str(list(v)[i-1]) + \": \" + v.get(i))\n",
    "    else:\n",
    "        print(str(k) + \": \" + str(v))\n",
    "# Write your own code to print tracks in readable format\n",
    "#\n",
    "#\n"
   ]
  },
  {
   "cell_type": "code",
   "execution_count": 46,
   "metadata": {},
   "outputs": [
    {
     "name": "stdout",
     "output_type": "stream",
     "text": [
      "Would you like to search or add to list?\n",
      "Enter favorite track number, enter finish to end:\n",
      "Favorite tracks: {8: 'Paper Rings', 16: 'Me! (feat. Brendon Urie of Panic! At The Disco)'}\n"
     ]
    }
   ],
   "source": [
    "# Using conditionals to retrieve a random song\n",
    "def search():\n",
    "    search = input(\"What would you like to know about the album?\")\n",
    "    if lover_album.get(search.lower()) == None:\n",
    "        print(\"Invalid Search\")\n",
    "    else:\n",
    "        print(lover_album.get(search.lower()))\n",
    "\n",
    "#search()\n",
    "\n",
    "# This is a very basic code segment, how can you improve upon this code?\n",
    "#\n",
    "#\n",
    "\n",
    "def add():\n",
    "    track = input(\"Enter favorite track number:\")\n",
    "    print(\"Enter favorite track number, enter finish to end:\")\n",
    "\n",
    "    favorite_tracks = {}\n",
    "    while track != \"finish\":\n",
    "        favorite_tracks.update({int(track): lover_album[\"tracks\"][int(track)]})\n",
    "        track = input(\"Enter favorite track number:\")\n",
    "        \n",
    "    return favorite_tracks\n",
    "        \n",
    "\n",
    "decision = input(\"Would you like to search or add to list?\")\n",
    "print(\"Would you like to search or add to list?\")\n",
    "\n",
    "if decision == \"add\":\n",
    "    print(\"Favorite tracks: \" + str(add()))\n",
    "    \n",
    "    "
   ]
  },
  {
   "attachments": {},
   "cell_type": "markdown",
   "metadata": {},
   "source": [
    "## Hacks\n",
    "\n",
    "- Answer *ALL* questions in the code segments\n",
    "- Create a diagram or comparison illustration (Canva).\n",
    "    - What are the pro and cons of using this data structure? \n",
    "    - Dictionary vs List    \n",
    "\n",
    "**Reponse**\n",
    "\n",
    "![](images/CSP/CSP-w28-class-hashmaps-hashtablesProCon.jpg)\n",
    "\n",
    "![](images/CSP/CSP-w28-class-hashmaps-dictionaryVsList.jpg)\n",
    "\n",
    "- Expand upon the code given to you, possible improvements in comments\n",
    "- Build your own album showing features of a python dictionary\n",
    "\n",
    "- For Mr. Yeung's class: Justify your favorite Taylor Swift song, answer may effect seed"
   ]
  },
  {
   "cell_type": "code",
   "execution_count": 87,
   "metadata": {},
   "outputs": [
    {
     "name": "stdout",
     "output_type": "stream",
     "text": [
      "{'title': 'Different World', 'artist': 'Alan Walker', 'year': 2018, 'genre': ['EDM'], 'tracks': {1: {'song': 'Diamond Heart', 'time': '4:00'}, 2: {'song': 'Faded', 'time': '3:32'}, 3: {'song': 'Interlude', 'time': '1:19'}, 4: {'song': 'Faded (Interlude)', 'time': '0:42'}, 5: {'song': 'Sing Me to Sleep', 'time': '3:08'}, 6: {'song': 'All Falls Down', 'time': '3:19'}, 7: {'song': 'Lily', 'time': '3:16'}, 8: {'song': 'Do It All for You', 'time': '2:55'}, 9: {'song': 'Alone', 'time': '2:41'}, 10: {'song': 'Darkside', 'time': '3:32'}, 11: {'song': 'Different World', 'time': '3:23'}, 12: {'song': 'Lonely', 'time': '3:36'}, 13: {'song': 'Lost Control', 'time': '3:42'}, 14: {'song': 'Intro', 'time': '1:16'}, 15: {'song': \"I Don't Wanna Go\", 'time': '2:42'}}}\n",
      "Your playlist is: [{'song': 'Faded', 'time': '3:32'}, {'song': 'All Falls Down', 'time': '3:19'}, {'song': 'Darkside', 'time': '3:32'}, {'song': 'Alone', 'time': '2:41'}, {'song': 'Lost Control', 'time': '3:42'}]\n",
      "The total time of your playlist is: 16:46\n"
     ]
    }
   ],
   "source": [
    "alan_walker_album = {\n",
    "    \"title\": \"Different World\",\n",
    "    \"artist\": \"Alan Walker\",\n",
    "    \"year\": 2018,\n",
    "    \"genre\": [\"EDM\"],\n",
    "    \"tracks\": {\n",
    "        1: {\"song\": \"Diamond Heart\", \"time\": \"4:00\"},\n",
    "        2: {\"song\": \"Faded\", \"time\": \"3:32\"},\n",
    "        3: {\"song\": \"Interlude\", \"time\": \"1:19\"},\n",
    "        4: {\"song\": \"Faded (Interlude)\", \"time\": \"0:42\"},\n",
    "        5: {\"song\": \"Sing Me to Sleep\", \"time\": \"3:08\"},\n",
    "        6: {\"song\": \"All Falls Down\", \"time\": \"3:19\"},\n",
    "        7: {\"song\": \"Lily\", \"time\": \"3:16\"},\n",
    "        8: {\"song\": \"Do It All for You\", \"time\": \"2:55\"},\n",
    "        9: {\"song\": \"Alone\", \"time\": \"2:41\"},\n",
    "        10: {\"song\": \"Darkside\", \"time\": \"3:32\"},\n",
    "        11: {\"song\": \"Different World\", \"time\": \"3:23\"},\n",
    "        12: {\"song\": \"Lonely\", \"time\": \"3:36\"},\n",
    "        13: {\"song\": \"Lost Control\", \"time\": \"3:42\"},\n",
    "        14: {\"song\": \"Intro\", \"time\": \"1:16\"},\n",
    "        15: {\"song\": \"I Don't Wanna Go\", \"time\": \"2:42\"}\n",
    "    }\n",
    "}\n",
    "\n",
    "\n",
    "# Printing the dictionary\n",
    "print(alan_walker_album)\n",
    "\n",
    "playlist = []\n",
    "\n",
    "addSong = input(\"What song would you like to add to your playlist?\")\n",
    "\n",
    "while addSong != \"finish\": \n",
    "    \n",
    "    for i in range(len(alan_walker_album[\"tracks\"])):\n",
    "        songName = alan_walker_album[\"tracks\"][i+1][\"song\"]\n",
    "        if addSong.lower() == songName.lower():\n",
    "            playlist.append({\"song\": songName, \"time\": alan_walker_album[\"tracks\"][i+1][\"time\"]})\n",
    "            break \n",
    "        \n",
    "        if (addSong.lower() != songName.lower()) and i == 14:\n",
    "            print(\"Song not found in album\")\n",
    "            \n",
    "    \n",
    "    addSong = input(\"What song would you like to add to your playlist?\")\n",
    "    \n",
    "print(\"Your playlist is: \" + str(playlist))\n",
    "\n",
    "totalTime = 0\n",
    "minutes = 0\n",
    "seconds = 0\n",
    "for i in range(len(playlist)):\n",
    "    minutes += int((playlist[i][\"time\"].split(':')[0]))\n",
    "    seconds += int((playlist[i][\"time\"].split(':')[1]))\n",
    "\n",
    "\n",
    "minutes += (seconds//60)\n",
    "seconds = (seconds % 60)\n",
    "\n",
    "print(\"The total time of your playlist is: \" + str(minutes) + \":\" + str(seconds))\n"
   ]
  }
 ],
 "metadata": {
  "kernelspec": {
   "display_name": "base",
   "language": "python",
   "name": "python3"
  },
  "language_info": {
   "codemirror_mode": {
    "name": "ipython",
    "version": 3
   },
   "file_extension": ".py",
   "mimetype": "text/x-python",
   "name": "python",
   "nbconvert_exporter": "python",
   "pygments_lexer": "ipython3",
   "version": "3.9.12"
  },
  "orig_nbformat": 4
 },
 "nbformat": 4,
 "nbformat_minor": 2
}
