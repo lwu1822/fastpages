{
 "cells": [
  {
   "attachments": {},
   "cell_type": "markdown",
   "metadata": {},
   "source": [
    "# 3.17 - 3.18\n",
    "- title: Homework 3.17 - 3.18\n",
    "- permalink: /homework1718"
   ]
  },
  {
   "attachments": {},
   "cell_type": "markdown",
   "metadata": {},
   "source": [
    "# 3.17 Algorithmic Efficiency"
   ]
  },
  {
   "attachments": {},
   "cell_type": "markdown",
   "metadata": {},
   "source": [
    "## Vocabulary\n",
    "- Problem:\n",
    "    - Decision Problem: A problem with yes/no answer\n",
    "    - Organization Problem: A problem with the goal of finding a best answer\n",
    "- Instance: Problem with specific input\n",
    "- Efficiency: How much computing you need for a problem to be resolved \n",
    "    - Polynomial Efficiency (Good): Proportional amount of time (linear) the more work you do\n",
    "    - Exponential Efficiency (Bad): Exponential amount of time the more work you do (ex: double the amount of time)\n",
    "- Heuristic Approach: Finding a more efficient optimal solution\n",
    "- Decidable Problem: A decision problem with a solution that always outputs correctly\n",
    "- Undecidable Problem: A decision problem with no solution\n"
   ]
  },
  {
   "attachments": {},
   "cell_type": "markdown",
   "metadata": {},
   "source": [
    "## Notes\n",
    "* Code that performs the same task can have a different amount of time that it runs \n",
    "* The more functions you add, the more time it takes to run the code \n",
    "  For example, an add function that converts `toint` and then `tostr` will take up more seconds than a function that merely adds the functions and returns the value to a print statement (because a print statement can print an integer if that is the only value)\n",
    "* Polynomial creates the least cycles (ex: 3x and (2x)^2) vs exponential which creates more cycles (ex: 3^x)\n",
    "\n",
    "<br>\n",
    "\n",
    "* Undecidable problem: Give multiple answers or none"
   ]
  },
  {
   "attachments": {},
   "cell_type": "markdown",
   "metadata": {},
   "source": [
    "## Challenge\n",
    "Try and fix this ineficcient code!\n",
    "Only change the code between the two commented lines.\n",
    "Fully programmed solution will improve your grade, at a minimum show that you tried."
   ]
  },
  {
   "cell_type": "code",
   "execution_count": 2,
   "metadata": {},
   "outputs": [
    {
     "name": "stdout",
     "output_type": "stream",
     "text": [
      "1.288701057434082 seconds\n"
     ]
    }
   ],
   "source": [
    "import time\n",
    "numlist = [1,3,5,7,9,11,13,15,17,19]\n",
    "valuelist = [0,3,6,9,12,15,18,21]\n",
    "def isvalue(value,array):\n",
    "    #--------------------\n",
    "    min = 0 \n",
    "    max = len(numlist) - 1\n",
    "    while max >= min: \n",
    "        mid = (min + max) // 2\n",
    "        if array[mid] == value:\n",
    "            return True\n",
    "        elif array[mid] > value: \n",
    "            max = mid - 1\n",
    "        else:\n",
    "            min = mid + 1 \n",
    "    return False \n",
    "        \n",
    "    #--------------------\n",
    "starttime = time.time()\n",
    "for i in range(100000):\n",
    "    for i in range(len(valuelist)):\n",
    "        x = isvalue(valuelist[i],numlist)\n",
    "endtime = time.time()\n",
    "print(endtime-starttime,'seconds') "
   ]
  },
  {
   "attachments": {},
   "cell_type": "markdown",
   "metadata": {},
   "source": [
    "# 3.18 Undecidable Problems"
   ]
  },
  {
   "attachments": {},
   "cell_type": "markdown",
   "metadata": {},
   "source": [
    "## Notes\n",
    "- **Undecidable problems** occur when a paradox is created, for exaple, a program that produces an error, then reverses it, which results in no error. \n",
    "\n",
    "Real life example: Internet connections time out if a website does not load"
   ]
  },
  {
   "attachments": {},
   "cell_type": "markdown",
   "metadata": {},
   "source": [
    "# Homework!\n",
    "\n",
    "Make an algorithm that finds the fastest route that hits every location once starting and ending at Del Norte. Make sure to show your thinking. If you are strugling, try using a huristic approach. Remember, what matters more than having perfectly functioning code is that you tried your hardest."
   ]
  },
  {
   "cell_type": "code",
   "execution_count": 43,
   "metadata": {},
   "outputs": [],
   "source": [
    "# RUN THIS CODE --- DO NOT EDIT\n",
    "dataset = {\n",
    "    'DelNorte':{\n",
    "        'Westview':15,\n",
    "        'MtCarmel':20,\n",
    "        'Poway':35,\n",
    "        'RanchoBernardo':50\n",
    "    },\n",
    "    'Westview':{\n",
    "        'DelNorte':15,\n",
    "        'MtCarmel':35,\n",
    "        'Poway':25,\n",
    "        'RanchoBernardo': 45\n",
    "    },\n",
    "    'MtCarmel':{\n",
    "        'Westview':35,\n",
    "        'DelNorte':20,\n",
    "        'Poway':40,\n",
    "        'RanchoBernardo':30\n",
    "    },\n",
    "    'Poway':{\n",
    "        'Westview':25,\n",
    "        'MtCarmel':40,\n",
    "        'DelNorte':35,\n",
    "        'RanchoBernardo':15\n",
    "    },\n",
    "    'RanchoBernardo':{\n",
    "        'Westview':45,\n",
    "        'MtCarmel':30,\n",
    "        'Poway':15,\n",
    "        'DelNorte':50\n",
    "    }\n",
    "}"
   ]
  },
  {
   "attachments": {},
   "cell_type": "markdown",
   "metadata": {},
   "source": [
    "# Ver 1\n",
    "\n",
    "I don't know how to make the most efficient algorithm to find the best path. This is my code below, which uses nested for loops to find the shortest route to each location (while making sure that they haven't been reached yet). I also have multiple attempts below that worked and did not work to show that I did try many times (took me 2 hours to figure out lol)"
   ]
  },
  {
   "cell_type": "code",
   "execution_count": 92,
   "metadata": {},
   "outputs": [
    {
     "name": "stdout",
     "output_type": "stream",
     "text": [
      "The route is: ['DelNorte', 'Westview', 'Poway', 'RanchoBernardo', 'MtCarmel']\n",
      "Total time is: 105\n"
     ]
    }
   ],
   "source": [
    "def fastestroute(start,data):\n",
    "    drivetime = 0\n",
    "    order = []\n",
    "    #CODE,CODE,CODE\n",
    "    order.append(start)\n",
    "        \n",
    "    travelPlace2 = start \n",
    "    \n",
    "    for i in range (len(dataset) - 1):\n",
    "        shortestTime = 100\n",
    "        travelPlace = travelPlace2 \n",
    "        for j in range(len(dataset[travelPlace])):\n",
    "            \n",
    "            if list(dataset[travelPlace].values())[j] < shortestTime: \n",
    "                if list(dataset[travelPlace].keys())[j] not in order:\n",
    "                    shortestTime = list(dataset[travelPlace].values())[j]\n",
    "                    travelPlace2 = list(dataset[travelPlace].keys())[j]\n",
    "                else: \n",
    "                    continue \n",
    "                    \n",
    "        order.append(travelPlace2)\n",
    "        drivetime += shortestTime\n",
    "    \n",
    "    \n",
    "    \n",
    "    drivetime += dataset[travelPlace2][\"DelNorte\"]\n",
    "        \n",
    "\n",
    "start = 'DelNorte'\n",
    "data = dataset\n",
    "fastestroute(start, data)\n",
    "print(\"The route is: \" + str(order))\n",
    "print(\"Total time is: \" + str(drivetime))\n",
    "# 'dataset' is the name of the nested key value pair"
   ]
  },
  {
   "attachments": {},
   "cell_type": "markdown",
   "metadata": {},
   "source": [
    "# Ver 2\n",
    "\n",
    "This was actually my original attempt, which also works but is more inefficient because I copy pasted the for loop to find the shortest route to the locations multiple times. In the version above, I used a nested for loop so that I could reuse the same cold multiple times. "
   ]
  },
  {
   "cell_type": "code",
   "execution_count": 85,
   "metadata": {},
   "outputs": [
    {
     "name": "stdout",
     "output_type": "stream",
     "text": [
      "['DelNorte', 'Westview']\n",
      "Westview\n",
      "['DelNorte', 'Westview', 'Poway']\n",
      "Poway\n",
      "['DelNorte', 'Westview', 'Poway', 'RanchoBernardo']\n",
      "RanchoBernardo\n",
      "['DelNorte', 'Westview', 'Poway', 'RanchoBernardo', 'MtCarmel']\n",
      "MtCarmel\n",
      "85\n",
      "105\n"
     ]
    }
   ],
   "source": [
    "\n",
    "drivetime = 0\n",
    "def fastestroute(start,data):\n",
    "    global drivetime \n",
    "    drivetime = 0\n",
    "    global order \n",
    "    order = []\n",
    "    #CODE,CODE,CODE\n",
    "    order.append(start)\n",
    "        \n",
    "    travelPlace2 = start \n",
    "    \n",
    "\n",
    "    shortestTime = 100\n",
    "\n",
    "    travelPlace = travelPlace2 \n",
    "    for j in range(len(dataset[travelPlace])):\n",
    "        \n",
    "        if list(dataset[travelPlace].values())[j] < shortestTime: \n",
    "            if list(dataset[travelPlace].keys())[j] not in order:\n",
    "                shortestTime = list(dataset[travelPlace].values())[j]\n",
    "                travelPlace2 = list(dataset[travelPlace].keys())[j]\n",
    "            else: \n",
    "                continue \n",
    "                \n",
    "    order.append(travelPlace2)\n",
    "    drivetime += shortestTime\n",
    "    \n",
    "    print(order)\n",
    "    print(travelPlace2)\n",
    "        \n",
    "        \n",
    "        \n",
    "    shortestTime = 100\n",
    "\n",
    "    travelPlace = travelPlace2 \n",
    "    for j in range(len(dataset[travelPlace])):\n",
    "        \n",
    "        if list(dataset[travelPlace].values())[j] < shortestTime: \n",
    "            if list(dataset[travelPlace].keys())[j] not in order:\n",
    "                shortestTime = list(dataset[travelPlace].values())[j]\n",
    "                travelPlace2 = list(dataset[travelPlace].keys())[j]\n",
    "            else: \n",
    "                continue \n",
    "                \n",
    "    order.append(travelPlace2)\n",
    "    drivetime += shortestTime\n",
    "    \n",
    "    print(order)\n",
    "    print(travelPlace2)\n",
    "\n",
    "\n",
    "    shortestTime = 100\n",
    "\n",
    "    travelPlace = travelPlace2 \n",
    "    for j in range(len(dataset[travelPlace])):\n",
    "        \n",
    "        if list(dataset[travelPlace].values())[j] < shortestTime: \n",
    "            if list(dataset[travelPlace].keys())[j] not in order:\n",
    "                shortestTime = list(dataset[travelPlace].values())[j]\n",
    "                travelPlace2 = list(dataset[travelPlace].keys())[j]\n",
    "            else: \n",
    "                continue \n",
    "                \n",
    "    order.append(travelPlace2)\n",
    "    drivetime += shortestTime\n",
    "    \n",
    "    print(order)\n",
    "    print(travelPlace2)\n",
    "\n",
    "    shortestTime = 100\n",
    "\n",
    "    travelPlace = travelPlace2 \n",
    "    for j in range(len(dataset[travelPlace])):\n",
    "        \n",
    "        if list(dataset[travelPlace].values())[j] < shortestTime: \n",
    "            if list(dataset[travelPlace].keys())[j] not in order:\n",
    "                shortestTime = list(dataset[travelPlace].values())[j]\n",
    "                travelPlace2 = list(dataset[travelPlace].keys())[j]\n",
    "            else: \n",
    "                continue \n",
    "                \n",
    "    order.append(travelPlace2)\n",
    "    drivetime += shortestTime\n",
    "    \n",
    "    print(order)\n",
    "    print(travelPlace2)\n",
    "    \n",
    "    print(drivetime)\n",
    "    \n",
    "    drivetime += dataset[travelPlace2]['DelNorte']\n",
    "    \n",
    "    print(drivetime)\n",
    "\n",
    "start = 'DelNorte'\n",
    "data = dataset\n",
    "fastestroute(start, data)\n",
    "\n",
    "# 'dataset' is the name of the nested key value pair"
   ]
  },
  {
   "attachments": {},
   "cell_type": "markdown",
   "metadata": {},
   "source": [
    "# Some of my other attempts lol\n",
    "\n",
    "These did not work but were part of my planning process."
   ]
  },
  {
   "cell_type": "code",
   "execution_count": 51,
   "metadata": {},
   "outputs": [
    {
     "name": "stdout",
     "output_type": "stream",
     "text": [
      "['DelNorte', 'Westview']\n",
      "15\n",
      "['DelNorte', 'Westview', 'DelNorte']\n",
      "30\n",
      "['DelNorte', 'Westview', 'DelNorte', 'Westview']\n",
      "45\n",
      "['DelNorte', 'Westview', 'DelNorte', 'Westview', 'DelNorte']\n",
      "60\n"
     ]
    }
   ],
   "source": [
    "\n",
    "drivetime = 0\n",
    "def fastestroute(start,data):\n",
    "    global drivetime \n",
    "    drivetime = 0\n",
    "    global order \n",
    "    order = []\n",
    "    #CODE,CODE,CODE\n",
    "    order.append(start)\n",
    "        \n",
    "    travelPlace = start \n",
    "    for i in range(4):\n",
    "        initialPlace = list(dataset[travelPlace].values()[0])\n",
    "        \n",
    "        \n",
    "        for j in range(len(dataset[travelPlace])):\n",
    "            while initialPlace in order:\n",
    "                shortestTime = list(dataset[travelPlace].values())[0]\n",
    "                travelPlace = list(dataset[travelPlace].keys())[0]\n",
    "                \n",
    "            search = list(dataset[travelPlace].keys())[j]\n",
    "            if search not in order: \n",
    "                if list(dataset[travelPlace].values())[j] < shortestTime:\n",
    "                    shortestTime = list(dataset[travelPlace].values())[j]\n",
    "                    travelPlace = list(dataset[travelPlace].keys())[j]\n",
    "                \n",
    "        order.append(travelPlace)\n",
    "        drivetime += shortestTime\n",
    "        \n",
    "        \n",
    "        print(order)\n",
    "        print(drivetime)\n",
    "    \n",
    "\n",
    "\n",
    "start = 'DelNorte'\n",
    "data = dataset\n",
    "fastestroute(start, data)\n",
    "# 'dataset' is the name of the nested key value pair"
   ]
  },
  {
   "cell_type": "code",
   "execution_count": 36,
   "metadata": {},
   "outputs": [
    {
     "ename": "RecursionError",
     "evalue": "maximum recursion depth exceeded while calling a Python object",
     "output_type": "error",
     "traceback": [
      "\u001b[0;31m---------------------------------------------------------------------------\u001b[0m",
      "\u001b[0;31mRecursionError\u001b[0m                            Traceback (most recent call last)",
      "\u001b[1;32m/home/lwu1822/vscode/fastpages/_notebooks/2022-12-14-w16_CSP3.17-3.18LessonNotebook.ipynb Cell 12\u001b[0m in \u001b[0;36m<cell line: 41>\u001b[0;34m()\u001b[0m\n\u001b[1;32m     <a href='vscode-notebook-cell://wsl%2Bubuntu/home/lwu1822/vscode/fastpages/_notebooks/2022-12-14-w16_CSP3.17-3.18LessonNotebook.ipynb#X16sdnNjb2RlLXJlbW90ZQ%3D%3D?line=38'>39</a>\u001b[0m start \u001b[39m=\u001b[39m \u001b[39m'\u001b[39m\u001b[39mDelNorte\u001b[39m\u001b[39m'\u001b[39m\n\u001b[1;32m     <a href='vscode-notebook-cell://wsl%2Bubuntu/home/lwu1822/vscode/fastpages/_notebooks/2022-12-14-w16_CSP3.17-3.18LessonNotebook.ipynb#X16sdnNjb2RlLXJlbW90ZQ%3D%3D?line=39'>40</a>\u001b[0m data \u001b[39m=\u001b[39m dataset\n\u001b[0;32m---> <a href='vscode-notebook-cell://wsl%2Bubuntu/home/lwu1822/vscode/fastpages/_notebooks/2022-12-14-w16_CSP3.17-3.18LessonNotebook.ipynb#X16sdnNjb2RlLXJlbW90ZQ%3D%3D?line=40'>41</a>\u001b[0m fastestroute(start, data)\n",
      "\u001b[1;32m/home/lwu1822/vscode/fastpages/_notebooks/2022-12-14-w16_CSP3.17-3.18LessonNotebook.ipynb Cell 12\u001b[0m in \u001b[0;36mfastestroute\u001b[0;34m(start, data)\u001b[0m\n\u001b[1;32m      <a href='vscode-notebook-cell://wsl%2Bubuntu/home/lwu1822/vscode/fastpages/_notebooks/2022-12-14-w16_CSP3.17-3.18LessonNotebook.ipynb#X16sdnNjb2RlLXJlbW90ZQ%3D%3D?line=6'>7</a>\u001b[0m \u001b[39m#CODE,CODE,CODE\u001b[39;00m\n\u001b[1;32m      <a href='vscode-notebook-cell://wsl%2Bubuntu/home/lwu1822/vscode/fastpages/_notebooks/2022-12-14-w16_CSP3.17-3.18LessonNotebook.ipynb#X16sdnNjb2RlLXJlbW90ZQ%3D%3D?line=7'>8</a>\u001b[0m order\u001b[39m.\u001b[39mappend(start)\n\u001b[0;32m----> <a href='vscode-notebook-cell://wsl%2Bubuntu/home/lwu1822/vscode/fastpages/_notebooks/2022-12-14-w16_CSP3.17-3.18LessonNotebook.ipynb#X16sdnNjb2RlLXJlbW90ZQ%3D%3D?line=8'>9</a>\u001b[0m mv(start)\n",
      "\u001b[1;32m/home/lwu1822/vscode/fastpages/_notebooks/2022-12-14-w16_CSP3.17-3.18LessonNotebook.ipynb Cell 12\u001b[0m in \u001b[0;36mmv\u001b[0;34m(travelPlace)\u001b[0m\n\u001b[1;32m     <a href='vscode-notebook-cell://wsl%2Bubuntu/home/lwu1822/vscode/fastpages/_notebooks/2022-12-14-w16_CSP3.17-3.18LessonNotebook.ipynb#X16sdnNjb2RlLXJlbW90ZQ%3D%3D?line=21'>22</a>\u001b[0m order\u001b[39m.\u001b[39mappend(travelPlace)\n\u001b[1;32m     <a href='vscode-notebook-cell://wsl%2Bubuntu/home/lwu1822/vscode/fastpages/_notebooks/2022-12-14-w16_CSP3.17-3.18LessonNotebook.ipynb#X16sdnNjb2RlLXJlbW90ZQ%3D%3D?line=22'>23</a>\u001b[0m drivetime \u001b[39m+\u001b[39m\u001b[39m=\u001b[39m shortestTime\n\u001b[0;32m---> <a href='vscode-notebook-cell://wsl%2Bubuntu/home/lwu1822/vscode/fastpages/_notebooks/2022-12-14-w16_CSP3.17-3.18LessonNotebook.ipynb#X16sdnNjb2RlLXJlbW90ZQ%3D%3D?line=25'>26</a>\u001b[0m mv(travelPlace)\n\u001b[1;32m     <a href='vscode-notebook-cell://wsl%2Bubuntu/home/lwu1822/vscode/fastpages/_notebooks/2022-12-14-w16_CSP3.17-3.18LessonNotebook.ipynb#X16sdnNjb2RlLXJlbW90ZQ%3D%3D?line=26'>27</a>\u001b[0m \u001b[39mprint\u001b[39m(order)\n",
      "\u001b[1;32m/home/lwu1822/vscode/fastpages/_notebooks/2022-12-14-w16_CSP3.17-3.18LessonNotebook.ipynb Cell 12\u001b[0m in \u001b[0;36mmv\u001b[0;34m(travelPlace)\u001b[0m\n\u001b[1;32m     <a href='vscode-notebook-cell://wsl%2Bubuntu/home/lwu1822/vscode/fastpages/_notebooks/2022-12-14-w16_CSP3.17-3.18LessonNotebook.ipynb#X16sdnNjb2RlLXJlbW90ZQ%3D%3D?line=21'>22</a>\u001b[0m order\u001b[39m.\u001b[39mappend(travelPlace)\n\u001b[1;32m     <a href='vscode-notebook-cell://wsl%2Bubuntu/home/lwu1822/vscode/fastpages/_notebooks/2022-12-14-w16_CSP3.17-3.18LessonNotebook.ipynb#X16sdnNjb2RlLXJlbW90ZQ%3D%3D?line=22'>23</a>\u001b[0m drivetime \u001b[39m+\u001b[39m\u001b[39m=\u001b[39m shortestTime\n\u001b[0;32m---> <a href='vscode-notebook-cell://wsl%2Bubuntu/home/lwu1822/vscode/fastpages/_notebooks/2022-12-14-w16_CSP3.17-3.18LessonNotebook.ipynb#X16sdnNjb2RlLXJlbW90ZQ%3D%3D?line=25'>26</a>\u001b[0m mv(travelPlace)\n\u001b[1;32m     <a href='vscode-notebook-cell://wsl%2Bubuntu/home/lwu1822/vscode/fastpages/_notebooks/2022-12-14-w16_CSP3.17-3.18LessonNotebook.ipynb#X16sdnNjb2RlLXJlbW90ZQ%3D%3D?line=26'>27</a>\u001b[0m \u001b[39mprint\u001b[39m(order)\n",
      "    \u001b[0;31m[... skipping similar frames: mv at line 26 (2967 times)]\u001b[0m\n",
      "\u001b[1;32m/home/lwu1822/vscode/fastpages/_notebooks/2022-12-14-w16_CSP3.17-3.18LessonNotebook.ipynb Cell 12\u001b[0m in \u001b[0;36mmv\u001b[0;34m(travelPlace)\u001b[0m\n\u001b[1;32m     <a href='vscode-notebook-cell://wsl%2Bubuntu/home/lwu1822/vscode/fastpages/_notebooks/2022-12-14-w16_CSP3.17-3.18LessonNotebook.ipynb#X16sdnNjb2RlLXJlbW90ZQ%3D%3D?line=21'>22</a>\u001b[0m order\u001b[39m.\u001b[39mappend(travelPlace)\n\u001b[1;32m     <a href='vscode-notebook-cell://wsl%2Bubuntu/home/lwu1822/vscode/fastpages/_notebooks/2022-12-14-w16_CSP3.17-3.18LessonNotebook.ipynb#X16sdnNjb2RlLXJlbW90ZQ%3D%3D?line=22'>23</a>\u001b[0m drivetime \u001b[39m+\u001b[39m\u001b[39m=\u001b[39m shortestTime\n\u001b[0;32m---> <a href='vscode-notebook-cell://wsl%2Bubuntu/home/lwu1822/vscode/fastpages/_notebooks/2022-12-14-w16_CSP3.17-3.18LessonNotebook.ipynb#X16sdnNjb2RlLXJlbW90ZQ%3D%3D?line=25'>26</a>\u001b[0m mv(travelPlace)\n\u001b[1;32m     <a href='vscode-notebook-cell://wsl%2Bubuntu/home/lwu1822/vscode/fastpages/_notebooks/2022-12-14-w16_CSP3.17-3.18LessonNotebook.ipynb#X16sdnNjb2RlLXJlbW90ZQ%3D%3D?line=26'>27</a>\u001b[0m \u001b[39mprint\u001b[39m(order)\n",
      "\u001b[1;32m/home/lwu1822/vscode/fastpages/_notebooks/2022-12-14-w16_CSP3.17-3.18LessonNotebook.ipynb Cell 12\u001b[0m in \u001b[0;36mmv\u001b[0;34m(travelPlace)\u001b[0m\n\u001b[1;32m     <a href='vscode-notebook-cell://wsl%2Bubuntu/home/lwu1822/vscode/fastpages/_notebooks/2022-12-14-w16_CSP3.17-3.18LessonNotebook.ipynb#X16sdnNjb2RlLXJlbW90ZQ%3D%3D?line=14'>15</a>\u001b[0m \u001b[39mfor\u001b[39;00m j \u001b[39min\u001b[39;00m \u001b[39mrange\u001b[39m(\u001b[39mlen\u001b[39m(dataset[travelPlace])):\n\u001b[1;32m     <a href='vscode-notebook-cell://wsl%2Bubuntu/home/lwu1822/vscode/fastpages/_notebooks/2022-12-14-w16_CSP3.17-3.18LessonNotebook.ipynb#X16sdnNjb2RlLXJlbW90ZQ%3D%3D?line=15'>16</a>\u001b[0m     search \u001b[39m=\u001b[39m \u001b[39mlist\u001b[39m(dataset[travelPlace]\u001b[39m.\u001b[39mkeys())[j]\n\u001b[0;32m---> <a href='vscode-notebook-cell://wsl%2Bubuntu/home/lwu1822/vscode/fastpages/_notebooks/2022-12-14-w16_CSP3.17-3.18LessonNotebook.ipynb#X16sdnNjb2RlLXJlbW90ZQ%3D%3D?line=16'>17</a>\u001b[0m     \u001b[39mif\u001b[39;00m find(search): \n\u001b[1;32m     <a href='vscode-notebook-cell://wsl%2Bubuntu/home/lwu1822/vscode/fastpages/_notebooks/2022-12-14-w16_CSP3.17-3.18LessonNotebook.ipynb#X16sdnNjb2RlLXJlbW90ZQ%3D%3D?line=17'>18</a>\u001b[0m         \u001b[39mif\u001b[39;00m \u001b[39mlist\u001b[39m(dataset[travelPlace]\u001b[39m.\u001b[39mvalues())[j] \u001b[39m<\u001b[39m shortestTime:\n\u001b[1;32m     <a href='vscode-notebook-cell://wsl%2Bubuntu/home/lwu1822/vscode/fastpages/_notebooks/2022-12-14-w16_CSP3.17-3.18LessonNotebook.ipynb#X16sdnNjb2RlLXJlbW90ZQ%3D%3D?line=18'>19</a>\u001b[0m             shortestTime \u001b[39m=\u001b[39m \u001b[39mlist\u001b[39m(dataset[travelPlace]\u001b[39m.\u001b[39mvalues())[j]\n",
      "\u001b[1;32m/home/lwu1822/vscode/fastpages/_notebooks/2022-12-14-w16_CSP3.17-3.18LessonNotebook.ipynb Cell 12\u001b[0m in \u001b[0;36mfind\u001b[0;34m(nextPlace)\u001b[0m\n\u001b[1;32m     <a href='vscode-notebook-cell://wsl%2Bubuntu/home/lwu1822/vscode/fastpages/_notebooks/2022-12-14-w16_CSP3.17-3.18LessonNotebook.ipynb#X16sdnNjb2RlLXJlbW90ZQ%3D%3D?line=28'>29</a>\u001b[0m \u001b[39mdef\u001b[39;00m \u001b[39mfind\u001b[39m(nextPlace):\n\u001b[0;32m---> <a href='vscode-notebook-cell://wsl%2Bubuntu/home/lwu1822/vscode/fastpages/_notebooks/2022-12-14-w16_CSP3.17-3.18LessonNotebook.ipynb#X16sdnNjb2RlLXJlbW90ZQ%3D%3D?line=29'>30</a>\u001b[0m     \u001b[39mfor\u001b[39;00m i \u001b[39min\u001b[39;00m \u001b[39mrange\u001b[39m(\u001b[39mlen\u001b[39;49m(order)):\n\u001b[1;32m     <a href='vscode-notebook-cell://wsl%2Bubuntu/home/lwu1822/vscode/fastpages/_notebooks/2022-12-14-w16_CSP3.17-3.18LessonNotebook.ipynb#X16sdnNjb2RlLXJlbW90ZQ%3D%3D?line=30'>31</a>\u001b[0m         \u001b[39mif\u001b[39;00m nextPlace \u001b[39m==\u001b[39m order[i]:\n\u001b[1;32m     <a href='vscode-notebook-cell://wsl%2Bubuntu/home/lwu1822/vscode/fastpages/_notebooks/2022-12-14-w16_CSP3.17-3.18LessonNotebook.ipynb#X16sdnNjb2RlLXJlbW90ZQ%3D%3D?line=31'>32</a>\u001b[0m             \u001b[39mreturn\u001b[39;00m \u001b[39mFalse\u001b[39;00m\n",
      "\u001b[0;31mRecursionError\u001b[0m: maximum recursion depth exceeded while calling a Python object"
     ]
    }
   ],
   "source": [
    "drivetime = 0\n",
    "def fastestroute(start,data):\n",
    "    global drivetime \n",
    "    drivetime = 0\n",
    "    global order \n",
    "    order = []\n",
    "    #CODE,CODE,CODE\n",
    "    order.append(start)\n",
    "    mv(start)\n",
    "        \n",
    "def mv(travelPlace):\n",
    "    global drivetime \n",
    "    shortestTime = list(dataset[travelPlace].values())[0]\n",
    "    travelPlace = list(dataset[travelPlace].keys())[0]\n",
    "    for j in range(len(dataset[travelPlace])):\n",
    "        search = list(dataset[travelPlace].keys())[j]\n",
    "        if find(search): \n",
    "            if list(dataset[travelPlace].values())[j] < shortestTime:\n",
    "                shortestTime = list(dataset[travelPlace].values())[j]\n",
    "                travelPlace = list(dataset[travelPlace].keys())[j]\n",
    "            \n",
    "    order.append(travelPlace)\n",
    "    drivetime += shortestTime\n",
    "    \n",
    "    \n",
    "    mv(travelPlace)\n",
    "    print(order)\n",
    "    \n",
    "def find(nextPlace):\n",
    "    for i in range(len(order)):\n",
    "        if nextPlace == order[i]:\n",
    "            return False\n",
    "    return True \n",
    "        \n",
    "    print(drivetime)\n",
    "    print(order)\n",
    "    #return(drivetime,order)\n",
    "\n",
    "start = 'DelNorte'\n",
    "data = dataset\n",
    "fastestroute(start, data)\n",
    "# 'dataset' is the name of the nested key value pair"
   ]
  },
  {
   "cell_type": "code",
   "execution_count": 19,
   "metadata": {},
   "outputs": [
    {
     "name": "stdout",
     "output_type": "stream",
     "text": [
      "80\n",
      "['Del Norte', 'RanchoBernrdo', 'Poway']\n"
     ]
    }
   ],
   "source": [
    "def fastestroute(start,data):\n",
    "    drivetime = 0\n",
    "    order = []\n",
    "    #CODE,CODE,CODE\n",
    "    for i in range(len(dataset)):\n",
    "        place = list(dataset.keys())[i]\n",
    "        shortestTime = list(dataset[place].values())[0]\n",
    "        travelPlace = \"\"\n",
    "        for j in range(len(dataset[place])):\n",
    "            if list(dataset[place].values())[j] < shortestTime:\n",
    "                shortestTime = list(dataset[place].values())[j]\n",
    "                travelPlace = list(dataset[place].keys())[j]\n",
    "        if travelPlace != \"\":\n",
    "            order.append(travelPlace)\n",
    "        drivetime += shortestTime\n",
    "        \n",
    "    print(drivetime)\n",
    "    print(order)\n",
    "    #return(drivetime,order)\n",
    "\n",
    "start = 'DelNorte'\n",
    "data = dataset\n",
    "fastestroute(start, data)\n",
    "# 'dataset' is the name of the nested key value pair"
   ]
  },
  {
   "attachments": {},
   "cell_type": "markdown",
   "metadata": {},
   "source": [
    "### Grading:\n",
    "|Challenge|Homework|\n",
    "|---|---|\n",
    "|.15 pts for attempt|.65 for attempt|\n",
    "|.20 pts for complete|.70 for complete|\n",
    "|.25 pts for above and beyond|.75 pts for above and beyond|\n"
   ]
  }
 ],
 "metadata": {
  "kernelspec": {
   "display_name": "base",
   "language": "python",
   "name": "python3"
  },
  "language_info": {
   "codemirror_mode": {
    "name": "ipython",
    "version": 3
   },
   "file_extension": ".py",
   "mimetype": "text/x-python",
   "name": "python",
   "nbconvert_exporter": "python",
   "pygments_lexer": "ipython3",
   "version": "3.9.12"
  },
  "orig_nbformat": 4,
  "vscode": {
   "interpreter": {
    "hash": "f260b6b3ae1ef2114af89aa0dee38d5682df0763aaac2870f1e656463369401e"
   }
  }
 },
 "nbformat": 4,
 "nbformat_minor": 2
}
