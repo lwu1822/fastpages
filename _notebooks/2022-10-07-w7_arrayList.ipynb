{
 "cells": [
  {
   "cell_type": "markdown",
   "metadata": {},
   "source": [
    "# Array List\n",
    "> Array List lesson\n",
    "\n",
    "- toc: true \n",
    "- badges: true\n",
    "- comments: true"
   ]
  },
  {
   "cell_type": "markdown",
   "metadata": {},
   "source": [
    "# What is an ArrayList?\n",
    "\n",
    "An `ArrayList` is like an array, except better :)\n",
    "\n",
    "The main problem with a regular array is that elements can not be added or removed from the array (can not change the array size). This is made possible with `ArrayList`\n",
    "\n",
    "To begin, start by creating an ArrayList object:"
   ]
  },
  {
   "cell_type": "code",
   "execution_count": 52,
   "metadata": {},
   "outputs": [],
   "source": [
    "import java.util.ArrayList;\n",
    "abstract class ArrayListDemo{\n",
    "    ArrayList<String> alphabet = new ArrayList<String>(Arrays.asList(\"a\", \"b\", \"c\"));\n",
    "    public ArrayListDemo() {\n",
    "\n",
    "    }\n",
    "    protected abstract void changes();\n",
    "\n",
    "   \n",
    "}"
   ]
  },
  {
   "cell_type": "markdown",
   "metadata": {},
   "source": [
    "# Add, edit, and remove elements\n",
    "\n",
    "To add elements, use the `add()` method. To add an element at a specific index, use <code>add(<em>index</em>, <em>element</em>)</code>. To add all elements in an array to another array, use <code>addAll(<em>index</em>, <em>array</em>)</code>. To edit elements, use <code>set(<em>index</em>, <em>element</em>)</code>. To remove elements at a specific index, use the <code>remove(<em>index</em>)</code> method, or to remove a specific element, use <code>remove(<em>element</em>)</code>. To clear an array, use the `clear()` method."
   ]
  },
  {
   "cell_type": "markdown",
   "metadata": {},
   "source": [
    "## Add elements"
   ]
  },
  {
   "cell_type": "code",
   "execution_count": 53,
   "metadata": {},
   "outputs": [
    {
     "name": "stdout",
     "output_type": "stream",
     "text": [
      "[a, z, b, c, d]\n"
     ]
    }
   ],
   "source": [
    "public class SpecificArray extends ArrayListDemo {\n",
    "    public SpecificArray() {\n",
    "    }\n",
    "\n",
    "    public void changes() {\n",
    "        super.alphabet.add(\"d\");\n",
    "        super.alphabet.add(1, \"z\");\n",
    "        System.out.println(super.alphabet);\n",
    "    }\n",
    "\n",
    "    public static void main(String[] args) {\n",
    "        SpecificArray changeArray = new SpecificArray(); \n",
    "        changeArray.changes(); \n",
    "    }\n",
    "}\n",
    "SpecificArray.main(null);\n"
   ]
  },
  {
   "cell_type": "markdown",
   "metadata": {},
   "source": [
    "## Edit elements"
   ]
  },
  {
   "cell_type": "code",
   "execution_count": 62,
   "metadata": {},
   "outputs": [
    {
     "name": "stdout",
     "output_type": "stream",
     "text": [
      "[z, b, c]\n"
     ]
    }
   ],
   "source": [
    "public class SpecificArray extends ArrayListDemo {\n",
    "    public SpecificArray() {\n",
    "    }\n",
    "\n",
    "    public void changes() {\n",
    "        super.alphabet.set(0, \"z\"); \n",
    "        System.out.println(super.alphabet);\n",
    "    }\n",
    "\n",
    "    public static void main(String[] args) {\n",
    "        SpecificArray changeArray = new SpecificArray(); \n",
    "        changeArray.changes(); \n",
    "    }\n",
    "}\n",
    "SpecificArray.main(null);\n"
   ]
  },
  {
   "cell_type": "markdown",
   "metadata": {},
   "source": [
    "## Remove elements"
   ]
  },
  {
   "cell_type": "code",
   "execution_count": 58,
   "metadata": {},
   "outputs": [
    {
     "name": "stdout",
     "output_type": "stream",
     "text": [
      "[a]\n"
     ]
    }
   ],
   "source": [
    "public class SpecificArray extends ArrayListDemo {\n",
    "    public SpecificArray() {\n",
    "    }\n",
    "\n",
    "    public void changes() {\n",
    "        super.alphabet.remove(1);\n",
    "        super.alphabet.remove(\"c\");\n",
    "        System.out.println(super.alphabet);\n",
    "    }\n",
    "\n",
    "    public static void main(String[] args) {\n",
    "        SpecificArray changeArray = new SpecificArray(); \n",
    "        changeArray.changes(); \n",
    "    }\n",
    "}\n",
    "SpecificArray.main(null);\n"
   ]
  },
  {
   "cell_type": "markdown",
   "metadata": {},
   "source": [
    "## Add an array to another"
   ]
  },
  {
   "cell_type": "code",
   "execution_count": 56,
   "metadata": {},
   "outputs": [
    {
     "name": "stdout",
     "output_type": "stream",
     "text": [
      "[a, z, x, y, b, c]\n"
     ]
    }
   ],
   "source": [
    "public class SpecificArray extends ArrayListDemo {\n",
    "    ArrayList<String> alphabet2 = new ArrayList<String>(Arrays.asList(\"z\", \"x\", \"y\")); \n",
    "\n",
    "    public SpecificArray() {\n",
    "    }\n",
    "\n",
    "    public void changes() {\n",
    "        super.alphabet.addAll(1, alphabet2); \n",
    "        System.out.println(alphabet);     \n",
    "    }\n",
    "\n",
    "    public static void main(String[] args) {\n",
    "        SpecificArray changeArray = new SpecificArray(); \n",
    "        changeArray.changes(); \n",
    "    }\n",
    "}\n",
    "SpecificArray.main(null);"
   ]
  },
  {
   "cell_type": "markdown",
   "metadata": {},
   "source": [
    "## Clear"
   ]
  },
  {
   "cell_type": "code",
   "execution_count": 57,
   "metadata": {},
   "outputs": [
    {
     "name": "stdout",
     "output_type": "stream",
     "text": [
      "[]\n"
     ]
    }
   ],
   "source": [
    "public class SpecificArray extends ArrayListDemo {\n",
    "\n",
    "    public SpecificArray() {\n",
    "    }\n",
    "\n",
    "    public void changes() {\n",
    "        super.alphabet.clear(); \n",
    "        System.out.println(alphabet); \n",
    "    }\n",
    "\n",
    "    public static void main(String[] args) {\n",
    "        SpecificArray changeArray = new SpecificArray(); \n",
    "        changeArray.changes(); \n",
    "    }\n",
    "}\n",
    "SpecificArray.main(null);"
   ]
  },
  {
   "cell_type": "markdown",
   "metadata": {},
   "source": [
    "# Array Info\n",
    "\n",
    "To find the size of the array, use the `size()` method. To see the specific element at an index, use the `get()` method. <code>indexOf(<em>element</em>)</code> will return the first index that the element is in, while <code>lastIndexOf(<em>element</em>)</code> will return the index of the last occurrence of the element. To find the associated hash of the array, use the `hashCode()` method. The `isEmpty()` method will return `true` if the array is empty, and `false` if not. To check if the array contains an element, use the <code>contains(<em>element</em>)</code> method. To check if two arrays are equal to each other, use the <code>equals(<em>array</em>)</code> method, and to check if an array contains all of the elements in a collection, use the <code>containsAll(<em>array</em>)</code> method. To sort the elements in an ArrayList, use the `sort()` method. "
   ]
  },
  {
   "cell_type": "markdown",
   "metadata": {},
   "source": [
    "## ArrayList Info"
   ]
  },
  {
   "cell_type": "code",
   "execution_count": 72,
   "metadata": {},
   "outputs": [
    {
     "name": "stdout",
     "output_type": "stream",
     "text": [
      "[a, b, c]\n",
      "Size of alphabet array is: 3\n",
      "Element of index 0 is: a\n",
      "Index of element b is: 1\n",
      "Updated ArrayList: [a, b, c, a]\n",
      "Last occurence of a is at index: 3\n",
      "Hash code of alphabet is 3910592\n",
      "alphabet array is not empty!\n",
      "alphabet array does not contain the element z\n",
      "false\n"
     ]
    }
   ],
   "source": [
    "public class SpecificArray extends ArrayListDemo {\n",
    "\n",
    "    public SpecificArray() {\n",
    "    }\n",
    "\n",
    "    public void changes() {\n",
    "        System.out.println(super.alphabet); \n",
    "        System.out.println(\"Size of alphabet array is: \" + super.alphabet.size()); \n",
    "        System.out.println(\"Element of index 0 is: \" + super.alphabet.get(0)); \n",
    "        System.out.println(\"Index of element b is: \" + super.alphabet.indexOf(\"b\")); \n",
    "        super.alphabet.add(\"a\"); \n",
    "        System.out.println(\"Updated ArrayList: \" + super.alphabet); \n",
    "        System.out.println(\"Last occurence of a is at index: \" + super.alphabet.lastIndexOf(\"a\")); \n",
    "        System.out.println(\"Hash code of alphabet is \" + super.alphabet.hashCode()); \n",
    "\n",
    "        if (super.alphabet.isEmpty() == true) {\n",
    "            System.out.println(\"alphabet array is empty!\");\n",
    "        } else {\n",
    "            System.out.println(\"alphabet array is not empty!\"); \n",
    "        }\n",
    "\n",
    "        if (super.alphabet.contains(\"z\") == true) {\n",
    "            System.out.println(\"alphabet array contains the element z\");\n",
    "        } else {\n",
    "            System.out.println(\"alphabet array does not contain the element z\"); \n",
    "        }\n",
    "\n",
    "    }\n",
    "\n",
    "    public static void main(String[] args) {\n",
    "        SpecificArray changeArray = new SpecificArray(); \n",
    "        changeArray.changes(); \n",
    "    }\n",
    "}\n",
    "SpecificArray.main(null);"
   ]
  },
  {
   "cell_type": "markdown",
   "metadata": {},
   "source": [
    "## Compare ArrayLists"
   ]
  },
  {
   "cell_type": "code",
   "execution_count": 77,
   "metadata": {},
   "outputs": [
    {
     "name": "stdout",
     "output_type": "stream",
     "text": [
      "alphabet: [a, b, c]\n",
      "alphabet2: [z, x, y]\n",
      "alphabet and alphabet2 are different\n",
      "alphabet and alphabet2 have different elements\n"
     ]
    }
   ],
   "source": [
    "public class SpecificArray extends ArrayListDemo {\n",
    "    ArrayList<String> alphabet2 = new ArrayList<String>(Arrays.asList(\"z\", \"x\", \"y\")); \n",
    "\n",
    "    public SpecificArray() {\n",
    "    }\n",
    "\n",
    "    public void changes() {\n",
    "        System.out.println(\"alphabet: \" + alphabet); \n",
    "        System.out.println(\"alphabet2: \" + alphabet2); \n",
    "        if (alphabet.equals(alphabet2)) {\n",
    "            System.out.println(\"alphabet and alphabet2 are the same\"); \n",
    "        } else {\n",
    "            System.out.println(\"alphabet and alphabet2 are different\"); \n",
    "        }\n",
    "\n",
    "        if (alphabet.containsAll(alphabet2)) {\n",
    "            System.out.println(\"alphabet and alphabet2 have the same elements\"); \n",
    "        } else {\n",
    "            System.out.println(\"alphabet and alphabet2 have different elements\"); \n",
    "        }\n",
    "    }\n",
    "\n",
    "    public static void main(String[] args) {\n",
    "        SpecificArray changeArray = new SpecificArray(); \n",
    "        changeArray.changes(); \n",
    "    }\n",
    "}\n",
    "SpecificArray.main(null);"
   ]
  },
  {
   "cell_type": "markdown",
   "metadata": {},
   "source": [
    "## Sort ArrayLists"
   ]
  },
  {
   "cell_type": "code",
   "execution_count": 79,
   "metadata": {},
   "outputs": [
    {
     "name": "stdout",
     "output_type": "stream",
     "text": [
      "Modified alphabet ArrayList: [a, b, c, a]\n",
      "Sorted ArrayList alphabet: [a, a, b, c]\n"
     ]
    }
   ],
   "source": [
    "public class SpecificArray extends ArrayListDemo {\n",
    "    public SpecificArray() {\n",
    "    }\n",
    "\n",
    "    public void changes() {\n",
    "        alphabet.add(\"a\"); \n",
    "        System.out.println(\"Modified alphabet ArrayList: \" + alphabet); \n",
    "\n",
    "        alphabet.sort(Comparator.naturalOrder()); \n",
    "        System.out.println(\"Sorted ArrayList alphabet: \" + alphabet); \n",
    "    }\n",
    "\n",
    "    public static void main(String[] args) {\n",
    "        SpecificArray changeArray = new SpecificArray(); \n",
    "        changeArray.changes(); \n",
    "    }\n",
    "}\n",
    "SpecificArray.main(null);"
   ]
  }
 ],
 "metadata": {
  "kernelspec": {
   "display_name": "Java",
   "language": "java",
   "name": "java"
  },
  "language_info": {
   "codemirror_mode": "java",
   "file_extension": ".jshell",
   "mimetype": "text/x-java-source",
   "name": "java",
   "pygments_lexer": "java",
   "version": "11.0.16+8-post-Ubuntu-0ubuntu120.04"
  },
  "orig_nbformat": 4,
  "vscode": {
   "interpreter": {
    "hash": "916dbcbb3f70747c44a77c7bcd40155683ae19c65e1c03b4aa3499c5328201f1"
   }
  }
 },
 "nbformat": 4,
 "nbformat_minor": 2
}
