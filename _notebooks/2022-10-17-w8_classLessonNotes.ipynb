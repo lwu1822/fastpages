{
 "cells": [
  {
   "cell_type": "markdown",
   "metadata": {},
   "source": [
    "# Class Lesson Notes\n",
    "> Notes on Unit 1-5 for class lessons\n",
    "\n",
    "- toc: true \n",
    "- badges: true\n",
    "- comments: true"
   ]
  },
  {
   "cell_type": "markdown",
   "metadata": {},
   "source": [
    "# Unit 1 Primitives\n",
    "\n",
    "*Note: Credit to Period 1's Primitives presentation for the information below*\n",
    "\n",
    "# What are primitives? \n",
    "\n",
    "Primitives include certain data types, such as integer, doubles, booleans, char, float, and long. Primitive names typically start with a lowercase letter, and if needed, subsequent words start with an uppercase letter. \n",
    "\n",
    "To switch between primitive data types, <mark>casting</mark> can be used. \n",
    "\n",
    "There are 5 types of operators: `+=`, `-=`, `*=`, `/=`, and `%=` and an increment and decrement operator: `++` and `--`. \n",
    "\n",
    "## Scanners\n",
    "To take in input in java, the Scanner class needs to be first imported with `import java.util.Scanner;`. Next, a scanner object can be created with <code>Scanner <em>object name</em> = new Scanner(System.in)</code>. To take in input, specify the data type that the scanner takes in with <code>scanner.next<em>data type</em></code>"
   ]
  },
  {
   "cell_type": "markdown",
   "metadata": {},
   "source": [
    "# Unit 2 Objects\n",
    "\n",
    "## What are objects?\n",
    "\n",
    "Objects are instances of a class. There are three steps to create an object: **declaration, instantiation, and initialization**. Declaration is specified through a type followed by the variable name. Instantiation instantiates the object with the `new` keyword. Initialization occurs the name of the constructor method is specified after the `new` keyword.\n",
    "\n",
    "## Creating objects\n",
    "The syntax to create objects is: <code><em>Class-name</em> <em>object-name</em> = new <em>constructor-name</em></code>\n",
    "\n",
    "## Methods\n",
    "Methods are defined with a return type (int, bool, etc. or void (no return type)) and the method name.\n",
    "\n",
    "## Static vs non static\n",
    "A static method can only access other static methods, while a nonstatic method can access both static and nonstatic methods.\n",
    "\n",
    "## Math class\n",
    "Important methods: `Math.abs`, `Math.random()`"
   ]
  },
  {
   "cell_type": "markdown",
   "metadata": {},
   "source": [
    "# Unit 4 Iteration\n",
    "\n",
    "## while loops\n",
    "The syntax of a while loop looks like this: \n",
    "\n",
    "```\n",
    "while (condition) {\n",
    "\n",
    "}\n",
    "```\n",
    "\n",
    "Everytime the while loop executes, it first checks the condition. If the condition is true, the code inside the loop is ran. After the code finishes, the while loop checks again with the condition.\n",
    "\n",
    "## for loops \n",
    "The syntax of a for loop looks like this:\n",
    "\n",
    "```\n",
    "for (initialize variable; condition; change variable) {\n",
    "\n",
    "}\n",
    "```\n",
    "\n",
    "Every time the for loop executes, it checks the condition. If the condition is true, the code inside the for loop is ran. After the code finishes running, the variable is incremented by the amount specified.\n",
    "\n",
    "<br>\n",
    "\n",
    "There can also be nested iteration (ex: for loop within for loop)\n",
    "\n",
    "## for each loop \n",
    "The syntax for a for-each loop looks like this:\n",
    "```\n",
    "for (dataType item : array){\n",
    "\n",
    "}\n",
    "```\n",
    "\n",
    "This is especially useful for iterating through arrays.\n"
   ]
  },
  {
   "cell_type": "markdown",
   "metadata": {},
   "source": [
    "# Unit 5 Writing Classes\n",
    "\n",
    "## What are classes?\n",
    "\n",
    "Classes are the blueprints for objects. They contain instance variables, constructors, and methods. <mark>Objects</mark> are instances of classes. \n",
    "\n",
    "## Access modifiers\n",
    "`public`: Can be accessed in classes outside of the declaring class\n",
    "\n",
    "`private`: Can only be accessed in the declaring class\n",
    "\n",
    "## Getters and setters\n",
    "Getters help make variables read only. Setters allow write only permissions.\n",
    "\n",
    "The syntax for getters is: \n",
    "<pre>public <em>data-type</em> get<em>Name</em></pre>"
   ]
  }
 ],
 "metadata": {
  "kernelspec": {
   "display_name": "Java",
   "language": "java",
   "name": "java"
  },
  "language_info": {
   "name": "java",
   "version": "3.8.10"
  },
  "orig_nbformat": 4,
  "vscode": {
   "interpreter": {
    "hash": "916dbcbb3f70747c44a77c7bcd40155683ae19c65e1c03b4aa3499c5328201f1"
   }
  }
 },
 "nbformat": 4,
 "nbformat_minor": 2
}
