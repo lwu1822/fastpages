{
 "cells": [
  {
   "attachments": {},
   "cell_type": "markdown",
   "metadata": {},
   "source": [
    "# Unit 3.14 Libraries Lesson\n",
    "> Here is our lesson about libraries!\n",
    "\n",
    "- toc: true\n",
    "- comments: true\n",
    "- categories: [Week-13,Big-Idea-3]\n",
    "- image: /images/college-board-logo.png"
   ]
  },
  {
   "attachments": {},
   "cell_type": "markdown",
   "metadata": {},
   "source": [
    "Purpose: Help students streamline and make their coding experience easier through built in packages and methods from a library\n",
    "<br>Objective: By the end of the lesson, students should be able to fluently use methods from the turtle and math packages, and be able to look up documentation for any python package and us it."
   ]
  },
  {
   "attachments": {},
   "cell_type": "markdown",
   "metadata": {},
   "source": [
    "# Summary (comprehensive notes are below)\n",
    "\n",
    "* Library: Allows the user to import methods that can perform functions that would be complicated to code\n",
    "  The entire package can be imported or just a single method from the package. To import a single method from a package, type <code>from <em>package name</em> import <em>method name</em></code>\n",
    "\n",
    "* Import a library as a user provided name: <code>import <em>name</em> as <em>user input name</em></code>\n",
    "\n",
    "* To import all methods from a library, type <code>from <em>name</em> import <mark>*</mark></code>"
   ]
  },
  {
   "attachments": {},
   "cell_type": "markdown",
   "metadata": {},
   "source": [
    "fill in the blanks!\n",
    "# Libraries\n",
    "Okay, so we've learned a lot of code, and all of you now can boast that you can code at least some basic programs in python. But, what about more advanced stuff? What if there's a more advanced program you don't know how to make? Do you need to make it yourself? Well, not always. \n",
    "\n",
    "You've already learned about <mark>functions</mark> that you can write to reuse in your code in previous lessons. But,there are many others who code in python just like you. So why would you do again what someone has already done, and is available for any python user? \n",
    "\n",
    "<mark>Packages</mark> allow a python user to import <mark>methods</mark> from a <mark>library</mark>, and use the methods in their code. Most libraries come with <mark>documentation</mark> on the different methods they entail and how to use them, and they can be found with a quick <mark>google search</mark>. methods are used with the following: \n",
    "\n",
    "#### Note: a method from a package can only be used after the import statement. \n",
    "\n",
    "Some libraries are always installed, such as those with the <mark>list</mark> methods which we have previously discussed. But others require a special python keyword called <mark>import</mark>. We will learn different ways to <mark>import</mark> in Challenge 1.\n",
    "\n",
    "Sometimes we only need to import a single <mark>method</mark> from the package. We can do that with the word <mark>front</mark>, followed by the package name, then the word <mark>import</mark>, then the method. This will alllow you to use the method without mentioning the package's name, unlike what we did before, however other methods from that package cannot be used. To get the best of both worlds you can use <mark>*</mark>.\n",
    "\n",
    "To import a method as an easier name, just do what we did first, add the word <mark>as</mark>, and write the name you would like to use that package as.\n",
    "\n",
    "# Challenge 1: Basic Libraries\n",
    "1. Find a python package on the internet and import it\n",
    "2. Choose a method from the package and import only the method\n",
    "3. import the package as a more convenient name."
   ]
  },
  {
   "cell_type": "code",
   "execution_count": 2,
   "metadata": {},
   "outputs": [],
   "source": [
    "import numpy\n",
    "\n",
    "from numpy import sqrt\n",
    "\n",
    "import numpy as np"
   ]
  },
  {
   "attachments": {},
   "cell_type": "markdown",
   "metadata": {},
   "source": [
    "# Challenge 2: Turtle\n",
    "Turtle is a python <mark>python</mark> library which allows you to draw all kinds of different shapes. It's ofter used to teach beginning python learners, but is really cool to use anywhere. Turtle employs a <mark>graphics package</mark> to display what you've done, but unfortunately it's kind of annoying to make work with vscode.\n",
    "<br>\n",
    "Use: repl.it\n",
    "<br>\n",
    "Click \"+ Create\", and for language, select \"Python (with Turtle)\"\n",
    "<br>\n",
    "[Documentation](https://docs.python.org/3/library/turtle.html#turtle.pendown)<br>\n",
    "Task: Have fun with turtle! Create something that uses at least 2 lines of different lengths and 2 turns with different angles, and changes at least one setting about either the pen or canvas. Also use one command that isn't mentioned on the table below(there are a lot). Paste a screenshot of the code and the drawing from repl.it\n",
    "\n",
    "|Commands|\n",
    "|--------|\n",
    "|forward(pixels)|\n",
    "|right(degrees)|\n",
    "|left(degrees)|\n",
    "|setpos(x,y)|\n",
    "|speed(speed)|\n",
    "|pensize(size)|\n",
    "|pencolor(color)|\n",
    "Note: Color should be within quotes, like \"brown\", or \"red\"\n",
    "\n",
    "![](my_icons/turtle.jpg)"
   ]
  },
  {
   "cell_type": "code",
   "execution_count": null,
   "metadata": {},
   "outputs": [],
   "source": [
    "from turtle import *\n",
    "oogway = Turtle()"
   ]
  },
  {
   "attachments": {},
   "cell_type": "markdown",
   "metadata": {},
   "source": [
    "# Challenge 3: Math\n",
    "The math package allows for some really cool mathematical methods!<br>\n",
    "\n",
    "|methods|Action|\n",
    "|-------|------|\n",
    "|ceil(x)|return next highest integer (ex: 10.1 -> 11)|\n",
    "|floor(x)|rounds to largest integer less than or equal to x|\n",
    "|factorial(x)|returns the factorial|\n",
    "|gcd(x,y)|returns the greatest common denominator of x and y, no decimals|\n",
    "|lcm(x,y)|returns the least common multiple of x and y|\n",
    "\n",
    "##### Challenge: Create a program which asks for a user input of two numbers, and returns the following:\n",
    "- each number rounded up\n",
    "- each number rounded down\n",
    "- the lcm of the rounded down numbers\n",
    "- the gcf of the rounded up numbers\n",
    "- the factorial of each number\n",
    "- something else using the math package!<br>\n",
    "[Documentation](https://docs.python.org/3/library/math.html)"
   ]
  },
  {
   "cell_type": "code",
   "execution_count": 5,
   "metadata": {},
   "outputs": [
    {
     "name": "stdout",
     "output_type": "stream",
     "text": [
      "Enter 1st number\n",
      "1.2\n",
      "Enter 2nd number\n",
      "2.6\n",
      "Number 1 rounded up: 2\n",
      "Number 2 rounded up: 3\n",
      "Number 1 rounded down: 1\n",
      "Number 2 rounded down: 2\n",
      "LCM: 2\n",
      "GCM: 1\n",
      "Factorial of num1: 1\n",
      "Factorial of num2: 2\n",
      "Square root of 1: 1.0954451150103321\n"
     ]
    }
   ],
   "source": [
    "from math import *\n",
    "\n",
    "print(\"Enter 1st number\")\n",
    "num1 = float(input(\"Enter 1st number\"))\n",
    "print(num1)\n",
    "print(\"Enter 2nd number\")\n",
    "num2 = float(input(\"Enter 2nd number\"))\n",
    "print(num2)\n",
    "\n",
    "print(\"Number 1 rounded up: \" + str(ceil(num1)))\n",
    "print(\"Number 2 rounded up: \" + str(ceil(num2)))\n",
    "print(\"Number 1 rounded down: \" + str(floor(num1)))\n",
    "print(\"Number 2 rounded down: \" + str(floor(num2)))\n",
    "print(\"LCM: \" + str(lcm(floor(num1), floor(num2))))\n",
    "print(\"GCM: \" + str(gcd(ceil(num1), ceil(num2))))\n",
    "print(\"Factorial of num1: \" + str(factorial(floor(num1))))\n",
    "print(\"Factorial of num2: \" + str(factorial(floor(num2))))\n",
    "print(\"Square root of 1: \" + str(sqrt(num1)))\n",
    "#print(\"Number 1 rounded up: \" + str())\n"
   ]
  },
  {
   "attachments": {},
   "cell_type": "markdown",
   "metadata": {},
   "source": [
    "# Homework: Putting it all together(complete only after the random values lesson)\n",
    "Option 1: Create a python program which generates a random number between 1 and 10, and use turtle to draw a regular polygon with that many sides. As a hint, remember that the total sum of all the angles in a polygon is (the number of sides - 2) * 180. Note: a regular polygon has all sides and angles the same size. Paste a screenshot of the code and the drawing from repl.it\n",
    "\n",
    "Option 2: use the \"datetime\" package, and looking up documentation, create a program to generate 2 random dates and find the number of days between\n",
    "\n",
    "\n",
    "Extra ideas: customize the settings, draw a picture, or something else!\n",
    "\n",
    "## Option 1\n",
    "\n",
    "![](my_icons/turtle2.jpg)"
   ]
  },
  {
   "attachments": {},
   "cell_type": "markdown",
   "metadata": {},
   "source": [
    "# Option 2"
   ]
  },
  {
   "cell_type": "code",
   "execution_count": 19,
   "metadata": {},
   "outputs": [
    {
     "name": "stdout",
     "output_type": "stream",
     "text": [
      "random day: 1/13/2000\n",
      "random day: 4/12/2000\n",
      "The number of days between the given range of dates is: 90 days\n"
     ]
    }
   ],
   "source": [
    "from datetime import date\n",
    "import datetime \n",
    "import random\n",
    "\n",
    "days_dictionary = {\n",
    "    1: 31,\n",
    "    2: 28,\n",
    "    3: 31,\n",
    "    4: 30,\n",
    "    5: 31,\n",
    "    6: 30,\n",
    "    7: 31,\n",
    "    8: 31,\n",
    "    9: 30,\n",
    "    10: 31,\n",
    "    11: 30,\n",
    "    12: 31,\n",
    "}\n",
    "\n",
    "month1 = random.choice(list(days_dictionary.keys()))\n",
    "day1Max = days_dictionary.get(month1)\n",
    "day1 = random.randint(1, day1Max)\n",
    "year1 = input(\"year\")\n",
    "\n",
    "print(\"random day: \" + str(month1) + \"/\" + str(day1) + \"/\" + str(year1))\n",
    "\n",
    "month2 = random.choice(list(days_dictionary.keys()))\n",
    "day2Max = days_dictionary.get(month2)\n",
    "day2 = random.randint(1, day2Max)\n",
    "print(\"random day: \" + str(month2) + \"/\" + str(day2) + \"/\" + str(year1))\n",
    "\n",
    "datetime1 = datetime.datetime(int(year1), int(month1), int(day1))\n",
    "datetime2 = datetime.datetime(int(year1), int(month2), int(day2))\n",
    " \n",
    "global diffDay\n",
    "diffDay = str(datetime2 - datetime1)\n",
    "\n",
    "diffDay = int(diffDay.partition(\",\")[0].partition(\"days\")[0])\n",
    "\n",
    "if int(diffDay) < 0: \n",
    "    diffDay *= -1\n",
    "\n",
    "\n",
    "print(\"The number of days between the given range of dates is: \" + str(diffDay) + \" days\")\n",
    " "
   ]
  }
 ],
 "metadata": {
  "kernelspec": {
   "display_name": "base",
   "language": "python",
   "name": "python3"
  },
  "language_info": {
   "codemirror_mode": {
    "name": "ipython",
    "version": 3
   },
   "file_extension": ".py",
   "mimetype": "text/x-python",
   "name": "python",
   "nbconvert_exporter": "python",
   "pygments_lexer": "ipython3",
   "version": "3.9.12 (main, Apr  5 2022, 06:56:58) \n[GCC 7.5.0]"
  },
  "orig_nbformat": 4,
  "vscode": {
   "interpreter": {
    "hash": "f260b6b3ae1ef2114af89aa0dee38d5682df0763aaac2870f1e656463369401e"
   }
  }
 },
 "nbformat": 4,
 "nbformat_minor": 2
}
