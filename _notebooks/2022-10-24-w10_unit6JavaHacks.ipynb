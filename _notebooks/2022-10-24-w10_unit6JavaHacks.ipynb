{
 "cells": [
  {
   "cell_type": "markdown",
   "metadata": {},
   "source": [
    "# Unit 6 (Work in Progress)\n",
    "> Homework for Unit 6&#58; Array\n",
    "\n",
    "- toc: true \n",
    "- badges: true\n",
    "- comments: true"
   ]
  },
  {
   "cell_type": "code",
   "execution_count": 2,
   "metadata": {},
   "outputs": [
    {
     "name": "stdout",
     "output_type": "stream",
     "text": [
      "1\n",
      "5\n",
      "9\n"
     ]
    }
   ],
   "source": [
    "int[] arrayOne = {1, 3, 5, 7, 9};\n",
    "for (int i = 0; i < arrayOne.length; i+=2) {\n",
    "    System.out.println(arrayOne[i]);\n",
    "}"
   ]
  },
  {
   "cell_type": "code",
   "execution_count": 8,
   "metadata": {},
   "outputs": [
    {
     "name": "stdout",
     "output_type": "stream",
     "text": [
      "1\n",
      "2\n",
      "3\n",
      "4\n",
      "5\n"
     ]
    }
   ],
   "source": [
    "int[] myNumbers = new int[] {5, 3, 4, 1, 2};\n",
    "int i = 0; \n",
    "int min = 0; \n",
    "public void arraySorter(int[] array) {\n",
    "    for (int i = 1; i < array.length+1; i++) {\n",
    "        for (int j = 0; j < array.length; j++) {\n",
    "            if (i == array[j]) {\n",
    "                System.out.println(i); \n",
    "            }\n",
    "        }\n",
    "    }\n",
    "}\n",
    "\n",
    "arraySorter(myNumbers);"
   ]
  }
 ],
 "metadata": {
  "kernelspec": {
   "display_name": "Java",
   "language": "java",
   "name": "java"
  },
  "language_info": {
   "codemirror_mode": "java",
   "file_extension": ".jshell",
   "mimetype": "text/x-java-source",
   "name": "java",
   "pygments_lexer": "java",
   "version": "11.0.16+8-post-Ubuntu-0ubuntu120.04"
  },
  "orig_nbformat": 4,
  "vscode": {
   "interpreter": {
    "hash": "f260b6b3ae1ef2114af89aa0dee38d5682df0763aaac2870f1e656463369401e"
   }
  }
 },
 "nbformat": 4,
 "nbformat_minor": 2
}
