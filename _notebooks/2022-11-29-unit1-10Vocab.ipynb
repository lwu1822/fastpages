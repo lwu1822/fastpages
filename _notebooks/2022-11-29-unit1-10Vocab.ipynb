{
 "cells": [
  {
   "cell_type": "markdown",
   "metadata": {},
   "source": [
    "# Unit 1-10 Vocab\n",
    "> Unit 1-10 Vocab\n",
    "\n",
    "- toc: true \n",
    "- badges: true\n",
    "- comments: true"
   ]
  },
  {
   "cell_type": "markdown",
   "metadata": {},
   "source": [
    "Casting: Changes the primitive data type\n",
    "\n",
    "Casting is useful in division because if two integers are divided, the places after the decimal are truncated without rounding. To have an accurate division, type cast the integers with `(double)` to retain the decimal. \n",
    "\n",
    "To round a number and return the result as an integer, add 0.5 to the number and then typecast it to an integer (`(int)`). "
   ]
  },
  {
   "cell_type": "code",
   "execution_count": 12,
   "metadata": {
    "vscode": {
     "languageId": "java"
    }
   },
   "outputs": [
    {
     "name": "stdout",
     "output_type": "stream",
     "text": [
      "Dividing two integers: 0\n",
      "Dividing two doubles (originally integers): 0.3333333333333333\n",
      "\n",
      "The value of double c is: 5.5\n",
      "Truncating double c: 5\n",
      "Rounding double c: 6\n"
     ]
    }
   ],
   "source": [
    "int a = 1; \n",
    "int b = 3; \n",
    "\n",
    "System.out.println(\"Dividing two integers: \" + a/b); \n",
    "\n",
    "double quotient = (double)a/(double)b;\n",
    "System.out.println(\"Dividing two doubles (originally integers): \" + quotient); \n",
    "\n",
    "System.out.println(); \n",
    "\n",
    "// truncating\n",
    "double c = 5.5; \n",
    "System.out.println(\"The value of double c is: \" + c);\n",
    "System.out.println(\"Truncating double c: \" + (int)c); \n",
    "\n",
    "// rounding\n",
    "int roundedNum = (int)(c+0.5);\n",
    "System.out.println(\"Rounding double c: \" + roundedNum); \n"
   ]
  },
  {
   "cell_type": "markdown",
   "metadata": {},
   "source": [
    "# Wrapper classes\n",
    "\n",
    "Wrapper classes create objects out of primitives. The wrapper class capitalizes the first letter of the primitive data type and writes out the entire word. For example, the wrapper class of `int` is `Integer`. \n",
    "\n",
    "Because wrapper classes create objects, there are many methods that can be used (shown in the code below). \n",
    "\n",
    "Note: ArrayLists can only use wrapper classes; they can not use primitives. "
   ]
  },
  {
   "cell_type": "markdown",
   "metadata": {},
   "source": [
    "`toString()`: Notice how `Integer` must be used, while `int` creates an error."
   ]
  },
  {
   "cell_type": "code",
   "execution_count": 14,
   "metadata": {
    "vscode": {
     "languageId": "java"
    }
   },
   "outputs": [
    {
     "name": "stdout",
     "output_type": "stream",
     "text": [
      "5\n"
     ]
    }
   ],
   "source": [
    "Integer test = 5; \n",
    "String test2 = test.toString(); \n",
    "\n",
    "System.out.println(test2); "
   ]
  }
 ],
 "metadata": {
  "kernelspec": {
   "display_name": "Java",
   "language": "java",
   "name": "java"
  },
  "language_info": {
   "codemirror_mode": "java",
   "file_extension": ".jshell",
   "mimetype": "text/x-java-source",
   "name": "Java",
   "pygments_lexer": "java",
   "version": "17.0.5+8-Ubuntu-2ubuntu120.04"
  },
  "orig_nbformat": 4,
  "vscode": {
   "interpreter": {
    "hash": "916dbcbb3f70747c44a77c7bcd40155683ae19c65e1c03b4aa3499c5328201f1"
   }
  }
 },
 "nbformat": 4,
 "nbformat_minor": 2
}
