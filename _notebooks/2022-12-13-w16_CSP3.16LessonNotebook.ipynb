{
 "cells": [
  {
   "attachments": {},
   "cell_type": "markdown",
   "metadata": {},
   "source": [
    "# Unit 3 Lesson 16, Student Copy\n",
    "- toc: true\n",
    "- comments: true\n"
   ]
  },
  {
   "attachments": {},
   "cell_type": "markdown",
   "metadata": {},
   "source": [
    "### Hack #1 - Class Notes\n",
    "\n",
    "Write any extra notes you have here\n",
    "\n",
    "* <mark>Simulations</mark>: Abstractions that mimic things that occur in the real world, you can use simulations to calculate things that you can't test in the real world \n",
    "\n",
    "  May contain bias because some real world elements can not be factored in \n",
    "\n",
    "  Use random number generators to **simulate** randomness and variability. Applications: Rolling a dice, flipping a coin, spinners\n",
    "\n",
    "  Contains varying set of values to demonstrate the variableness of real world phenomenon \n",
    "  \n",
    "  Some details may need to be simplified within a simulation\n",
    "\n",
    "* Random number generator: You can use the random library: `import random`"
   ]
  },
  {
   "attachments": {},
   "cell_type": "markdown",
   "metadata": {},
   "source": [
    "### Hack #2 - Functions Classwork"
   ]
  },
  {
   "cell_type": "code",
   "execution_count": 1,
   "metadata": {},
   "outputs": [
    {
     "name": "stdout",
     "output_type": "stream",
     "text": [
      "26\n"
     ]
    }
   ],
   "source": [
    "import random \n",
    "x = random.randint(1, 100)\n",
    "print(x)"
   ]
  },
  {
   "cell_type": "code",
   "execution_count": 5,
   "metadata": {},
   "outputs": [
    {
     "name": "stdout",
     "output_type": "stream",
     "text": [
      "Throwing away tie\n",
      "My clothes: ['red shoes', 'green pants', 'belt']\n"
     ]
    }
   ],
   "source": [
    "def mycloset():\n",
    "    myclothes = [\"red shoes\", \"green pants\", \"tie\", \"belt\"]\n",
    "\n",
    "    trash = random.choice(myclothes)\n",
    "    print(\"Throwing away \" + trash)\n",
    "    myclothes.remove(trash)\n",
    "    print(\"My clothes: \" + str(myclothes))\n",
    "    \n",
    "mycloset()"
   ]
  },
  {
   "attachments": {},
   "cell_type": "markdown",
   "metadata": {},
   "source": [
    "## Bonus"
   ]
  },
  {
   "cell_type": "code",
   "execution_count": 8,
   "metadata": {},
   "outputs": [
    {
     "name": "stdout",
     "output_type": "stream",
     "text": [
      "Add or remove clothes? \n",
      "add\n",
      "Adding item polka dot socks...\n",
      "My clothes: ['red shoes', 'green pants', 'tie', 'belt', 'polka dot socks']\n"
     ]
    }
   ],
   "source": [
    "def mycloset():\n",
    "    myclothes = [\"red shoes\", \"green pants\", \"tie\", \"belt\"]\n",
    "    extraclothes = [\"white socks\", \"polka dot socks\"]\n",
    "\n",
    "    choice = input(\"Add or remove clothes? \")\n",
    "    print(\"Add or remove clothes? \")\n",
    "    print(choice)\n",
    "    if choice == \"add\": \n",
    "        addItem = random.choice(extraclothes) \n",
    "        print(\"Adding item \" + addItem + \"...\")\n",
    "        myclothes.append(addItem)\n",
    "        print(\"My clothes: \" + str(myclothes))\n",
    "    if choice == \"remove\": \n",
    "        trash = random.choice(myclothes)\n",
    "        print(\"Throwing away \" + trash)\n",
    "        myclothes.remove(trash)\n",
    "        print(\"My clothes: \" + str(myclothes))\n",
    "        \n",
    "  \n",
    "    \n",
    "mycloset()"
   ]
  },
  {
   "attachments": {},
   "cell_type": "markdown",
   "metadata": {},
   "source": [
    "## Check in\n",
    "Answer: 3"
   ]
  },
  {
   "attachments": {},
   "cell_type": "markdown",
   "metadata": {},
   "source": [
    "## Coin flip activity "
   ]
  },
  {
   "cell_type": "code",
   "execution_count": 9,
   "metadata": {},
   "outputs": [
    {
     "name": "stdout",
     "output_type": "stream",
     "text": [
      "Heads\n",
      "Heads\n",
      "Heads\n",
      "Tails\n",
      "Heads\n"
     ]
    }
   ],
   "source": [
    "import random\n",
    "\n",
    "def coinflip():         #def function \n",
    "    randomflip = random.randint(0, 2) #picks either 0 or 2 randomly (50/50 chance of either) \n",
    "    if randomflip == 0 or randomflip == 1: #assigning 0 and 1 to be heads--> if 0 or 1 is chosen then it will print, \"Heads\"\n",
    "        print(\"Heads\")\n",
    "    else:\n",
    "        if randomflip == 2: #assigning 2 to be tails--> if 2 is chosen then it will print, \"Tails\"\n",
    "            print(\"Tails\")\n",
    "\n",
    "#Tossing the coin 5 times:\n",
    "t1 = coinflip()\n",
    "t2 = coinflip()\n",
    "t3 = coinflip()\n",
    "t4 = coinflip()\n",
    "t5 = coinflip()"
   ]
  },
  {
   "cell_type": "markdown",
   "metadata": {},
   "source": [
    "### Hack #3 - Binary Simulation Problem"
   ]
  },
  {
   "cell_type": "code",
   "execution_count": 9,
   "metadata": {},
   "outputs": [
    {
     "name": "stdout",
     "output_type": "stream",
     "text": [
      "Jiya is a zombie\n",
      "Shruthi is a zombie\n",
      "Noor is not a zombie\n",
      "Ananya is not a zombie\n",
      "Peter Parker is not a zombie\n",
      "Andrew Garfield is a zombie\n",
      "Tom Holland is a zombie\n",
      "Tobey Maguire is a zombie\n"
     ]
    }
   ],
   "source": [
    "# insert your zombie simulation here; you don't have to use this template but it will help you get started\n",
    "\n",
    "import random\n",
    "\n",
    "def randomnum(): # function for generating random int\n",
    "    ranNum = random.randint(0, 255)\n",
    "    return ranNum\n",
    "\n",
    "def converttobin(n): # function for converting decimal to binary\n",
    "    numOfBinary = 8\n",
    "    binary = []; \n",
    "    output = \"\"\n",
    "    \n",
    "    for i in range(numOfBinary): \n",
    "        binary.append((2**(numOfBinary - 1 - i)))\n",
    "    \n",
    "    for i in range(len(binary)):\n",
    "        if n - binary[i] >= 0:\n",
    "            n -= binary[i]\n",
    "            output += \"1\"\n",
    "        else: \n",
    "            output += \"0\"\n",
    "        \n",
    "    return output\n",
    "\n",
    "def survivors(binary): # function to assign position\n",
    "    survivorstatus = [\"Jiya\", \"Shruthi\", \"Noor\", \"Ananya\" , \"Peter Parker\", \"Andrew Garfield\", \"Tom Holland\", \"Tobey Maguire\"]\n",
    "    for i in range(0, len(survivorstatus)): \n",
    "        if binary[i] == \"0\": \n",
    "            print(survivorstatus[i] + \" is a zombie\")\n",
    "        else: \n",
    "            print(survivorstatus[i] + \" is not a zombie\") \n",
    "    # replace the names above with your choice of people in the house\n",
    "\n",
    "ranNum = randomnum()\n",
    "binaryNum = converttobin(ranNum)\n",
    "survivors(binaryNum)\n"
   ]
  },
  {
   "cell_type": "markdown",
   "metadata": {},
   "source": [
    "### Hack #4 - Thinking through a problem\n",
    "- create your own simulation involving a dice roll\n",
    "- should include randomization and a function for rolling + multiple trials"
   ]
  },
  {
   "cell_type": "code",
   "execution_count": 87,
   "metadata": {},
   "outputs": [
    {
     "name": "stdout",
     "output_type": "stream",
     "text": [
      "Dice roll to see which player goes first (highest number goes first)\n",
      "Player 1's roll is: 1\n",
      "Player 2's roll is: 5\n",
      "Player 2 goes first\n"
     ]
    }
   ],
   "source": [
    "import random \n",
    "\n",
    "print(\"Dice roll to see which player goes first (highest number goes first)\")\n",
    "\n",
    "def rollDice(): \n",
    "    dice = random.randint(1, 6)\n",
    "    return dice\n",
    "\n",
    "player1 = rollDice()\n",
    "player2 = rollDice()\n",
    "    \n",
    "print(\"Player 1's roll is: \" + str(player1))\n",
    "print(\"Player 2's roll is: \" + str(player2))\n",
    "\n",
    "\n",
    "if (player1 > player2): \n",
    "    print(\"Player 1 goes first\")\n",
    "elif player2 > player1: \n",
    "    print(\"Player 2 goes first\")\n",
    "else: \n",
    "    rollDice()\n",
    "    "
   ]
  },
  {
   "attachments": {},
   "cell_type": "markdown",
   "metadata": {},
   "source": [
    "### Hack 5 - Applying your knowledge to situation based problems\n",
    "\n",
    "Using the questions bank below, create a quiz that presents the user a random question and calculates the user's score. You can use the template below or make your own. Making your own using a loop can give you extra points. "
   ]
  },
  {
   "attachments": {},
   "cell_type": "markdown",
   "metadata": {},
   "source": [
    "1. A researcher gathers data about the effect of Advanced Placement®︎ classes on students' success in college and career, and develops a simulation to show how a sequence of AP classes affect a hypothetical student's pathway.Several school administrators are concerned that the simulation contains bias favoring high-income students, however.\n",
    "    - answer options:\n",
    "        1. The simulation is an abstraction and therefore cannot contain any bias\n",
    "        2. The simulation may accidentally contain bias due to the exclusion of details.\n",
    "        3. If the simulation is found to contain bias, then it is not possible to remove the bias from the simulation.\n",
    "        4. The only way for the simulation to be biased is if the researcher intentionally used data that favored their desired output.\n",
    "2. Jack is trying to plan his financial future using an online tool. The tool starts off by asking him to input details about his current finances and career. It then lets him choose different future scenarios, such as having children. For each scenario chosen, the tool does some calculations and outputs his projected savings at the ages of 35, 45, and 55.Would that be considered a simulation and why?\n",
    "    - answer options\n",
    "        1. No, it's not a simulation because it does not include a visualization of the results.\n",
    "        2. No, it's not a simulation because it does not include all the details of his life history and the future financial environment.\n",
    "        3. Yes, it's a simulation because it runs on a computer and includes both user input and computed output.\n",
    "        4. Yes, it's a simulation because it is an abstraction of a real world scenario that enables the drawing of inferences.\n",
    "3. Sylvia is an industrial engineer working for a sporting goods company. She is developing a baseball bat that can hit balls with higher accuracy and asks their software engineering team to develop a simulation to verify the design.Which of the following details is most important to include in this simulation?\n",
    "    - answer options\n",
    "        1. Realistic sound effects based on the material of the baseball bat and the velocity of the hit\n",
    "        2. A depiction of an audience in the stands with lifelike behavior in response to hit accuracy\n",
    "        3. Accurate accounting for the effects of wind conditions on the movement of the ball\n",
    "        4. A baseball field that is textured to differentiate between the grass and the dirt\n",
    "4. Ashlynn is an industrial engineer who is trying to design a safer parachute. She creates a computer simulation of the parachute opening at different heights and in different environmental conditions.What are advantages of running the simulation versus an actual experiment?\n",
    "    - answer options\n",
    "        1. The simulation will not contain any bias that favors one body type over another, while an experiment will be biased.\n",
    "        2. The simulation can be run more safely than an actual experiment\n",
    "        3. The simulation will accurately predict the parachute's safety level, while an experiment may be inaccurate due to faulty experimental design.\n",
    "        4. The simulation can test the parachute design in a wide range of environmental conditions that may be difficult to reliably reproduce in an experiment.\n",
    "    * this question has 2 correct answers\n",
    "5. What library can be used when creating a simulation?\n",
    "    - answer\n",
    "    1. random\n",
    "6. What code would you use to simulate a coin flip using the random library? (Use 0 and 1 to represent heads/tails)\n",
    "    - answer\n",
    "    1. random.randint(0, 1)"
   ]
  },
  {
   "cell_type": "code",
   "execution_count": 17,
   "metadata": {},
   "outputs": [
    {
     "name": "stdout",
     "output_type": "stream",
     "text": [
      "Jack is trying to plan his financial future using an online tool. The tool starts off by asking him to input details about his current finances and career. It then lets him choose different future scenarios, such as having children. For each scenario chosen, the tool does some calculations and outputs his projected savings at the ages of 35, 45, and 55.Would that be considered a simulation and why? \n",
      " \n",
      "1. No, it's not a simulation because it does not include a visualization of the results.\n",
      "2. No, it's not a simulation because it does not include all the details of his life history and the future financial environment.\n",
      "3. Yes, it's a simulation because it runs on a computer and includes both user input and computed output.\n",
      "4. Yes, it's a simulation because it is an abstraction of a real world scenario that enables the drawing of inferences.\n",
      "Enter answer: 3\n",
      "Incorrect!\n",
      "A researcher gathers data about the effect of Advanced Placement classes on students'success in college and career, and develops a simulation to show how a sequence of APclasses affect a hypothetical student's pathway.Several school administrators areconcerned that the simulation contains bias favoring high-income students, however.\n",
      "1. The simulation is an abstraction and therefore cannot contain any bias\n",
      "2. The simulation may accidentally contain bias due to the exclusion of details\n",
      "3. If the simulation is found to contain bias, then it is not possible to remove the bias from the simulation\n",
      "4. The only way for the simulation to be biased is if the researcher intentionally used data that favored their desired output.\n",
      "Enter answer: 2\n",
      "Correct!\n",
      "Ashlynn is an industrial engineer who is trying to design a safer parachute. She creates a computer simulation of the parachute opening at different heightsand in different environmental conditions.What are advantages of running the simulation versus an actual experiment?\n",
      "1. The simulation will not contain any bias that favors one body type over another, while an experiment will be biased.\n",
      "2. The simulation can be run more safely than an actual experiment\n",
      "3. The simulation will accurately predict the parachute's safety level, while an experiment may be inaccurate due to faulty experimental design.\n",
      "4. The simulation can test the parachute design in a wide range of environmental conditions that may be difficult to reliably reproduce in an experiment.\n",
      "* this question has 2 correct answers, answer with a comma and space in between (ex: a, b)\n",
      "Enter answer: 4, 2\n",
      "Correct!\n",
      "Sylvia is an industrial engineer working for a sporting goods company. She is developing a baseball bat that can hit balls with higher accuracy and askstheir software engineering team to develop a simulation to verify the design.Which of the following details is most important to include in this simulation?\n",
      "1. Realistic sound effects based on the material of the baseball bat and the velocity of the hit\n",
      "2. A depiction of an audience in the stands with lifelike behavior in response to hit accuracy\n",
      "3. Accurate accounting for the effects of wind conditions on the movement of the ball\n",
      "4. A baseball field that is textured to differentiate between the grass and the dirt\n",
      "Enter answer: 3\n",
      "Correct!\n",
      "What library can be used when creating a simulation?\n",
      "Enter answer: random\n",
      "Correct!\n",
      "What code would you use to simulate a coin flip using the random library? (Use 0 and 1 to represent heads/tails)\n",
      "Enter answer: random.randint(0, 1)\n",
      "Correct!\n",
      "Your score is: 5/6\n",
      "Congrats! You passed!\n"
     ]
    }
   ],
   "source": [
    "\n",
    "\n",
    "import random\n",
    "\n",
    "questions = [\n",
    "    \"A researcher gathers data about the effect of Advanced Placement classes on students'\" \\\n",
    "        + \"success in college and career, and develops a simulation to show how a sequence of AP\" \\\n",
    "        + \"classes affect a hypothetical student's pathway.Several school administrators are\" \\\n",
    "        + \"concerned that the simulation contains bias favoring high-income students, however.\"\\\n",
    "        + \"\\n1. The simulation is an abstraction and therefore cannot contain any bias\" \\\n",
    "        + \"\\n2. The simulation may accidentally contain bias due to the exclusion of details\"\\\n",
    "        + \"\\n3. If the simulation is found to contain bias, then it is not possible to remove the bias from the simulation\"\\\n",
    "        + \"\\n4. The only way for the simulation to be biased is if the researcher intentionally used data that favored their desired output.\",\n",
    "        \n",
    "    \"Jack is trying to plan his financial future using an online tool. The tool starts off by asking him to input details about his current finances and career. It then lets him choose different future scenarios, such as having children. For each scenario chosen, the tool does some calculations and outputs his projected savings at the ages of 35, 45, and 55.Would that be considered a simulation and why? \\n \" \\\n",
    "        + \"\\n1. No, it's not a simulation because it does not include a visualization of the results.\" \\\n",
    "        + \"\\n2. No, it's not a simulation because it does not include all the details of his life history and the future financial environment.\" \\\n",
    "        + \"\\n3. Yes, it's a simulation because it runs on a computer and includes both user input and computed output.\"\\\n",
    "        + \"\\n4. Yes, it's a simulation because it is an abstraction of a real world scenario that enables the drawing of inferences.\",\n",
    "        \n",
    "    \"Sylvia is an industrial engineer working for a sporting goods company. She is developing a baseball bat that can hit balls with higher accuracy and asks\" \\\n",
    "        + \"their software engineering team to develop a simulation to verify the design.Which of the following details is most important to include in this simulation?\" \\\n",
    "        + \"\\n1. Realistic sound effects based on the material of the baseball bat and the velocity of the hit\" \\\n",
    "        + \"\\n2. A depiction of an audience in the stands with lifelike behavior in response to hit accuracy\" \\\n",
    "        + \"\\n3. Accurate accounting for the effects of wind conditions on the movement of the ball\" \\\n",
    "        + \"\\n4. A baseball field that is textured to differentiate between the grass and the dirt\", \n",
    "        \n",
    "    \"Ashlynn is an industrial engineer who is trying to design a safer parachute. She creates a computer simulation of the parachute opening at different heights\" \\\n",
    "        + \"and in different environmental conditions.What are advantages of running the simulation versus an actual experiment?\" \\\n",
    "        + \"\\n1. The simulation will not contain any bias that favors one body type over another, while an experiment will be biased.\" \\\n",
    "        + \"\\n2. The simulation can be run more safely than an actual experiment\" \\\n",
    "        + \"\\n3. The simulation will accurately predict the parachute's safety level, while an experiment may be inaccurate due to faulty experimental design.\" \\\n",
    "        + \"\\n4. The simulation can test the parachute design in a wide range of environmental conditions that may be difficult to reliably reproduce in an experiment.\" \\\n",
    "        + \"\\n* this question has 2 correct answers, answer with a comma and space in between (ex: a, b)\", \n",
    "    \n",
    "    \"What library can be used when creating a simulation?\", \n",
    "    \n",
    "    \"What code would you use to simulate a coin flip using the random library? (Use 0 and 1 to represent heads/tails)\"\n",
    "\n",
    "]\n",
    "\n",
    "answers = [[\"2\"],  \n",
    "[\"4\"], \n",
    "[\"3\"], \n",
    "[\"2, 4\", \"4, 2\"],\n",
    "[\"random\"],\n",
    "[\"random.randint(0, 1)\"]\n",
    "]\n",
    "\n",
    "\n",
    "order = random.sample(range(0, len(questions)), len(questions)) \n",
    "\n",
    "for i in range (0, len(questions)):\n",
    "    storage = questions[i] \n",
    "    storageAnswer = answers[i]\n",
    "    questions[i] = questions[order[i]]\n",
    "    answers[i] = answers[order[i]]\n",
    "    questions[order[i]] = storage\n",
    "    answers[order[i]] = storageAnswer\n",
    "\n",
    "\n",
    "\n",
    "number = 0  \n",
    "score = 0\n",
    "\n",
    "\n",
    "\n",
    "def questionloop():\n",
    "    for question in questions:\n",
    "        global number \n",
    "        print(question)\n",
    "        usrAnswer = input(question)\n",
    "        print(\"Enter answer: \" + usrAnswer)\n",
    "        answercheck(usrAnswer)\n",
    "        number += 1\n",
    "    print(\"Your score is: \" + str(score) + \"/\" + str(len(questions)))\n",
    "    if score/len(questions) >= 0.7:\n",
    "        print(\"Congrats! You passed!\")\n",
    "    else:\n",
    "        print(\"You did not pass. Try again.\")\n",
    "    \n",
    "\n",
    "def answercheck(usrAnswer):\n",
    "    for i in range (0, len(answers[number])):\n",
    "        if usrAnswer == answers[number][i]:\n",
    "            print(\"Correct!\")\n",
    "            global score\n",
    "            score += 1\n",
    "            return\n",
    "    print(\"Incorrect!\")\n",
    "\n",
    "questionloop()\n"
   ]
  },
  {
   "attachments": {},
   "cell_type": "markdown",
   "metadata": {},
   "source": [
    "### Hack #6 / Challenge - Taking real life problems and implementing them into code"
   ]
  },
  {
   "attachments": {},
   "cell_type": "markdown",
   "metadata": {},
   "source": [
    "Create your own simulation based on your experiences/knowledge!\n",
    "Be creative! Think about instances in your own life, science, puzzles that can be made into simulations\n",
    "\n",
    "Some ideas to get your brain running: A simulation that breeds two plants and tells you phenotypes of offspring, an adventure simulation..."
   ]
  },
  {
   "attachments": {},
   "cell_type": "markdown",
   "metadata": {},
   "source": [
    "I made a book recommender based on the genre that the person likes. The quiz first asks some questions to identify the person's preferred genre based on the greatest number of answer choices they selected (A corresponds to action, B corresponds to thriller, C corresponds to tragedy, and D corresponds to fantasy).\n",
    "\n",
    "This is pretty basic right now; but I wanted to create something to solve a problem in my life. I like reading books and sometimes it's hard for me to find a good one so I thought that making a book recommender would be cool. "
   ]
  },
  {
   "cell_type": "code",
   "execution_count": 18,
   "metadata": {},
   "outputs": [
    {
     "name": "stdout",
     "output_type": "stream",
     "text": [
      "What do you look for in movies?\n",
      " A. Something with a lot of action!! Otherwise it's too boring\n",
      " B. Something that keeps me at the edge of my seat\n",
      " C. Something sentimental! I love sad stories :3\n",
      " D. It must have magic!\n",
      "Answer: C\n",
      "What do you like most in a book?\n",
      " A. A fast paced story. I don't care if there are plot holes. Just give me the action!\n",
      " B. Plot twists are a MUST\n",
      " C. I LOVE BOOKS WITH A SAD ENDING\n",
      " D. Anything mythical! Take me to a land far, far away.\n",
      "Answer: C\n",
      "What do you hate most about in a book?\n",
      " A. Slow stories BORE ME TO DEATH\n",
      " B. I can't stand predictable plots\n",
      " C. I will cry if everyone gets a happy ending\n",
      " D. If the setting is in the modern world\n",
      "Answer: C\n",
      "Do you have a favorite genre?\n",
      " A. Dystopian\n",
      " B. Thriller\n",
      " C. Tragedy\n",
      " D. Fantasy\n",
      "Answer: C\n",
      "Your genre is tragedy\n",
      "Recommended books: Salt to the Sea, The Fault in our Stars\n"
     ]
    }
   ],
   "source": [
    "\n",
    "questions = [\n",
    "    \"What do you look for in movies?\"\\\n",
    "        + \"\\n A. Something with a lot of action!! Otherwise it's too boring\"\\\n",
    "        + \"\\n B. Something that keeps me at the edge of my seat\"\\\n",
    "        + \"\\n C. Something sentimental! I love sad stories :3\"\\\n",
    "        + \"\\n D. It must have magic!\", \n",
    "    \"What do you like most in a book?\"\\\n",
    "        + \"\\n A. A fast paced story. I don't care if there are plot holes. Just give me the action!\"\\\n",
    "        + \"\\n B. Plot twists are a MUST\"\\\n",
    "        + \"\\n C. I LOVE BOOKS WITH A SAD ENDING\"\\\n",
    "        + \"\\n D. Anything mythical! Take me to a land far, far away.\", \n",
    "    \"What do you hate most about in a book?\"\\\n",
    "        + \"\\n A. Slow stories BORE ME TO DEATH\"\\\n",
    "        + \"\\n B. I can't stand predictable plots\"\\\n",
    "        + \"\\n C. I will cry if everyone gets a happy ending\"\\\n",
    "        + \"\\n D. If the setting is in the modern world\", \n",
    "    \"Do you have a favorite genre?\"\n",
    "        + \"\\n A. Dystopian\" \\\n",
    "        + \"\\n B. Thriller\" \\\n",
    "        + \"\\n C. Tragedy\" \\\n",
    "        + \"\\n D. Fantasy\"\n",
    "]\n",
    "\n",
    "aCounter = 0\n",
    "bCounter = 0\n",
    "cCounter = 0\n",
    "dCounter = 0\n",
    "\n",
    "for i in range(len(questions)):\n",
    "    print(questions[i])\n",
    "    answer = input(questions[i])\n",
    "    print(\"Answer: \" + answer)\n",
    "    if (answer == \"A\"):\n",
    "        aCounter += 1\n",
    "    if (answer == \"B\"):\n",
    "        bCounter += 1\n",
    "    if (answer == \"C\"):\n",
    "        cCounter += 1\n",
    "    if (answer == \"D\"):\n",
    "        dCounter += 1\n",
    "\n",
    "if (aCounter > bCounter and aCounter > cCounter and aCounter > dCounter):\n",
    "    print(\"Your genre is dystopian\")\n",
    "    print(\"Recommended books: Legend, The Hunger Games\")\n",
    "if (bCounter > aCounter and bCounter > cCounter and bCounter > dCounter):\n",
    "    print(\"Your genre is thriller\")   \n",
    "    print(\"Recommended books: One of us is Lying, Sherlock Holmes\")\n",
    "if (cCounter > aCounter and cCounter > bCounter and cCounter > dCounter):\n",
    "    print(\"Your genre is tragedy\")\n",
    "    print(\"Recommended books: Salt to the Sea, The Fault in our Stars\")\n",
    "if (dCounter > aCounter and dCounter > bCounter and dCounter > cCounter):\n",
    "    print(\"Your genre is fantasy\")\n",
    "    print(\"Recommended books: Lord of the Rings, The Hobbit\")"
   ]
  }
 ],
 "metadata": {
  "kernelspec": {
   "display_name": "base",
   "language": "python",
   "name": "python3"
  },
  "language_info": {
   "codemirror_mode": {
    "name": "ipython",
    "version": 3
   },
   "file_extension": ".py",
   "mimetype": "text/x-python",
   "name": "python",
   "nbconvert_exporter": "python",
   "pygments_lexer": "ipython3",
   "version": "3.9.12"
  },
  "orig_nbformat": 4,
  "vscode": {
   "interpreter": {
    "hash": "f260b6b3ae1ef2114af89aa0dee38d5682df0763aaac2870f1e656463369401e"
   }
  }
 },
 "nbformat": 4,
 "nbformat_minor": 2
}
