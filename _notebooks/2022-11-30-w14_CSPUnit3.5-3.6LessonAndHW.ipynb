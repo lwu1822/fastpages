{
 "cells": [
  {
   "cell_type": "markdown",
   "metadata": {},
   "source": [
    "# Homework \n",
    "\n",
    "- toc: true\n",
    "- badges: true\n",
    "- comments: true\n",
    "- categories: [Week 13]"
   ]
  },
  {
   "cell_type": "markdown",
   "metadata": {},
   "source": [
    "## Homework/Hacks\n",
    "\n",
    " our homework we have decided for a decimal number to binary converter. You must use conditional statements within your code and have a input box for where the decimal number will go. This will give you a 2.7 out of 3 and you may add anything else to the code to get above a 2.7.\n",
    "\n"
   ]
  },
  {
   "cell_type": "markdown",
   "metadata": {},
   "source": [
    "Below is an example of decimal number to binary converter which you can use as a starting template."
   ]
  },
  {
   "cell_type": "markdown",
   "metadata": {},
   "source": [
    "<br>\n",
    "\n",
    "I added an `input` to take in a decimal number to convert to binary"
   ]
  },
  {
   "cell_type": "code",
   "execution_count": 30,
   "metadata": {},
   "outputs": [
    {
     "name": "stdout",
     "output_type": "stream",
     "text": [
      "Binary of num 32 is: 100000\n"
     ]
    }
   ],
   "source": [
    "def DecimalToBinary(num):\n",
    "    strs = \"\"\n",
    "    while num:\n",
    "        # if (num & 1) = 1\n",
    "        if (num & 1):\n",
    "            strs += \"1\"\n",
    "        # if (num & 1) = 0\n",
    "        else:\n",
    "            strs += \"0\"\n",
    "        # right shift by 1\n",
    "        num >>= 1\n",
    "    return strs\n",
    " \n",
    "# function to reverse the string\n",
    "def reverse(strs):\n",
    "    print(strs[::-1])\n",
    " \n",
    "# Driver Code\n",
    "num = int(input(\"Enter num\"))\n",
    "print(\"Binary of num \" + str(num) + \" is:\", end=\" \")\n",
    "reverse(DecimalToBinary(num))"
   ]
  },
  {
   "cell_type": "markdown",
   "metadata": {},
   "source": [
    "Below are some other versions of a decimal to binary converter that I made.\n",
    "\n",
    "## Version #1\n",
    "\n",
    "This version creates a list that stores the powers of 2 (from 2^0 to 2^7). Each number in the list is subtracted from the input decimal number if the decimal number is larger, and 1s and 0s are added accordingly to the binary string based on if the power of 2 is subtracted or not."
   ]
  },
  {
   "cell_type": "code",
   "execution_count": 34,
   "metadata": {},
   "outputs": [
    {
     "name": "stdout",
     "output_type": "stream",
     "text": [
      "32 in binary is: 00100000\n"
     ]
    }
   ],
   "source": [
    "def convert(num):\n",
    "    numOfBinary = 8\n",
    "    binary = []; \n",
    "    output = \"\"\n",
    "    \n",
    "    for i in range(numOfBinary): \n",
    "        binary.append((2**(numOfBinary - 1 - i)))\n",
    "    \n",
    "    for i in range(len(binary)):\n",
    "        if num - binary[i] >= 0:\n",
    "            num -= binary[i]\n",
    "            output += \"1\"\n",
    "        else: \n",
    "            output += \"0\"\n",
    "    return output;   \n",
    "        \n",
    "num = int(input(\"Enter a number\"))\n",
    "\n",
    "print(str(num) + \" in binary is: \" + convert(num))"
   ]
  },
  {
   "cell_type": "markdown",
   "metadata": {},
   "source": [
    "## Version #2 (Extra)\n",
    "\n",
    "In this version, I created a different binary calculator that could repeatedly perform binary conversions. Once the user finishes entering all of the decimal numbers, the user can enter \"y\" to exit, and the calculator will display all of the conversions. "
   ]
  },
  {
   "cell_type": "code",
   "execution_count": 38,
   "metadata": {},
   "outputs": [
    {
     "name": "stdout",
     "output_type": "stream",
     "text": [
      "Enter a number\n",
      "25\n",
      "Would you like to stop? y/n\n",
      "n\n",
      "Enter a number\n",
      "128\n",
      "Would you like to stop? y/n\n",
      "n\n",
      "Enter a number\n",
      "234\n",
      "Would you like to stop? y/n\n",
      "y\n",
      "History: ['011001', '10000000', '011101010']\n"
     ]
    }
   ],
   "source": [
    "\n",
    "def binaryCalc(num): \n",
    "    binaryNum = 0; \n",
    "    count = 0;\n",
    "    binaryString = \"\"; \n",
    "    while binaryNum < num:\n",
    "        binaryNum = 2**count \n",
    "        count += 1\n",
    "    #print(count) # count = 5\n",
    "\n",
    "    count -= 1\n",
    "    while (num > 0 and count >= 0): \n",
    "        if num >= 2**count: \n",
    "            num -= (2**count)\n",
    "            binaryString += \"1\"\n",
    "            count -= 1\n",
    "        else: \n",
    "            binaryString += \"0\"\n",
    "            count -= 1\n",
    "    count += 1\n",
    "    #print(\"Count\" + str(count))\n",
    "    \n",
    "    if count > 0: \n",
    "        while count > 0:\n",
    "            binaryString += \"0\"\n",
    "            count -= 1\n",
    "    #print(\"binary\" + binaryString)\n",
    "    return binaryString\n",
    "    \n",
    "binaryList = []\n",
    "def saveBinary(binary):\n",
    "    binaryList.append(binary)\n",
    "\n",
    "\n",
    "\n",
    "end = False \n",
    "while (end == False):\n",
    "    num = int(input(\"Enter a number: \"))\n",
    "    print(\"Enter a number\")\n",
    "    print(num)\n",
    "    calculation = binaryCalc(num)\n",
    "    saveBinary(calculation)\n",
    "    response = input(\"Would you like to stop? y/n\")\n",
    "    print(\"Would you like to stop? y/n\")\n",
    "    print(response)\n",
    "    if (response == \"y\"):\n",
    "        end = True \n",
    "\n",
    "print(\"History: \" + str(binaryList))"
   ]
  },
  {
   "cell_type": "markdown",
   "metadata": {},
   "source": [
    "<br>\n",
    "\n",
    "# Lesson activities "
   ]
  },
  {
   "cell_type": "code",
   "execution_count": 6,
   "metadata": {},
   "outputs": [
    {
     "name": "stdout",
     "output_type": "stream",
     "text": [
      "True: True\n",
      "True: True\n",
      "False: False\n",
      "True: True\n",
      "False: False\n",
      "True: True\n",
      "\n",
      "True: True\n",
      "False False\n",
      "False: False\n",
      "True: True\n",
      "False: False\n",
      "True: True\n",
      "\n"
     ]
    }
   ],
   "source": [
    "print(\"True:\",4 == 4)\n",
    "print(\"True:\",1 > 0)\n",
    "print(\"False:\",7 < 3)\n",
    "print(\"True:\",5 != 6)\n",
    "print(\"False:\",7 >= 8)\n",
    "print(\"True:\",3 <= 3)\n",
    "print('')\n",
    "\n",
    "# Same as above, but now for other values other than int\n",
    "print('True:',\"as\" == \"as\")\n",
    "print(\"False\",True <= False)\n",
    "print(\"False:\",[2,3,1] != [2,3,1])\n",
    "print(\"True:\",'af' < 'bc')\n",
    "print(\"False:\",'ce' > 'cf')\n",
    "print(\"True:\",[1,'b'] >= [1,'a'])\n",
    "print('')"
   ]
  },
  {
   "cell_type": "code",
   "execution_count": 7,
   "metadata": {},
   "outputs": [
    {
     "name": "stdout",
     "output_type": "stream",
     "text": [
      "True: True\n",
      "False: False\n",
      "True: True\n",
      "False: False\n",
      "False: False\n",
      "True: True\n"
     ]
    }
   ],
   "source": [
    "print(\"True:\", True or False)\n",
    "print(\"False:\",  not True)\n",
    "print(\"True:\", True  and True)\n",
    "print(\"False:\",  not True)\n",
    "print(\"False:\", True and False)\n",
    "print(\"True:\",  not False)"
   ]
  },
  {
   "cell_type": "code",
   "execution_count": 11,
   "metadata": {},
   "outputs": [
    {
     "name": "stdout",
     "output_type": "stream",
     "text": [
      "True\n"
     ]
    }
   ],
   "source": [
    "print( 3 >= 3 and 4 < 6 or 5 !=  7 )"
   ]
  },
  {
   "cell_type": "code",
   "execution_count": 12,
   "metadata": {},
   "outputs": [
    {
     "name": "stdout",
     "output_type": "stream",
     "text": [
      "Not that old\n",
      "You have lived for less than half a century\n",
      "You are not old enough to drink\n",
      "You are old enough to vote\n"
     ]
    }
   ],
   "source": [
    "age = 20 ; \n",
    "if (age >= 70): \n",
    "    print(\"Old\")\n",
    "else: \n",
    "    print(\"Not that old\")\n",
    "if (age > 50): \n",
    "    print(\"You have lived for more than half a century\")\n",
    "elif (age == 50):\n",
    "    print(\"You have lived for half a century\")\n",
    "else:\n",
    "    print(\"You have lived for less than half a century\")\n",
    "if (age >= 21): \n",
    "    print(\"You are old enough to drink\")\n",
    "else:\n",
    "    print(\"You are not old enough to drink\") \n",
    "if (age >= 18): \n",
    "    print(\"You are old enough to vote\")\n",
    "else: \n",
    "    print(\"You are not old enough to vote\")"
   ]
  },
  {
   "cell_type": "code",
   "execution_count": 16,
   "metadata": {},
   "outputs": [
    {
     "name": "stdout",
     "output_type": "stream",
     "text": [
      "x is less than y and z\n"
     ]
    }
   ],
   "source": [
    "def function(x, y, z):\n",
    "    if(x > y):\n",
    "    #Code here\n",
    "        if(x > z):\n",
    "            print(\"x is greater than y and z\")\n",
    "        #Code here\n",
    "        else:\n",
    "            print(\"x is greater than y but not z\")\n",
    "        #Code here\n",
    "    else:\n",
    "        if(x > z):\n",
    "            print(\"x is greater than z but not y\")\n",
    "        #Code here\n",
    "        else:\n",
    "            print(\"x is less than y and z\")\n",
    "        #Code here\n",
    "        \n",
    "function(1, 2, 3)"
   ]
  }
 ],
 "metadata": {
  "kernelspec": {
   "display_name": "Python 3.9.12 ('base')",
   "language": "python",
   "name": "python3"
  },
  "language_info": {
   "codemirror_mode": {
    "name": "ipython",
    "version": 3
   },
   "file_extension": ".py",
   "mimetype": "text/x-python",
   "name": "python",
   "nbconvert_exporter": "python",
   "pygments_lexer": "ipython3",
   "version": "3.9.12"
  },
  "orig_nbformat": 4,
  "vscode": {
   "interpreter": {
    "hash": "f260b6b3ae1ef2114af89aa0dee38d5682df0763aaac2870f1e656463369401e"
   }
  }
 },
 "nbformat": 4,
 "nbformat_minor": 2
}
