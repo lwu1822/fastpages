{
 "cells": [
  {
   "attachments": {},
   "cell_type": "markdown",
   "metadata": {},
   "source": [
    "# Data Types\n",
    "> This is a deeper review on data types, wrapper classes and classes specific in preparation for using Data Structures.\n",
    "- title: Data Types"
   ]
  },
  {
   "attachments": {},
   "cell_type": "markdown",
   "metadata": {},
   "source": [
    "# int"
   ]
  },
  {
   "cell_type": "code",
   "execution_count": 9,
   "metadata": {},
   "outputs": [
    {
     "name": "stdout",
     "output_type": "stream",
     "text": [
      "1\n",
      "2\n",
      "3\n",
      "4\n",
      "5\n"
     ]
    }
   ],
   "source": [
    "int[] array = {1, 2, 3, 4, 5};\n",
    "\n",
    "for (int i = 0; i < array.length; i++) {\n",
    "    System.out.println(array[i]);\n",
    "}"
   ]
  },
  {
   "attachments": {},
   "cell_type": "markdown",
   "metadata": {},
   "source": [
    "# double"
   ]
  },
  {
   "cell_type": "code",
   "execution_count": 2,
   "metadata": {},
   "outputs": [
    {
     "name": "stdout",
     "output_type": "stream",
     "text": [
      "3.5\n"
     ]
    }
   ],
   "source": [
    "double[] doubleArray = {1.2, 2.3};\n",
    "double sum = 0; \n",
    "for (double num : doubleArray) {\n",
    "    sum += num; \n",
    "}\n",
    "System.out.println(sum);"
   ]
  },
  {
   "attachments": {},
   "cell_type": "markdown",
   "metadata": {},
   "source": [
    "# boolean"
   ]
  },
  {
   "cell_type": "code",
   "execution_count": 3,
   "metadata": {},
   "outputs": [
    {
     "name": "stdout",
     "output_type": "stream",
     "text": [
      "It's a cloudy day, not too hot, not too cold\n"
     ]
    }
   ],
   "source": [
    "boolean rainy = false;\n",
    "boolean sunny = false;\n",
    "\n",
    "if (!!!(rainy || sunny) && ((!rainy && !sunny) || !(!(rainy || sunny))) ) {\n",
    "    System.out.println(\"It's a cloudy day, not too hot, not too cold\");\n",
    "}"
   ]
  },
  {
   "attachments": {},
   "cell_type": "markdown",
   "metadata": {},
   "source": [
    "# char"
   ]
  },
  {
   "cell_type": "code",
   "execution_count": 4,
   "metadata": {},
   "outputs": [
    {
     "name": "stdout",
     "output_type": "stream",
     "text": [
      "hello!"
     ]
    }
   ],
   "source": [
    "char[] word = {'h', 'e', 'l', 'l', 'o', '!'};\n",
    "\n",
    "for (int i = 0; i < word.length; i++) {\n",
    "    System.out.print(word[i]);\n",
    "}"
   ]
  },
  {
   "attachments": {},
   "cell_type": "markdown",
   "metadata": {},
   "source": [
    "# Wrapper classes\n",
    "\n",
    "Wrapper classes provide a class for each primitive type in Java. For example, the wrapper class for `int` is `Integer`, `char` is `Character`, and so on. These wrapper classes extend the object class. \n",
    "\n",
    "The syntax for a wrapper object is: <code><em>wrapper class</em> <em>name</em> = <em>value</em>;</code>\n",
    "\n",
    "Beware, though. Not all data types that start with a capital letter is a wrapper class. For instance, I originally thought that `String` was a wrapper class. After googling \"is String a wrapper class?\", the results told me that `String` is **not** a wrapper class because it does not have a primitive class that it wraps. \n",
    "\n",
    "Therefore, wrapper classes only wrap the eight primitive types, which means there are only **eight** wrapper classes. \n",
    "\n",
    "The following cells consist of the previous primitive type examples converted into wrapper classes."
   ]
  },
  {
   "cell_type": "code",
   "execution_count": 5,
   "metadata": {},
   "outputs": [
    {
     "name": "stdout",
     "output_type": "stream",
     "text": [
      "0\n",
      "2\n",
      "4\n",
      "6\n",
      "8\n"
     ]
    }
   ],
   "source": [
    "Integer[] nums = {0, 1, 2, 3, 4, 5, 6, 7, 8, 9};\n",
    "\n",
    "// regular\n",
    "for(int i = 0; i < nums.length; i+=2)\n",
    "{\n",
    "    System.out.printf(\"%d\\n\", nums[i]);\n",
    "}"
   ]
  },
  {
   "cell_type": "code",
   "execution_count": 6,
   "metadata": {},
   "outputs": [
    {
     "name": "stdout",
     "output_type": "stream",
     "text": [
      "With casting: 1.5\n",
      "With casting: 1\n"
     ]
    }
   ],
   "source": [
    "int x;\n",
    "int y;\n",
    "Double casting1;\n",
    "Integer casting2;\n",
    "\n",
    "x = 10;\n",
    "y = 15;\n",
    "\n",
    "casting1 = (double) y / x;\n",
    "casting2 = y / x;\n",
    "\n",
    "System.out.println(\"With casting: \" + casting1); \n",
    "System.out.println(\"With casting: \" + casting2); "
   ]
  },
  {
   "cell_type": "code",
   "execution_count": 7,
   "metadata": {},
   "outputs": [
    {
     "name": "stdout",
     "output_type": "stream",
     "text": [
      "false\n",
      "false"
     ]
    },
    {
     "data": {
      "text/plain": [
       "java.io.PrintStream@7efb4dbf"
      ]
     },
     "execution_count": 7,
     "metadata": {},
     "output_type": "execute_result"
    }
   ],
   "source": [
    "Boolean a = true;\n",
    "Boolean b = false;\n",
    "Boolean c = a && b;\n",
    "Boolean d = !(a || b);\n",
    "\n",
    "System.out.printf(\"%b\\n\", c);\n",
    "System.out.printf(\"%b\", d);"
   ]
  },
  {
   "cell_type": "code",
   "execution_count": 8,
   "metadata": {},
   "outputs": [
    {
     "name": "stdout",
     "output_type": "stream",
     "text": [
      "HELLO WORLD"
     ]
    }
   ],
   "source": [
    "Character[] letters = {'H', 'E', 'L', 'L', 'O', ' ', 'W', 'O', 'R', 'L', 'D'};\n",
    "\n",
    "// regular\n",
    "for(int i = 0; i < letters.length; i++)\n",
    "{\n",
    "    System.out.printf(\"%c\", letters[i]);\n",
    "}"
   ]
  },
  {
   "attachments": {},
   "cell_type": "markdown",
   "metadata": {},
   "source": [
    "Where are wrapper classes used?\n",
    "\n",
    "One example of where wrapper classes are used is in Collection objects, such as `ArrayList`. `ArrayList` can not store primitive data types, and as such, need to be configured with wrapper classes. "
   ]
  },
  {
   "cell_type": "code",
   "execution_count": 11,
   "metadata": {},
   "outputs": [
    {
     "name": "stdout",
     "output_type": "stream",
     "text": [
      "1\n",
      "2\n"
     ]
    }
   ],
   "source": [
    "ArrayList<Integer> nums = new ArrayList<Integer>(); \n",
    "\n",
    "nums.add(1); \n",
    "nums.add(2); \n",
    "\n",
    "for (int i = 0; i < nums.size(); i++) {\n",
    "    System.out.println(nums.get(i)); \n",
    "}"
   ]
  },
  {
   "attachments": {},
   "cell_type": "markdown",
   "metadata": {},
   "source": [
    "# `Math.random()`\n",
    "\n",
    "`Math.random()` returns a random number between 0 and 1, **but not including 1**. The data type that `Math.random()` returns is a double."
   ]
  },
  {
   "attachments": {},
   "cell_type": "markdown",
   "metadata": {},
   "source": [
    "<br>\n",
    "\n",
    "# `DoNothingByValue`\n",
    "\n",
    "## Key knowledge\n",
    "* The value of arguments are passed into a method's parameters\n",
    "  * Java is **pass-by-value**, not pass-by-reference for methods\n",
    "    * If you go down the StackOverflow [rabbit hole](https://stackoverflow.com/questions/12757841/are-arrays-passed-by-value-or-passed-by-reference-in-java), users claim that everything in java is **pass-by-value**. Honestly I'm not too sure how this works, but people on StackOverflow really pay close attention to detail so...\n",
    "    \n",
    "    Unfortunately I don't have enough time right now to look into it closely. I might in the future though 😃\n",
    "\n",
    "    But basically since everything is pass-by-value, arrays are also passed-by-value. However, **the value of an array is its reference**. Therefore, when an array is passed into a method, the elements of the array can be changed directly.\n",
    "\n",
    "\n",
    "\n",
    "* Pass-by-value: The value of a variable is passed\n",
    "* Pass-by-reference: The variable's reference is passed. This allows the contents of the variable to be changed.\n",
    "* There can only be 1 return value per method in Java\n",
    "* Classes and generics allow \"pass-by-reference\"\n",
    "\n",
    "\n",
    "## Overall explanation of code\n",
    "\n",
    "*This is my thought process as I went through the code. It's easier for me to figure out key knowledge by going through the entire code and documenting what it does.*\n",
    "\n",
    "*Anything that I highlight below are included in the key knowledge*\n",
    "\n",
    "### Do Nothings \n",
    "\n",
    "#### `main()`\n",
    "\n",
    "An array called `nums` is created and set to `{1, 3, 4, 5, 5}`. The data type is the primitive data type `int`. An `int` of name `value` is also created and set to `6`. A data type (but not wrapper class) of `String` with name `name` is created and set to `blackboard`. The code outputs `Do Nothings` and executes the `changeIt` method, passing in `nums`, `value`, and `name`. \n",
    "\n",
    "#### `changeIt()`\n",
    "\n",
    "Within the `changeIt` method, the argument `nums` relates to the parameter `arr`, `value` to `val`, and `name` to `word`. `arr` is created to have 5 elements, `val` is set to 0, and `word` is set to a substring of the `word` argumenent of `blackboard`. As such, `word` is set to `black`. \n",
    "\n",
    "However, before the variables are reassigned to new values, <mark>the arguments were passed into the method's parameters</mark>. For instance, if I use a for loop to output the values of `arr`, I get `1, 2, 3, 4, 5`, not `0, 0, 0, 0, 0`.\n",
    "\n",
    "![](images/CSA/CSA-w25-class-dataType-originalParaValue.jpg)\n",
    "\n",
    "![](images/CSA/CSA-w25-class-dataType-originalParaValueOutput.jpg)\n",
    "\n",
    "\n",
    "The for loop (the actual one in the file) then assigns each element in `arr` to 0, and outputs it to the terminal. Lastly, the value of `word` (`black`) is outputted. \n",
    "\n",
    "<br>\n",
    "\n",
    "Next thing in `main()` is `changeIt2()`\n",
    "\n",
    "#### `changeIt2()`\n",
    "\n",
    "In `changeIt2()`, the arguments are passed in as parameters of `nums`, `value`, and `name`. Notice how these parameters have the same name as the arguments. Based on the comment in the file, we can see that the name of the parameter can be the same as the arguments' names. \n",
    "\n",
    "`changeIt2()` essentially does the same thing as `changeIt()`\n",
    "\n",
    "##### `main()`\n",
    "\n",
    "What's important is that when you go back to `main()`, the for loop after `changeIt2()` outputs all of the original values of `nums`, `value`, and `name`. This is because <mark>Java is pass-by-value for methods</mark>, which means that the variable's values are passed into the method, NOT the reference. On the other hand, <mark>pass-by-reference allows you to edit the contents of a variable because the **reference** to the variable is passed</mark>.\n",
    "\n",
    "### Limited return\n",
    "\n",
    "#### `main()`\n",
    "\n",
    "An array named `nums2` is assigned to `1, 2, 3, 4, 5`. `value` is assigned to `6`, and `name` is assigned to `limited`. `name` is then assigned to the return of `changeIt3()` and masses in `nums2` and `name`.\n",
    "\n",
    "#### `changeIt3()`\n",
    "Within the `changeIt3()` method, you can see that the parameter `word` (passed in as argument `name`) is assigned to a `new String`. A simplified way of writing this would be `word = word.substring(0, 5)`. Both ways work because the shorthand for creating wrapper classes is directly assigning the class to a value; however, behind the scenes, an object is still created. \n",
    "\n",
    "Within this method, each element of the array is modified to `0`, and the `word` is modified to `limit`.\n",
    "\n",
    "#### `main()`\n",
    "\n",
    "Back to `main()` again, the elements of `nums2` are printed out. <mark>The edited elements from `changeIt3()` are present because arrays are objects, and the value of an object is its reference</mark>.\n",
    "\n",
    "\n",
    "### Do Something with Class\n",
    "\n",
    "At this point, I got a general understanding of what the code does, so I did not need to write out what each line does.\n",
    "\n",
    "This section creates a `DoNothingByValue` object with an object name of `doSomething`. The constructor runs. Since the object's value is its reference, the constructor can directly edit the variables. As a result, the output in `main()` shows the changes of the constructor. \n",
    "\n",
    "### Do Something with Generics\n",
    "\n",
    "This is basically the same thing as class since generics are like objects but are more general, so you can specify different data types.\n",
    "\n",
    "\n",
    "\n",
    "\n"
   ]
  },
  {
   "attachments": {},
   "cell_type": "markdown",
   "metadata": {},
   "source": [
    "# IntByReference\n",
    "\n",
    "## Key Knowledge \n",
    "\n",
    "* This switches two integer numbers to lowest to highest by using a `tmp` variable\n",
    "* These variables are passed by reference because they are part of an object. Therefore, the before and after are changed following the call to `swapToLowHighOrder()` method."
   ]
  },
  {
   "attachments": {},
   "cell_type": "markdown",
   "metadata": {},
   "source": [
    "# FRQ 2018"
   ]
  },
  {
   "cell_type": "code",
   "execution_count": null,
   "metadata": {},
   "outputs": [],
   "source": [
    "public double runSimulations(int num) {\n",
    "    int count = 0;\n",
    "    for (int i = 0; i < num; i++) {\n",
    "        if (simulate()) {\n",
    "            count++;\n",
    "        }\n",
    "    }\n",
    "    return (double)count/num; \n",
    "}"
   ]
  },
  {
   "attachments": {},
   "cell_type": "markdown",
   "metadata": {},
   "source": [
    "<br>\n",
    "\n",
    "## Notes: \n",
    "* Answer what are Methods and Control Structures\n",
    "* Explore AP FRQ that teaches us about Methods and Control Structures FRQ\n",
    "* Look at Diverse Arrays, Matrix in Teacher code and see if you think this is Methods and Control structures.\n",
    "* Look at Diverse Arrays,Matrix in Teacher code an see if you thing this fits Data Types."
   ]
  }
 ],
 "metadata": {
  "kernelspec": {
   "display_name": "Java",
   "language": "java",
   "name": "java"
  },
  "language_info": {
   "codemirror_mode": "java",
   "file_extension": ".jshell",
   "mimetype": "text/x-java-source",
   "name": "java",
   "pygments_lexer": "java",
   "version": "17.0.5+8-Ubuntu-2ubuntu120.04"
  },
  "orig_nbformat": 4
 },
 "nbformat": 4,
 "nbformat_minor": 2
}
