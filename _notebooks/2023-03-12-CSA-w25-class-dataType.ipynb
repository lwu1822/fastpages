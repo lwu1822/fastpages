{
 "cells": [
  {
   "attachments": {},
   "cell_type": "markdown",
   "metadata": {},
   "source": [
    "# Data Types\n",
    "> This is a deeper review on data types, wrapper classes and classes specific in preparation for using Data Structures.\n",
    "- title: Data Types"
   ]
  },
  {
   "attachments": {},
   "cell_type": "markdown",
   "metadata": {},
   "source": [
    "# int"
   ]
  },
  {
   "cell_type": "code",
   "execution_count": 9,
   "metadata": {
    "vscode": {
     "languageId": "java"
    }
   },
   "outputs": [
    {
     "name": "stdout",
     "output_type": "stream",
     "text": [
      "1\n",
      "2\n",
      "3\n",
      "4\n",
      "5\n"
     ]
    }
   ],
   "source": [
    "int[] array = {1, 2, 3, 4, 5};\n",
    "\n",
    "for (int i = 0; i < array.length; i++) {\n",
    "    System.out.println(array[i]);\n",
    "}"
   ]
  },
  {
   "attachments": {},
   "cell_type": "markdown",
   "metadata": {},
   "source": [
    "# double"
   ]
  },
  {
   "cell_type": "code",
   "execution_count": 2,
   "metadata": {
    "vscode": {
     "languageId": "java"
    }
   },
   "outputs": [
    {
     "name": "stdout",
     "output_type": "stream",
     "text": [
      "3.5\n"
     ]
    }
   ],
   "source": [
    "double[] doubleArray = {1.2, 2.3};\n",
    "double sum = 0; \n",
    "for (double num : doubleArray) {\n",
    "    sum += num; \n",
    "}\n",
    "System.out.println(sum);"
   ]
  },
  {
   "attachments": {},
   "cell_type": "markdown",
   "metadata": {},
   "source": [
    "# boolean"
   ]
  },
  {
   "cell_type": "code",
   "execution_count": 3,
   "metadata": {
    "vscode": {
     "languageId": "java"
    }
   },
   "outputs": [
    {
     "name": "stdout",
     "output_type": "stream",
     "text": [
      "It's a cloudy day, not too hot, not too cold\n"
     ]
    }
   ],
   "source": [
    "boolean rainy = false;\n",
    "boolean sunny = false;\n",
    "\n",
    "if (!!!(rainy || sunny) && ((!rainy && !sunny) || !(!(rainy || sunny))) ) {\n",
    "    System.out.println(\"It's a cloudy day, not too hot, not too cold\");\n",
    "}"
   ]
  },
  {
   "attachments": {},
   "cell_type": "markdown",
   "metadata": {},
   "source": [
    "# char"
   ]
  },
  {
   "cell_type": "code",
   "execution_count": 4,
   "metadata": {
    "vscode": {
     "languageId": "java"
    }
   },
   "outputs": [
    {
     "name": "stdout",
     "output_type": "stream",
     "text": [
      "hello!"
     ]
    }
   ],
   "source": [
    "char[] word = {'h', 'e', 'l', 'l', 'o', '!'};\n",
    "\n",
    "for (int i = 0; i < word.length; i++) {\n",
    "    System.out.print(word[i]);\n",
    "}"
   ]
  },
  {
   "attachments": {},
   "cell_type": "markdown",
   "metadata": {},
   "source": [
    "# Wrapper classes\n",
    "\n",
    "Wrapper classes provide a class for each primitive type in Java. For example, the wrapper class for `int` is `Integer`, `char` is `Character`, and so on. These wrapper classes extend the object class. \n",
    "\n",
    "The syntax for a wrapper object is: <code><em>wrapper class</em> <em>name</em> = <em>value</em>;</code>\n",
    "\n",
    "The following cells consist of the previous primitive type examples converted into wrapper classes."
   ]
  },
  {
   "cell_type": "code",
   "execution_count": 5,
   "metadata": {
    "vscode": {
     "languageId": "java"
    }
   },
   "outputs": [
    {
     "name": "stdout",
     "output_type": "stream",
     "text": [
      "0\n",
      "2\n",
      "4\n",
      "6\n",
      "8\n"
     ]
    }
   ],
   "source": [
    "Integer[] nums = {0, 1, 2, 3, 4, 5, 6, 7, 8, 9};\n",
    "\n",
    "// regular\n",
    "for(int i = 0; i < nums.length; i+=2)\n",
    "{\n",
    "    System.out.printf(\"%d\\n\", nums[i]);\n",
    "}"
   ]
  },
  {
   "cell_type": "code",
   "execution_count": 6,
   "metadata": {
    "vscode": {
     "languageId": "java"
    }
   },
   "outputs": [
    {
     "name": "stdout",
     "output_type": "stream",
     "text": [
      "With casting: 1.5\n",
      "With casting: 1\n"
     ]
    }
   ],
   "source": [
    "int x;\n",
    "int y;\n",
    "Double casting1;\n",
    "Integer casting2;\n",
    "\n",
    "x = 10;\n",
    "y = 15;\n",
    "\n",
    "casting1 = (double) y / x;\n",
    "casting2 = y / x;\n",
    "\n",
    "System.out.println(\"With casting: \" + casting1); \n",
    "System.out.println(\"With casting: \" + casting2); "
   ]
  },
  {
   "cell_type": "code",
   "execution_count": 7,
   "metadata": {
    "vscode": {
     "languageId": "java"
    }
   },
   "outputs": [
    {
     "name": "stdout",
     "output_type": "stream",
     "text": [
      "false\n",
      "false"
     ]
    },
    {
     "data": {
      "text/plain": [
       "java.io.PrintStream@7efb4dbf"
      ]
     },
     "execution_count": 7,
     "metadata": {},
     "output_type": "execute_result"
    }
   ],
   "source": [
    "Boolean a = true;\n",
    "Boolean b = false;\n",
    "Boolean c = a && b;\n",
    "Boolean d = !(a || b);\n",
    "\n",
    "System.out.printf(\"%b\\n\", c);\n",
    "System.out.printf(\"%b\", d);"
   ]
  },
  {
   "cell_type": "code",
   "execution_count": 8,
   "metadata": {
    "vscode": {
     "languageId": "java"
    }
   },
   "outputs": [
    {
     "name": "stdout",
     "output_type": "stream",
     "text": [
      "HELLO WORLD"
     ]
    }
   ],
   "source": [
    "Character[] letters = {'H', 'E', 'L', 'L', 'O', ' ', 'W', 'O', 'R', 'L', 'D'};\n",
    "\n",
    "// regular\n",
    "for(int i = 0; i < letters.length; i++)\n",
    "{\n",
    "    System.out.printf(\"%c\", letters[i]);\n",
    "}"
   ]
  },
  {
   "attachments": {},
   "cell_type": "markdown",
   "metadata": {},
   "source": [
    "Where are wrapper classes used?\n",
    "\n",
    "One example of where wrapper classes are used is in Collection objects, such as `ArrayList`. `ArrayList` can not store primitive data types, and as such, need to be configured with wrapper classes. "
   ]
  },
  {
   "cell_type": "code",
   "execution_count": 11,
   "metadata": {
    "vscode": {
     "languageId": "java"
    }
   },
   "outputs": [
    {
     "name": "stdout",
     "output_type": "stream",
     "text": [
      "1\n",
      "2\n"
     ]
    }
   ],
   "source": [
    "ArrayList<Integer> nums = new ArrayList<Integer>(); \n",
    "\n",
    "nums.add(1); \n",
    "nums.add(2); \n",
    "\n",
    "for (int i = 0; i < nums.size(); i++) {\n",
    "    System.out.println(nums.get(i)); \n",
    "}"
   ]
  }
 ],
 "metadata": {
  "kernelspec": {
   "display_name": "Java",
   "language": "java",
   "name": "java"
  },
  "language_info": {
   "codemirror_mode": "java",
   "file_extension": ".jshell",
   "mimetype": "text/x-java-source",
   "name": "Java",
   "pygments_lexer": "java",
   "version": "17.0.5+8-Ubuntu-2ubuntu120.04"
  },
  "orig_nbformat": 4
 },
 "nbformat": 4,
 "nbformat_minor": 2
}
