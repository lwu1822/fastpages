{
 "cells": [
  {
   "cell_type": "markdown",
   "metadata": {},
   "source": [
    "# Java Primitives\n",
    "> Calculator.\n",
    "\n",
    "- toc: true \n",
    "- badges: true\n",
    "- comments: true\n",
    "- categories: [java]"
   ]
  },
  {
   "cell_type": "code",
   "execution_count": 6,
   "metadata": {
    "vscode": {
     "languageId": "java"
    }
   },
   "outputs": [
    {
     "name": "stdout",
     "output_type": "stream",
     "text": [
      "Enter numbers, type 'end' to finish\n",
      "Number: \n",
      "1\n",
      "Number: \n",
      "2\n",
      "Number: \n",
      "3\n",
      "Number: \n",
      "4\n",
      "Number: \n",
      "5\n",
      "Number: \n",
      "end\n",
      "Show detailed info? y/n\n",
      "y\n",
      "Sum: 15.0\n",
      "Count: 5\n",
      "Mean: 3.0\n"
     ]
    }
   ],
   "source": [
    "public class test{\n",
    "    public static void main(String[] args) {\n",
    "        // numDouble: User's input is a string, will be changed into a double\n",
    "        // Double is used to allow user to input decimal numbers\n",
    "        double numDouble = 0;\n",
    "        double sum = 0;\n",
    "        // count = n (sample size to determine mean)\n",
    "        // Sample size is always a whole number (ex: 1, 2, etc.)\n",
    "        int count = 0;\n",
    "        double mean = 0;\n",
    "\n",
    "        Scanner sc = new Scanner(System.in);\n",
    "        System.out.println(\"Enter numbers, type 'end' to finish\");\n",
    "\n",
    "        while (true) {\n",
    "            // String is used as the input for each number\n",
    "            // The reason why I didn't use int was because I wanted the user to \n",
    "            // be able to end the calculator by typing \"end\"\n",
    "            System.out.println(\"Number: \");\n",
    "            String numStr = sc.next(); \n",
    "            System.out.println(numStr);\n",
    "            if (\"end\".equals(numStr)) {\n",
    "                break;\n",
    "            }\n",
    "            \n",
    "            // This performs casting by changing the input, which was a string,\n",
    "            // into a double so that the mean can by determined\n",
    "            numDouble = Double.parseDouble(numStr);  \n",
    "            sum += numDouble;\n",
    "            count++;  \n",
    "            \n",
    "        }\n",
    "        \n",
    "        mean = sum/count;\n",
    "\n",
    "        System.out.println(\"Show detailed info? y/n\");\n",
    "        String detail = sc.next();\n",
    "        // Setting showDetail as true/false, this can be used in the future\n",
    "        // as a toggle. (If showDetail = true, show more detail, otherwise,\n",
    "        // only show the result)\n",
    "        // Also showDetail can only be yes/no, so it can be set as a boolean\n",
    "\n",
    "        System.out.println(detail);\n",
    "\n",
    "        boolean showDetail;\n",
    "        if (\"y\".equals(detail)) {\n",
    "            showDetail = true;\n",
    "        } else {\n",
    "            showDetail = false;\n",
    "        }\n",
    "\n",
    "        if (showDetail) {\n",
    "            System.out.println(\"Sum: \" + sum);\n",
    "            System.out.println(\"Count: \" + count);\n",
    "        }\n",
    "        System.out.println(\"Mean: \" + mean);\n",
    "\n",
    "    }\n",
    "    \n",
    "}\n",
    "test.main(null)"
   ]
  }
 ],
 "metadata": {
  "kernelspec": {
   "display_name": "Java",
   "language": "java",
   "name": "java"
  },
  "language_info": {
   "codemirror_mode": "java",
   "file_extension": ".jshell",
   "mimetype": "text/x-java-source",
   "name": "Java",
   "pygments_lexer": "java",
   "version": "11.0.16+8-post-Ubuntu-0ubuntu120.04"
  },
  "orig_nbformat": 4
 },
 "nbformat": 4,
 "nbformat_minor": 2
}
