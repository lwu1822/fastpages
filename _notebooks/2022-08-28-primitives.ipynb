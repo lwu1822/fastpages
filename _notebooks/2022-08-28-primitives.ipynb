{
 "cells": [
  {
   "cell_type": "markdown",
   "metadata": {},
   "source": [
    "# Java Primitives\n",
    "> Calculator.\n",
    "\n",
    "- toc: true \n",
    "- badges: true\n",
    "- comments: true\n",
    "- categories: [java]"
   ]
  },
  {
   "cell_type": "code",
   "execution_count": 23,
   "metadata": {},
   "outputs": [
    {
     "name": "stdout",
     "output_type": "stream",
     "text": [
      "Enter numbers, type 'end' to finish\n",
      "1\n",
      "2\n",
      "3\n",
      "4\n",
      "end\n",
      "10.0\n",
      "4.0\n",
      "2.5\n"
     ]
    }
   ],
   "source": [
    "public class test{\n",
    "    public static void main(String[] args) {\n",
    "        double numDouble = 0;\n",
    "        double sum = 0;\n",
    "        double count = 0;\n",
    "        double mean = 0;\n",
    "\n",
    "        Scanner sc = new Scanner(System.in);\n",
    "        System.out.println(\"Enter numbers, type 'end' to finish\");\n",
    "        \n",
    "\n",
    "        while (true) {\n",
    "            String numStr = sc.next();\n",
    "            System.out.println(numStr);\n",
    "            if (\"end\".equals(numStr)) {\n",
    "                break;\n",
    "            }\n",
    "            numDouble = Double.parseDouble(numStr);  \n",
    "            sum += numDouble;\n",
    "            count++;\n",
    "            \n",
    "            \n",
    "        }\n",
    "        \n",
    "        mean = sum/count;\n",
    "\n",
    "        System.out.println(sum);\n",
    "        System.out.println(count);\n",
    "        System.out.println(mean);\n",
    "       \n",
    "       \n",
    "    }\n",
    "    \n",
    "}\n",
    "test.main(null)"
   ]
  }
 ],
 "metadata": {
  "kernelspec": {
   "display_name": "Java",
   "language": "java",
   "name": "java"
  },
  "language_info": {
   "codemirror_mode": "java",
   "file_extension": ".jshell",
   "mimetype": "text/x-java-source",
   "name": "java",
   "pygments_lexer": "java",
   "version": "11.0.16+8-post-Ubuntu-0ubuntu120.04"
  },
  "orig_nbformat": 4
 },
 "nbformat": 4,
 "nbformat_minor": 2
}
