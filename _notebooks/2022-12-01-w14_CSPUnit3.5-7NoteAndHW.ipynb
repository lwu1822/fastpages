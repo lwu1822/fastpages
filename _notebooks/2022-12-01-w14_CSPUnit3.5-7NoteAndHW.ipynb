{
 "cells": [
  {
   "cell_type": "markdown",
   "metadata": {},
   "source": [
    "# AP CSP Unit 3 Sections 5-7\n",
    "> Unit 3 Sections 5-7 homework and notes\n",
    "\n",
    "- toc: true \n",
    "- badges: true\n",
    "- comments: true"
   ]
  },
  {
   "cell_type": "markdown",
   "metadata": {},
   "source": [
    "# 3.5 Booleans Expressions\n",
    "\n",
    "## Vocab\n",
    "\n",
    "## Booleans\n",
    "\n",
    "Booleans have 2 values: True and False.\n",
    "\n",
    "## Relational Operators \n",
    "\n",
    "`==, !=, >, <, >=, <=`\n",
    "\n",
    "Relational operators can compare numbers, but they can also be used to compare strings. The later a letter is, the greater its value.\n",
    "\n",
    "For example, as you can see in the code below, `print(b > a)` outputs as true, because in alphabetical order, b is after a. \n"
   ]
  },
  {
   "cell_type": "code",
   "execution_count": 1,
   "metadata": {},
   "outputs": [
    {
     "name": "stdout",
     "output_type": "stream",
     "text": [
      "True\n"
     ]
    }
   ],
   "source": [
    "a = \"a\"\n",
    "b = \"b\"\n",
    "\n",
    "print(b > a)"
   ]
  },
  {
   "cell_type": "markdown",
   "metadata": {},
   "source": [
    "## Logical operators \n",
    "\n",
    "`and, or, not`\n",
    "\n",
    "In Python, and is `&&`, or is `||`, and not is `!`"
   ]
  },
  {
   "cell_type": "code",
   "execution_count": 4,
   "metadata": {},
   "outputs": [
    {
     "name": "stdout",
     "output_type": "stream",
     "text": [
      "x and y are equal to 5\n",
      "Either x or z is equal to 5\n",
      "x is not equal to 3\n"
     ]
    }
   ],
   "source": [
    "x = 5 \n",
    "y = 5 \n",
    "z = 3\n",
    "\n",
    "if x == 5 and y == 5:\n",
    "    print(\"x and y are equal to 5\")\n",
    "\n",
    "if x == 5 or z == 5:\n",
    "    print(\"Either x or z is equal to 5\")\n",
    "    \n",
    "if not x == 3:\n",
    "    print(\"x is not equal to 3\")\n"
   ]
  },
  {
   "cell_type": "markdown",
   "metadata": {},
   "source": [
    "## Order of operations\n",
    "\n",
    "**Relational** operators are evaluated first (ex: >, <), while **logical** operators are evaluated afterwards (ex: and, or, not)"
   ]
  }
 ],
 "metadata": {
  "kernelspec": {
   "display_name": "Python 3.9.12 ('base')",
   "language": "python",
   "name": "python3"
  },
  "language_info": {
   "codemirror_mode": {
    "name": "ipython",
    "version": 3
   },
   "file_extension": ".py",
   "mimetype": "text/x-python",
   "name": "python",
   "nbconvert_exporter": "python",
   "pygments_lexer": "ipython3",
   "version": "3.9.12"
  },
  "orig_nbformat": 4,
  "vscode": {
   "interpreter": {
    "hash": "f260b6b3ae1ef2114af89aa0dee38d5682df0763aaac2870f1e656463369401e"
   }
  }
 },
 "nbformat": 4,
 "nbformat_minor": 2
}
