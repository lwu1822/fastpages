{
 "cells": [
  {
   "cell_type": "markdown",
   "metadata": {},
   "source": [
    "# AP CSP Unit 3 Sections 5-7\n",
    "> Unit 3 Sections 5-7 homework and notes\n",
    "\n",
    "- toc: true \n",
    "- badges: true\n",
    "- comments: true"
   ]
  },
  {
   "cell_type": "markdown",
   "metadata": {},
   "source": [
    "# 3.5 Booleans Expressions\n",
    "\n",
    "## Vocab\n",
    "\n",
    "## Booleans\n",
    "\n",
    "<mark>Booleans</mark> have 2 values: True and False.\n",
    "\n",
    "Note: All of the code cells on this blog demonstrate boolean expressions and selections. Check a [JavaScript](https://lwu1822.github.io/fastpages/2022/11/28/w14_CSPUnit3.1-2NoteAndHW.html#Functions) version to see boolean expressions and iteration. \n",
    "\n",
    "## Relational Operators \n",
    "\n",
    "`==, !=, >, <, >=, <=`\n",
    "\n",
    "Relational/<mark>comparison operators</mark> can compare numbers, but they can also be used to compare strings. The later a letter is, the greater its value.\n",
    "\n",
    "For example, as you can see in the code below, `print(b > a)` outputs as true, because in alphabetical order, b is after a. \n"
   ]
  },
  {
   "cell_type": "code",
   "execution_count": 1,
   "metadata": {},
   "outputs": [
    {
     "name": "stdout",
     "output_type": "stream",
     "text": [
      "True\n"
     ]
    }
   ],
   "source": [
    "a = \"a\"\n",
    "b = \"b\"\n",
    "\n",
    "print(b > a)"
   ]
  },
  {
   "cell_type": "markdown",
   "metadata": {},
   "source": [
    "## Logical operators \n",
    "\n",
    "`and, or, not`\n",
    "\n",
    "In Python, and is `&&`, or is `||`, and not is `!`"
   ]
  },
  {
   "cell_type": "code",
   "execution_count": 4,
   "metadata": {},
   "outputs": [
    {
     "name": "stdout",
     "output_type": "stream",
     "text": [
      "x and y are equal to 5\n",
      "Either x or z is equal to 5\n",
      "x is not equal to 3\n"
     ]
    }
   ],
   "source": [
    "x = 5 \n",
    "y = 5 \n",
    "z = 3\n",
    "\n",
    "if x == 5 and y == 5:\n",
    "    print(\"x and y are equal to 5\")\n",
    "\n",
    "if x == 5 or z == 5:\n",
    "    print(\"Either x or z is equal to 5\")\n",
    "    \n",
    "if not x == 3:\n",
    "    print(\"x is not equal to 3\")\n"
   ]
  },
  {
   "cell_type": "markdown",
   "metadata": {},
   "source": [
    "<br>\n",
    "\n",
    "You can create truth tables with logical operators. \n",
    "\n",
    "A <mark>truth table</mark> lists all the possible True/False values that two booleans (P and Q is the convention) can take. These True/False values are then used to evaluate a third expression to see if all cases are true.\n",
    "\n",
    "An example below is an application of DeMorgan's Law. "
   ]
  },
  {
   "cell_type": "code",
   "execution_count": 15,
   "metadata": {},
   "outputs": [
    {
     "name": "stdout",
     "output_type": "stream",
     "text": [
      "DeMorgan's Law is true\n",
      "DeMorgan's Law is true\n",
      "DeMorgan's Law is true\n",
      "DeMorgan's Law is true\n"
     ]
    }
   ],
   "source": [
    "def checkDeMorgans():\n",
    "    if not a or not b == (not (a and b)): \n",
    "        print(\"DeMorgan's Law is true\")\n",
    "\n",
    "a = True\n",
    "b = True\n",
    "\n",
    "checkDeMorgans()\n",
    "\n",
    "a = False\n",
    "b = True \n",
    "checkDeMorgans()\n",
    "\n",
    "a = True\n",
    "b = False \n",
    "checkDeMorgans()\n",
    "\n",
    "a = False\n",
    "b = False\n",
    "checkDeMorgans()\n"
   ]
  },
  {
   "cell_type": "markdown",
   "metadata": {},
   "source": [
    "## Order of operations\n",
    "\n",
    "**Relational** operators are evaluated first (ex: >, <), while **logical** operators are evaluated afterwards (ex: and, or, not)"
   ]
  },
  {
   "attachments": {},
   "cell_type": "markdown",
   "metadata": {},
   "source": [
    "# 3.6 Conditionals\n",
    "\n",
    "## Vocab\n",
    "\n",
    "<mark>Algorithm</mark>: A set of instructions to do a certain task\n",
    "\n",
    "<mark>Selection</mark>: Determines which parts of codes are ran based on if they evaluate to true or false. Used with `if` statements. \n",
    "\n",
    "Conditional: Different code statements are executed based of if they evaluate to true or false (**boolean** expressions (See 3.5))\n",
    "\n",
    "## Conditionals\n",
    "\n",
    "Below is an example of an <mark>if else</mark> statement that relates to binary\n",
    "\n",
    "This should be pretty straightforward in demonstrating what an <mark>if</mark> statement is, so I'm not going to do a code example for an if statement. Check the code cell below the next to see an example of a <mark>elif</mark>."
   ]
  },
  {
   "cell_type": "code",
   "execution_count": 5,
   "metadata": {},
   "outputs": [
    {
     "name": "stdout",
     "output_type": "stream",
     "text": [
      "Your binary number is less than 128\n"
     ]
    }
   ],
   "source": [
    "binaryString = input(\"Enter your binary string in 8 digits\")\n",
    "\n",
    "if binaryString[0:1] == 1:\n",
    "    print(\"Your binary number is greater than or equal to 128\")\n",
    "else:\n",
    "    print(\"Your binary number is less than 128\")"
   ]
  },
  {
   "cell_type": "code",
   "execution_count": 2,
   "metadata": {},
   "outputs": [
    {
     "name": "stdout",
     "output_type": "stream",
     "text": [
      "Remember to bring an umbrella\n"
     ]
    }
   ],
   "source": [
    "weather = \"rainy\"\n",
    "\n",
    "if weather == \"sunny\":\n",
    "    print(\"Remember to bring a hat\")\n",
    "elif weather == \"windy\":   \n",
    "    print(\"Go fly a kite!\")\n",
    "else: \n",
    "    print(\"Remember to bring an umbrella\")"
   ]
  },
  {
   "attachments": {},
   "cell_type": "markdown",
   "metadata": {},
   "source": [
    "# 3.7 <mark>Nested Conditionals</mark>\n",
    "\n",
    "Nested conditionals are essentially conditionals within conditionals. \n",
    "\n",
    "Below is an example of nested if statements in Python"
   ]
  },
  {
   "cell_type": "code",
   "execution_count": 7,
   "metadata": {},
   "outputs": [
    {
     "name": "stdout",
     "output_type": "stream",
     "text": [
      "Enter a number: 60\n",
      "Your number is positive\n",
      "Your number is also greater than 50\n"
     ]
    }
   ],
   "source": [
    "num = int(input(\"Enter a number\"))\n",
    "print(\"Enter a number: \" + str(num))\n",
    "\n",
    "if num > 0:\n",
    "    print(\"Your number is positive\")\n",
    "    \n",
    "    if num > 50: \n",
    "        print(\"Your number is also greater than 50\")\n",
    "        \n",
    "else: \n",
    "    print(\"Your number is negative\")\n",
    "    \n",
    "    if num < -50: \n",
    "        print(\"Your number is also less than -50\")"
   ]
  }
 ],
 "metadata": {
  "kernelspec": {
   "display_name": "Python 3.9.12 ('base')",
   "language": "python",
   "name": "python3"
  },
  "language_info": {
   "codemirror_mode": {
    "name": "ipython",
    "version": 3
   },
   "file_extension": ".py",
   "mimetype": "text/x-python",
   "name": "python",
   "nbconvert_exporter": "python",
   "pygments_lexer": "ipython3",
   "version": "3.9.12"
  },
  "orig_nbformat": 4,
  "vscode": {
   "interpreter": {
    "hash": "f260b6b3ae1ef2114af89aa0dee38d5682df0763aaac2870f1e656463369401e"
   }
  }
 },
 "nbformat": 4,
 "nbformat_minor": 2
}
