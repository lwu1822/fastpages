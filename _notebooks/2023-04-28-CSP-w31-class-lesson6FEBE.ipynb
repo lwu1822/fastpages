{
 "cells": [
  {
   "attachments": {},
   "cell_type": "markdown",
   "metadata": {},
   "source": [
    "# Developing with Frontend & Backend\n",
    "> To get started with development, you need tools. You'll learn how to get the necessary tools here using Conda scripts.\n",
    "\n",
    "- toc: true\n",
    "- badges: false\n",
    "- comments: true\n",
    "- author: Paaras Purohit, Chinmay Ramamurthy, Raunak Mondal, Tanay Patel, Qais Jamili\n",
    "- categories: [student]\n",
    "- type: ap\n",
    "- week: 30\n",
    "- permalink: /quintinpartone"
   ]
  },
  {
   "attachments": {},
   "cell_type": "markdown",
   "metadata": {},
   "source": [
    "# Setting up Machines with Conda Scripts "
   ]
  },
  {
   "attachments": {},
   "cell_type": "markdown",
   "metadata": {},
   "source": [
    "## GitHub\n",
    "\n",
    "- What is GitHub?\n",
    "\n",
    "Github is a place where people can record and share their code.\n",
    "- Why do we use GitHub? Why not Google Drive or messages?\n",
    "It implements Git and provides a good way to refer back to code history.\n",
    "\n",
    "- What's the difference between Git and GitHub?\n",
    "\n",
    "Git is a way to store code while GitHub is the website for users to share their code.\n",
    "- Name as many Git commands as you can:\n",
    "\n",
    "git clone, git pull"
   ]
  },
  {
   "attachments": {},
   "cell_type": "markdown",
   "metadata": {},
   "source": [
    "## Two Main Machines\n",
    "- Which is better, MacOS or Windows?\n",
    "\n",
    "Windows has better compatibility. \n",
    "- Give some differences between MacOS and Windows in terms of the development we use in APCSP:\n",
    "They use diffferent commands to set up.\n",
    "\n",
    "- If you are on Windows, you want to skip the MacOS Setup instructions."
   ]
  },
  {
   "attachments": {},
   "cell_type": "markdown",
   "metadata": {},
   "source": [
    "## Our Tools:\n",
    "\n",
    "- What is the first tool you remember installing?\n",
    "\n",
    "  VSCode\n",
    "- Why was installations so hard the first time?\n",
    "\n",
    "  We were unfamiliar with coding.\n",
    "  \n",
    "- Without looking back at previous notes, name three tools you remember installing. This can be kernels, extensions, any installation for APCSP, and also write why it is needed.\n",
    "\n",
    "* VS Code, this provides the platform to code\n",
    "* Jupyter Notebook provides an easy way to include snippets of code on blog\n",
    "* Github to record versions of code\n",
    "* JavaScript kernel to code in JavaScript\n",
    "* Install Python3 to code in Python\n"
   ]
  },
  {
   "attachments": {},
   "cell_type": "markdown",
   "metadata": {},
   "source": [
    "## Actual Installations:\n",
    "\n",
    "Tool setup is a week 0 thing. You should already have the knowledge to set up your machine. There is also a high chance you had to remove your environments and set up your machine again due to errors. If, for some reason, these don't apply to you, go [here](https://nighthawkcoders.github.io/APCSP//techtalk/tools) to set up your machine, [here](https://nighthawkcoders.github.io/APCSP//techtalk/bash) to check everything working with Bash, and [here](https://nighthawkcoders.github.io/APCSP//c7.1/2022/09/12/PBL-fastpages-docker.html) for Docker setup, which are the main tools on our machine needed to develop in APCSP."
   ]
  },
  {
   "attachments": {},
   "cell_type": "markdown",
   "metadata": {},
   "source": [
    "### MacOS Conda Scripts\n",
    "\n",
    "After installing Homebrew, VSCode, and Python2, you'll need to run these Homebrew commands:"
   ]
  },
  {
   "cell_type": "code",
   "execution_count": null,
   "metadata": {
    "vscode": {
     "languageId": "shellscript"
    }
   },
   "outputs": [],
   "source": [
    "brew list # list packages\n",
    "brew update # update package list\n",
    "brew upgrade # upgrade packages\n",
    "brew install git  # install latest git\n",
    "brew install python # install python3 for development\n",
    "python --version # version of python3 installed\n",
    "brew install java # openjdk install"
   ]
  },
  {
   "attachments": {},
   "cell_type": "markdown",
   "metadata": {},
   "source": [
    "### Windows Conda Scripts\n",
    "\n",
    "To get set up, run these commands:"
   ]
  },
  {
   "cell_type": "code",
   "execution_count": null,
   "metadata": {
    "vscode": {
     "languageId": "shellscript"
    }
   },
   "outputs": [],
   "source": [
    "wsl --install\n",
    "wsl --list\n",
    "wsl --install -d Ubuntu-20.04\n",
    "# restart machine\n",
    "wsl\n",
    "cd ~\n",
    "mkdir vscode\n",
    "ls\n",
    "cd ~/vscode  # changes the directory to path for vscode files\n",
    "git clone https://github.com/nighthawkcoders/APCSP.git # clone repo\n",
    "cd APCSP  # changes the directory to path for APCSP repos assets\n",
    "code .  # opens APCSP in VSCode\n",
    "cd ..    # changes the directory to the previous/parent directory\n",
    "git config --global user.email mygmail@gmail.com  # tell git your email\n",
    "git config --global user.name mygithub   # tell git your github id\n",
    "shay@MSI:/mnt/c/Users/ShayM$ git config --global user.email your@email.here\n",
    "shay@MSI:/mnt/c/Users/ShayM$ git config --global user.name yourusernamehere\n",
    "# restart machine\n",
    "PS C:\\Users\\UserName> wsl  # Windows prompt to WSL command\n",
    "cd /tmp\n",
    "wget https://repo.anaconda.com/archive/Anaconda3-2022.05-Linux-x86_64.sh\n",
    "chmod +x Anaconda3-2022.05-Linux-x86_64.sh\n",
    "# Answer yes to all the prompts\n",
    "./Anaconda3-2022.05-Linux-x86_64.sh\n",
    "# run apt package commands now\n",
    "sudo apt list # list packages\n",
    "sudo apt update # update package list\n",
    "sudo apt upgrade # upgrade packages\n",
    "sudo apt install python2 # install python2 for package dependencies\n",
    "sudo apt install python3 python3-pip # install python3 and pip3 for development\n",
    "python --version  # version of python3 should be shown\n",
    "sudo apt install default-jdk default-jre  # java install\n",
    "java --version  # java runtime version\n",
    "javac --version # java compiler version\n",
    "sudo apt install unzip  # unzip utility"
   ]
  },
  {
   "attachments": {},
   "cell_type": "markdown",
   "metadata": {},
   "source": [
    "### Setting Up Kernels\n",
    "\n",
    "Now that you have everything installed on MacOS/Windows, we need to get kernels installed so that we can develop inside Fastpages notebooks. To do that, run these commands on both MacOS and Windows:"
   ]
  },
  {
   "cell_type": "code",
   "execution_count": null,
   "metadata": {
    "vscode": {
     "languageId": "shellscript"
    }
   },
   "outputs": [],
   "source": [
    "(base) id:~$ conda --version \n",
    "(base) id:~$ conda install jupyter # install jupyter\n",
    "(base) id:~$ jupyter kernelspec list # list installed kernels\n",
    "Available kernels:\n",
    "  python3    /home/shay/.local/share/jupyter/kernels/python3\n",
    "\n",
    "(base) id:~$ # start in home directory\n",
    "(base) id:~$ pip install bash_kernel # download bash kernel\n",
    "Collecting bash_kernel\n",
    "  Downloading bash_kernel-0.7.2-py2.py3-none-any.whl (15 kB)\n",
    "Requirement already satisfied: pexpect>=4.0 in ./anaconda3/lib/python3.9/site-packages (from bash_kernel) (4.8.0)\n",
    "Requirement already satisfied: ptyprocess>=0.5 in ./anaconda3/lib/python3.9/site-packages (from pexpect>=4.0->bash_kernel) (0.7.0)\n",
    "Installing collected packages: bash-kernel\n",
    "Successfully installed bash-kernel-0.7.2\n",
    "(base) id:~$ python -m bash_kernel.install # install kernel\n",
    "Installing IPython kernel spec\n",
    "(base) id:~$ jupyter kernelspec list # list kernels\n",
    "Available kernels:\n",
    "  bash       /home/shay/.local/share/jupyter/kernels/bash\n",
    "  python3    /home/shay/.local/share/jupyter/kernels/python3\n",
    "\n",
    "(base) id:~$ conda install nodejs # node is framework for JavaScript kernel\n",
    "(base) id:~$ npm -version  # node package manager comes with nodejs\n",
    "(base) id:~$ npm install -g ijavascript  # get the kernel\n",
    "(base) id:~$ ijsinstall # install javascript kernel\n",
    "(base) id:~$ jupyter kernelspec list # list kernels\n",
    "Available kernels:\n",
    "  bash          /home/shay/.local/share/jupyter/kernels/bash\n",
    "  javascript    /home/shay/.local/share/jupyter/kernels/javascript\n",
    "  python3       /home/shay/.local/share/jupyter/kernels/python3"
   ]
  },
  {
   "attachments": {},
   "cell_type": "markdown",
   "metadata": {},
   "source": [
    "By now, you should already know how to clone Git repositories into your VSCode directory. Once you do that, you're all set for developing with GitHub Pages and Fastpages!"
   ]
  },
  {
   "attachments": {},
   "cell_type": "markdown",
   "metadata": {},
   "source": [
    "## Before We Set Up Pages, A Guide to Git\n",
    "\n",
    "As we've discussed, Git is different from GitHub. Because GitHub is merely the place where we store Git repos, we use Git's commands to help us get, open, and configure these repositories. Here are some of the Git commands you should be using a lot (In the comments, tell what each Git command does):"
   ]
  },
  {
   "cell_type": "code",
   "execution_count": null,
   "metadata": {
    "vscode": {
     "languageId": "shellscript"
    }
   },
   "outputs": [],
   "source": [
    "git clone {repos-name-here.git} # what does it do? Clone a repo\n",
    "git checkout [branch] # what does it do? Switch between branches\n",
    "git fork {repos-name-here.git} # what does it do? Create a fork\n",
    "git commit -m {\"commit-msg\"} # what does it do? Commit with a message\n",
    "git pull # what does it do? Pull the updated changes from the repo\n",
    "git push # what does it do? Push changes to GitHub\n",
    "\n",
    "# After this line, name other commands that you can use and what they do. This should be easy, as you've already answered the qeue\n",
    "git fetch # retrieve from repo"
   ]
  },
  {
   "attachments": {},
   "cell_type": "markdown",
   "metadata": {},
   "source": [
    "## Setting Up GitHub Pages\n",
    "\n",
    "Some of you may have come to know that GitHub Pages is starting to become outdated. So why do we still use it? The answer is that we are in a class, and following a curriculum with something like GitHub Pages is much easier than creating portfolio content from scratch, which becomes quite unecessary. Therefore, we can use GitHub Pages to create this content instead. On the topic of unecessary vs necessary coding, we don't need to make GitHub Pages from scratch as opposed to using a template that our very own Mr. Mortensen created for us. To do that, we can go to the [Leuck Reunion](https://github.com/jm1021/leuck_reunion) repository and use the template to make our own GitHub Pages. Then, in Ubuntu, we can ```git clone``` our repository and open it in VSCode. After we have it open, the last thing we want to do is set up local hosting for this website, so that we can preview it and make changes in real time. To do that, head [here](https://jekyllrb.com/docs/installation/ubuntu/) to install Jekyll for Ubuntu, [here](https://www.ruby-lang.org/en/documentation/installation/) to install Ruby next, and [here](https://bundler.io/) to finalize the process by installing Bundler."
   ]
  },
  {
   "attachments": {},
   "cell_type": "markdown",
   "metadata": {},
   "source": [
    "## Setting Up FastPages\n",
    "\n",
    "In Setting Up Github Pages, we talked about how it is easier to use a template to create portfolio content. It is also easier to use a template when creating the portfolio itself. To do that, we can use Fastpages, which is what we have been using to show our blogs, code, and projects. However, Fastpages has been deprecated for some time now, so the instructions in Week 0 won't be effective. So, we need to fork the APCSP Fastpages. To do that, follow [this]() video to get started developing with Fastpages."
   ]
  },
  {
   "attachments": {},
   "cell_type": "markdown",
   "metadata": {},
   "source": [
    "# Hacks\n",
    "\n",
    "- Show how you incorporate three tools that we have installed into your project. 0.1 points for each feature. (0.3). This can include code, but definitely blog about it.\n",
    "\n",
    "* Python was used to code the backend for the project. I used Python to create the API endpoint on the backend, and also to connect to the SQLite database.\n",
    "\n",
    "* JavaScript was used to code the frontend. I used JavaScript to send a fetch request to the backend so that data could be fetched and displayed on the website.\n",
    "\n",
    "* To code for frontend and backend, I used VS Code as my code editor. I also used Git to push and pull code onto the GitHub repositories. \n",
    "\n",
    "- frontend hack goes here\n",
    "\n",
    "\n",
    "<br>\n",
    "Below is a portion of my frontend code that demonstrates fetching with JavaScript. This code sends a fetch request to the backend website's API endpoint. The backend returns data from the database, and using JavaScript, I created a table that outputs the data onto the frontend website. \n",
    "\n"
   ]
  },
  {
   "cell_type": "code",
   "execution_count": null,
   "metadata": {
    "vscode": {
     "languageId": "javascript"
    }
   },
   "outputs": [],
   "source": [
    "fetch(\"https://seal.nighthawkcodingsociety.com/api/users/classreview\")\n",
    "          .then(response => {\n",
    "            response.json().then(data => {\n",
    "                console.log(data);\n",
    "\n",
    "                for (const row of data) {\n",
    "                    if (classInput.toUpperCase() == row.className.toUpperCase()) {\n",
    "                      const tr = document.createElement(\"tr\");\n",
    "                      \n",
    "                      const className = document.createElement(\"td\");\n",
    "                      className.innerHTML = row.className;  \n",
    "          \n",
    "                      const daysBtwTest= document.createElement(\"td\");\n",
    "                      daysBtwTest.innerHTML = row.daysBtwTest; \n",
    "          \n",
    "                      const difficulty= document.createElement(\"td\");\n",
    "                      difficulty.innerHTML = row.difficulty; \n",
    "\n",
    "                      const hoursOfHw= document.createElement(\"td\");\n",
    "                      hoursOfHw.innerHTML = row.hoursOfHw; \n",
    "\n",
    "                      const memorizationLevel = document.createElement(\"td\");\n",
    "                      memorizationLevel.innerHTML = row.memorizationLevel; \n",
    "\n",
    "                      const comments = document.createElement(\"td\");\n",
    "                      comments.innerHTML = row.comments; \n",
    "                      \n",
    "                      tr.appendChild(className);\n",
    "                      tr.appendChild(daysBtwTest);\n",
    "                      tr.appendChild(difficulty);\n",
    "                      tr.appendChild(hoursOfHw);\n",
    "                      tr.appendChild(memorizationLevel);\n",
    "                      tr.appendChild(comments);\n",
    "          \n",
    "                      document.getElementById(\"reviews\").appendChild(tr);\n",
    "                    }\n",
    "\n",
    "\n",
    "                    }\n",
    "                   \n",
    "                \n",
    "            })\n",
    "            }\n",
    "        )"
   ]
  },
  {
   "attachments": {},
   "cell_type": "markdown",
   "metadata": {},
   "source": [
    "- backend hack goes here"
   ]
  },
  {
   "attachments": {},
   "cell_type": "markdown",
   "metadata": {},
   "source": [
    "To create the API endpoint on the backend, I used `api.add_resource()` to create a link to the endpoint. I also created classes for Create, Read, Update, and Delete options that take in input from a GET/POST request and returns the data in JSON.\n",
    "\n",
    "The code below shows a class that I created to Create a class review (the topic of my project is to read, submit, edit, and delete class reviews)."
   ]
  },
  {
   "cell_type": "code",
   "execution_count": null,
   "metadata": {},
   "outputs": [],
   "source": [
    " class _CreateClassReview(Resource):\n",
    "        def post(self):\n",
    "            ''' Read data for json body '''\n",
    "            body = request.get_json()\n",
    "            \n",
    "\n",
    "            username = body.get('username')\n",
    "            className = body.get('className')\n",
    "            difficulty = body.get('difficulty')\n",
    "            hoursOfHw = body.get('hoursOfHw')\n",
    "            daysBtwTest = body.get('daysBtwTest')\n",
    "            memorizationLevel = body.get('memorizationLevel')\n",
    "            comments = body.get('comments')\n",
    "            \n",
    "            if int(difficulty) < 0:\n",
    "                return {'message': f'Invalid number'}, 210\n",
    "            if int(hoursOfHw) < 0:\n",
    "                return {'message': f'Invalid number'}, 210\n",
    "            if int(daysBtwTest) < 0:\n",
    "                return {'message': f'Invalid number'}, 210\n",
    "            if int(memorizationLevel) < 0:\n",
    "                return {'message': f'Invalid number'}, 210\n",
    "            \n",
    "            id = findId(username)\n",
    "            \n",
    "            #create a review object based on user's input\n",
    "            review = ClassReview(id=id, className=className, difficulty=difficulty, hoursOfHw=hoursOfHw, daysBtwTest=daysBtwTest, memorizationLevel=memorizationLevel, comments=comments)\n",
    "\n",
    "           \n",
    "            \n",
    "            #I HAVE TO CHANGE THIS VARIABLE NAME LOL\n",
    "            reviews = review.create()\n",
    "            if reviews:\n",
    "                return jsonify(reviews.read())\n",
    "            # failure returns error\n",
    "            return {'message': f'Processed {username}, either a format error or duplicate'}, 210"
   ]
  },
  {
   "attachments": {},
   "cell_type": "markdown",
   "metadata": {},
   "source": [
    "To connect the Python code to the SQLite database, I created a `ClassReview` class that takes in attributes of a class review, such as the name of the class, its difficulty ranking, number of days between tests, and extra comments. This is what the code for the class looks like:"
   ]
  },
  {
   "cell_type": "code",
   "execution_count": null,
   "metadata": {},
   "outputs": [],
   "source": [
    "class ClassReview(db.Model):\n",
    "    __tablename__ = 'classReview'\n",
    "    # Define the Classes schema\n",
    "    id = db.Column(db.Integer, primary_key=True)\n",
    "    # Define a relationship in classes Schema to userID who originates the classes, many-to-one (many classes to one user)\n",
    "    userID = db.Column(db.Integer, db.ForeignKey('users.id'))\n",
    "\n",
    "    #columns (class review inputs)\n",
    "    className = db.Column(db.String(255), unique=False, nullable=False)\n",
    "    difficulty = db.Column(db.String(255), unique=False, nullable=False)\n",
    "    hoursOfHw = db.Column(db.String(255), unique=False, nullable=False)\n",
    "    daysBtwTest = db.Column(db.String(255), unique=False, nullable=False)\n",
    "    memorizationLevel = db.Column(db.String(255), unique=False, nullable=False)\n",
    "    comments = db.Column(db.String(255), unique=False, nullable=False)\n",
    "\n",
    "    # Constructor of a Notes object, initializes of instance variables within object\n",
    "    def __init__(self, id, className, difficulty, hoursOfHw, daysBtwTest, memorizationLevel, comments):\n",
    "        self.userID = id\n",
    "        self.className = className\n",
    "        self.difficulty = difficulty\n",
    "        self.hoursOfHw = hoursOfHw\n",
    "        self.daysBtwTest = daysBtwTest\n",
    "        self.memorizationLevel = memorizationLevel\n",
    "        self.comments = comments\n",
    "        \n",
    "\n",
    "\n",
    "    # Returns a string representation of the Notes object, similar to java toString()\n",
    "    # returns string\n",
    "    def __repr__(self):\n",
    "        return \"ClassReview(\" + str(self.userID) + \",\" + self.className+ \",\" + self.difficulty + \",\" + self.hoursOfHw + \",\" + self.daysBtwTest + \",\" + self.memorizationLevel  + \",\" + self.comments + \")\"\n",
    "\n",
    "    # CRUD create, adds a new record to the Notes table\n",
    "    # returns the object added or None in case of an error\n",
    "    def create(self):\n",
    "        try:\n",
    "            # creates a Notes object from Notes(db.Model) class, passes initializers\n",
    "            db.session.add(self)  # add prepares to persist person object to Notes table\n",
    "            db.session.commit()  # SqlAlchemy \"unit of work pattern\" requires a manual commit\n",
    "            return self\n",
    "        except IntegrityError:\n",
    "            db.session.remove()\n",
    "            return None\n",
    "\n",
    "    # CRUD read, returns dictionary representation of Notes object\n",
    "    # returns dictionary\n",
    "    def read(self):\n",
    "        \n",
    "        return {\n",
    "            \"userID\": self.userID,\n",
    "            \"className\": self.className,\n",
    "            \"difficulty\": self.difficulty,\n",
    "            \"hoursOfHw\": self.hoursOfHw,\n",
    "            \"daysBtwTest\": self.daysBtwTest,\n",
    "            \"memorizationLevel\": self.memorizationLevel,\n",
    "            \"comments\": self.comments,\n",
    "        }\n",
    "\n",
    "    def update(self, className, difficulty, hoursOfHw, daysBtwTest, memorizationLevel, comments):\n",
    "        #only updates values greater than 0\n",
    "        if int(difficulty) >= 0 :\n",
    "            self.difficulty = difficulty\n",
    "        if int(hoursOfHw) >= 0 :\n",
    "            self.hoursOfHw = hoursOfHw\n",
    "        if int(daysBtwTest) >= 0 :\n",
    "            self.daysBtwTest = daysBtwTest\n",
    "        if int(memorizationLevel) >= 0 :\n",
    "            self.memorizationLevel = memorizationLevel\n",
    "        self.className = className\n",
    "        self.comments = comments\n",
    "        db.session.commit()\n",
    "        return self \n",
    "\n",
    "    def delete(self):\n",
    "        #print(ClassReview.query.filter_by(userID=id, className=className).first())\n",
    "        db.session.delete(self)\n",
    "        db.session.commit()\n",
    "        return None"
   ]
  }
 ],
 "metadata": {
  "kernelspec": {
   "display_name": "base",
   "language": "python",
   "name": "python3"
  },
  "language_info": {
   "codemirror_mode": "shell",
   "file_extension": ".sh",
   "mimetype": "text/x-sh",
   "name": "python",
   "version": "3.9.12"
  },
  "orig_nbformat": 4
 },
 "nbformat": 4,
 "nbformat_minor": 2
}
