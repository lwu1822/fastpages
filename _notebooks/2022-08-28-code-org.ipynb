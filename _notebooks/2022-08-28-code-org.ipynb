{
 "cells": [
  {
   "cell_type": "markdown",
   "metadata": {},
   "source": [
    "# code.org Notes\n",
    "> Notes from code.org lessons.\n",
    "\n",
    "- toc: true \n",
    "- badges: true\n",
    "- comments: true\n",
    "- categories: [code.org]\n",
    "- tags: [\"CSA\"]"
   ]
  },
  {
   "cell_type": "markdown",
   "metadata": {},
   "source": [
    "## Lesson 2"
   ]
  },
  {
   "cell_type": "markdown",
   "metadata": {},
   "source": [
    "Class header:\n",
    "```\n",
    "public class ClassName {\n",
    "    \n",
    "}\n",
    "```\n",
    "\n",
    "Main method:\n",
    "\n",
    "```\n",
    "public static void main(String[] args) {\n",
    "    \n",
    "}\n",
    "```\n"
   ]
  },
  {
   "cell_type": "markdown",
   "metadata": {},
   "source": [
    "## Lesson 3"
   ]
  },
  {
   "cell_type": "markdown",
   "metadata": {},
   "source": [
    "Create an object with: `ClassName objectName = new ClassName();`"
   ]
  },
  {
   "cell_type": "markdown",
   "metadata": {},
   "source": [
    "# Lesson 6"
   ]
  },
  {
   "cell_type": "markdown",
   "metadata": {},
   "source": [
    "Subclass: Inherits the behaviors and attributes of a superclass\n",
    "\n",
    "Inheritance: The subclass inherits the behaviors and attributes of the superclass\n",
    "\n",
    "To extend a class, type: `public class [subclass] extends [superclass]`\n",
    "\n",
    "Inside the extended class, you need to create the constructor signature for the subclass, and type `super()` to call the superclass constructor and methods.\n",
    "\n",
    "Like this:\n",
    "```\n",
    "public class PainterPlus extends Painter {\n",
    "    public PainterPlus() {\n",
    "        super();\n",
    "    }\n",
    "}\n",
    "```"
   ]
  },
  {
   "cell_type": "markdown",
   "metadata": {},
   "source": [
    "## Lesoon 7 Methods\n",
    "\n",
    "Methods are defined with:\n",
    "\n",
    "```\n",
    "public void [methodName]() {\n",
    "    // code\n",
    "}\n",
    "```\n",
    "\n",
    "These can be later called with an object. \n",
    "\n",
    "For example, in Lesson 7 #2, I created a method called `turnRight()`. This is then called by with `myPainterPlus.turnRight();`\n",
    "\n",
    "![](my_icons/method.png \"create the turnRight() method\")\n",
    "\n",
    "![](my_icons/call.png \"call turnRight() with myPainterPlus\")\n",
    "\n",
    "\n"
   ]
  },
  {
   "cell_type": "markdown",
   "metadata": {},
   "source": [
    "## Lesson 9 Loops\n",
    "\n",
    "While loops: `while (condition()) {}`"
   ]
  },
  {
   "cell_type": "markdown",
   "metadata": {},
   "source": [
    "## Lesson 10 Conditionals\n",
    "\n",
    "If statements: `if (condition()) {}`\n",
    "\n",
    "If else statements:\n",
    "\n",
    "```\n",
    "if (condition()) {\n",
    "    // code\n",
    "} \n",
    "else {\n",
    "    // code\n",
    "}\n",
    "```\n",
    "\n",
    "To specify something **not** happening, use `!`.\n",
    "\n",
    "Ex: `if (!condition()) {} // if condition is false, proceed with if statement`"
   ]
  },
  {
   "cell_type": "markdown",
   "metadata": {},
   "source": [
    "## Lesson 12 Decomposition and Design\n",
    "\n",
    "<mark>Important:</mark> Code readability is very important. Also, a method should contain few lines of code (around 1-10). Each method should only be used to perform one task."
   ]
  }
 ],
 "metadata": {
  "kernelspec": {
   "display_name": "Python 3.8.10 64-bit",
   "language": "python",
   "name": "python3"
  },
  "language_info": {
   "name": "python",
   "version": "3.8.10"
  },
  "orig_nbformat": 4,
  "vscode": {
   "interpreter": {
    "hash": "916dbcbb3f70747c44a77c7bcd40155683ae19c65e1c03b4aa3499c5328201f1"
   }
  }
 },
 "nbformat": 4,
 "nbformat_minor": 2
}
