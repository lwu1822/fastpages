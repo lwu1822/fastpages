{
 "cells": [
  {
   "attachments": {},
   "cell_type": "markdown",
   "metadata": {},
   "source": [
    "# FRQ Practice\n",
    "> cri"
   ]
  },
  {
   "attachments": {},
   "cell_type": "markdown",
   "metadata": {},
   "source": [
    "# 2022"
   ]
  },
  {
   "cell_type": "code",
   "execution_count": null,
   "metadata": {
    "vscode": {
     "languageId": "java"
    }
   },
   "outputs": [],
   "source": [
    "public int getScore() {\n",
    "\tprivate int points = 0;\n",
    "\tif (levelOne.goalReached()) {\n",
    "\t\tpoints += levelOne.getPoints();\n",
    "\t\tif (levelTwo.goalReached()) {\n",
    "            points += levelTwo.getPoints();\n",
    "            if (levelThree.goalReached()) {\n",
    "                points += levelThree.getPoints();\n",
    "            }\n",
    "        }\n",
    "    }\n",
    "    if (isBonus()) {\n",
    "        points *= 3; \n",
    "    }\n",
    "    return points; \n",
    "}\n"
   ]
  },
  {
   "cell_type": "code",
   "execution_count": null,
   "metadata": {
    "vscode": {
     "languageId": "java"
    }
   },
   "outputs": [],
   "source": [
    "public int playManyTimes(int num) {\n",
    "    int max = 0; \n",
    "    for (int i = 0; i < num; i++) {\n",
    "        play();\n",
    "        if (max < getScore()) {\n",
    "            max = getScore(); \n",
    "        }\n",
    "\n",
    "    }\n",
    "\n",
    "    return max; \n",
    "}"
   ]
  },
  {
   "cell_type": "code",
   "execution_count": null,
   "metadata": {
    "vscode": {
     "languageId": "java"
    }
   },
   "outputs": [],
   "source": [
    "public class Textbook extends Book {\n",
    "    private int edition;\n",
    "    public Textbook(String title, double price, int edition) {\n",
    "        super(title, price); \n",
    "        this.edition = edition; \n",
    "    }\n",
    "\n",
    "    public int getEdition() {\n",
    "        return edition;\n",
    "    }\n",
    "\n",
    "    public String getBookInfo() {\n",
    "        return super.getBookInfo() + \"-\" + edition;\n",
    "    }\n",
    "\n",
    "    public boolean canSubstituteFor(Textbook textbook) {\n",
    "        if (this.getTitle().equals(textbook.getTitle()) && this.getEdition >= textbook.getEdition) {\n",
    "            return true;\n",
    "        }\n",
    "        return false; \n",
    "    }\n",
    "}"
   ]
  },
  {
   "cell_type": "code",
   "execution_count": 11,
   "metadata": {
    "vscode": {
     "languageId": "java"
    }
   },
   "outputs": [
    {
     "name": "stdout",
     "output_type": "stream",
     "text": [
      "1\n"
     ]
    }
   ],
   "source": [
    "public class Test {\n",
    "    int a; \n",
    "    int testVar; \n",
    "\n",
    "\n",
    "    public Test(int testVar) {\n",
    "        this.testVar = testVar; \n",
    "    }\n",
    "\n",
    "    public int testMethod() {\n",
    "        return this.getTestVar();\n",
    "    }\n",
    "\n",
    "    public int getTestVar() {\n",
    "        return testVar; \n",
    "    }\n",
    "\n",
    "    public static void main(String[] args) {\n",
    "        Test a = new Test(1); \n",
    "        System.out.println(a.testMethod());\n",
    "    }\n",
    "}\n",
    "Test.main(null)"
   ]
  }
 ],
 "metadata": {
  "kernelspec": {
   "display_name": "Java",
   "language": "java",
   "name": "java"
  },
  "language_info": {
   "codemirror_mode": "java",
   "file_extension": ".jshell",
   "mimetype": "text/x-java-source",
   "name": "Java",
   "pygments_lexer": "java",
   "version": "17.0.5+8-Ubuntu-2ubuntu120.04"
  },
  "orig_nbformat": 4
 },
 "nbformat": 4,
 "nbformat_minor": 2
}
