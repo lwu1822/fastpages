{
 "cells": [
  {
   "attachments": {},
   "cell_type": "markdown",
   "metadata": {},
   "source": [
    "# FRQ Practice\n",
    "> cri"
   ]
  },
  {
   "attachments": {},
   "cell_type": "markdown",
   "metadata": {},
   "source": [
    "# 2022"
   ]
  },
  {
   "cell_type": "code",
   "execution_count": null,
   "metadata": {
    "vscode": {
     "languageId": "java"
    }
   },
   "outputs": [],
   "source": [
    "public int getScore() {\n",
    "\tprivate int points = 0;\n",
    "\tif (levelOne.goalReached()) {\n",
    "\t\tpoints += levelOne.getPoints();\n",
    "\t\tif (levelTwo.goalReached()) {\n",
    "            points += levelTwo.getPoints();\n",
    "            if (levelThree.goalReached()) {\n",
    "                points += levelThree.getPoints();\n",
    "            }\n",
    "        }\n",
    "    }\n",
    "    if (isBonus()) {\n",
    "        points *= 3; \n",
    "    }\n",
    "    return points; \n",
    "}\n"
   ]
  },
  {
   "cell_type": "code",
   "execution_count": null,
   "metadata": {
    "vscode": {
     "languageId": "java"
    }
   },
   "outputs": [],
   "source": [
    "public int playManyTimes(int num) {\n",
    "    int max = 0; \n",
    "    for (int i = 0; i < num; i++) {\n",
    "        play();\n",
    "        if (max < getScore()) {\n",
    "            max = getScore(); \n",
    "        }\n",
    "\n",
    "    }\n",
    "\n",
    "    return max; \n",
    "}"
   ]
  },
  {
   "cell_type": "code",
   "execution_count": null,
   "metadata": {
    "vscode": {
     "languageId": "java"
    }
   },
   "outputs": [],
   "source": [
    "public class Textbook extends Book {\n",
    "    private int edition;\n",
    "    public Textbook(String title, double price, int edition) {\n",
    "        super(title, price); \n",
    "        this.edition = edition; \n",
    "    }\n",
    "\n",
    "    public int getEdition() {\n",
    "        return edition;\n",
    "    }\n",
    "\n",
    "    public String getBookInfo() {\n",
    "        return super.getBookInfo() + \"-\" + edition;\n",
    "    }\n",
    "\n",
    "    public boolean canSubstituteFor(Textbook textbook) {\n",
    "        if (this.getTitle().equals(textbook.getTitle()) && this.getEdition >= textbook.getEdition) {\n",
    "            return true;\n",
    "        }\n",
    "        return false; \n",
    "    }\n",
    "}"
   ]
  },
  {
   "cell_type": "code",
   "execution_count": null,
   "metadata": {
    "vscode": {
     "languageId": "java"
    }
   },
   "outputs": [],
   "source": [
    "public double getAverageRating() {\n",
    "    double sum = 0;\n",
    "    for (Review review : allReviews) {\n",
    "        sum += review.getRating();\n",
    "    }\n",
    "    return sum/allReviews.length;\n",
    "}"
   ]
  },
  {
   "cell_type": "code",
   "execution_count": null,
   "metadata": {
    "vscode": {
     "languageId": "java"
    }
   },
   "outputs": [],
   "source": [
    "public ArrayList<String> collectComments() {\n",
    "    ArrayList<String> formatComments = new ArrayList<String>();\n",
    "    for (int i = 0; i < allReviews.length; i++) {\n",
    "        String comment = allReviews[i].getComment();\n",
    "        if (comment.indexOf(\"!\") >= 0) {\n",
    "            String rating = i + \"-\" + comment;\n",
    "            if !((comment.substring(comment.length() - 1).equals(\"!\") || comment.substring(comment.length() - 1).equals(\".\"))) {\n",
    "                rating += \".\";\n",
    "            }\n",
    "        }\n",
    "        formatComments.add(rating);\n",
    "    }\n",
    "    return formatComments; \n",
    "}"
   ]
  },
  {
   "cell_type": "code",
   "execution_count": null,
   "metadata": {
    "vscode": {
     "languageId": "java"
    }
   },
   "outputs": [],
   "source": [
    "public void repopulate() {\n",
    "    for (int i = 0; i < grid.length; i++) {\n",
    "        for (int j = 0; j < grid[i].length; j++) {\n",
    "            int element = (int)(Math.random() * MAX + 1);\n",
    "            while ((element % 10 != 0) || (element % 100 == 0)) {\n",
    "                element = (int)(Math.random() * MAX + 1);\n",
    "            }\n",
    "            grid[i][j] = element; \n",
    "        }\n",
    "    }\n",
    "}"
   ]
  },
  {
   "cell_type": "code",
   "execution_count": 42,
   "metadata": {
    "vscode": {
     "languageId": "java"
    }
   },
   "outputs": [
    {
     "name": "stdout",
     "output_type": "stream",
     "text": [
      "5\n"
     ]
    }
   ],
   "source": [
    "public class A{\n",
    "\n",
    "    public String a = \"\";\n",
    "\n",
    "    public void b() {\n",
    "        System.out.println(\"x\");\n",
    "    }\n",
    "\n",
    "    public void setA(String a) {\n",
    "        this.a = a;\n",
    "    }\n",
    "\n",
    "}\n",
    "\n",
    "public class B {\n",
    "\n",
    "    public static void main(String[] args) {\n",
    "        System.out.println((int)(Math.random() * 10 + 1));\n",
    "    }\n",
    "}\n",
    "B.main(null)"
   ]
  }
 ],
 "metadata": {
  "kernelspec": {
   "display_name": "Java",
   "language": "java",
   "name": "java"
  },
  "language_info": {
   "codemirror_mode": "java",
   "file_extension": ".jshell",
   "mimetype": "text/x-java-source",
   "name": "Java",
   "pygments_lexer": "java",
   "version": "17.0.5+8-Ubuntu-2ubuntu120.04"
  },
  "orig_nbformat": 4
 },
 "nbformat": 4,
 "nbformat_minor": 2
}
