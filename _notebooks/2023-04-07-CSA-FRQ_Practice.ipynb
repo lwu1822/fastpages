{
 "cells": [
  {
   "attachments": {},
   "cell_type": "markdown",
   "metadata": {},
   "source": [
    "# FRQ Practice\n",
    "> cri"
   ]
  },
  {
   "attachments": {},
   "cell_type": "markdown",
   "metadata": {},
   "source": [
    "# 2022"
   ]
  },
  {
   "cell_type": "code",
   "execution_count": null,
   "metadata": {
    "vscode": {
     "languageId": "java"
    }
   },
   "outputs": [],
   "source": [
    "public int getScore() {\n",
    "\tprivate int points = 0;\n",
    "\tif (levelOne.goalReached()) {\n",
    "\t\tpoints += levelOne.getPoints();\n",
    "\t\tif (levelTwo.goalReached()) {\n",
    "            points += levelTwo.getPoints();\n",
    "            if (levelThree.goalReached()) {\n",
    "                points += levelThree.getPoints();\n",
    "            }\n",
    "        }\n",
    "    }\n",
    "    if (isBonus()) {\n",
    "        points *= 3; \n",
    "    }\n",
    "    return points; \n",
    "}\n"
   ]
  },
  {
   "cell_type": "code",
   "execution_count": null,
   "metadata": {
    "vscode": {
     "languageId": "java"
    }
   },
   "outputs": [],
   "source": [
    "public int playManyTimes(int num) {\n",
    "    int max = 0; \n",
    "    for (int i = 0; i < num; i++) {\n",
    "        play();\n",
    "        if (max < getScore()) {\n",
    "            max = getScore(); \n",
    "        }\n",
    "\n",
    "    }\n",
    "\n",
    "    return max; \n",
    "}"
   ]
  },
  {
   "cell_type": "code",
   "execution_count": null,
   "metadata": {
    "vscode": {
     "languageId": "java"
    }
   },
   "outputs": [],
   "source": [
    "public class Textbook extends Book {\n",
    "    private int edition;\n",
    "    public Textbook(String title, double price, int edition) {\n",
    "        super(title, price); \n",
    "        this.edition = edition; \n",
    "    }\n",
    "\n",
    "    public int getEdition() {\n",
    "        return edition;\n",
    "    }\n",
    "\n",
    "    public String getBookInfo() {\n",
    "        return super.getBookInfo() + \"-\" + edition;\n",
    "    }\n",
    "\n",
    "    public boolean canSubstituteFor(Textbook textbook) {\n",
    "        if (this.getTitle().equals(textbook.getTitle()) && this.getEdition >= textbook.getEdition) {\n",
    "            return true;\n",
    "        }\n",
    "        return false; \n",
    "    }\n",
    "}"
   ]
  },
  {
   "cell_type": "code",
   "execution_count": null,
   "metadata": {
    "vscode": {
     "languageId": "java"
    }
   },
   "outputs": [],
   "source": [
    "public double getAverageRating() {\n",
    "    double sum = 0;\n",
    "    for (Review review : allReviews) {\n",
    "        sum += review.getRating();\n",
    "    }\n",
    "    return sum/allReviews.length;\n",
    "}"
   ]
  },
  {
   "cell_type": "code",
   "execution_count": null,
   "metadata": {
    "vscode": {
     "languageId": "java"
    }
   },
   "outputs": [],
   "source": [
    "public ArrayList<String> collectComments() {\n",
    "    ArrayList<String> formatComments = new ArrayList<String>();\n",
    "    for (int i = 0; i < allReviews.length; i++) {\n",
    "        String comment = allReviews[i].getComment();\n",
    "        if (comment.indexOf(\"!\") >= 0) {\n",
    "            String rating = i + \"-\" + comment;\n",
    "            if !((comment.substring(comment.length() - 1).equals(\"!\") || comment.substring(comment.length() - 1).equals(\".\"))) {\n",
    "                rating += \".\";\n",
    "            }\n",
    "        }\n",
    "        formatComments.add(rating);\n",
    "    }\n",
    "    return formatComments; \n",
    "}"
   ]
  },
  {
   "cell_type": "code",
   "execution_count": null,
   "metadata": {
    "vscode": {
     "languageId": "java"
    }
   },
   "outputs": [],
   "source": [
    "public void repopulate() {\n",
    "    for (int i = 0; i < grid.length; i++) {\n",
    "        for (int j = 0; j < grid[i].length; j++) {\n",
    "            int element = (int)(Math.random() * MAX + 1);\n",
    "            while ((element % 10 != 0) || (element % 100 == 0)) {\n",
    "                element = (int)(Math.random() * MAX + 1);\n",
    "            }\n",
    "            grid[i][j] = element; \n",
    "        }\n",
    "    }\n",
    "}"
   ]
  },
  {
   "cell_type": "code",
   "execution_count": null,
   "metadata": {
    "vscode": {
     "languageId": "java"
    }
   },
   "outputs": [],
   "source": [
    "public int countIncreasingCols() {\n",
    "    int count = 0; \n",
    "    for (int col = 0; col < grid[0].length; col++) {\n",
    "        int num = 0;\n",
    "        boolean ascend = true;\n",
    "        for (int row = 0; row < grid.length; row++) {\n",
    "            if (num > grid[row][col]) {\n",
    "                ascend = false;\n",
    "            }\n",
    "        }\n",
    "        if (ascend) {\n",
    "            count++;\n",
    "        }\n",
    "    }\n",
    "\n",
    "    return count; \n",
    "\n",
    "}"
   ]
  },
  {
   "attachments": {},
   "cell_type": "markdown",
   "metadata": {},
   "source": [
    "# 2021"
   ]
  },
  {
   "cell_type": "code",
   "execution_count": null,
   "metadata": {
    "vscode": {
     "languageId": "java"
    }
   },
   "outputs": [],
   "source": [
    "public int scoreGuess(String guess) {\n",
    "    int length = guess.length();\n",
    "    int count = 0;\n",
    "    for (int i = 0; i <= secret.length() - length; i++) {\n",
    "        if (secret.substring(i, i + length).equals(guess)) {\n",
    "            count++; \n",
    "        }\n",
    "    }\n",
    "    return count * length * length; \n",
    "}"
   ]
  },
  {
   "cell_type": "code",
   "execution_count": null,
   "metadata": {
    "vscode": {
     "languageId": "java"
    }
   },
   "outputs": [],
   "source": [
    "public String findBetterGuess(String guess1, String guess2) {\n",
    "    int score1 = scoreGuess(guess1);\n",
    "    int score2 = scoreGuess(guess2);\n",
    "\n",
    "    if (score1 < score2) {\n",
    "        return guess2;\n",
    "    } \n",
    "    if (score1 > score2) {\n",
    "        return guess1;\n",
    "    }\n",
    "    if (guess1.compareTo(guess2) < 0) {\n",
    "        return guess2;\n",
    "    } else {\n",
    "        return guess1; \n",
    "    }\n",
    "}"
   ]
  },
  {
   "cell_type": "code",
   "execution_count": null,
   "metadata": {
    "vscode": {
     "languageId": "java"
    }
   },
   "outputs": [],
   "source": [
    "public class CombinedTable {\n",
    "    private SingleTable t1;\n",
    "    private SingleTable t2;\n",
    "\n",
    "    public CombinedTable(SingleTable t1, SingleTable t2) {\n",
    "        this.t1 = t1;\n",
    "        this.t2 = t2; \n",
    "    }\n",
    "\n",
    "    public boolean canSeat(int num) {\n",
    "        if (num <= (t1.getNumSeats() + t2.getNumSeats() - 2)) {\n",
    "            return true; \n",
    "        }\n",
    "        return false; \n",
    "    }\n",
    "\n",
    "    public double getDesirability() {\n",
    "        if (t1.getHeight() == t2.getHeight()) {\n",
    "            return (t1.getViewQuality() + t2.getViewQuality()) / 2; \n",
    "        }\n",
    "        return (t1.getViewQuality() + t2.getViewQuality()) / 2 - 10;\n",
    "    }\n",
    "}"
   ]
  },
  {
   "cell_type": "code",
   "execution_count": null,
   "metadata": {
    "vscode": {
     "languageId": "java"
    }
   },
   "outputs": [],
   "source": [
    "public void addMembers(String[] names, int gradYear) {\n",
    "    for (String name : names) {\n",
    "        MemberInfo member = new MemberInfo(name, gradYear, true);\n",
    "        memberList.add(member);\n",
    "    }\n",
    "}"
   ]
  },
  {
   "cell_type": "code",
   "execution_count": null,
   "metadata": {
    "vscode": {
     "languageId": "java"
    }
   },
   "outputs": [],
   "source": [
    "public ArrayList<MemberInfo> removeMembers(int year) {\n",
    "    ArrayList<MemberInfo> goodMember = new ArrayList<MemberInfo>();\n",
    "    for (int i = 0; i < memberList.size(); i++) {\n",
    "        if (memberList.get(i).getGradYear() <= year) {\n",
    "            memberList.remove(i);\n",
    "        }\n",
    "    }\n",
    "\n",
    "    for (int i = 0; i < memberList.size(); i++) {\n",
    "        if (memberList.get(i).inGoodStanding()) {\n",
    "            goodMember.add(memberList.get(i));\n",
    "        }\n",
    "    }\n",
    "\n",
    "    return goodMember;\n",
    "}"
   ]
  },
  {
   "cell_type": "code",
   "execution_count": null,
   "metadata": {
    "vscode": {
     "languageId": "java"
    }
   },
   "outputs": [],
   "source": [
    "public static boolean isNonZeroRow(int[][] array2D, int r) {\n",
    "    boolean noZero = true;\n",
    "    for (int i = 0; i < array2D[0].length; i++) {\n",
    "        if (array2D[r][i] == 0) {\n",
    "            noZero = false;\n",
    "        }\n",
    "    }\n",
    "\n",
    "    return noZero;\n",
    "}"
   ]
  },
  {
   "cell_type": "code",
   "execution_count": null,
   "metadata": {
    "vscode": {
     "languageId": "java"
    }
   },
   "outputs": [],
   "source": [
    "public static int[][] resize(int[][] array2D) {\n",
    "    int row = numNonZeroRows(array2D);\n",
    "    int[][] resize = new int[row][array2D[0].length];\n",
    "\n",
    "    int resizeRow = 0;\n",
    "\n",
    "    for (int i = 0; i < array2D.length; i++) {\n",
    "        if (isNonZeroRow(array2D, i)) {\n",
    "            for (int j = 0; j < array2D[0].length; j++){\n",
    "                resize[resizeRow][j] = array2D[i][j];\n",
    "            }\n",
    "            resizeRow++;\n",
    "        }\n",
    "    }\n",
    "\n",
    "    return resize; \n",
    "}"
   ]
  },
  {
   "attachments": {},
   "cell_type": "markdown",
   "metadata": {},
   "source": [
    "# 2019"
   ]
  },
  {
   "cell_type": "code",
   "execution_count": null,
   "metadata": {
    "vscode": {
     "languageId": "java"
    }
   },
   "outputs": [],
   "source": [
    "public static int numberOfLeapYears(int year1, int year2) {\n",
    "    int num = 0; \n",
    "\n",
    "    for (int i = year1; i <= year2; i++) {\n",
    "        if (isLeapYear(i)) {\n",
    "            num++;\n",
    "        }\n",
    "    }\n",
    "    return num;\n",
    "}"
   ]
  },
  {
   "cell_type": "code",
   "execution_count": null,
   "metadata": {
    "vscode": {
     "languageId": "java"
    }
   },
   "outputs": [],
   "source": [
    "public static int dayOfWeek(int month, int day, int year) {\n",
    "    int numDays = dayOfYear(month, day, year);\n",
    "\n",
    "    return (numDays - 1 + firstDayOfYear(year)) % 7 \n",
    "}"
   ]
  },
  {
   "cell_type": "code",
   "execution_count": null,
   "metadata": {
    "vscode": {
     "languageId": "java"
    }
   },
   "outputs": [],
   "source": [
    "public class StepTracker {\n",
    "    private int steps;\n",
    "    private int activeDay;\n",
    "    private int days;\n",
    "    private int stepGoal;\n",
    "\n",
    "    public StepTracker(int stepGoal) {\n",
    "        this.stepGoal = stepGoal; \n",
    "    }\n",
    "\n",
    "    public void addDailySteps(int steps) {\n",
    "        this.steps += steps; \n",
    "        if (steps >= stepGoal) {\n",
    "            activeDay++; \n",
    "        }\n",
    "        days++;\n",
    "    }\n",
    "\n",
    "    public double averageSteps() {\n",
    "        return (double)(steps/days);\n",
    "    }\n",
    "\n",
    "    public int activeDays() {\n",
    "        return activeDay; \n",
    "    }\n",
    "}"
   ]
  },
  {
   "cell_type": "code",
   "execution_count": null,
   "metadata": {
    "vscode": {
     "languageId": "java"
    }
   },
   "outputs": [],
   "source": [
    "public ArrayList<String> getDelimitersList(String[] tokens) {\n",
    "    ArrayList<String> delimiters = new ArrayList<String>();\n",
    "    for (String ch : tokens) {\n",
    "        if (ch.equals(openDel) || ch.equals(closeDel)) {\n",
    "            delimiters.add(ch);\n",
    "        }\n",
    "    }\n",
    "    return delimiters;\n",
    "}"
   ]
  },
  {
   "cell_type": "code",
   "execution_count": null,
   "metadata": {
    "vscode": {
     "languageId": "java"
    }
   },
   "outputs": [],
   "source": [
    "public boolean isBalanced(ArrayList<String> delimiters) {\n",
    "    int open = 0; \n",
    "    int close = 0; \n",
    "\n",
    "    for (String ch : delimiters) {\n",
    "        if (ch.equals(openDel)) {\n",
    "            open++;\n",
    "        } else {\n",
    "            close++;\n",
    "        }\n",
    "\n",
    "        if (close > open) {\n",
    "            return false; \n",
    "        }\n",
    "    }\n",
    "\n",
    "    if (open != close) {\n",
    "        return false;\n",
    "    }\n",
    "    return true;\n",
    "}"
   ]
  },
  {
   "cell_type": "code",
   "execution_count": null,
   "metadata": {
    "vscode": {
     "languageId": "java"
    }
   },
   "outputs": [],
   "source": [
    "public LightBoard(int numRows, int numCols) {\n",
    "    lights = new boolean[numRows][numCols];\n",
    "    int[] random = {0, 0, 1, 1, 1};\n",
    "    for (int i = 0; i < numRows; i++) {\n",
    "        for (int j = 0; j < numCols; j++) {\n",
    "            int num = (int)(Math.random() * 5)\n",
    "            if (random[num] == 0) {\n",
    "                lights[i][j] = true;\n",
    "            } else {\n",
    "                lights[i][j] = false;\n",
    "            }\n",
    "        }\n",
    "    }\n",
    "}"
   ]
  },
  {
   "cell_type": "code",
   "execution_count": null,
   "metadata": {
    "vscode": {
     "languageId": "java"
    }
   },
   "outputs": [],
   "source": [
    "public boolean evaluateLight(int row, int col) {\n",
    "    int on = 0;\n",
    "    for (int i = 0; i < lights.length; i++) {\n",
    "        if (lights[i][col] == true) {\n",
    "            on++;\n",
    "        }\n",
    "    }\n",
    "\n",
    "    if (lights[row][col] == true) {\n",
    "        if (on % 2 == 0) {\n",
    "            return false;\n",
    "        }\n",
    "    }\n",
    "\n",
    "\n",
    "    if (lights[row][col] == false) {\n",
    "        if (on % 3 == 0) {\n",
    "            return true;\n",
    "        }\n",
    "    }\n",
    "\n",
    "    return lights[row][col];\n",
    "}"
   ]
  },
  {
   "cell_type": "code",
   "execution_count": 61,
   "metadata": {
    "vscode": {
     "languageId": "java"
    }
   },
   "outputs": [
    {
     "name": "stdout",
     "output_type": "stream",
     "text": [
      "1\n",
      "1\n",
      "2\n",
      "2\n"
     ]
    }
   ],
   "source": [
    "public class A{\n",
    "\n",
    "    public String a = \"\";\n",
    "\n",
    "    public void b() {\n",
    "        System.out.println(\"x\");\n",
    "    }\n",
    "\n",
    "    public void setA(String a) {\n",
    "        this.a = a;\n",
    "    }\n",
    "\n",
    "}\n",
    "\n",
    "public class B {\n",
    "    public int a; \n",
    "    public int b;\n",
    "\n",
    "    public B() {\n",
    "\n",
    "    }\n",
    "\n",
    "    public int increaseA() {\n",
    "        a++;\n",
    "        return a;\n",
    "    }\n",
    "\n",
    "    public static void main(String[] args) {\n",
    "        B test = new B();\n",
    "        System.out.println(test.increaseA());\n",
    "        System.out.println(test.a);\n",
    "        System.out.println(test.increaseA());\n",
    "        System.out.println(test.a);\n",
    "    }\n",
    "}\n",
    "B.main(null)"
   ]
  }
 ],
 "metadata": {
  "kernelspec": {
   "display_name": "Java",
   "language": "java",
   "name": "java"
  },
  "language_info": {
   "codemirror_mode": "java",
   "file_extension": ".jshell",
   "mimetype": "text/x-java-source",
   "name": "Java",
   "pygments_lexer": "java",
   "version": "17.0.5+8-Ubuntu-2ubuntu120.04"
  },
  "orig_nbformat": 4
 },
 "nbformat": 4,
 "nbformat_minor": 2
}
