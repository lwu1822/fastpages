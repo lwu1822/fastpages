{
 "cells": [
  {
   "attachments": {},
   "cell_type": "markdown",
   "metadata": {},
   "source": [
    "# FRQ Practice\n",
    "> cri"
   ]
  },
  {
   "attachments": {},
   "cell_type": "markdown",
   "metadata": {},
   "source": [
    "# 2022"
   ]
  },
  {
   "cell_type": "code",
   "execution_count": null,
   "metadata": {
    "vscode": {
     "languageId": "java"
    }
   },
   "outputs": [],
   "source": [
    "public int getScore() {\n",
    "\tprivate int points = 0;\n",
    "\tif (levelOne.goalReached()) {\n",
    "\t\tpoints += levelOne.getPoints();\n",
    "\t\tif (levelTwo.goalReached()) {\n",
    "            points += levelTwo.getPoints();\n",
    "            if (levelThree.goalReached()) {\n",
    "                points += levelThree.getPoints();\n",
    "            }\n",
    "        }\n",
    "    }\n",
    "    if (isBonus()) {\n",
    "        points *= 3; \n",
    "    }\n",
    "    return points; \n",
    "}\n"
   ]
  },
  {
   "cell_type": "code",
   "execution_count": null,
   "metadata": {
    "vscode": {
     "languageId": "java"
    }
   },
   "outputs": [],
   "source": [
    "public int playManyTimes(int num) {\n",
    "    int max = 0; \n",
    "    for (int i = 0; i < num; i++) {\n",
    "        play();\n",
    "        if (max < getScore()) {\n",
    "            max = getScore(); \n",
    "        }\n",
    "\n",
    "    }\n",
    "\n",
    "    return max; \n",
    "}"
   ]
  },
  {
   "cell_type": "code",
   "execution_count": null,
   "metadata": {
    "vscode": {
     "languageId": "java"
    }
   },
   "outputs": [],
   "source": [
    "public class Textbook extends Book {\n",
    "    private int edition;\n",
    "    public Textbook(String title, double price, int edition) {\n",
    "        super(title, price); \n",
    "        this.edition = edition; \n",
    "    }\n",
    "\n",
    "    public int getEdition() {\n",
    "        return edition;\n",
    "    }\n",
    "\n",
    "    public String getBookInfo() {\n",
    "        return super.getBookInfo() + \"-\" + edition;\n",
    "    }\n",
    "\n",
    "    public boolean canSubstituteFor(Textbook textbook) {\n",
    "        if (this.getTitle().equals(textbook.getTitle()) && this.getEdition >= textbook.getEdition) {\n",
    "            return true;\n",
    "        }\n",
    "        return false; \n",
    "    }\n",
    "}"
   ]
  },
  {
   "cell_type": "code",
   "execution_count": null,
   "metadata": {
    "vscode": {
     "languageId": "java"
    }
   },
   "outputs": [],
   "source": [
    "public double getAverageRating() {\n",
    "    double sum = 0;\n",
    "    for (Review review : allReviews) {\n",
    "        sum += review.getRating();\n",
    "    }\n",
    "    return sum/allReviews.length;\n",
    "}"
   ]
  },
  {
   "cell_type": "code",
   "execution_count": null,
   "metadata": {
    "vscode": {
     "languageId": "java"
    }
   },
   "outputs": [],
   "source": [
    "public ArrayList<String> collectComments() {\n",
    "    ArrayList<String> formatComments = new ArrayList<String>();\n",
    "    for (int i = 0; i < allReviews.length; i++) {\n",
    "        String comment = allReviews[i].getComment();\n",
    "        if (comment.indexOf(\"!\") >= 0) {\n",
    "            String rating = i + \"-\" + comment;\n",
    "            if !((comment.substring(comment.length() - 1).equals(\"!\") || comment.substring(comment.length() - 1).equals(\".\"))) {\n",
    "                rating += \".\";\n",
    "            }\n",
    "        }\n",
    "        formatComments.add(rating);\n",
    "    }\n",
    "    return formatComments; \n",
    "}"
   ]
  },
  {
   "cell_type": "code",
   "execution_count": null,
   "metadata": {
    "vscode": {
     "languageId": "java"
    }
   },
   "outputs": [],
   "source": [
    "public void repopulate() {\n",
    "    for (int i = 0; i < grid.length; i++) {\n",
    "        for (int j = 0; j < grid[i].length; j++) {\n",
    "            int element = (int)(Math.random() * MAX + 1);\n",
    "            while ((element % 10 != 0) || (element % 100 == 0)) {\n",
    "                element = (int)(Math.random() * MAX + 1);\n",
    "            }\n",
    "            grid[i][j] = element; \n",
    "        }\n",
    "    }\n",
    "}"
   ]
  },
  {
   "cell_type": "code",
   "execution_count": null,
   "metadata": {
    "vscode": {
     "languageId": "java"
    }
   },
   "outputs": [],
   "source": [
    "public int countIncreasingCols() {\n",
    "    int count = 0; \n",
    "    for (int col = 0; col < grid[0].length; col++) {\n",
    "        int num = 0;\n",
    "        boolean ascend = true;\n",
    "        for (int row = 0; row < grid.length; row++) {\n",
    "            if (num > grid[row][col]) {\n",
    "                ascend = false;\n",
    "            }\n",
    "        }\n",
    "        if (ascend) {\n",
    "            count++;\n",
    "        }\n",
    "    }\n",
    "\n",
    "    return count; \n",
    "\n",
    "}"
   ]
  },
  {
   "attachments": {},
   "cell_type": "markdown",
   "metadata": {},
   "source": [
    "# 2021"
   ]
  },
  {
   "cell_type": "code",
   "execution_count": null,
   "metadata": {
    "vscode": {
     "languageId": "java"
    }
   },
   "outputs": [],
   "source": [
    "public int scoreGuess(String guess) {\n",
    "    int length = guess.length();\n",
    "    int count = 0;\n",
    "    for (int i = 0; i <= secret.length() - length; i++) {\n",
    "        if (secret.substring(i, i + length).equals(guess)) {\n",
    "            count++; \n",
    "        }\n",
    "    }\n",
    "    return count * length * length; \n",
    "}"
   ]
  },
  {
   "cell_type": "code",
   "execution_count": null,
   "metadata": {
    "vscode": {
     "languageId": "java"
    }
   },
   "outputs": [],
   "source": [
    "public String findBetterGuess(String guess1, String guess2) {\n",
    "    int score1 = scoreGuess(guess1);\n",
    "    int score2 = scoreGuess(guess2);\n",
    "\n",
    "    if (score1 < score2) {\n",
    "        return guess2;\n",
    "    } \n",
    "    if (score1 > score2) {\n",
    "        return guess1;\n",
    "    }\n",
    "    if (guess1.compareTo(guess2) < 0) {\n",
    "        return guess2;\n",
    "    } else {\n",
    "        return guess1; \n",
    "    }\n",
    "}"
   ]
  },
  {
   "cell_type": "code",
   "execution_count": null,
   "metadata": {
    "vscode": {
     "languageId": "java"
    }
   },
   "outputs": [],
   "source": [
    "public class CombinedTable {\n",
    "    private SingleTable t1;\n",
    "    private SingleTable t2;\n",
    "\n",
    "    public CombinedTable(SingleTable t1, SingleTable t2) {\n",
    "        this.t1 = t1;\n",
    "        this.t2 = t2; \n",
    "    }\n",
    "\n",
    "    public boolean canSeat(int num) {\n",
    "        if (num <= (t1.getNumSeats() + t2.getNumSeats() - 2)) {\n",
    "            return true; \n",
    "        }\n",
    "        return false; \n",
    "    }\n",
    "\n",
    "    public double getDesirability() {\n",
    "        if (t1.getHeight() == t2.getHeight()) {\n",
    "            return (t1.getViewQuality() + t2.getViewQuality()) / 2; \n",
    "        }\n",
    "        return (t1.getViewQuality() + t2.getViewQuality()) / 2 - 10;\n",
    "    }\n",
    "}"
   ]
  },
  {
   "cell_type": "code",
   "execution_count": null,
   "metadata": {
    "vscode": {
     "languageId": "java"
    }
   },
   "outputs": [],
   "source": [
    "public void addMembers(String[] names, int gradYear) {\n",
    "    for (String name : names) {\n",
    "        MemberInfo member = new MemberInfo(name, gradYear, true);\n",
    "        memberList.add(member);\n",
    "    }\n",
    "}"
   ]
  },
  {
   "cell_type": "code",
   "execution_count": null,
   "metadata": {
    "vscode": {
     "languageId": "java"
    }
   },
   "outputs": [],
   "source": [
    "public ArrayList<MemberInfo> removeMembers(int year) {\n",
    "    ArrayList<MemberInfo> goodMember = new ArrayList<MemberInfo>();\n",
    "    for (int i = 0; i < memberList.size(); i++) {\n",
    "        if (memberList.get(i).getGradYear() <= year) {\n",
    "            memberList.remove(i);\n",
    "        }\n",
    "    }\n",
    "\n",
    "    for (int i = 0; i < memberList.size(); i++) {\n",
    "        if (memberList.get(i).inGoodStanding()) {\n",
    "            goodMember.add(memberList.get(i));\n",
    "        }\n",
    "    }\n",
    "\n",
    "    return goodMember;\n",
    "}"
   ]
  },
  {
   "cell_type": "code",
   "execution_count": null,
   "metadata": {
    "vscode": {
     "languageId": "java"
    }
   },
   "outputs": [],
   "source": [
    "public static boolean isNonZeroRow(int[][] array2D, int r) {\n",
    "    boolean noZero = true;\n",
    "    for (int i = 0; i < array2D[0].length; i++) {\n",
    "        if (array2D[r][i] == 0) {\n",
    "            noZero = false;\n",
    "        }\n",
    "    }\n",
    "\n",
    "    return noZero;\n",
    "}"
   ]
  },
  {
   "cell_type": "code",
   "execution_count": null,
   "metadata": {
    "vscode": {
     "languageId": "java"
    }
   },
   "outputs": [],
   "source": [
    "public static int[][] resize(int[][] array2D) {\n",
    "    int row = numNonZeroRows(array2D);\n",
    "    int[][] resize = new int[row][array2D[0].length];\n",
    "\n",
    "    int resizeRow = 0;\n",
    "\n",
    "    for (int i = 0; i < array2D.length; i++) {\n",
    "        if (isNonZeroRow(array2D, i)) {\n",
    "            for (int j = 0; j < array2D[0].length; j++){\n",
    "                resize[resizeRow][j] = array2D[i][j];\n",
    "            }\n",
    "            resizeRow++;\n",
    "        }\n",
    "    }\n",
    "\n",
    "    return resize; \n",
    "}"
   ]
  },
  {
   "attachments": {},
   "cell_type": "markdown",
   "metadata": {},
   "source": [
    "# 2019"
   ]
  },
  {
   "cell_type": "code",
   "execution_count": null,
   "metadata": {
    "vscode": {
     "languageId": "java"
    }
   },
   "outputs": [],
   "source": [
    "public static int numberOfLeapYears(int year1, int year2) {\n",
    "    int num = 0; \n",
    "\n",
    "    for (int i = year1; i <= year2; i++) {\n",
    "        if (isLeapYear(i)) {\n",
    "            num++;\n",
    "        }\n",
    "    }\n",
    "    return num;\n",
    "}"
   ]
  },
  {
   "cell_type": "code",
   "execution_count": null,
   "metadata": {
    "vscode": {
     "languageId": "java"
    }
   },
   "outputs": [],
   "source": [
    "public static int dayOfWeek(int month, int day, int year) {\n",
    "    int numDays = dayOfYear(month, day, year);\n",
    "\n",
    "    return (numDays - 1 + firstDayOfYear(year)) % 7 \n",
    "}"
   ]
  },
  {
   "cell_type": "code",
   "execution_count": null,
   "metadata": {
    "vscode": {
     "languageId": "java"
    }
   },
   "outputs": [],
   "source": [
    "public class StepTracker {\n",
    "    private int steps;\n",
    "    private int activeDay;\n",
    "    private int days;\n",
    "    private int stepGoal;\n",
    "\n",
    "    public StepTracker(int stepGoal) {\n",
    "        this.stepGoal = stepGoal; \n",
    "    }\n",
    "\n",
    "    public void addDailySteps(int steps) {\n",
    "        this.steps += steps; \n",
    "        if (steps >= stepGoal) {\n",
    "            activeDay++; \n",
    "        }\n",
    "        days++;\n",
    "    }\n",
    "\n",
    "    public double averageSteps() {\n",
    "        return (double)(steps/days);\n",
    "    }\n",
    "\n",
    "    public int activeDays() {\n",
    "        return activeDay; \n",
    "    }\n",
    "}"
   ]
  },
  {
   "cell_type": "code",
   "execution_count": null,
   "metadata": {
    "vscode": {
     "languageId": "java"
    }
   },
   "outputs": [],
   "source": [
    "public ArrayList<String> getDelimitersList(String[] tokens) {\n",
    "    ArrayList<String> delimiters = new ArrayList<String>();\n",
    "    for (String ch : tokens) {\n",
    "        if (ch.equals(openDel) || ch.equals(closeDel)) {\n",
    "            delimiters.add(ch);\n",
    "        }\n",
    "    }\n",
    "    return delimiters;\n",
    "}"
   ]
  },
  {
   "cell_type": "code",
   "execution_count": null,
   "metadata": {
    "vscode": {
     "languageId": "java"
    }
   },
   "outputs": [],
   "source": [
    "public boolean isBalanced(ArrayList<String> delimiters) {\n",
    "    int open = 0; \n",
    "    int close = 0; \n",
    "\n",
    "    for (String ch : delimiters) {\n",
    "        if (ch.equals(openDel)) {\n",
    "            open++;\n",
    "        } else {\n",
    "            close++;\n",
    "        }\n",
    "\n",
    "        if (close > open) {\n",
    "            return false; \n",
    "        }\n",
    "    }\n",
    "\n",
    "    if (open != close) {\n",
    "        return false;\n",
    "    }\n",
    "    return true;\n",
    "}"
   ]
  },
  {
   "cell_type": "code",
   "execution_count": null,
   "metadata": {
    "vscode": {
     "languageId": "java"
    }
   },
   "outputs": [],
   "source": [
    "public LightBoard(int numRows, int numCols) {\n",
    "    lights = new boolean[numRows][numCols];\n",
    "    int[] random = {0, 0, 1, 1, 1};\n",
    "    for (int i = 0; i < numRows; i++) {\n",
    "        for (int j = 0; j < numCols; j++) {\n",
    "            int num = (int)(Math.random() * 5)\n",
    "            if (random[num] == 0) {\n",
    "                lights[i][j] = true;\n",
    "            } else {\n",
    "                lights[i][j] = false;\n",
    "            }\n",
    "        }\n",
    "    }\n",
    "}"
   ]
  },
  {
   "cell_type": "code",
   "execution_count": null,
   "metadata": {
    "vscode": {
     "languageId": "java"
    }
   },
   "outputs": [],
   "source": [
    "public boolean evaluateLight(int row, int col) {\n",
    "    int on = 0;\n",
    "    for (int i = 0; i < lights.length; i++) {\n",
    "        if (lights[i][col] == true) {\n",
    "            on++;\n",
    "        }\n",
    "    }\n",
    "\n",
    "    if (lights[row][col] == true) {\n",
    "        if (on % 2 == 0) {\n",
    "            return false;\n",
    "        }\n",
    "    }\n",
    "\n",
    "\n",
    "    if (lights[row][col] == false) {\n",
    "        if (on % 3 == 0) {\n",
    "            return true;\n",
    "        }\n",
    "    }\n",
    "\n",
    "    return lights[row][col];\n",
    "}"
   ]
  },
  {
   "attachments": {},
   "cell_type": "markdown",
   "metadata": {},
   "source": [
    "# 2018"
   ]
  },
  {
   "cell_type": "code",
   "execution_count": null,
   "metadata": {
    "vscode": {
     "languageId": "java"
    }
   },
   "outputs": [],
   "source": [
    "public boolean simulate() {\n",
    "    int distance = 0; \n",
    "    int hops = 0;\n",
    "    while (distance < goalDistance && hops < maxHops) {\n",
    "        distance += hopDistance();\n",
    "        hops++;\n",
    "        if (distance < 0) {\n",
    "            return false; \n",
    "        }\n",
    "    }\n",
    "    if (distance >= goalDistance && hops <= maxHops) {\n",
    "        return true;\n",
    "    }\n",
    "    return false; \n",
    "}"
   ]
  },
  {
   "cell_type": "code",
   "execution_count": null,
   "metadata": {
    "vscode": {
     "languageId": "java"
    }
   },
   "outputs": [],
   "source": [
    "public double runSimulations(int num) {\n",
    "    int success = 0;\n",
    "    for (int i = 0; i < num; i++) {\n",
    "        if (simulate()) {\n",
    "            success++;\n",
    "        }\n",
    "    }\n",
    "    return (double)success/num;\n",
    "}"
   ]
  },
  {
   "cell_type": "code",
   "execution_count": null,
   "metadata": {
    "vscode": {
     "languageId": "java"
    }
   },
   "outputs": [],
   "source": [
    "public WordPairList(String[] words) {\n",
    "    allPairs = new ArrayList<WordPair>();\n",
    "    for (int i = 0; i < words.length; i++) {\n",
    "        for (int j = i + 1; j < words.length; j++) {\n",
    "            WordPair word = new WordPair(words[i], words[j]);\n",
    "            allPairs.add(word);\n",
    "        }\n",
    "    }\n",
    "}"
   ]
  },
  {
   "cell_type": "code",
   "execution_count": null,
   "metadata": {
    "vscode": {
     "languageId": "java"
    }
   },
   "outputs": [],
   "source": [
    "public int numMatches() {\n",
    "    int count = 0;\n",
    "    for (WordPair word : allPairs) {\n",
    "        if (word.getFirst().equals(word.getSecond())) {\n",
    "            count++;\n",
    "        }\n",
    "    }\n",
    "    return count;\n",
    "}"
   ]
  },
  {
   "cell_type": "code",
   "execution_count": null,
   "metadata": {
    "vscode": {
     "languageId": "java"
    }
   },
   "outputs": [],
   "source": [
    "public static int[] getColumn(int[][] arr2D, int c) {\n",
    "    int[] column = new int[arr2D.length];\n",
    "    for (int row = 0; row < arr2D.length; row++) {\n",
    "        column[row] = arr2D[row][c];\n",
    "    }\n",
    "    return column; \n",
    "}"
   ]
  },
  {
   "cell_type": "code",
   "execution_count": null,
   "metadata": {
    "vscode": {
     "languageId": "java"
    }
   },
   "outputs": [],
   "source": [
    "public static boolean isLatin(int[][] square) {\n",
    "    if (containsDuplicates(square[0])) {\n",
    "        return false;\n",
    "    }\n",
    "\n",
    "    for (int i = 1; i < square.length; i++) {\n",
    "        if (!hasAllValues(square[0], square[i])) {\n",
    "            return false;\n",
    "        }\n",
    "    }\n",
    "\n",
    "    for (int i = 0; i < square.length; i++) {\n",
    "        if (!hasAllValues(square[0], getColumn(square, i))) {\n",
    "            return false;\n",
    "        }\n",
    "    }\n",
    "    return true;\n",
    "}"
   ]
  },
  {
   "attachments": {},
   "cell_type": "markdown",
   "metadata": {},
   "source": [
    "# 2017 "
   ]
  },
  {
   "cell_type": "code",
   "execution_count": null,
   "metadata": {
    "vscode": {
     "languageId": "java"
    }
   },
   "outputs": [],
   "source": [
    "public Digits(int num) {\n",
    "    digitList = new ArrayList<Integer>();\n",
    "    while (num > 0) {\n",
    "        digitList.set(0, num%10);\n",
    "        num /= 10;\n",
    "    }\n",
    "    if (num == 0) {\n",
    "        digitList.set(0, 0);\n",
    "    }\n",
    "}"
   ]
  },
  {
   "cell_type": "code",
   "execution_count": null,
   "metadata": {
    "vscode": {
     "languageId": "java"
    }
   },
   "outputs": [],
   "source": [
    "public boolean isStrictlyIncreasing() {\n",
    "    int max = 0; \n",
    "    if (digitList.size() == 0) {\n",
    "        return true;\n",
    "    }\n",
    "    for (Integer num : digitList) {\n",
    "        if (num > max) {\n",
    "            max = num; \n",
    "        } else {\n",
    "            return false;\n",
    "        }\n",
    "    }\n",
    "    return true;\n",
    "}"
   ]
  },
  {
   "cell_type": "code",
   "execution_count": null,
   "metadata": {
    "vscode": {
     "languageId": "java"
    }
   },
   "outputs": [],
   "source": [
    "public void replaceNthOccurrence(String str, int n, String repl) {\n",
    "    String returnStr = \"\";\n",
    "    if (findNthOccurrence(str, n) == -1) {\n",
    "        return currentPhrase; \n",
    "    } else {\n",
    "        for (int i = 0; i < findNthOccurrence(str, n); i++) {\n",
    "            returnStr += currentPhrase.substring(i, i+1);\n",
    "        }\n",
    "        returnStr += repl;\n",
    "        for (int i = findNthOccurrence(str, n) + str.length(); i < currentPhrase.length(); i++) {\n",
    "            returnStr += currentPhrase.substring(i, i+1); \n",
    "        }\n",
    "        return returnStr;\n",
    "    }\n",
    "}"
   ]
  },
  {
   "attachments": {},
   "cell_type": "markdown",
   "metadata": {},
   "source": [
    "redo #3a"
   ]
  },
  {
   "cell_type": "code",
   "execution_count": null,
   "metadata": {
    "vscode": {
     "languageId": "java"
    }
   },
   "outputs": [],
   "source": [
    "public void replaceNthOccurrence(String str, int n, String repl) {\n",
    "    int loc = findNthOccurence(str, n);\n",
    "    if (loc > -1) {\n",
    "        currentPhrase = currentPhrase.substring(0, loc - 1) + repl + currentPhrase.substring(loc + str.length(), currentPhrase.length());\n",
    "    }\n",
    "}"
   ]
  },
  {
   "cell_type": "code",
   "execution_count": null,
   "metadata": {
    "vscode": {
     "languageId": "java"
    }
   },
   "outputs": [],
   "source": [
    "public int findLastOccurrence(String str) {\n",
    "    int index = findNthOccurence(str, 1);\n",
    "    int i = 1; \n",
    "    while (index != -1) {\n",
    "        i++;\n",
    "        index = findNthOccurence(str, i);\n",
    "    }\n",
    "    return index; \n",
    "}"
   ]
  },
  {
   "cell_type": "code",
   "execution_count": null,
   "metadata": {
    "vscode": {
     "languageId": "java"
    }
   },
   "outputs": [],
   "source": [
    "public static Position findPosition(int num, int[][] intArr) {\n",
    "    for (int i = 0; i < intArr.length; i++) {\n",
    "        for (int j = 0; j < intArr[0].length; j++) {\n",
    "            if (num == intArr[i][j]) {\n",
    "                return new Position(i, j);\n",
    "            }\n",
    "        }\n",
    "    }\n",
    "    return null;\n",
    "}"
   ]
  },
  {
   "cell_type": "code",
   "execution_count": null,
   "metadata": {
    "vscode": {
     "languageId": "java"
    }
   },
   "outputs": [],
   "source": [
    "public static Position[][] getSuccessorArray(int[][] intArr) {\n",
    "    Position[][] positionArray = new Position[intArr.length][intArr[0].length];\n",
    "    for (int i = 0; i < intArr.length; i++) {\n",
    "        for (int j = 0; j < intArr[0].length; j++) {\n",
    "            positionArray[i][j] = findPosition(intArr[i][j] + 1, intArr);\n",
    "        }\n",
    "    }\n",
    "    return positionArray;\n",
    "}"
   ]
  },
  {
   "attachments": {},
   "cell_type": "markdown",
   "metadata": {},
   "source": [
    "# 2016"
   ]
  },
  {
   "cell_type": "code",
   "execution_count": null,
   "metadata": {
    "vscode": {
     "languageId": "java"
    }
   },
   "outputs": [],
   "source": [
    "public class RandomStringChooser {\n",
    "    private ArrayList<String> array;\n",
    "\n",
    "    public RandomStringChooser(String[] array) {\n",
    "        array = new ArrayList<String>();\n",
    "        for (String words : array) {\n",
    "            array.add(words);\n",
    "        }\n",
    "    }\n",
    "\n",
    "    public String getNext() {\n",
    "        if (array.size() > 0) {\n",
    "            int index = (int)(Math.random() * array.size())\n",
    "            String returnWord = array.get(index);\n",
    "            array.remove(index);\n",
    "            return returnWord;\n",
    "        } else {\n",
    "            return \"NONE\";\n",
    "        }\n",
    "    }\n",
    "}"
   ]
  },
  {
   "cell_type": "code",
   "execution_count": null,
   "metadata": {
    "vscode": {
     "languageId": "java"
    }
   },
   "outputs": [],
   "source": [
    "public RandomLetterChooser(String str) {\n",
    "    super(getSingleLetters(str));\n",
    "}"
   ]
  },
  {
   "cell_type": "code",
   "execution_count": null,
   "metadata": {
    "vscode": {
     "languageId": "java"
    }
   },
   "outputs": [],
   "source": [
    "public LogMessage(String message) {\n",
    "    machineId = message.substring(0, message.indexOf(\":\"));\n",
    "    description = message.substring(message.indexOf(\":\") + 1);\n",
    "}"
   ]
  },
  {
   "cell_type": "code",
   "execution_count": null,
   "metadata": {
    "vscode": {
     "languageId": "java"
    }
   },
   "outputs": [],
   "source": [
    "public boolean containsWord(String keyword) {\n",
    "    int startIndex = description.indexOf(keyword);\n",
    "    int endIndex = startIndex + 3;\n",
    "    if ((startIndex != -1) && (startIndex == 0 || description.substring(startIndex - 1, startIndex).equals(\" \")) && (endIndex == description.length() - 1 || description.substring(startIndex + 4, startIndex + 5).equals(\" \"))) {\n",
    "        return true;\n",
    "    }\n",
    "    return false; \n",
    "}"
   ]
  },
  {
   "cell_type": "code",
   "execution_count": null,
   "metadata": {
    "vscode": {
     "languageId": "java"
    }
   },
   "outputs": [],
   "source": [
    "public List<LogMessage> removeMessages(String keyword) {\n",
    "    List<LogMessage> wordList = new List<LogMessage>();\n",
    "    for (int i = 0; i < messageList.size(); i++) {\n",
    "        String description = messageList.get(i).getDescription();\n",
    "        if (messageList.get(i).containsWord(description)) {\n",
    "            wordList.add(messageList.remove(i));\n",
    "        }\n",
    "    }\n",
    "    return wordList;\n",
    "}"
   ]
  },
  {
   "cell_type": "code",
   "execution_count": null,
   "metadata": {
    "vscode": {
     "languageId": "java"
    }
   },
   "outputs": [],
   "source": [
    "private boolean toBeLabeled(int r, int c, boolean[][] blackSquares) {\n",
    "    if (blackSquares[r][c]) {\n",
    "        return false;\n",
    "    } \n",
    "    \n",
    "    if (r == 0 || c == 0) {\n",
    "        return true;\n",
    "    }\n",
    "\n",
    "    if (blackSquares[r - 1][c] || blackSquares[r][c-1]) {\n",
    "        return true;\n",
    "    }\n",
    "}"
   ]
  },
  {
   "cell_type": "code",
   "execution_count": null,
   "metadata": {
    "vscode": {
     "languageId": "java"
    }
   },
   "outputs": [],
   "source": [
    "public Crossword(boolean[][] blackSquares) {\n",
    "    puzzle = new Square[blackSquares.length][blackSquares[0].length];\n",
    "    int num = 1; \n",
    "    for (int i = 0; i < blackSquares.length; i++) {\n",
    "        for (int j = 0; j < blackSquares[0].length; j++) {\n",
    "            if (blackSquares[i][j]) {\n",
    "                puzzle[i][j] = new Square(true, 0);\n",
    "            } else {\n",
    "                if (toBeLabeled(i, j, blackSquares)) {\n",
    "                    puzzle[i][j] = new Square(false, num);\n",
    "                    num++;\n",
    "                } else {\n",
    "                    puzzle[i][j] = new Square(false, 0);\n",
    "                }\n",
    "            }\n",
    "        }\n",
    "    }\n",
    "}"
   ]
  },
  {
   "cell_type": "code",
   "execution_count": null,
   "metadata": {
    "vscode": {
     "languageId": "java"
    }
   },
   "outputs": [],
   "source": [
    "public static int totalLetters(List<String> wordList) {\n",
    "    int length = 0; \n",
    "    for (String word : wordList) {\n",
    "        length += word.length();\n",
    "    }\n",
    "    return length; \n",
    "}"
   ]
  },
  {
   "cell_type": "code",
   "execution_count": null,
   "metadata": {
    "vscode": {
     "languageId": "java"
    }
   },
   "outputs": [],
   "source": [
    "public static int basicGapWidth(List<String> wordList, int formattedLen) {\n",
    "    return (formattedLen - totalLetters(wordList)) / (wordList.length - 1);\n",
    "}"
   ]
  },
  {
   "cell_type": "code",
   "execution_count": null,
   "metadata": {
    "vscode": {
     "languageId": "java"
    }
   },
   "outputs": [],
   "source": [
    "public static String format(List<String> wordList, int formattedLen) {\n",
    "    int leftover = leftoverSpaces(wordList, formattedLen);\n",
    "\n",
    "    String text = \"\";\n",
    "    for (int i = 0; i < wordList.length; i++) {\n",
    "        text += wordList.get(i);\n",
    "        for (int j = 0; j < basicGapWidth(wordList, formattedLen); j++) {\n",
    "            text += \" \"; \n",
    "        }\n",
    "        if (leftover > 0) {\n",
    "            text += \" \";\n",
    "            leftover--;\n",
    "        }\n",
    "    }\n",
    "\n",
    "    return text; \n",
    "}"
   ]
  },
  {
   "attachments": {},
   "cell_type": "markdown",
   "metadata": {},
   "source": [
    "# 2015"
   ]
  },
  {
   "cell_type": "code",
   "execution_count": null,
   "metadata": {
    "vscode": {
     "languageId": "java"
    }
   },
   "outputs": [],
   "source": [
    "public static int arraySum(int[] arr) {\n",
    "    int sum = 0;\n",
    "    for (int num : arr) {\n",
    "        sum += num;\n",
    "    }\n",
    "    return sum; \n",
    "}"
   ]
  },
  {
   "cell_type": "code",
   "execution_count": null,
   "metadata": {
    "vscode": {
     "languageId": "java"
    }
   },
   "outputs": [],
   "source": [
    "public static int[] rowSums(int[][] arr2D) {\n",
    "    int[] sumArray = new int[arr2D.length];\n",
    "    for (int i = 0; i < arr2D.length; i++) {\n",
    "        sumArray[i] = arraySum(arr2D[i]);\n",
    "    }\n",
    "    return sumArray;\n",
    "}"
   ]
  },
  {
   "cell_type": "code",
   "execution_count": null,
   "metadata": {
    "vscode": {
     "languageId": "java"
    }
   },
   "outputs": [],
   "source": [
    "public static boolean isDiverse(int[][] arr2D) {\n",
    "    int[] sumArray = rowSums(arr2D);\n",
    "\n",
    "    for (int i = 0; i < sumArray.length - 1; i++) {\n",
    "        for (int j = i + 1; j < sumArray.length; j++) {\n",
    "            if (sumArray[i] == sumArray[j]) {\n",
    "                return false; \n",
    "            }\n",
    "        }\n",
    "    }\n",
    "    return true;\n",
    "\n",
    "}"
   ]
  },
  {
   "cell_type": "code",
   "execution_count": null,
   "metadata": {
    "vscode": {
     "languageId": "java"
    }
   },
   "outputs": [],
   "source": [
    "public class HiddenWord {\n",
    "    private String word;\n",
    "\n",
    "    public HiddenWord(String word) {\n",
    "        this.word = word; \n",
    "    }\n",
    "\n",
    "    public String getHint(String guess) {\n",
    "        String result = \"\";\n",
    "        for (int i = 0; i < guess.length(); i++) {\n",
    "            String letter = guess.substring(i, i+1);\n",
    "            if (letter.equals(word.substring(i, i+1))) {\n",
    "                result += letter;\n",
    "            } else if (word.indexOf(letter) != -1) {\n",
    "                result += \"+\";\n",
    "            } else {\n",
    "                result += \"*\";\n",
    "            }\n",
    "        }\n",
    "        return result; \n",
    "    }\n",
    "\n",
    "}"
   ]
  },
  {
   "cell_type": "code",
   "execution_count": null,
   "metadata": {
    "vscode": {
     "languageId": "java"
    }
   },
   "outputs": [],
   "source": [
    "public int getValueAt(int row, int col) {\n",
    "    for (SparseArrayEntry entry : entries) {\n",
    "        if (entry.getRow() == row && entry.getCol() == col) {\n",
    "            return entry.getValue();\n",
    "        }\n",
    "    }\n",
    "    return 0;\n",
    "}"
   ]
  },
  {
   "cell_type": "code",
   "execution_count": null,
   "metadata": {
    "vscode": {
     "languageId": "java"
    }
   },
   "outputs": [],
   "source": [
    "public void removeColumn(int col) {\n",
    "    numCols--;\n",
    "    for (int i = entries.size() - 1; i >=0; i--) {\n",
    "        if (entries.get(i).getCol() == col) {\n",
    "            entries.remove(i);\n",
    "        }\n",
    "    }\n",
    "    for (int i = 0; i < entries.size(); i++) {\n",
    "        if (entries.get(i).getCol() > col) {\n",
    "            entries.get(i).col = entries.get(i).getCol() - 1;\n",
    "        }\n",
    "    }\n",
    "}"
   ]
  },
  {
   "cell_type": "code",
   "execution_count": 18,
   "metadata": {
    "vscode": {
     "languageId": "java"
    }
   },
   "outputs": [
    {
     "name": "stdout",
     "output_type": "stream",
     "text": [
      "a\n"
     ]
    }
   ],
   "source": [
    "public class A {\n",
    "    private static int a = 0;\n",
    "\n",
    "    public int b = 0;\n",
    "\n",
    "    public void test() {\n",
    "        System.out.println(a);\n",
    "    }\n",
    "\n",
    "    public static void main(String[] args) {\n",
    "        System.out.println(\"a\".substring(0, 1));\n",
    "    }\n",
    "}\n",
    "A.main(null)"
   ]
  }
 ],
 "metadata": {
  "kernelspec": {
   "display_name": "Java",
   "language": "java",
   "name": "java"
  },
  "language_info": {
   "codemirror_mode": "java",
   "file_extension": ".jshell",
   "mimetype": "text/x-java-source",
   "name": "Java",
   "pygments_lexer": "java",
   "version": "17.0.5+8-Ubuntu-2ubuntu120.04"
  },
  "orig_nbformat": 4
 },
 "nbformat": 4,
 "nbformat_minor": 2
}
