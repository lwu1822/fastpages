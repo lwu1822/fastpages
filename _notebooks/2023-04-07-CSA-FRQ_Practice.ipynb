{
 "cells": [
  {
   "attachments": {},
   "cell_type": "markdown",
   "metadata": {},
   "source": [
    "# FRQ Practice\n",
    "> cri"
   ]
  },
  {
   "attachments": {},
   "cell_type": "markdown",
   "metadata": {},
   "source": [
    "# 2022"
   ]
  },
  {
   "cell_type": "code",
   "execution_count": null,
   "metadata": {
    "vscode": {
     "languageId": "java"
    }
   },
   "outputs": [],
   "source": [
    "public int getScore() {\n",
    "\tprivate int points = 0;\n",
    "\tif (levelOne.goalReached()) {\n",
    "\t\tpoints += levelOne.getPoints();\n",
    "\t\tif (levelTwo.goalReached()) {\n",
    "            points += levelTwo.getPoints();\n",
    "            if (levelThree.goalReached()) {\n",
    "                points += levelThree.getPoints();\n",
    "            }\n",
    "        }\n",
    "    }\n",
    "    if (isBonus()) {\n",
    "        points *= 3; \n",
    "    }\n",
    "    return points; \n",
    "}\n"
   ]
  },
  {
   "cell_type": "code",
   "execution_count": null,
   "metadata": {
    "vscode": {
     "languageId": "java"
    }
   },
   "outputs": [],
   "source": [
    "public int playManyTimes(int num) {\n",
    "    int max = 0; \n",
    "    for (int i = 0; i < num; i++) {\n",
    "        play();\n",
    "        if (max < getScore()) {\n",
    "            max = getScore(); \n",
    "        }\n",
    "\n",
    "    }\n",
    "\n",
    "    return max; \n",
    "}"
   ]
  },
  {
   "cell_type": "code",
   "execution_count": null,
   "metadata": {
    "vscode": {
     "languageId": "java"
    }
   },
   "outputs": [],
   "source": [
    "public class Textbook extends Book {\n",
    "    private int edition;\n",
    "    public Textbook(String title, double price, int edition) {\n",
    "        super(title, price); \n",
    "        this.edition = edition; \n",
    "    }\n",
    "\n",
    "    public int getEdition() {\n",
    "        return edition;\n",
    "    }\n",
    "\n",
    "    public String getBookInfo() {\n",
    "        return super.getBookInfo() + \"-\" + edition;\n",
    "    }\n",
    "\n",
    "    public boolean canSubstituteFor(Textbook textbook) {\n",
    "        if (this.getTitle().equals(textbook.getTitle()) && this.getEdition >= textbook.getEdition) {\n",
    "            return true;\n",
    "        }\n",
    "        return false; \n",
    "    }\n",
    "}"
   ]
  },
  {
   "cell_type": "code",
   "execution_count": 26,
   "metadata": {
    "vscode": {
     "languageId": "java"
    }
   },
   "outputs": [
    {
     "name": "stdout",
     "output_type": "stream",
     "text": [
      "1\n"
     ]
    }
   ],
   "source": [
    "class Testing {\n",
    "    private int a;\n",
    "    private int b;\n",
    "\n",
    "    public Testing(int a, int b) {\n",
    "        this.a = a; \n",
    "        this.b = b; \n",
    "    }\n",
    "\n",
    "    public int getA() {\n",
    "        return a;\n",
    "    }\n",
    "\n",
    "    public int getB() {\n",
    "        return b;\n",
    "    }\n",
    "}\n",
    "\n",
    "public class Test {\n",
    "\n",
    "    public static void main(String[] args) {\n",
    "        Testing testObj = new Testing(1, 2);\n",
    "        System.out.println(testObj.getA());\n",
    "    }\n",
    "}\n",
    "Test.main(null)"
   ]
  }
 ],
 "metadata": {
  "kernelspec": {
   "display_name": "Java",
   "language": "java",
   "name": "java"
  },
  "language_info": {
   "codemirror_mode": "java",
   "file_extension": ".jshell",
   "mimetype": "text/x-java-source",
   "name": "Java",
   "pygments_lexer": "java",
   "version": "17.0.5+8-Ubuntu-2ubuntu120.04"
  },
  "orig_nbformat": 4
 },
 "nbformat": 4,
 "nbformat_minor": 2
}
