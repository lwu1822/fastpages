{
 "cells": [
  {
   "cell_type": "markdown",
   "metadata": {},
   "source": [
    "# Unit 1-10 Vocab\n",
    "> Unit 1-10 Vocab\n",
    "\n",
    "- toc: true \n",
    "- badges: true\n",
    "- comments: true"
   ]
  },
  {
   "cell_type": "markdown",
   "metadata": {},
   "source": [
    "Casting: Changes the primitive data type\n",
    "\n",
    "Casting is useful in division because if two integers are divided, the places after the decimal are truncated without rounding. To have an accurate division, type cast the integers with `(double)` to retain the decimal. \n",
    "\n",
    "To round a number and return the result as an integer, add 0.5 to the number and then typecast it to an integer (`(int)`). "
   ]
  },
  {
   "cell_type": "code",
   "execution_count": 12,
   "metadata": {
    "vscode": {
     "languageId": "java"
    }
   },
   "outputs": [
    {
     "name": "stdout",
     "output_type": "stream",
     "text": [
      "Dividing two integers: 0\n",
      "Dividing two doubles (originally integers): 0.3333333333333333\n",
      "\n",
      "The value of double c is: 5.5\n",
      "Truncating double c: 5\n",
      "Rounding double c: 6\n"
     ]
    }
   ],
   "source": [
    "int a = 1; \n",
    "int b = 3; \n",
    "\n",
    "System.out.println(\"Dividing two integers: \" + a/b); \n",
    "\n",
    "double quotient = (double)a/(double)b;\n",
    "System.out.println(\"Dividing two doubles (originally integers): \" + quotient); \n",
    "\n",
    "System.out.println(); \n",
    "\n",
    "// truncating\n",
    "double c = 5.5; \n",
    "System.out.println(\"The value of double c is: \" + c);\n",
    "System.out.println(\"Truncating double c: \" + (int)c); \n",
    "\n",
    "// rounding\n",
    "int roundedNum = (int)(c+0.5);\n",
    "System.out.println(\"Rounding double c: \" + roundedNum); \n"
   ]
  },
  {
   "cell_type": "markdown",
   "metadata": {},
   "source": [
    "# Wrapper classes\n",
    "\n",
    "Wrapper classes create objects out of primitives. The wrapper class capitalizes the first letter of the primitive data type and writes out the entire word. For example, the wrapper class of `int` is `Integer`. \n",
    "\n",
    "Because wrapper classes create objects, there are many methods that can be used (shown in the code below). \n",
    "\n",
    "Note: ArrayLists can only use wrapper classes; they can not use primitives. "
   ]
  },
  {
   "cell_type": "markdown",
   "metadata": {},
   "source": [
    "`toString()`: Notice how `Integer` must be used, while `int` creates an error."
   ]
  },
  {
   "cell_type": "code",
   "execution_count": 14,
   "metadata": {
    "vscode": {
     "languageId": "java"
    }
   },
   "outputs": [
    {
     "name": "stdout",
     "output_type": "stream",
     "text": [
      "5\n"
     ]
    }
   ],
   "source": [
    "Integer test = 5; \n",
    "String test2 = test.toString(); \n",
    "\n",
    "System.out.println(test2); "
   ]
  },
  {
   "cell_type": "code",
   "execution_count": 1,
   "metadata": {
    "vscode": {
     "languageId": "java"
    }
   },
   "outputs": [
    {
     "ename": "CompilationException",
     "evalue": "",
     "output_type": "error",
     "traceback": [
      "\u001b[1m\u001b[30m|   \u001b[1m\u001b[30mString test2 = \u001b[0m\u001b[1m\u001b[30m\u001b[41mtest.toString\u001b[0m\u001b[1m\u001b[30m();\u001b[0m",
      "\u001b[1m\u001b[31mint cannot be dereferenced\u001b[0m",
      ""
     ]
    }
   ],
   "source": [
    "int test = 5; // PROBLEM!!\n",
    "String test2 = test.toString(); \n",
    "\n",
    "System.out.println(test2); "
   ]
  },
  {
   "cell_type": "markdown",
   "metadata": {},
   "source": [
    "# Concatenation\n",
    "\n",
    "Concatenation combines multiple strings together into one string. \n",
    "\n",
    "Concatenation can be used with the plus sign: `+` or with the `concat()` method. \n",
    "\n",
    "Below is an example of concatenation using `+`: "
   ]
  },
  {
   "cell_type": "code",
   "execution_count": 2,
   "metadata": {
    "vscode": {
     "languageId": "java"
    }
   },
   "outputs": [
    {
     "name": "stdout",
     "output_type": "stream",
     "text": [
      "hello world\n"
     ]
    }
   ],
   "source": [
    "String hello = \"hello\"; \n",
    "String world = \"world\"; \n",
    "\n",
    "System.out.println(hello + \" \" + world); "
   ]
  },
  {
   "cell_type": "markdown",
   "metadata": {},
   "source": [
    "Below is an example of concatenation using `concat()`\n",
    "\n",
    "The syntax is: <code>concat(<em>second string to add on to first string</em>)</code>"
   ]
  },
  {
   "cell_type": "code",
   "execution_count": 3,
   "metadata": {
    "vscode": {
     "languageId": "java"
    }
   },
   "outputs": [
    {
     "name": "stdout",
     "output_type": "stream",
     "text": [
      "helloworld\n"
     ]
    }
   ],
   "source": [
    "String hello = \"hello\"; \n",
    "String world = \"world\"; \n",
    "\n",
    "System.out.println(hello.concat(world)); "
   ]
  },
  {
   "cell_type": "markdown",
   "metadata": {},
   "source": [
    "# Math\n",
    "\n",
    "One of the `Math` methods that will be used frequently is `random()`. `Math.random()` returns a random number between 0 and 1, including 0 but excluding 1. "
   ]
  },
  {
   "cell_type": "code",
   "execution_count": 4,
   "metadata": {
    "vscode": {
     "languageId": "java"
    }
   },
   "outputs": [
    {
     "name": "stdout",
     "output_type": "stream",
     "text": [
      "0.28141796409418807\n"
     ]
    }
   ],
   "source": [
    "System.out.println(Math.random()); "
   ]
  },
  {
   "cell_type": "markdown",
   "metadata": {},
   "source": [
    "# Compound Boolean Expression\n",
    "\n",
    "Compound boolean expressions include AND (`&&`), OR (`||`), and NOT (`!`). \n",
    "\n",
    "# Truth tables\n",
    "\n",
    "Truth tables display all the possible results for boolean expressions.\n",
    "\n",
    "Below is the truth table for && and ||: \n",
    "\n",
    "| P      | Q | P&&Q | \n",
    "| ----------- | ----------- |  ----------- |\n",
    "| true     | true       |true |\n",
    "| true   | false        | false|\n",
    "| false     | true       | false|\n",
    "| false  | false        | false|\n",
    "\n",
    "<br>\n",
    "\n",
    "| P      | Q | P\\|\\|Q | \n",
    "| ----------- | ----------- |  ----------- |\n",
    "| true     | true       |true |\n",
    "| true   | false        | true|\n",
    "| false     | true       | true|\n",
    "| false  | false        | false|\n",
    "\n"
   ]
  },
  {
   "cell_type": "markdown",
   "metadata": {},
   "source": [
    "# De Morgan's Law\n",
    "\n",
    "First, some vocab:\n",
    "* Set: A group of objects\n",
    "* Universal set: A set that has all of the elements \n",
    "* Subsets: Contains elements from the universal set \n",
    "* Complement: For example, if we have set A, the complement of set A would have the elements in the universal set, but not in set A. \n",
    "* Union: New set has elements from both sets\n",
    "\n",
    "  Symbol: ∪\n",
    "* Intersection: New sets has elements that are shared between both sets\n",
    "  \n",
    "  Symbol: ∩\n",
    "<br>\n",
    "\n",
    "De Morgan's Law is used in boolean algebra to help **simplify expressions** \n",
    "\n",
    "**De Morgan's Law of Union** states that: \"The complement of the union of the two sets A and B will be equal to the intersection of A' (complement of A) and B' (complement of B).\" \n",
    "\n",
    "Formula: (A ∪ B)' = A'∩ B'\n",
    "\n",
    "**De Morgan's Law of Intersection** states that: \"The complement of the intersection of A and B will be equal to the union of A' and B'.\" \n",
    "\n",
    "Formula: (A ∩ B)’ = A’ ∪ B’\n",
    "\n",
    "<br>\n",
    "\n",
    "The following is an example: \n",
    "\n",
    "Universal set: {1, 3, 5, 6, 8, 9}\n",
    "Set A: {1, 3}\n",
    "Set B: {5, 6, 8}\n",
    "\n",
    "De Morgan's Law of Union: (A ∪ B)' = {9}\n",
    "\n",
    "A'∩ B' = {9}\n",
    "\n",
    "(A ∪ B)' = A'∩ B'\n",
    "\n",
    "De Morgan's Law of Intersection: (A ∩ B)' = {1, 3, 5, 6, 8, 9}\n",
    "\n",
    "A’ ∪ B’ = {1, 3, 5, 6, 8, 9}\n",
    "\n",
    "(A ∩ B)’ = A’ ∪ B’\n",
    "\n",
    "<br>\n",
    "\n",
    "\n",
    "Translating De Morgan's law into code, De Morgan's Law of Union would mean: `!(a || b) = (!a && !b)`. \n",
    "\n",
    "De Morgan's Law of Intersection means: `!(a && b) = (!a || !b)` "
   ]
  },
  {
   "cell_type": "code",
   "execution_count": 5,
   "metadata": {
    "vscode": {
     "languageId": "java"
    }
   },
   "outputs": [
    {
     "name": "stdout",
     "output_type": "stream",
     "text": [
      "It's a cloudy day, not too hot, not too cold\n"
     ]
    }
   ],
   "source": [
    "public class DeMorgansLaw{\n",
    "    public static void main(String[] args) {\n",
    "        boolean rainy = false;\n",
    "        boolean sunny = false;\n",
    "\n",
    "        if (!!!(rainy || sunny) && ((!rainy && !sunny) || !(!(rainy || sunny))) ) {\n",
    "            System.out.println(\"It's a cloudy day, not too hot, not too cold\");\n",
    "        }\n",
    "    }\n",
    "}\n",
    "DeMorgansLaw.main(null)"
   ]
  },
  {
   "cell_type": "markdown",
   "metadata": {},
   "source": [
    "Well this is awfully confusing, how about we clean it up a little?\n",
    "\n",
    "First, remove all of the `!!` (negative + negative = positive)\n",
    "\n",
    "This code reads: If it's not rainy or sunny, and: it's not rainy and it's not sunny OR it's rainy or sunny\n",
    "\n",
    "Evaluating each part of the code: \n",
    "\n",
    "1. `If it's not rainy or sunny`: True\n",
    "2. `If it's not rainy and it's not sunny`: True\n",
    "3. `It's rainy or sunny`: False\n",
    "\n",
    "2\\. and 3. are OR, therefore, it is `True`.\n",
    "\n",
    "1\\. is ANDed  to 2. and 3. which is `True`. -> `True` AND `True` is true, therefore, the message is outputted. \n"
   ]
  },
  {
   "cell_type": "code",
   "execution_count": 6,
   "metadata": {
    "vscode": {
     "languageId": "java"
    }
   },
   "outputs": [
    {
     "name": "stdout",
     "output_type": "stream",
     "text": [
      "It's a cloudy day, not too hot, not too cold\n"
     ]
    }
   ],
   "source": [
    "public class DeMorgansLaw{\n",
    "    public static void main(String[] args) {\n",
    "        boolean rainy = false;\n",
    "        boolean sunny = false;\n",
    "\n",
    "        if (!(rainy || sunny) && ((!rainy && !sunny) || (rainy || sunny)) ) {\n",
    "            System.out.println(\"It's a cloudy day, not too hot, not too cold\");\n",
    "        }\n",
    "    }\n",
    "}\n",
    "DeMorgansLaw.main(null)"
   ]
  },
  {
   "cell_type": "markdown",
   "metadata": {},
   "source": [
    "# Comparing\n",
    "\n",
    "## Numbers\n",
    "\n",
    "Numbers can be compared using `==`. Numbers can always be compared with `==` because they are primitive types and not objects. "
   ]
  },
  {
   "cell_type": "code",
   "execution_count": 8,
   "metadata": {
    "vscode": {
     "languageId": "java"
    }
   },
   "outputs": [
    {
     "name": "stdout",
     "output_type": "stream",
     "text": [
      "a = b\n"
     ]
    }
   ],
   "source": [
    "int a = 5; \n",
    "int b = 5; \n",
    "\n",
    "if (a == b) {\n",
    "    System.out.println(\"a = b\"); \n",
    "}"
   ]
  },
  {
   "cell_type": "markdown",
   "metadata": {},
   "source": [
    "## Strings\n",
    "\n",
    "There are two ways to compare strings: `==` and `.equals()`. \n",
    "\n",
    "You can use `==` to compare strings when they are declared like this: <code>String <em>name</em> = \"<em>string</em>\";</code>\n",
    "\n",
    "An example is shown below: "
   ]
  },
  {
   "cell_type": "code",
   "execution_count": 12,
   "metadata": {
    "vscode": {
     "languageId": "java"
    }
   },
   "outputs": [
    {
     "name": "stdout",
     "output_type": "stream",
     "text": [
      "The two strings are equal\n"
     ]
    }
   ],
   "source": [
    "String a = \"foo\"; \n",
    "String b = \"foo\"; \n",
    "\n",
    "if (a == b) {\n",
    "    System.out.println(\"The two strings are equal\"); \n",
    "}"
   ]
  },
  {
   "cell_type": "markdown",
   "metadata": {},
   "source": [
    "However, if your two strings are objects, you can not use `==` to compare them (see below): "
   ]
  },
  {
   "cell_type": "code",
   "execution_count": 13,
   "metadata": {
    "vscode": {
     "languageId": "java"
    }
   },
   "outputs": [
    {
     "name": "stdout",
     "output_type": "stream",
     "text": [
      "The two strings are not equal\n"
     ]
    }
   ],
   "source": [
    "String a = new String(\"foo\"); \n",
    "String b = new String(\"foo\"); \n",
    "\n",
    "if (a == b) {\n",
    "    System.out.println(\"The two strings are equal\"); \n",
    "} else {\n",
    "    System.out.println(\"The two strings are not equal\"); \n",
    "}"
   ]
  },
  {
   "cell_type": "markdown",
   "metadata": {},
   "source": [
    "Instead, you need to use `.equals()` to compare the two string **objects**. "
   ]
  },
  {
   "cell_type": "code",
   "execution_count": 14,
   "metadata": {
    "vscode": {
     "languageId": "java"
    }
   },
   "outputs": [
    {
     "name": "stdout",
     "output_type": "stream",
     "text": [
      "The two strings are equal\n"
     ]
    }
   ],
   "source": [
    "String a = new String(\"foo\"); \n",
    "String b = new String(\"foo\"); \n",
    "\n",
    "if (a.equals(b)) {\n",
    "    System.out.println(\"The two strings are equal\"); \n",
    "} else {\n",
    "    System.out.println(\"The two strings are not equal\"); \n",
    "}"
   ]
  },
  {
   "cell_type": "markdown",
   "metadata": {},
   "source": [
    "Note: `a` and `b` are different objects, but they contain the same string of `foo`, which is what `.equals()` checks for. "
   ]
  },
  {
   "cell_type": "markdown",
   "metadata": {},
   "source": [
    "## Objects\n",
    "\n",
    "There is a way to compare if two objects have the same attributes using the `.equals()` method. However, you need to first override the method to do so. \n",
    "\n",
    "Below is an example: \n",
    "\n",
    "To override the `.equals()` method, you need to create the method that takes in an object. In this example, the object is the format of `Object obj`. In the `.equals()` method, `Object obj` refers to `test2`. Next, `obj` needs to be typecasted to the class, in this case `ObjectTest`, for comparison to work. The return statement checks to see if the attributes of the two objects are equal. Note: `this` refers to `test1`"
   ]
  },
  {
   "cell_type": "code",
   "execution_count": 40,
   "metadata": {
    "vscode": {
     "languageId": "java"
    }
   },
   "outputs": [
    {
     "name": "stdout",
     "output_type": "stream",
     "text": [
      "Same attributes\n"
     ]
    }
   ],
   "source": [
    "public class ObjectTest {\n",
    "    String attribute1;\n",
    "    String attribute2; \n",
    "    \n",
    "    // IMPORTANT: forgot to specify String in parameters\n",
    "    // see https://www.daniweb.com/programming/software-development/threads/346224/identifier-expected-in-constructor-definition\n",
    "    // youtube reference for comparing objects: https://www.youtube.com/watch?v=X2AjBFZfFCY\n",
    "    public ObjectTest(String attribute1, String attribute2) {\n",
    "        this.attribute1 = attribute1; \n",
    "        this.attribute2 = attribute2; \n",
    "    }\n",
    "\n",
    "    @Override\n",
    "    public boolean equals(Object obj) {\n",
    "        ObjectTest test = (ObjectTest)obj; \n",
    "        return this.attribute1.equals(test.attribute1) && this.attribute2.equals(test.attribute2);\n",
    "    }\n",
    "\n",
    "    public static void main(String[] args) {\n",
    "        ObjectTest test1 = new ObjectTest(\"a\", \"b\"); \n",
    "        ObjectTest test2 = new ObjectTest(\"a\", \"b\"); \n",
    "\n",
    "        \n",
    "        if (test1.equals(test2)) {\n",
    "            System.out.println(\"Same attributes\"); \n",
    "        }\n",
    "    }\n",
    "}\n",
    "ObjectTest.main(null)"
   ]
  },
  {
   "cell_type": "markdown",
   "metadata": {},
   "source": [
    "# for loops\n",
    "\n",
    "For loops help with iteration. With for loops, you can specify how many times you want to repeat through something.\n",
    "\n",
    "The syntax is: <code> for (<em>1</em>; <em>2</em>; <em>3</em>){}</code> (numbers explained below)\n",
    "\n",
    "* *1*: Initialize a variable and set it equal to a certain value\n",
    "* *2*: Create a conditional with the variable in *1*\n",
    "* *3*: Set an increment for the variable \n",
    "\n",
    "Putting it all together, a for loop might look like this: \n"
   ]
  },
  {
   "cell_type": "code",
   "execution_count": 10,
   "metadata": {
    "vscode": {
     "languageId": "java"
    }
   },
   "outputs": [
    {
     "name": "stdout",
     "output_type": "stream",
     "text": [
      "The value of i is: 1\n",
      "The value of i is: 2\n",
      "The value of i is: 3\n",
      "The value of i is: 4\n",
      "The value of i is: 5\n"
     ]
    }
   ],
   "source": [
    "for (int i = 1; i <= 5; i++) {\n",
    "    System.out.println(\"The value of i is: \" + i); \n",
    "}"
   ]
  },
  {
   "cell_type": "markdown",
   "metadata": {},
   "source": [
    "# for each loops\n",
    "\n",
    "for each loops are mainly used to iterate through arrays. An example is shown below: "
   ]
  },
  {
   "cell_type": "code",
   "execution_count": 39,
   "metadata": {
    "vscode": {
     "languageId": "java"
    }
   },
   "outputs": [
    {
     "name": "stdout",
     "output_type": "stream",
     "text": [
      "1\n",
      "2\n",
      "3\n"
     ]
    }
   ],
   "source": [
    "int[] num = {1, 2, 3}; \n",
    "\n",
    "for (int numbers : num) {\n",
    "    System.out.println(numbers); \n",
    "}"
   ]
  },
  {
   "cell_type": "markdown",
   "metadata": {},
   "source": [
    "# Class\n",
    "\n",
    "## What I learned\n",
    "\n",
    "Static methods are used mainly for convenience. If you create a regular method, you need to create an object to execute the method. However, an object does not need to be created to access a static method. \n",
    "\n",
    "\n",
    "Below is a piece of code that illustrates many parts of a class. "
   ]
  },
  {
   "cell_type": "code",
   "execution_count": 45,
   "metadata": {
    "vscode": {
     "languageId": "java"
    }
   },
   "outputs": [
    {
     "name": "stdout",
     "output_type": "stream",
     "text": [
      "person1's age is: 20\n",
      "person1's height is: 65\n"
     ]
    }
   ],
   "source": [
    "public class Person {\n",
    "    private int age; \n",
    "    private int height; \n",
    "\n",
    "    public Person(){\n",
    "\n",
    "    }\n",
    "    \n",
    "\n",
    "    public int getAge() {\n",
    "        return this.age; \n",
    "    }\n",
    "\n",
    "    public void setAge(int age) {\n",
    "        this.age = age; \n",
    "    }\n",
    "\n",
    "    public int getHeight() {\n",
    "        return this.height; \n",
    "    }\n",
    "\n",
    "    public void setHeight(int height) {\n",
    "        this.height = height; \n",
    "    }\n",
    "\n",
    "\n",
    "\n",
    "    public static void main(String[] args) {\n",
    "        Person person1 = new Person(); \n",
    "        person1.setAge(20);\n",
    "        person1.setHeight(65); \n",
    "        System.out.println(\"person1's age is: \" + person1.getAge());\n",
    "        System.out.println(\"person1's height is: \" + person1.getHeight()); \n",
    "    }\n",
    "}\n",
    "Person.main(null)"
   ]
  },
  {
   "cell_type": "markdown",
   "metadata": {},
   "source": [
    "## Explanation of items in the code\n",
    "\n",
    "A class is like a blueprint for an object. In this case, the class is `Person` (names of classes by convention have the first letter capitalized). The `Person` class has an empty constructor. Common things found in a class are **getters** and **setters**. Getters are created with <code>get<em>variable name</em></code>, and setters are created with <code>set<em>variable name</em></code>. In both cases, the first letter of the variable name should be capitalized, as in accordance with Java variable naming conventions. Getters and setters are used to protect your data so that you do not assign unintended values to your variables. Lastly, the `this` keyword is used to refer to the declared variables. `this` is used to differentiate between the declared variables and the variables that are passed into a method as parameters and who may have the same name."
   ]
  },
  {
   "cell_type": "markdown",
   "metadata": {},
   "source": [
    "## Static vs nonstatic \n",
    "\n",
    "In short, to access a variable from a static method, the variable must be declared with static. \n",
    "\n",
    "**static variables can be accessed in both static and nonstatic methods. nonstatic variables can only be accessed in nonstatic methods**"
   ]
  },
  {
   "cell_type": "code",
   "execution_count": 47,
   "metadata": {
    "vscode": {
     "languageId": "java"
    }
   },
   "outputs": [
    {
     "name": "stdout",
     "output_type": "stream",
     "text": [
      "5\n"
     ]
    }
   ],
   "source": [
    "public class staticDemo{\n",
    "    \n",
    "    static int staticVar = 5;\n",
    "\n",
    "    public static void main(String[] args) {\n",
    "        System.out.println(staticVar); \n",
    "    }\n",
    "}\n",
    "staticDemo.main(null)"
   ]
  },
  {
   "cell_type": "markdown",
   "metadata": {},
   "source": [
    "This will produce an <mark>error</mark> because there is <mark>no static</mark>!"
   ]
  },
  {
   "cell_type": "code",
   "execution_count": 48,
   "metadata": {
    "vscode": {
     "languageId": "java"
    }
   },
   "outputs": [
    {
     "ename": "CompilationException",
     "evalue": "",
     "output_type": "error",
     "traceback": [
      "\u001b[1m\u001b[30m|   \u001b[1m\u001b[30m        System.out.println(\u001b[0m\u001b[1m\u001b[30m\u001b[41mstaticVar\u001b[0m\u001b[1m\u001b[30m); \u001b[0m",
      "\u001b[1m\u001b[31mnon-static variable staticVar cannot be referenced from a static context\u001b[0m",
      ""
     ]
    }
   ],
   "source": [
    "\n",
    "public class staticDemo{\n",
    "    \n",
    "    int staticVar = 5;\n",
    "\n",
    "    public static void main(String[] args) {\n",
    "        System.out.println(staticVar); \n",
    "    }\n",
    "}\n",
    "staticDemo.main(null)"
   ]
  },
  {
   "cell_type": "markdown",
   "metadata": {},
   "source": [
    "Static variables can be accessed in nonstatic methods!"
   ]
  },
  {
   "cell_type": "code",
   "execution_count": 49,
   "metadata": {
    "vscode": {
     "languageId": "java"
    }
   },
   "outputs": [
    {
     "name": "stdout",
     "output_type": "stream",
     "text": [
      "5\n"
     ]
    }
   ],
   "source": [
    "public class staticDemo{\n",
    "    \n",
    "    static int staticVar = 5;\n",
    "\n",
    "    public void printVar() {\n",
    "        System.out.println(staticVar); \n",
    "    }\n",
    "\n",
    "    public static void main(String[] args) {\n",
    "        staticDemo a = new staticDemo(); \n",
    "        a.printVar();\n",
    "    }\n",
    "}\n",
    "staticDemo.main(null)"
   ]
  },
  {
   "cell_type": "markdown",
   "metadata": {},
   "source": [
    "## Tester methods\n",
    "\n",
    "Tester methods can be used to test if your code is working the way you want it to work. "
   ]
  },
  {
   "cell_type": "markdown",
   "metadata": {},
   "source": [
    "## Inheritance"
   ]
  },
  {
   "cell_type": "code",
   "execution_count": 51,
   "metadata": {
    "vscode": {
     "languageId": "java"
    }
   },
   "outputs": [],
   "source": [
    "public class Cat{\n",
    "\n",
    "    public boolean hasTail() {\n",
    "        return true; \n",
    "    }\n",
    "\n",
    "    public void sayMeow() {\n",
    "        System.out.println(\"Meow!\"); \n",
    "    }\n",
    "}"
   ]
  },
  {
   "cell_type": "code",
   "execution_count": 62,
   "metadata": {
    "vscode": {
     "languageId": "java"
    }
   },
   "outputs": [
    {
     "name": "stdout",
     "output_type": "stream",
     "text": [
      "Meow!\n",
      "Tabby cat fur type: striped\n",
      "Tabby cat has tail? true\n"
     ]
    }
   ],
   "source": [
    "public class TabbyCat extends Cat {\n",
    "    public String furType() {\n",
    "        return \"striped\"; \n",
    "    }\n",
    "\n",
    "    public boolean hasTail() {\n",
    "        return super.hasTail(); \n",
    "    }\n",
    "\n",
    "    public static void main (String[] args) {\n",
    "        TabbyCat cat1 = new TabbyCat(); \n",
    "        cat1.sayMeow(); \n",
    "        System.out.println(\"Tabby cat fur type: \" + cat1.furType()); \n",
    "        System.out.println(\"Tabby cat has tail? \" + cat1.hasTail()); \n",
    "    }\n",
    "}\n",
    "TabbyCat.main(null)"
   ]
  },
  {
   "cell_type": "markdown",
   "metadata": {},
   "source": [
    "In the example above, the **superclass** is `Cat`, while the **subclass** is `TabbyCat`. Extends helps save time from copying and pasting code. `TabbyCat` has access to all of the methods in `Cat`, but also has its specific method, `furType()`. The `super` keyword calls the superclass. \n",
    "\n",
    "One interesting thing is that if the subclass has the same method as the superclass, the subclass's method will override the superclass. This is called <mark>polymorphism</mark>. See below: "
   ]
  },
  {
   "cell_type": "code",
   "execution_count": 63,
   "metadata": {
    "vscode": {
     "languageId": "java"
    }
   },
   "outputs": [
    {
     "name": "stdout",
     "output_type": "stream",
     "text": [
      "Tabby cat has tail? false\n"
     ]
    }
   ],
   "source": [
    "public class TabbyCat extends Cat {\n",
    "    public String furType() {\n",
    "        return \"striped\"; \n",
    "    }\n",
    "\n",
    "    public boolean hasTail() {\n",
    "        return false; // oof\n",
    "    }\n",
    "\n",
    "    public static void main (String[] args) {\n",
    "        TabbyCat cat1 = new TabbyCat(); \n",
    "        System.out.println(\"Tabby cat has tail? \" + cat1.hasTail()); \n",
    "    }\n",
    "}\n",
    "TabbyCat.main(null)"
   ]
  },
  {
   "cell_type": "markdown",
   "metadata": {},
   "source": [
    "During compilation though, the `hasTail()` method will be looked for in the `Cat` class. Only during run time, the method will be resolved to the `TabbyCat` object. This is called late binding (using overriding)"
   ]
  },
  {
   "cell_type": "markdown",
   "metadata": {},
   "source": [
    "Something very cool in Java is that you can have methods with the same name, **as long as they have different parameters**. This would result in overloading."
   ]
  },
  {
   "cell_type": "markdown",
   "metadata": {},
   "source": [
    "# toString()\n",
    "\n",
    "toString changes the value into a String object"
   ]
  },
  {
   "cell_type": "code",
   "execution_count": 68,
   "metadata": {
    "vscode": {
     "languageId": "java"
    }
   },
   "outputs": [
    {
     "name": "stdout",
     "output_type": "stream",
     "text": [
      "Data type of x is: String\n"
     ]
    }
   ],
   "source": [
    "Integer x = 5; \n",
    "\n",
    "System.out.println(\"Data type of x is: \" + x.toString().getClass().getSimpleName()); "
   ]
  },
  {
   "cell_type": "markdown",
   "metadata": {},
   "source": [
    "# hashCode()\n",
    "\n",
    "hashCode returns the hash code for an object. If obj1.equals(obj2), then obj1.hashCode() == obj2.hashCode(); "
   ]
  },
  {
   "cell_type": "code",
   "execution_count": 71,
   "metadata": {
    "vscode": {
     "languageId": "java"
    }
   },
   "outputs": [
    {
     "name": "stdout",
     "output_type": "stream",
     "text": [
      "true\n"
     ]
    }
   ],
   "source": [
    "String text = new String(\"foo\"); \n",
    "String text2 = new String(\"foo\"); \n",
    "\n",
    "if (text.equals(text2)) {\n",
    "    System.out.println(text.hashCode() == text2.hashCode()); \n",
    "}"
   ]
  }
 ],
 "metadata": {
  "kernelspec": {
   "display_name": "Java",
   "language": "java",
   "name": "java"
  },
  "language_info": {
   "codemirror_mode": "java",
   "file_extension": ".jshell",
   "mimetype": "text/x-java-source",
   "name": "Java",
   "pygments_lexer": "java",
   "version": "17.0.5+8-Ubuntu-2ubuntu120.04"
  },
  "orig_nbformat": 4,
  "vscode": {
   "interpreter": {
    "hash": "916dbcbb3f70747c44a77c7bcd40155683ae19c65e1c03b4aa3499c5328201f1"
   }
  }
 },
 "nbformat": 4,
 "nbformat_minor": 2
}
