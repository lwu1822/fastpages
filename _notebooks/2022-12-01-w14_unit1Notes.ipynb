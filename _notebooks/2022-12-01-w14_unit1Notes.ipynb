{
 "cells": [
  {
   "cell_type": "markdown",
   "metadata": {},
   "source": [
    "# Unit 1 Notes \n",
    "\n",
    "- toc: true \n",
    "- badges: true\n",
    "- comments: true"
   ]
  },
  {
   "cell_type": "markdown",
   "metadata": {},
   "source": [
    "## Learnings\n",
    "\n",
    "The main thing I learned for unit 1 is the idea of **wrapper classes**. Wrapper classes help make objects out of primitives, allowing access to many methods. For example, the wrapper class of `int` is `Integer`."
   ]
  },
  {
   "cell_type": "markdown",
   "metadata": {},
   "source": [
    "# Notes\n",
    "Casting: Changes the primitive data type\n",
    "\n",
    "Casting is useful in division because if two integers are divided, the places after the decimal are truncated without rounding. To have an accurate division, type cast the integers with `(double)` to retain the decimal. \n",
    "\n",
    "To round a number and return the result as an integer, add 0.5 to the number and then typecast it to an integer (`(int)`). "
   ]
  },
  {
   "cell_type": "code",
   "execution_count": 1,
   "metadata": {},
   "outputs": [
    {
     "name": "stdout",
     "output_type": "stream",
     "text": [
      "Dividing two integers: 0\n",
      "Dividing two doubles (originally integers): 0.3333333333333333\n",
      "\n",
      "The value of double c is: 5.5\n",
      "Truncating double c: 5\n",
      "Rounding double c: 6\n"
     ]
    }
   ],
   "source": [
    "\n",
    "int a = 1; \n",
    "int b = 3; \n",
    "\n",
    "System.out.println(\"Dividing two integers: \" + a/b); \n",
    "\n",
    "double quotient = (double)a/(double)b;\n",
    "System.out.println(\"Dividing two doubles (originally integers): \" + quotient); \n",
    "\n",
    "System.out.println(); \n",
    "\n",
    "// truncating\n",
    "double c = 5.5; \n",
    "System.out.println(\"The value of double c is: \" + c);\n",
    "System.out.println(\"Truncating double c: \" + (int)c); \n",
    "\n",
    "// rounding\n",
    "int roundedNum = (int)(c+0.5);\n",
    "System.out.println(\"Rounding double c: \" + roundedNum); \n"
   ]
  },
  {
   "cell_type": "markdown",
   "metadata": {},
   "source": [
    "\n",
    "# Wrapper classes\n",
    "\n",
    "Wrapper classes create objects out of primitives. The wrapper class capitalizes the first letter of the primitive data type and writes out the entire word. For example, the wrapper class of `int` is `Integer`. \n",
    "\n",
    "Because wrapper classes create objects, there are many methods that can be used (shown in the code below). \n",
    "\n",
    "Note: ArrayLists can only use wrapper classes; they can not use primitives. "
   ]
  },
  {
   "cell_type": "markdown",
   "metadata": {},
   "source": [
    "\n",
    "`toString()`: Notice how `Integer` must be used, while `int` creates an error."
   ]
  },
  {
   "cell_type": "code",
   "execution_count": 2,
   "metadata": {},
   "outputs": [
    {
     "name": "stdout",
     "output_type": "stream",
     "text": [
      "5\n"
     ]
    }
   ],
   "source": [
    "Integer test = 5; \n",
    "String test2 = test.toString(); \n",
    "\n",
    "System.out.println(test2); \n"
   ]
  },
  {
   "cell_type": "code",
   "execution_count": 3,
   "metadata": {},
   "outputs": [
    {
     "ename": "CompilationException",
     "evalue": "",
     "output_type": "error",
     "traceback": [
      "\u001b[1m\u001b[30m|   \u001b[1m\u001b[30mString test2 = \u001b[0m\u001b[1m\u001b[30m\u001b[41mtest.toString\u001b[0m\u001b[1m\u001b[30m();\u001b[0m",
      "\u001b[1m\u001b[31mint cannot be dereferenced\u001b[0m",
      ""
     ]
    }
   ],
   "source": [
    "\n",
    "int test = 5; // PROBLEM!!\n",
    "String test2 = test.toString(); \n",
    "\n",
    "System.out.println(test2); "
   ]
  },
  {
   "cell_type": "markdown",
   "metadata": {},
   "source": [
    "# Concatenation\n",
    "\n",
    "Concatenation combines multiple strings together into one string. \n",
    "\n",
    "Concatenation can be used with the plus sign: `+` or with the `concat()` method. \n",
    "\n",
    "Below is an example of concatenation using `+`: \n"
   ]
  },
  {
   "cell_type": "code",
   "execution_count": 4,
   "metadata": {},
   "outputs": [
    {
     "name": "stdout",
     "output_type": "stream",
     "text": [
      "hello world\n"
     ]
    }
   ],
   "source": [
    "\n",
    "String hello = \"hello\"; \n",
    "String world = \"world\"; \n",
    "\n",
    "System.out.println(hello + \" \" + world); "
   ]
  },
  {
   "cell_type": "markdown",
   "metadata": {},
   "source": [
    "\n",
    "Below is an example of concatenation using `concat()`\n",
    "\n",
    "The syntax is: <code>concat(<em>second string to add on to first string</em>)</code>"
   ]
  },
  {
   "cell_type": "code",
   "execution_count": 5,
   "metadata": {},
   "outputs": [
    {
     "name": "stdout",
     "output_type": "stream",
     "text": [
      "helloworld\n"
     ]
    }
   ],
   "source": [
    "\n",
    "String hello = \"hello\"; \n",
    "String world = \"world\"; \n",
    "\n",
    "System.out.println(hello.concat(world)); "
   ]
  },
  {
   "cell_type": "markdown",
   "metadata": {},
   "source": [
    "\n",
    "# Math\n",
    "\n",
    "One of the `Math` methods that will be used frequently is `random()`. `Math.random()` returns a random number between 0 and 1, including 0 but excluding 1. "
   ]
  },
  {
   "cell_type": "code",
   "execution_count": 6,
   "metadata": {},
   "outputs": [
    {
     "name": "stdout",
     "output_type": "stream",
     "text": [
      "0.0758836497465144\n"
     ]
    }
   ],
   "source": [
    "\n",
    "System.out.println(Math.random()); "
   ]
  }
 ],
 "metadata": {
  "kernelspec": {
   "display_name": "Java",
   "language": "java",
   "name": "java"
  },
  "language_info": {
   "codemirror_mode": "java",
   "file_extension": ".jshell",
   "mimetype": "text/x-java-source",
   "name": "java",
   "pygments_lexer": "java",
   "version": "17.0.5+8-Ubuntu-2ubuntu120.04"
  },
  "orig_nbformat": 4,
  "vscode": {
   "interpreter": {
    "hash": "916dbcbb3f70747c44a77c7bcd40155683ae19c65e1c03b4aa3499c5328201f1"
   }
  }
 },
 "nbformat": 4,
 "nbformat_minor": 2
}
