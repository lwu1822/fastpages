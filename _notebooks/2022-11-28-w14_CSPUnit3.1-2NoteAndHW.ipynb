{
 "cells": [
  {
   "cell_type": "markdown",
   "metadata": {},
   "source": [
    "# AP CSP Unit 3 Sections 1-2\n",
    "> Unit 3 Sections 1-2 homework and notes\n",
    "\n",
    "- toc: true \n",
    "- badges: true\n",
    "- comments: true"
   ]
  },
  {
   "cell_type": "code",
   "execution_count": 34,
   "metadata": {},
   "outputs": [
    {
     "name": "stdout",
     "output_type": "stream",
     "text": [
      "Playing \"Welcome to my Nightmare\"\n"
     ]
    }
   ],
   "source": [
    "albums = [\n",
    "    (\"Welcome to my Nightmare\", \"Alice Cooper\", 1975,   # First album list\n",
    "     [\n",
    "         (1, \"Welcome to my Nightmare\"),\n",
    "         (2, \"Devil's Food\"),\n",
    "         (3, \"The Black Widow\"),\n",
    "         (4, \"Some Folks\"),\n",
    "         (5, \"Only Women Bleed\"),\n",
    "     ]\n",
    "     ),\n",
    "    (\"Bad Company\", \"Bad Company\", 1974,   # Second album list\n",
    "     [\n",
    "         (1, \"Can't Get Enough\"),\n",
    "         (2, \"Rock Steady\"),\n",
    "         (3, \"Ready for Love\"),\n",
    "         (4, \"Don't Let Me Down\"),\n",
    "         (5, \"Bad Company\"),\n",
    "         (6, \"The Way I Choose\"),\n",
    "         (7, \"Movin' On\"),\n",
    "         (8, \"Seagull\"),\n",
    "     ]\n",
    "     ),\n",
    "    (\"Nightflight\", \"Budgie\", 1981,\n",
    "     [\n",
    "         (1, \"I Turned to Stone\"),\n",
    "         (2, \"Keeping a Rendezvous\"),\n",
    "         (3, \"Reaper of the Glory\"),\n",
    "         (4, \"She Used Me Up\"),\n",
    "     ]\n",
    "     ),\n",
    "    (\"More Mayhem\", \"Imelda May\", 2011,\n",
    "     [\n",
    "         (1, \"Pulling the Rug\"),\n",
    "         (2, \"Psycho\"),\n",
    "         (3, \"Mayhem\"),\n",
    "         (4, \"Kentish Town Waltz\"),\n",
    "     ]\n",
    "     ),\n",
    "]\n",
    "\n",
    "album = input()\n",
    "song = input()\n",
    "print(\"Playing \" + \"\\\"\" + str(albums[int(album)-1][3][int(song)-1][1]) + \"\\\"\")"
   ]
  },
  {
   "cell_type": "markdown",
   "metadata": {},
   "source": [
    "<br>"
   ]
  },
  {
   "cell_type": "code",
   "execution_count": 8,
   "metadata": {},
   "outputs": [
    {
     "name": "stdout",
     "output_type": "stream",
     "text": [
      "2 4\n",
      "4 308\n",
      "6 5\n",
      "9 306\n"
     ]
    }
   ],
   "source": [
    "data = [104, 101, 4, 105, 308, 103, 5, 107,\n",
    "        100, 306, 106, 102, 108]    # list of the different numerical values\n",
    "min_valid = 100  # minimum value\n",
    "max_valid = 200  # maximum value\n",
    "\n",
    "for i in range(0, len(data)): \n",
    "    if data[i] < 100:\n",
    "        print(str(i) + \" \" + str(data[i]))\n",
    "    if data[i] > 200: \n",
    "        print(str(i) + \" \" + str(data[i]))"
   ]
  },
  {
   "cell_type": "markdown",
   "metadata": {},
   "source": [
    "<br>\n",
    "\n",
    "## Vocab\n",
    "\n",
    "* Variables: Abstractions that store values (numbers, boolean values, strings)\n",
    "* List: Contains elements\n",
    "* Dictionaries: Consist of key value pairs"
   ]
  },
  {
   "cell_type": "markdown",
   "metadata": {},
   "source": [
    "## Python\n",
    "\n",
    "### Variables\n",
    "\n",
    "Defining variables: <code><em>variable name</em> = <em>value</em></code>\n",
    "\n",
    "### Lists\n",
    "Assigning a <mark>list</mark> to a variable example: `myList = [1, 2, 3]`\n",
    "\n",
    "Add elements to a list with: <code>list.append(<em>element</em>)</code>\n",
    "\n",
    "### Dictionaries\n",
    "\n",
    "Create a dictionary with this syntax: <code><em>dictionary name</em> = {<em>key</em>:<em>value</em>}</code>\n"
   ]
  },
  {
   "cell_type": "markdown",
   "metadata": {},
   "source": [
    "## JavaScript\n",
    "\n",
    "### Variables\n",
    "\n",
    "Defining variables: <code>var <em>variable name</em> = <em>value</em></code>\n",
    "\n",
    "or <code>const <em>variable name</em> = <em>value</em></code>\n",
    "\n",
    "### Lists\n",
    "Assigning a <mark>list</mark> to a variable example: `myList = [1, 2, 3]`\n",
    "\n",
    "Add elements to a list with: <code>list.append(<em>element</em>)</code>\n",
    "\n",
    "### Dictionaries\n",
    "\n",
    "Create a dictionary with this syntax: <code><em>dictionary name</em> = {<em>key</em>:<em>value</em>}</code>\n"
   ]
  }
 ],
 "metadata": {
  "kernelspec": {
   "display_name": "JavaScript (Node.js)",
   "language": "javascript",
   "name": "javascript"
  },
  "language_info": {
   "file_extension": ".js",
   "mimetype": "application/javascript",
   "name": "javascript",
   "version": "6.11.2"
  },
  "orig_nbformat": 4,
  "vscode": {
   "interpreter": {
    "hash": "f260b6b3ae1ef2114af89aa0dee38d5682df0763aaac2870f1e656463369401e"
   }
  }
 },
 "nbformat": 4,
 "nbformat_minor": 2
}
