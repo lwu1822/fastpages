{
 "cells": [
  {
   "cell_type": "markdown",
   "metadata": {},
   "source": [
    "# AP CSP Unit 3 Sections 3-4\n",
    "> Unit 3 Sections 3-4 homework and notes\n",
    "\n",
    "- toc: true \n",
    "- badges: true\n",
    "- comments: true"
   ]
  },
  {
   "cell_type": "markdown",
   "metadata": {},
   "source": [
    "# Vocab\n",
    "\n",
    "The three important vocab words for AP CSP are sequencing, selection, and iteration.\n",
    "\n",
    "Sequencing: The order in which an algorithm runs.\n",
    "\n",
    "Selection: Algorithms figure out whether to execute a boolean statement (if statement)\n",
    "\n",
    "Iteration: Loop (ex: for, while)"
   ]
  },
  {
   "cell_type": "markdown",
   "metadata": {},
   "source": [
    "# 3.3 Expressions\n",
    "\n",
    "The symbol for exponents is `**`"
   ]
  },
  {
   "cell_type": "markdown",
   "metadata": {},
   "source": [
    "# 3.4 Strings\n",
    "\n",
    "Psuedocode: Using common language to write out code. Good for planning purposes and helps other people understand what you intend to do with the code.\n",
    "\n",
    "Index: Represents the position of an array.\n",
    "\n",
    "Length: How long something is. For example, the length of a string is the number of characters it has.\n",
    "\n",
    "## Python\n",
    "\n",
    "Length: <code>len(<em>value you want to find length of</em>)</code>\n",
    "\n",
    "Substring syntax in Python: <code>string[<em>start index</em>:<em>end index - 1</em>]</code>"
   ]
  },
  {
   "cell_type": "markdown",
   "metadata": {},
   "source": [
    "# Coding example\n",
    "\n",
    "The code below converts a decimal number into binary. This demonstrates sequencing, selection, and iteration. \n",
    "\n",
    "* Sequencing: First, the binary numbers are appended to the binary list. Next, each binary number is subtracted from the inputted decimal number provided that the input number > the binary number. If that is the case, a \"1\" will be added to the binary string; otherwise, a \"0\" will be added. \n",
    "* Selection: The if statement determines if a \"1\" or a \"0\" is added to the binary string. \n",
    "* Iteration: Two for loops are present; the first adds binary numbers to the list and the second adds a 1 or a 0 to the binary string. "
   ]
  },
  {
   "cell_type": "code",
   "execution_count": 1,
   "metadata": {},
   "outputs": [
    {
     "name": "stdout",
     "output_type": "stream",
     "text": [
      "00011001\n"
     ]
    }
   ],
   "source": [
    "def convert(num):\n",
    "    numOfBinary = 8\n",
    "    binary = []; \n",
    "    output = \"\"\n",
    "    \n",
    "    for i in range(numOfBinary): \n",
    "        binary.append((2**(numOfBinary - 1 - i)))\n",
    "    \n",
    "    for i in range(len(binary)):\n",
    "        if num - binary[i] >= 0:\n",
    "            num -= binary[i]\n",
    "            output += \"1\"\n",
    "        else: \n",
    "            output += \"0\"\n",
    "        \n",
    "    print(output)\n",
    "        \n",
    "convert(25)"
   ]
  }
 ],
 "metadata": {
  "kernelspec": {
   "display_name": "Python 3.9.12 ('base')",
   "language": "python",
   "name": "python3"
  },
  "language_info": {
   "codemirror_mode": {
    "name": "ipython",
    "version": 3
   },
   "file_extension": ".py",
   "mimetype": "text/x-python",
   "name": "python",
   "nbconvert_exporter": "python",
   "pygments_lexer": "ipython3",
   "version": "3.9.12"
  },
  "orig_nbformat": 4,
  "vscode": {
   "interpreter": {
    "hash": "f260b6b3ae1ef2114af89aa0dee38d5682df0763aaac2870f1e656463369401e"
   }
  }
 },
 "nbformat": 4,
 "nbformat_minor": 2
}
