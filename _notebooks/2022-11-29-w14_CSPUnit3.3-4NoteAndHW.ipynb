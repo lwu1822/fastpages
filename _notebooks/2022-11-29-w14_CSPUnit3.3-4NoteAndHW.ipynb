{
 "cells": [
  {
   "cell_type": "markdown",
   "metadata": {},
   "source": [
    "# AP CSP Unit 3 Sections 3-4\n",
    "> Unit 3 Sections 3-4 homework and notes\n",
    "\n",
    "- toc: true \n",
    "- badges: true\n",
    "- comments: true"
   ]
  },
  {
   "cell_type": "markdown",
   "metadata": {},
   "source": [
    "# Vocab\n",
    "\n",
    "Iteration: Loop (ex: for, while)"
   ]
  },
  {
   "cell_type": "markdown",
   "metadata": {},
   "source": [
    "# 3.3 Expressions\n",
    "\n",
    "The symbol for exponents is `**`"
   ]
  },
  {
   "cell_type": "markdown",
   "metadata": {},
   "source": [
    "# 3.4 Strings\n",
    "\n",
    "Psuedocode: Using common language to write out code. Good for planning purposes and helps other people understand what you intend to do with the code. \n",
    "\n",
    "Substring syntax in Python: <code>string[<em>start index</em>:<em>end index - 1</em>]</code>"
   ]
  }
 ],
 "metadata": {
  "kernelspec": {
   "display_name": "Python 3.8.10 64-bit",
   "language": "python",
   "name": "python3"
  },
  "language_info": {
   "name": "python",
   "version": "3.8.10"
  },
  "orig_nbformat": 4,
  "vscode": {
   "interpreter": {
    "hash": "916dbcbb3f70747c44a77c7bcd40155683ae19c65e1c03b4aa3499c5328201f1"
   }
  }
 },
 "nbformat": 4,
 "nbformat_minor": 2
}
