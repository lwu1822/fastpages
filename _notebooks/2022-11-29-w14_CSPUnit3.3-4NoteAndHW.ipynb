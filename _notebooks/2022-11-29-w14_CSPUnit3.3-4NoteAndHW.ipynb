{
 "cells": [
  {
   "cell_type": "markdown",
   "metadata": {},
   "source": [
    "# AP CSP Unit 3 Sections 3-4\n",
    "> Unit 3 Sections 3-4 homework and notes\n",
    "\n",
    "- toc: true \n",
    "- badges: true\n",
    "- comments: true"
   ]
  },
  {
   "cell_type": "markdown",
   "metadata": {},
   "source": [
    "# Vocab\n",
    "\n",
    "The three important vocab words for AP CSP are sequencing, selection, and iteration.\n",
    "\n",
    "<mark>Sequencing</mark>: The order in which an algorithm runs.\n",
    "\n",
    "<mark>Selection</mark>: Algorithms figure out whether to execute a boolean statement (if statement)\n",
    "\n",
    "<mark>Iteration</mark>: Loop (ex: for, while)\n",
    "\n",
    "See [here](https://lwu1822.github.io/fastpages/2022/11/29/w14_CSPUnit3.3-4NoteAndHW.html#Coding-example) for a coding example demonstrating sequencing, selection, and iteration. "
   ]
  },
  {
   "cell_type": "markdown",
   "metadata": {},
   "source": [
    "# 3.3 Expressions\n",
    "\n",
    "<mark>Expressions</mark> are values that can be combined to be interpreted into a new value. \n",
    "\n",
    "The usual mathematical symbols apply, the main difference is that the symbol for exponents is `**`, not ^. \n",
    "\n",
    "The coding example [here](https://lwu1822.github.io/fastpages/2022/11/29/w14_CSPUnit3.3-4NoteAndHW.html#Coding-example) demonstrates how to use the `**` (exponent). "
   ]
  },
  {
   "attachments": {},
   "cell_type": "markdown",
   "metadata": {},
   "source": [
    "# 3.4 <mark>Strings</mark>\n",
    "\n",
    "Psuedocode: Using common language to write out code. Good for planning purposes and helps other people understand what you intend to do with the code.\n",
    "\n",
    "Index: Represents the position of an array.\n",
    "\n",
    "<mark>Length</mark>: How long something is. For example, the length of a string is the number of characters it has.\n",
    "\n",
    "## Python\n",
    "\n",
    "Length: <code>len(<em>value you want to find length of</em>)</code>\n",
    "\n",
    "Substring syntax in Python: <code>string[<em>start index</em>:<em>end index - 1</em>]</code>\n",
    "\n",
    "In this [code](https://lwu1822.github.io/fastpages/homework/#3.8-Challenge), the substring takes an individual character from the binary string and calculates its values based on the base two power place it is in.\n",
    "\n",
    "This can show specific <mark>characters</mark> in a string, which are the individual letters/numbers. \n",
    "\n",
    "Below is an example of <mark>traversing</mark> through a string."
   ]
  },
  {
   "cell_type": "code",
   "execution_count": 2,
   "metadata": {},
   "outputs": [
    {
     "name": "stdout",
     "output_type": "stream",
     "text": [
      "S\n",
      "t\n",
      "R\n",
      "i\n",
      "N\n",
      "G\n"
     ]
    }
   ],
   "source": [
    "message = \"StRiNG\"\n",
    "\n",
    "for i in range(0, len(message)):\n",
    "    print(message[i])"
   ]
  },
  {
   "attachments": {},
   "cell_type": "markdown",
   "metadata": {},
   "source": [
    "You can also change a string to uppercase or lowercase with the <mark><code>upper()</code></mark> and <mark><code>lower</code></mark> functions. "
   ]
  },
  {
   "cell_type": "code",
   "execution_count": 3,
   "metadata": {},
   "outputs": [
    {
     "name": "stdout",
     "output_type": "stream",
     "text": [
      "dEfaUlt stRinG\n",
      "DEFAULT STRING NOW UPPERCASE\n",
      "default string now lowercase\n"
     ]
    }
   ],
   "source": [
    "msg = \"dEfaUlt stRinG\"\n",
    "\n",
    "print(msg)\n",
    "print(msg.upper() + \" now uppercase\".upper())\n",
    "print(msg.lower() + \" now lowercase\".lower())"
   ]
  },
  {
   "cell_type": "markdown",
   "metadata": {},
   "source": [
    "# Coding example\n",
    "\n",
    "The code below converts a decimal number into binary. This demonstrates sequencing, selection, and iteration. \n",
    "\n",
    "* Sequencing: First, the binary numbers are appended to the binary list. Next, each binary number is subtracted from the inputted decimal number provided that the input number > the binary number. If that is the case, a \"1\" will be added to the binary string; otherwise, a \"0\" will be added. \n",
    "* Selection: The if statement determines if a \"1\" or a \"0\" is added to the binary string. \n",
    "* Iteration: Two for loops are present; the first adds binary numbers to the list and the second adds a 1 or a 0 to the binary string. \n",
    "\n",
    "Furthermore, this code segment demonstrates <mark>concatenating</mark> strings. As you can see in the example below, the output string is either appended to `1` or `0` depending on if the power of 2 fits in the number. "
   ]
  },
  {
   "cell_type": "code",
   "execution_count": 1,
   "metadata": {},
   "outputs": [
    {
     "name": "stdout",
     "output_type": "stream",
     "text": [
      "00011001\n"
     ]
    }
   ],
   "source": [
    "def convert(num):\n",
    "    numOfBinary = 8\n",
    "    binary = []; \n",
    "    output = \"\"\n",
    "    \n",
    "    for i in range(numOfBinary): \n",
    "        binary.append((2**(numOfBinary - 1 - i)))\n",
    "    \n",
    "    for i in range(len(binary)):\n",
    "        if num - binary[i] >= 0:\n",
    "            num -= binary[i]\n",
    "            output += \"1\"\n",
    "        else: \n",
    "            output += \"0\"\n",
    "        \n",
    "    print(output)\n",
    "        \n",
    "convert(25)"
   ]
  }
 ],
 "metadata": {
  "kernelspec": {
   "display_name": "Python 3.9.12 ('base')",
   "language": "python",
   "name": "python3"
  },
  "language_info": {
   "codemirror_mode": {
    "name": "ipython",
    "version": 3
   },
   "file_extension": ".py",
   "mimetype": "text/x-python",
   "name": "python",
   "nbconvert_exporter": "python",
   "pygments_lexer": "ipython3",
   "version": "3.9.12"
  },
  "orig_nbformat": 4,
  "vscode": {
   "interpreter": {
    "hash": "f260b6b3ae1ef2114af89aa0dee38d5682df0763aaac2870f1e656463369401e"
   }
  }
 },
 "nbformat": 4,
 "nbformat_minor": 2
}
