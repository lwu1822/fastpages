{
 "cells": [
  {
   "attachments": {},
   "cell_type": "markdown",
   "metadata": {},
   "source": [
    "# Homework\n",
    "- comments: true"
   ]
  },
  {
   "cell_type": "code",
   "execution_count": 28,
   "metadata": {},
   "outputs": [
    {
     "name": "stdout",
     "output_type": "stream",
     "text": [
      "user day: 1/1/2000\n",
      "random day: 5/14/2000\n",
      "133\n"
     ]
    }
   ],
   "source": [
    "from datetime import date\n",
    "import random\n",
    "\n",
    "days_dictionary = {\n",
    "    1: 31,\n",
    "    2: 28,\n",
    "    3: 31,\n",
    "    4: 30,\n",
    "    5: 31,\n",
    "    6: 30,\n",
    "    7: 31,\n",
    "    8: 31,\n",
    "    9: 30,\n",
    "    10: 31,\n",
    "    11: 30,\n",
    "    12: 31,\n",
    "}\n",
    "\n",
    "day1 = int(input(\"Input a day\"))\n",
    "month1 = int(input(\"Input a month\"))\n",
    "year1 = input(\"Input a year\")\n",
    "print(\"user day: \" + str(month1) + \"/\" + str(day1) + \"/\" + year1)\n",
    "\n",
    "month2 = random.choice(list(days_dictionary.keys()))\n",
    "day2Max = days_dictionary.get(month2)\n",
    "day2 = random.randint(1, day2Max)\n",
    "print(\"random day: \" + str(month2) + \"/\" + str(day2) + \"/\" + year1)\n",
    "\n",
    "\n",
    "global numDay\n",
    "numDay = int(days_dictionary.get(month1)) - day1 \n",
    "for i in range (month1 + 1, month2 + 1): \n",
    "    numDay += days_dictionary.get(month1)\n",
    "    month1 += 1\n",
    "    \n",
    "numDay -= (days_dictionary.get(month2) - day2)\n",
    "\n",
    "print(str(numDay))\n",
    "    "
   ]
  },
  {
   "attachments": {},
   "cell_type": "markdown",
   "metadata": {},
   "source": [
    "## Note\n",
    "\n",
    "I just realized that I probably should have used the datetime library. Below is the edited code. "
   ]
  },
  {
   "cell_type": "code",
   "execution_count": 9,
   "metadata": {},
   "outputs": [
    {
     "name": "stdout",
     "output_type": "stream",
     "text": [
      "user day: 1/1/2000\n",
      "random day: 8/13/2000\n",
      "The number of days between the given range of dates is: 225 days\n"
     ]
    }
   ],
   "source": [
    "from datetime import date\n",
    "import datetime \n",
    "import random\n",
    "\n",
    "days_dictionary = {\n",
    "    1: 31,\n",
    "    2: 28,\n",
    "    3: 31,\n",
    "    4: 30,\n",
    "    5: 31,\n",
    "    6: 30,\n",
    "    7: 31,\n",
    "    8: 31,\n",
    "    9: 30,\n",
    "    10: 31,\n",
    "    11: 30,\n",
    "    12: 31,\n",
    "}\n",
    "\n",
    "day1 = int(input(\"Input a day\"))\n",
    "month1 = int(input(\"Input a month\"))\n",
    "year1 = int(input(\"Input a year\"))\n",
    "print(\"user day: \" + str(month1) + \"/\" + str(day1) + \"/\" + str(year1))\n",
    "\n",
    "month2 = random.choice(list(days_dictionary.keys()))\n",
    "day2Max = days_dictionary.get(month2)\n",
    "day2 = random.randint(1, day2Max)\n",
    "print(\"random day: \" + str(month2) + \"/\" + str(day2) + \"/\" + str(year1))\n",
    "\n",
    "datetime1 = datetime.datetime(year1, month1, day1)\n",
    "datetime2 = datetime.datetime(year1, month2, day2)\n",
    " \n",
    "diffDay = str(datetime2 - datetime1)\n",
    "\n",
    "print(\"The number of days between the given range of dates is: \" + diffDay.partition(\",\")[0])\n",
    " "
   ]
  }
 ],
 "metadata": {
  "kernelspec": {
   "display_name": "base",
   "language": "python",
   "name": "python3"
  },
  "language_info": {
   "codemirror_mode": {
    "name": "ipython",
    "version": 3
   },
   "file_extension": ".py",
   "mimetype": "text/x-python",
   "name": "python",
   "nbconvert_exporter": "python",
   "pygments_lexer": "ipython3",
   "version": "3.9.12 (main, Apr  5 2022, 06:56:58) \n[GCC 7.5.0]"
  },
  "orig_nbformat": 4,
  "vscode": {
   "interpreter": {
    "hash": "f260b6b3ae1ef2114af89aa0dee38d5682df0763aaac2870f1e656463369401e"
   }
  }
 },
 "nbformat": 4,
 "nbformat_minor": 2
}
