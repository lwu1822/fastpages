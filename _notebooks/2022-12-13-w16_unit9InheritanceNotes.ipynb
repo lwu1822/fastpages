{
 "cells": [
  {
   "attachments": {},
   "cell_type": "markdown",
   "metadata": {},
   "source": [
    "# Unit 9 \n",
    "\n",
    "- toc: true \n",
    "- badges: true\n",
    "- comments: true"
   ]
  },
  {
   "attachments": {},
   "cell_type": "markdown",
   "metadata": {},
   "source": [
    "Team members: Lily Wu, William Wu, Vidhi Kulkarni, Riya Patil, Saathvika Ajith"
   ]
  },
  {
   "attachments": {},
   "cell_type": "markdown",
   "metadata": {},
   "source": [
    "# Hack 1"
   ]
  },
  {
   "cell_type": "code",
   "execution_count": null,
   "metadata": {},
   "outputs": [],
   "source": [
    "public class Cat {\n",
    "    // two attributes\n",
    "    protected boolean hasTail; \n",
    "    protected int numLegs;\n",
    "\n",
    "    // two argument constructor\n",
    "    public Cat(boolean hasTail, int numLegs) {\n",
    "        this.hasTail = hasTail; \n",
    "        this.numLegs = numLegs; \n",
    "    }\n",
    "\n",
    "    \n",
    "}"
   ]
  },
  {
   "cell_type": "code",
   "execution_count": null,
   "metadata": {},
   "outputs": [],
   "source": [
    "public class CalicoCat extends Cat {\n",
    "    // calico cat is a type of cat so it can inherit the attributes of Cat\n",
    "\n",
    "    // creates a furType variable which is unique for a calico cat\n",
    "    protected String furType; \n",
    "    public CalicoCat(boolean hasTail, int numLegs, String furType) {\n",
    "        super(hasTail, numLegs); \n",
    "        this.furType = furType; \n",
    "    }\n",
    "\n",
    "}"
   ]
  },
  {
   "attachments": {},
   "cell_type": "markdown",
   "metadata": {},
   "source": [
    "# Hack 2"
   ]
  },
  {
   "cell_type": "code",
   "execution_count": null,
   "metadata": {},
   "outputs": [],
   "source": [
    "public class Cat {\n",
    "    protected boolean hasTail; \n",
    "    protected int numLegs;\n",
    "\n",
    "    public Cat(boolean hasTail, int numLegs) {\n",
    "        this.hasTail = hasTail; \n",
    "        this.numLegs = numLegs; \n",
    "    }\n",
    "\n",
    "    // all cats meow\n",
    "    public void sayMeow() {\n",
    "        System.out.println(\"meow\"); \n",
    "    }\n",
    "\n",
    "}"
   ]
  },
  {
   "cell_type": "code",
   "execution_count": null,
   "metadata": {},
   "outputs": [],
   "source": [
    "public class CalicoCat extends Cat {\n",
    "    protected String furType; \n",
    "    public CalicoCat(boolean hasTail, int numLegs, String furType) {\n",
    "        super(hasTail, numLegs); \n",
    "        this.furType = furType; \n",
    "    }\n",
    "\n",
    "    // calico cat says meow differently, method overriding \n",
    "    @Override\n",
    "    public void sayMeow() {\n",
    "        System.out.println(\"meow meow RAWR\"); \n",
    "    }\n",
    "}"
   ]
  },
  {
   "attachments": {},
   "cell_type": "markdown",
   "metadata": {},
   "source": [
    "# Hack 3"
   ]
  },
  {
   "cell_type": "code",
   "execution_count": null,
   "metadata": {},
   "outputs": [],
   "source": [
    "public class Cat {\n",
    "    protected boolean hasTail; \n",
    "    protected int numLegs;\n",
    "\n",
    "    public Cat(boolean hasTail, int numLegs) {\n",
    "        this.hasTail = hasTail; \n",
    "        this.numLegs = numLegs; \n",
    "    }\n",
    "\n",
    "    public void sayMeow() {\n",
    "        System.out.println(\"meow\"); \n",
    "    }\n",
    "\n",
    "    // cats are cute ;)\n",
    "    public void funFacts() {\n",
    "        System.out.println(\"cute\"); \n",
    "    }\n",
    "}"
   ]
  },
  {
   "cell_type": "code",
   "execution_count": null,
   "metadata": {},
   "outputs": [],
   "source": [
    "public class ToygerCat extends Cat {\n",
    "    // method overloading: 2 methods with the same name but different arguments\n",
    "    public void food(String food1) {\n",
    "        System.out.println(\"Toyger eats \" + food1); \n",
    "    }\n",
    "    public void food(String food1, String food2) {\n",
    "        System.out.println(\"Toyger eats \" + food1 + \" and \" + food2); \n",
    "    }\n",
    "\n",
    "    // method overriding: additional fun fact, overrides the funFacts method in the superclass\n",
    "    @Override\n",
    "    public void funFacts() {\n",
    "        System.out.println(\"cute and looks like a toy tiger\");\n",
    "    }\n",
    "}"
   ]
  },
  {
   "attachments": {},
   "cell_type": "markdown",
   "metadata": {},
   "source": [
    "# Notes\n",
    "\n",
    "<mark>Inheritance</mark> can be used to save what would otherwise be repetitive code. The base class (<mark>superclass</mark>) can have methods and attributes that are the same with all <mark>subclasses</mark>. The subclass <mark>extends</mark> the superclass. Basically, the superclass is the general outline of something (such as a cat), while the subclass is a specific version of the superclass (such as calico cat). \n",
    "\n",
    "The syntax to extend a superclass is <code>public class <em>subclass</em> extends <em>superclass</em></code>. \n",
    "\n",
    "The constructor of a subclass can also utilize the constructor of the superclass using the `super()` keyword, while also having its own extra arguments. \n",
    "\n",
    "The subclass can access all of the methods in the superclass. However, if you want to <mark>override</mark> the superclass's method, you can type the same method name in the subclass. The `@Override` annotation will indicate that the method is overriding the superclass's method. \n",
    "\n",
    "<mark>Inheritance hiearchies</mark> help visualize superclasses and subclasses. \n",
    "\n",
    "<mark>Reference</mark>: The object of the class or inherited class\n",
    "\n",
    "<mark>Polymorphism</mark>:\n",
    "\n",
    "<mark>Method overriding</mark> occurs when the method in the subclass overrides the method in the subclass. \n",
    "\n",
    "<mark>method overloading</mark>, occurs when you have muliple methods in a class with the same name. If they have a different number of parameters, a different method will be called depending on the number of arguments you provide. \n",
    "\n",
    "Other words for method overriding: <mark>Runtime polymorphism, dynamic binding, dynamic method dispatch</mark>. \n",
    "\n",
    "Other words for method overloading: <mark>Compile time polymorphism, static polymorphism</mark>\n",
    "\n",
    "<mark>Early binding</mark>: Compiler decides which method to call (method overloading)\n",
    "\n",
    "<mark>Late binding</mark>: Method decide at runtime (method overriding)\n",
    "\n",
    "Object: Superclass of other classes\n",
    "\n",
    "`toString()`: Outputs the attributes of an object and changes a string object to a string\n",
    "\n",
    "`equals()`: Compares two strings"
   ]
  }
 ],
 "metadata": {
  "kernelspec": {
   "display_name": "Java",
   "language": "java",
   "name": "java"
  },
  "language_info": {
   "name": "java",
   "version": "3.8.10 (default, Jun 22 2022, 20:18:18) \n[GCC 9.4.0]"
  },
  "orig_nbformat": 4,
  "vscode": {
   "interpreter": {
    "hash": "916dbcbb3f70747c44a77c7bcd40155683ae19c65e1c03b4aa3499c5328201f1"
   }
  }
 },
 "nbformat": 4,
 "nbformat_minor": 2
}
