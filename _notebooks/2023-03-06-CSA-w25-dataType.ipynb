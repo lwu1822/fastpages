{
 "cells": [
  {
   "cell_type": "code",
   "execution_count": 2,
   "metadata": {},
   "outputs": [
    {
     "name": "stdout",
     "output_type": "stream",
     "text": [
      "First binary?\n",
      "11\n",
      "Second binary?\n",
      "10\n",
      "Total: 101\n"
     ]
    }
   ],
   "source": [
    "import java.util.Scanner;\n",
    "\n",
    "Scanner sc = new Scanner(System.in);\n",
    "\n",
    "System.out.println(\"First binary?\"); \n",
    "String binary = sc.nextLine();\n",
    "System.out.println(binary);\n",
    "\n",
    "System.out.println(\"Second binary?\");\n",
    "String binary2 = sc.nextLine(); \n",
    "System.out.println(binary2);\n",
    "\n",
    "\n",
    "int num = Integer.parseInt(binary, 2);\n",
    "int num2 = Integer.parseInt(binary2, 2); \n",
    "\n",
    "int sum = num + num2; \n",
    "\n",
    "System.out.println(\"Total: \" + Integer.toBinaryString(sum)); \n"
   ]
  },
  {
   "cell_type": "code",
   "execution_count": 9,
   "metadata": {},
   "outputs": [
    {
     "name": "stdout",
     "output_type": "stream",
     "text": [
      "First binary?\n",
      "100\n",
      "0\n",
      "1\n",
      "2\n"
     ]
    }
   ],
   "source": [
    "import java.util.Scanner;\n",
    "\n",
    "Scanner sc = new Scanner(System.in);\n",
    "\n",
    "System.out.println(\"First binary?\"); \n",
    "\n",
    "String binary = sc.nextLine();\n",
    "\n",
    "System.out.println(binary);\n",
    "\n",
    "for (int i = 0; i < binary.length(); i++) {\n",
    "    System.out.println(i); \n",
    "    System.out.println(binary.split)\n",
    "}"
   ]
  }
 ],
 "metadata": {
  "kernelspec": {
   "display_name": "Java",
   "language": "java",
   "name": "java"
  },
  "language_info": {
   "codemirror_mode": "java",
   "file_extension": ".jshell",
   "mimetype": "text/x-java-source",
   "name": "java",
   "pygments_lexer": "java",
   "version": "17.0.5+8-Ubuntu-2ubuntu120.04"
  },
  "orig_nbformat": 4
 },
 "nbformat": 4,
 "nbformat_minor": 2
}
