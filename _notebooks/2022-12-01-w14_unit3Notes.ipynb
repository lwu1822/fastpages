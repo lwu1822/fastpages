{
 "cells": [
  {
   "cell_type": "markdown",
   "metadata": {},
   "source": [
    "# Unit 3 Notes \n",
    "\n",
    "- toc: true \n",
    "- badges: true\n",
    "- comments: true"
   ]
  },
  {
   "cell_type": "markdown",
   "metadata": {},
   "source": [
    "## Learnings\n",
    "\n",
    "DeMorgan's Law: `!(a || b) = (!a && !b)` and `!(a && b) = (!a || !b)`"
   ]
  },
  {
   "cell_type": "markdown",
   "metadata": {},
   "source": [
    "\n",
    "# Compound Boolean Expression\n",
    "\n",
    "Compound boolean expressions include AND (`&&`), OR (`||`), and NOT (`!`). \n",
    "\n",
    "# Truth tables\n",
    "\n",
    "Truth tables display all the possible results for boolean expressions.\n",
    "\n",
    "Below is the truth table for && and ||: \n",
    "\n",
    "| P      | Q | P&&Q | \n",
    "| ----------- | ----------- |  ----------- |\n",
    "| true     | true       |true |\n",
    "| true   | false        | false|\n",
    "| false     | true       | false|\n",
    "| false  | false        | false|\n",
    "\n",
    "<br>\n",
    "\n",
    "| P      | Q | P\\|\\|Q | \n",
    "| ----------- | ----------- |  ----------- |\n",
    "| true     | true       |true |\n",
    "| true   | false        | true|\n",
    "| false     | true       | true|\n",
    "| false  | false        | false|\n",
    "\n"
   ]
  },
  {
   "cell_type": "markdown",
   "metadata": {},
   "source": [
    "\n",
    "# De Morgan's Law\n",
    "\n",
    "First, some vocab:\n",
    "* Set: A group of objects\n",
    "* Universal set: A set that has all of the elements \n",
    "* Subsets: Contains elements from the universal set \n",
    "* Complement: For example, if we have set A, the complement of set A would have the elements in the universal set, but not in set A. \n",
    "* Union: New set has elements from both sets\n",
    "\n",
    "  Symbol: ∪\n",
    "* Intersection: New sets has elements that are shared between both sets\n",
    "  \n",
    "  Symbol: ∩\n",
    "<br>\n",
    "\n",
    "De Morgan's Law is used in boolean algebra to help **simplify expressions** \n",
    "\n",
    "**De Morgan's Law of Union** states that: \"The complement of the union of the two sets A and B will be equal to the intersection of A' (complement of A) and B' (complement of B).\" \n",
    "\n",
    "Formula: (A ∪ B)' = A'∩ B'\n",
    "\n",
    "**De Morgan's Law of Intersection** states that: \"The complement of the intersection of A and B will be equal to the union of A' and B'.\" \n",
    "\n",
    "Formula: (A ∩ B)’ = A’ ∪ B’\n",
    "\n",
    "<br>\n",
    "\n",
    "The following is an example: \n",
    "\n",
    "Universal set: {1, 3, 5, 6, 8, 9}\n",
    "Set A: {1, 3}\n",
    "Set B: {5, 6, 8}\n",
    "\n",
    "De Morgan's Law of Union: (A ∪ B)' = {9}\n",
    "\n",
    "A'∩ B' = {9}\n",
    "\n",
    "(A ∪ B)' = A'∩ B'\n",
    "\n",
    "De Morgan's Law of Intersection: (A ∩ B)' = {1, 3, 5, 6, 8, 9}\n",
    "\n",
    "A’ ∪ B’ = {1, 3, 5, 6, 8, 9}\n",
    "\n",
    "(A ∩ B)’ = A’ ∪ B’\n",
    "\n",
    "<br>\n",
    "\n",
    "\n",
    "Translating De Morgan's law into code, De Morgan's Law of Union would mean: `!(a || b) = (!a && !b)`. \n",
    "\n",
    "De Morgan's Law of Intersection means: `!(a && b) = (!a || !b)` "
   ]
  },
  {
   "cell_type": "code",
   "execution_count": 1,
   "metadata": {},
   "outputs": [
    {
     "name": "stdout",
     "output_type": "stream",
     "text": [
      "It's a cloudy day, not too hot, not too cold\n"
     ]
    }
   ],
   "source": [
    "\n",
    "public class DeMorgansLaw{\n",
    "    public static void main(String[] args) {\n",
    "        boolean rainy = false;\n",
    "        boolean sunny = false;\n",
    "\n",
    "        if (!!!(rainy || sunny) && ((!rainy && !sunny) || !(!(rainy || sunny))) ) {\n",
    "            System.out.println(\"It's a cloudy day, not too hot, not too cold\");\n",
    "        }\n",
    "    }\n",
    "}\n",
    "DeMorgansLaw.main(null)"
   ]
  },
  {
   "cell_type": "markdown",
   "metadata": {},
   "source": [
    "\n",
    "Well this is awfully confusing, how about we clean it up a little?\n",
    "\n",
    "First, remove all of the `!!` (negative + negative = positive)\n",
    "\n",
    "This code reads: If it's not rainy or sunny, and: it's not rainy and it's not sunny OR it's rainy or sunny\n",
    "\n",
    "Evaluating each part of the code: \n",
    "\n",
    "1. `If it's not rainy or sunny`: True\n",
    "2. `If it's not rainy and it's not sunny`: True\n",
    "3. `It's rainy or sunny`: False\n",
    "\n",
    "2\\. and 3. are OR, therefore, it is `True`.\n",
    "\n",
    "1\\. is ANDed  to 2. and 3. which is `True`. -> `True` AND `True` is true, therefore, the message is outputted. \n"
   ]
  },
  {
   "cell_type": "code",
   "execution_count": 2,
   "metadata": {},
   "outputs": [
    {
     "name": "stdout",
     "output_type": "stream",
     "text": [
      "It's a cloudy day, not too hot, not too cold\n"
     ]
    }
   ],
   "source": [
    "\n",
    "public class DeMorgansLaw{\n",
    "    public static void main(String[] args) {\n",
    "        boolean rainy = false;\n",
    "        boolean sunny = false;\n",
    "\n",
    "        if (!(rainy || sunny) && ((!rainy && !sunny) || (rainy || sunny)) ) {\n",
    "            System.out.println(\"It's a cloudy day, not too hot, not too cold\");\n",
    "        }\n",
    "    }\n",
    "}\n",
    "DeMorgansLaw.main(null)"
   ]
  }
 ],
 "metadata": {
  "kernelspec": {
   "display_name": "Java",
   "language": "java",
   "name": "java"
  },
  "language_info": {
   "codemirror_mode": "java",
   "file_extension": ".jshell",
   "mimetype": "text/x-java-source",
   "name": "java",
   "pygments_lexer": "java",
   "version": "17.0.5+8-Ubuntu-2ubuntu120.04"
  },
  "orig_nbformat": 4,
  "vscode": {
   "interpreter": {
    "hash": "916dbcbb3f70747c44a77c7bcd40155683ae19c65e1c03b4aa3499c5328201f1"
   }
  }
 },
 "nbformat": 4,
 "nbformat_minor": 2
}
