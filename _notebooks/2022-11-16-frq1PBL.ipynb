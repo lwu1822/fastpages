{
 "cells": [
  {
   "cell_type": "markdown",
   "metadata": {},
   "source": [
    "# FRQ 1\n",
    "> Notes on what I learned for FRQ 1\n",
    "\n",
    "- toc: true \n",
    "- badges: true\n",
    "- comments: true"
   ]
  },
  {
   "cell_type": "markdown",
   "metadata": {},
   "source": [
    "# Explanation of code\n",
    "\n",
    "## Files overview\n",
    "There are 3 files: `APCalendar.java`, `Year.java`, and `CalendarApiController.java`. `APCalendar.java` contains the methods that provide the functions of the calendar, `Year.java` is the POJO to get information from the `APCalendar` class, and `CalendarApiController.java` controls the REST API.\n",
    "\n",
    "## How the code works\n",
    "Calendar data can be accessed through the URI. The endpoints are specified with `@GetMapping` in `CalendarApiController.java`. Within each endpoint, a `Year` object is created and the `setYear` method is called. Within the `Year` class, you can see which setters are called. These setters then call methods in the `APCalendar` class, which are programmed to output things such as if a given year is a leap year, the day of the week of a day, how many days since January 1st a given day of the year is, etc. "
   ]
  },
  {
   "cell_type": "markdown",
   "metadata": {},
   "source": [
    "<br>\n",
    "\n",
    "## What I learned\n",
    "Within the `APCalendar` class, there were many methods that required multiple parameters, such as `dayOfYear` or `numberOfLeapYears`. I originally had a little trouble in getting these parameters as input in the endpoint, and after some research, I found that the syntax in the endpoint is something like this: `/{var1}/{var2}/{etc}`. Then, to specify multiple PathVariables, simply split them apart with commas, like this: <code>@PathVariable int <em>var</em>, @PathVariable int <em>var2</em></code>.\n",
    "\n",
    "## Using the debugger\n",
    "\n",
    "The debugger not only helped me in debugging code; it also helped me to learn how the code works. One thing that I was confused about was what the `toString()` method did in `Year.java`. By running the debugger on the tester, (as seen below), \n",
    "![](../images/w13_frq1PBL-debugger.jpg)\n",
    "\n",
    "I learned that there is a default `toString()` method. This is overriden in the `Year` class. The `System.out.println` automatically calls the `toString()` method, which is why an output in JSON format is shown when the tester is run.\n"
   ]
  },
  {
   "cell_type": "markdown",
   "metadata": {},
   "source": [
    "<br>\n",
    "\n",
    "## Using Postman\n",
    "\n",
    "![](../images/w13_frq1PBL-postmanLeapYear.jpg)\n",
    "<br>\n",
    "![](../images/w13_frq1PBL-postmanDayOfTheWeek.jpg)\n",
    "![](../images/w13_frq1PBL-feb231986.jpg)\n",
    "\n"
   ]
  }
 ],
 "metadata": {
  "kernelspec": {
   "display_name": "Java",
   "language": "java",
   "name": "java"
  },
  "language_info": {
   "name": "java",
   "version": "3.8.10"
  },
  "orig_nbformat": 4,
  "vscode": {
   "interpreter": {
    "hash": "916dbcbb3f70747c44a77c7bcd40155683ae19c65e1c03b4aa3499c5328201f1"
   }
  }
 },
 "nbformat": 4,
 "nbformat_minor": 2
}
