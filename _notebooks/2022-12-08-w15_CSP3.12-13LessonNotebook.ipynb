{
 "cells": [
  {
   "cell_type": "markdown",
   "metadata": {},
   "source": [
    "# Note Template\n",
    "- comments: true"
   ]
  },
  {
   "cell_type": "markdown",
   "metadata": {},
   "source": [
    "# Take some additional notes that you would like here for 3.12 and 3.13. We will be looking for additional notes from the presentation. \n"
   ]
  },
  {
   "attachments": {},
   "cell_type": "markdown",
   "metadata": {},
   "source": [
    "# What are procedures?\n",
    "\n",
    "**Fill in the blanks please:**\n",
    "\n",
    "Procedure: Programming instructions, can have parameters/return values \n",
    "\n",
    "Parameters: The input value in a procedure/function\n",
    "\n",
    "Arguments: The values of the parameters when they are called. \n",
    "\n",
    "Modularity: Separating functions into many pieces for better organization. \n",
    "\n",
    "Procedural Abstraction: Gives a name but does not show how a task is done. \n",
    "\n",
    "What are some other names for procedures?: \n",
    "\n",
    "Other words for procedures are function/method\n",
    "\n",
    "Why are procedures effective?: \n",
    "\n",
    "Procedures help split up the code into many parts. You can create functions that contain many lines of code, and then assign the function a specific name. This makes it easier when debugging because you can single out a specific function that is going wrong and debug them. \n"
   ]
  },
  {
   "attachments": {},
   "cell_type": "markdown",
   "metadata": {},
   "source": [
    "## <mark>Challenge 1</mark> below: Add the command that will **call** the procedure. "
   ]
  },
  {
   "cell_type": "code",
   "execution_count": 3,
   "metadata": {},
   "outputs": [
    {
     "name": "stdout",
     "output_type": "stream",
     "text": [
      "00000111\n"
     ]
    }
   ],
   "source": [
    "decimal = 7\n",
    "\n",
    "def convertToBinary(num):\n",
    "    numOfBinary = 8\n",
    "    binary = []; \n",
    "    output = \"\"\n",
    "    \n",
    "    for i in range(numOfBinary): \n",
    "        binary.append((2**(numOfBinary - 1 - i)))\n",
    "    \n",
    "    for i in range(len(binary)):\n",
    "        if num - binary[i] >= 0:\n",
    "            num -= binary[i]\n",
    "            output += \"1\"\n",
    "        else: \n",
    "            output += \"0\"\n",
    "    return(output)    \n",
    "\n",
    "conversion = convertToBinary(decimal) \n",
    "print(conversion)"
   ]
  },
  {
   "attachments": {},
   "cell_type": "markdown",
   "metadata": {},
   "source": [
    "## <mark>Challenge 2</mark> below: Complete the Min and Max procedure in either JavaScript and Python using the instructions from the JavaScript page. (JavaScript will get you a extra 0.1)"
   ]
  },
  {
   "cell_type": "code",
   "execution_count": 2,
   "metadata": {},
   "outputs": [
    {
     "name": "stdout",
     "output_type": "stream",
     "text": [
      "Minimum is: 3\n",
      "Maximum is: 5\n"
     ]
    }
   ],
   "source": [
    "def findMax(numberA, numberB):\n",
    "    if numberA > numberB: \n",
    "        print(\"Maximum is: \" + str(numberA))\n",
    "    else: \n",
    "        print(\"Maximum is: \" + str(numberB))\n",
    "        \n",
    "def findMin(numberA, numberB): \n",
    "    if numberA < numberB: \n",
    "        print(\"Minimum is: \" + str(numberA))\n",
    "    else: \n",
    "        print(\"Minimum is: \" + str(numberB))\n",
    "        \n",
    "findMin(3, 5)\n",
    "findMax(3, 5)"
   ]
  },
  {
   "attachments": {},
   "cell_type": "markdown",
   "metadata": {},
   "source": [
    "## JavaScript Version"
   ]
  },
  {
   "cell_type": "code",
   "execution_count": 6,
   "metadata": {},
   "outputs": [
    {
     "name": "stdout",
     "output_type": "stream",
     "text": [
      "Maximum is: 5\n",
      "Minimum is: 3\n"
     ]
    }
   ],
   "source": [
    "function findMax(numberA, numberB) {\n",
    "    if (numberA > numberB) {\n",
    "        console.log(\"Maximum is: \" + numberA);\n",
    "    } else {\n",
    "        console.log(\"Maximum is: \" + numberB);\n",
    "    }\n",
    "}\n",
    "\n",
    "\n",
    "function findMin(numberA, numberB) {\n",
    "    if (numberA < numberB) {\n",
    "        console.log(\"Minimum is: \" + numberA);\n",
    "    } else {\n",
    "        console.log(\"Minimum is: \" + numberB); \n",
    "    }\n",
    "}\n",
    "\n",
    "findMax(3, 5); \n",
    "findMin(3, 5); "
   ]
  },
  {
   "attachments": {},
   "cell_type": "markdown",
   "metadata": {},
   "source": [
    "## <mark>Homework/Hacks</mark>: For the hw, you have two options, easy or hard. The easy hack is for a 2.7 + extra work for the full 3. The easy hack is simply creating your own procedure with your own creativity. Since there is a lot of leeway for this one, you must do additional work to get a 3. For the hard hack, below is the start to a character to binary convertor. This is just a template, but the goal is to translate \"APCSP\" into binary. You can delete the existing code if you want. The only contraint is that you must use a procedure. Doing this will get you a 3. "
   ]
  },
  {
   "cell_type": "code",
   "execution_count": 5,
   "metadata": {},
   "outputs": [
    {
     "name": "stdout",
     "output_type": "stream",
     "text": [
      "''APCSP'' in binary is \n",
      "[1000001, 1010000, 1000011, 1010011, 1010000]\n"
     ]
    }
   ],
   "source": [
    "def charToBinary(x):()\n",
    "\n",
    "# The output shown below is the output you are supposed to get"
   ]
  }
 ],
 "metadata": {
  "kernelspec": {
   "display_name": "JavaScript (Node.js)",
   "language": "javascript",
   "name": "javascript"
  },
  "language_info": {
   "file_extension": ".js",
   "mimetype": "application/javascript",
   "name": "javascript",
   "version": "6.11.2"
  },
  "orig_nbformat": 4,
  "vscode": {
   "interpreter": {
    "hash": "f260b6b3ae1ef2114af89aa0dee38d5682df0763aaac2870f1e656463369401e"
   }
  }
 },
 "nbformat": 4,
 "nbformat_minor": 2
}
