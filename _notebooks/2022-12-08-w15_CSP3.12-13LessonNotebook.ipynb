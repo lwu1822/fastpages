{
 "cells": [
  {
   "cell_type": "markdown",
   "metadata": {},
   "source": [
    "# Note Template\n",
    "- comments: true"
   ]
  },
  {
   "cell_type": "markdown",
   "metadata": {},
   "source": [
    "# Take some additional notes that you would like here for 3.12 and 3.13. We will be looking for additional notes from the presentation. \n"
   ]
  },
  {
   "attachments": {},
   "cell_type": "markdown",
   "metadata": {},
   "source": [
    "# What are procedures?\n",
    "\n",
    "**Fill in the blanks please:**\n",
    "\n",
    "Procedure: Programming instructions, can have parameters/return values \n",
    "\n",
    "Parameters: The input value in a procedure/function\n",
    "\n",
    "Arguments: The values of the parameters when they are called. \n",
    "\n",
    "Modularity: Separating functions into many pieces for better organization. \n",
    "\n",
    "Procedural Abstraction: Gives a name but does not show how a task is done. \n",
    "\n",
    "What are some other names for procedures?: \n",
    "\n",
    "Other words for procedures are function/method\n",
    "\n",
    "Why are procedures effective?: \n",
    "\n",
    "Procedures help split up the code into many parts. You can create functions that contain many lines of code, and then assign the function a specific name. This makes it easier when debugging because you can single out a specific function that is going wrong and debug them. \n"
   ]
  },
  {
   "attachments": {},
   "cell_type": "markdown",
   "metadata": {},
   "source": [
    "## <mark>Challenge 1</mark> below: Add the command that will **call** the procedure. "
   ]
  },
  {
   "cell_type": "code",
   "execution_count": 3,
   "metadata": {
    "vscode": {
     "languageId": "javascript"
    }
   },
   "outputs": [
    {
     "name": "stdout",
     "output_type": "stream",
     "text": [
      "00000111\n"
     ]
    }
   ],
   "source": [
    "decimal = 7\n",
    "\n",
    "def convertToBinary(num):\n",
    "    numOfBinary = 8\n",
    "    binary = []; \n",
    "    output = \"\"\n",
    "    \n",
    "    for i in range(numOfBinary): \n",
    "        binary.append((2**(numOfBinary - 1 - i)))\n",
    "    \n",
    "    for i in range(len(binary)):\n",
    "        if num - binary[i] >= 0:\n",
    "            num -= binary[i]\n",
    "            output += \"1\"\n",
    "        else: \n",
    "            output += \"0\"\n",
    "    return(output)    \n",
    "\n",
    "conversion = convertToBinary(decimal) \n",
    "print(conversion)"
   ]
  },
  {
   "attachments": {},
   "cell_type": "markdown",
   "metadata": {},
   "source": [
    "## <mark>Challenge 2</mark> below: Complete the Min and Max procedure in either JavaScript and Python using the instructions from the JavaScript page. (JavaScript will get you a extra 0.1)"
   ]
  },
  {
   "cell_type": "code",
   "execution_count": 2,
   "metadata": {
    "vscode": {
     "languageId": "javascript"
    }
   },
   "outputs": [
    {
     "name": "stdout",
     "output_type": "stream",
     "text": [
      "Minimum is: 3\n",
      "Maximum is: 5\n"
     ]
    }
   ],
   "source": [
    "def findMax(numberA, numberB):\n",
    "    if numberA > numberB: \n",
    "        print(\"Maximum is: \" + str(numberA))\n",
    "    else: \n",
    "        print(\"Maximum is: \" + str(numberB))\n",
    "        \n",
    "def findMin(numberA, numberB): \n",
    "    if numberA < numberB: \n",
    "        print(\"Minimum is: \" + str(numberA))\n",
    "    else: \n",
    "        print(\"Minimum is: \" + str(numberB))\n",
    "        \n",
    "findMin(3, 5)\n",
    "findMax(3, 5)"
   ]
  },
  {
   "attachments": {},
   "cell_type": "markdown",
   "metadata": {},
   "source": [
    "## JavaScript Version"
   ]
  },
  {
   "cell_type": "code",
   "execution_count": 6,
   "metadata": {
    "vscode": {
     "languageId": "javascript"
    }
   },
   "outputs": [
    {
     "name": "stdout",
     "output_type": "stream",
     "text": [
      "Maximum is: 5\n",
      "Minimum is: 3\n"
     ]
    }
   ],
   "source": [
    "function findMax(numberA, numberB) {\n",
    "    if (numberA > numberB) {\n",
    "        console.log(\"Maximum is: \" + numberA);\n",
    "    } else {\n",
    "        console.log(\"Maximum is: \" + numberB);\n",
    "    }\n",
    "}\n",
    "\n",
    "\n",
    "function findMin(numberA, numberB) {\n",
    "    if (numberA < numberB) {\n",
    "        console.log(\"Minimum is: \" + numberA);\n",
    "    } else {\n",
    "        console.log(\"Minimum is: \" + numberB); \n",
    "    }\n",
    "}\n",
    "\n",
    "findMax(3, 5); \n",
    "findMin(3, 5); "
   ]
  },
  {
   "attachments": {},
   "cell_type": "markdown",
   "metadata": {},
   "source": [
    "## <mark>Homework/Hacks</mark>: For the hw, you have two options, easy or hard. The easy hack is for a 2.7 + extra work for the full 3. The easy hack is simply creating your own procedure with your own creativity. Since there is a lot of leeway for this one, you must do additional work to get a 3. For the hard hack, below is the start to a character to binary convertor. This is just a template, but the goal is to translate \"APCSP\" into binary. You can delete the existing code if you want. The only contraint is that you must use a procedure. Doing this will get you a 3. "
   ]
  },
  {
   "attachments": {},
   "cell_type": "markdown",
   "metadata": {},
   "source": [
    "## Comments\n",
    "\n",
    "My code below uses Python. To convert the characters into ASCII, I used the `ord()` function. I then created my own decimal to binary converter with the `asciiToBinary()` function (procedure), using different code than the binary converter I made in Challenge 1. \n",
    "\n",
    "While I was searching how to convert characters into ASCII, I also wondered if there was a Python function that convert decimal to binary. I found that the `bin()` function could do the task, so below, I did the same homework using the `bin()` function. "
   ]
  },
  {
   "cell_type": "code",
   "execution_count": 17,
   "metadata": {
    "vscode": {
     "languageId": "javascript"
    }
   },
   "outputs": [
    {
     "name": "stdout",
     "output_type": "stream",
     "text": [
      "'APCSP' in binary is\n",
      "['1000001', '1010000', '1000011', '1010011', '1010000']\n"
     ]
    }
   ],
   "source": [
    "binaryList = []\n",
    "\n",
    "def charToAscii(letter): \n",
    "    ascii = ord(letter)\n",
    "    asciiToBinary(ascii)\n",
    "\n",
    "def asciiToBinary(ascii):\n",
    "    binaryNum = 0; \n",
    "    count = 0;\n",
    "    binaryString = \"\"; \n",
    "    while binaryNum < ascii:\n",
    "        binaryNum = 2**count \n",
    "        count += 1\n",
    "\n",
    "    count -= 1\n",
    "    while (ascii > 0 and count >= 0): \n",
    "        if ascii >= 2**count: \n",
    "            ascii -= (2**count)\n",
    "            binaryString += \"1\"\n",
    "            count -= 1\n",
    "        else: \n",
    "            binaryString += \"0\"\n",
    "            count -= 1\n",
    "    count += 1\n",
    "    \n",
    "    if count > 0: \n",
    "        while count > 0:\n",
    "            binaryString += \"0\"\n",
    "            count -= 1\n",
    "            \n",
    "    binaryString = binaryString[1:len(binaryString)]\n",
    "    binaryList.append(binaryString)\n",
    "\n",
    "charToAscii(\"A\")\n",
    "charToAscii(\"P\")\n",
    "charToAscii(\"C\")\n",
    "charToAscii(\"S\")\n",
    "charToAscii(\"P\")\n",
    "\n",
    "print(\"'APCSP' in binary is\")\n",
    "print(binaryList)"
   ]
  },
  {
   "attachments": {},
   "cell_type": "markdown",
   "metadata": {},
   "source": [
    "## Using `bin()`\n",
    "\n",
    "*well this used up much fewer lines of code :P*"
   ]
  },
  {
   "cell_type": "code",
   "execution_count": 2,
   "metadata": {},
   "outputs": [
    {
     "name": "stdout",
     "output_type": "stream",
     "text": [
      "'APCSP' in binary is\n",
      "['1000001', '1010000', '1000011', '1010011', '1010000']\n"
     ]
    }
   ],
   "source": [
    "binaryList = []\n",
    "\n",
    "def charToAscii(letter): \n",
    "    ascii = ord(letter)\n",
    "    asciiToBinary(ascii)\n",
    "\n",
    "def asciiToBinary(ascii):\n",
    "    \n",
    "    binaryString = bin(ascii)\n",
    "    binaryString = binaryString[2:len(binaryString)]\n",
    "    binaryList.append(binaryString)\n",
    "\n",
    "charToAscii(\"A\")\n",
    "charToAscii(\"P\")\n",
    "charToAscii(\"C\")\n",
    "charToAscii(\"S\")\n",
    "charToAscii(\"P\")\n",
    "\n",
    "print(\"'APCSP' in binary is\")\n",
    "print(binaryList)"
   ]
  },
  {
   "attachments": {},
   "cell_type": "markdown",
   "metadata": {},
   "source": [
    "## JavaScript version\n",
    "\n",
    "I was also curious to see if I could make a JavaScript version of the homework assignment. I learned that the JavaScript function that converts characters to ASCII is `.charCodeAt(0)`, and the function that converts ASCII to binary is `toString(2)`. Below is my code."
   ]
  },
  {
   "attachments": {},
   "cell_type": "markdown",
   "metadata": {},
   "source": [
    "\n",
    "```\n",
    "<p id=\"binary\"></p>\n",
    "\n",
    "\n",
    "<script>\n",
    "    const numOfBinary = 8; \n",
    "    let binary = []; \n",
    "    let ascii = \"\";\n",
    "\n",
    "    function charToAscii(letter) {\n",
    "        ascii = letter.charCodeAt(0); \n",
    "        asciiToBinary(ascii); \n",
    "    }\n",
    "\n",
    "    function asciiToBinary(ascii) {\n",
    "        binary.push(ascii.toString(2)); \n",
    "    }\n",
    "\n",
    "    charToAscii(\"A\");\n",
    "    charToAscii(\"P\");\n",
    "    charToAscii(\"C\");\n",
    "    charToAscii(\"S\");\n",
    "    charToAscii(\"P\");\n",
    "\n",
    "    document.getElementById(\"binary\").innerHTML = \"'APCSP' in binary is\" + \"<br>\" + binary;\n",
    "\n",
    "</script>\n",
    "```"
   ]
  },
  {
   "attachments": {},
   "cell_type": "markdown",
   "metadata": {},
   "source": [
    "\n",
    "<p id=\"binary\"></p>\n",
    "\n",
    "\n",
    "<script>\n",
    "    const numOfBinary = 8; \n",
    "    let binary = []; \n",
    "    let ascii = \"\";\n",
    "\n",
    "    function charToAscii(letter) {\n",
    "        ascii = letter.charCodeAt(0); \n",
    "        asciiToBinary(ascii); \n",
    "    }\n",
    "\n",
    "    function asciiToBinary(ascii) {\n",
    "        binary.push(ascii.toString(2)); \n",
    "    }\n",
    "\n",
    "    charToAscii(\"A\");\n",
    "    charToAscii(\"P\");\n",
    "    charToAscii(\"C\");\n",
    "    charToAscii(\"S\");\n",
    "    charToAscii(\"P\");\n",
    "\n",
    "    document.getElementById(\"binary\").innerHTML = \"'APCSP' in binary is\" + \"<br>\" + binary;\n",
    "\n",
    "</script>"
   ]
  }
 ],
 "metadata": {
  "kernelspec": {
   "display_name": "Python 3.9.12 ('base')",
   "language": "python",
   "name": "python3"
  },
  "language_info": {
   "codemirror_mode": {
    "name": "ipython",
    "version": 3
   },
   "file_extension": ".py",
   "mimetype": "text/x-python",
   "name": "python",
   "nbconvert_exporter": "python",
   "pygments_lexer": "ipython3",
   "version": "3.9.12"
  },
  "orig_nbformat": 4,
  "vscode": {
   "interpreter": {
    "hash": "f260b6b3ae1ef2114af89aa0dee38d5682df0763aaac2870f1e656463369401e"
   }
  }
 },
 "nbformat": 4,
 "nbformat_minor": 2
}
